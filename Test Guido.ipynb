{
 "cells": [
  {
   "cell_type": "markdown",
   "metadata": {},
   "source": [
    "# Project n. 7 \"Do mammals lay eggs?\"\n",
    "\"I mammiferi depongono le uova?\"\n",
    "\n",
    "0. Premises\n",
    "1. Exploring Data\n",
    "2. Data Visualization\n",
    "3. Data Quality Assessment and Missing Values\n",
    "4. Preprocessing\n",
    "5. Training & Accuracy Results"
   ]
  },
  {
   "cell_type": "markdown",
   "metadata": {},
   "source": [
    "'Premise 1 (pessimistic). Murphy's law (which extends, from life in general, also to the scope of programming): \"if anything can go wrong, it will\"' "
   ]
  },
  {
   "cell_type": "markdown",
   "metadata": {},
   "source": [
    "'Premise 2 (optimistic). We use the golden principle of programming taught to us by our Professor: \"whatever you do with the computer will ALMOST never eplode.\" (Alfio Ferrara).With respect to the Benevolent Dictator for Life' "
   ]
  },
  {
   "cell_type": "code",
<<<<<<< HEAD
   "execution_count": 4,
=======
   "execution_count": 1,
>>>>>>> 35938a6a6b446af0f21d96ce596375ac18ed081a
   "metadata": {},
   "outputs": [
    {
     "name": "stdout",
     "output_type": "stream",
     "text": [
      "The Zen of Python, by Tim Peters\n",
      "\n",
      "Beautiful is better than ugly.\n",
      "Explicit is better than implicit.\n",
      "Simple is better than complex.\n",
      "Complex is better than complicated.\n",
      "Flat is better than nested.\n",
      "Sparse is better than dense.\n",
      "Readability counts.\n",
      "Special cases aren't special enough to break the rules.\n",
      "Although practicality beats purity.\n",
      "Errors should never pass silently.\n",
      "Unless explicitly silenced.\n",
      "In the face of ambiguity, refuse the temptation to guess.\n",
      "There should be one-- and preferably only one --obvious way to do it.\n",
      "Although that way may not be obvious at first unless you're Dutch.\n",
      "Now is better than never.\n",
      "Although never is often better than *right* now.\n",
      "If the implementation is hard to explain, it's a bad idea.\n",
      "If the implementation is easy to explain, it may be a good idea.\n",
      "Namespaces are one honking great idea -- let's do more of those!\n"
     ]
    }
   ],
   "source": [
    "import this"
   ]
  },
  {
   "cell_type": "markdown",
   "metadata": {},
   "source": [
    "'Premise 3 (Inspiring and rebalancing)'\n",
    "'And finally we enter to the Python world by being inspired first by the import.this instruction that summarizes the spirit of Python. In particular: \"Simple is better than complex. If the implementation is easy to explain, it may be a good idea.\" This principle of Python was already known at least by William of Ockham whose \"razor\" is a pillar of modern science:«Frustra fit per plura quod fieri potest per pauciora.» (\"You do unnecessarily with many things what you can do with a few.\", In libros Sententiarum).' "
   ]
  },
  {
   "cell_type": "markdown",
   "metadata": {},
   "source": [
    "# Exploring data"
   ]
  },
  {
   "cell_type": "code",
<<<<<<< HEAD
   "execution_count": 5,
=======
   "execution_count": 2,
>>>>>>> 35938a6a6b446af0f21d96ce596375ac18ed081a
   "metadata": {},
   "outputs": [],
   "source": [
    "import numpy as np\n",
    "import pandas as pd"
   ]
  },
  {
   "cell_type": "code",
<<<<<<< HEAD
   "execution_count": 6,
=======
   "execution_count": 3,
>>>>>>> 35938a6a6b446af0f21d96ce596375ac18ed081a
   "metadata": {},
   "outputs": [],
   "source": [
    "dataclass = pd.read_csv (\"class.csv\")"
   ]
  },
  {
   "cell_type": "code",
<<<<<<< HEAD
   "execution_count": 7,
=======
   "execution_count": 4,
>>>>>>> 35938a6a6b446af0f21d96ce596375ac18ed081a
   "metadata": {},
   "outputs": [
    {
     "data": {
      "text/html": [
       "<div>\n",
       "<style scoped>\n",
       "    .dataframe tbody tr th:only-of-type {\n",
       "        vertical-align: middle;\n",
       "    }\n",
       "\n",
       "    .dataframe tbody tr th {\n",
       "        vertical-align: top;\n",
       "    }\n",
       "\n",
       "    .dataframe thead th {\n",
       "        text-align: right;\n",
       "    }\n",
       "</style>\n",
       "<table border=\"1\" class=\"dataframe\">\n",
       "  <thead>\n",
       "    <tr style=\"text-align: right;\">\n",
       "      <th></th>\n",
       "      <th>Class_Number</th>\n",
       "      <th>Number_Of_Animal_Species_In_Class</th>\n",
       "      <th>Class_Type</th>\n",
       "      <th>Animal_Names</th>\n",
       "    </tr>\n",
       "  </thead>\n",
       "  <tbody>\n",
       "    <tr>\n",
       "      <th>0</th>\n",
       "      <td>1</td>\n",
       "      <td>41</td>\n",
       "      <td>Mammal</td>\n",
       "      <td>aardvark, antelope, bear, boar, buffalo, calf,...</td>\n",
       "    </tr>\n",
       "    <tr>\n",
       "      <th>1</th>\n",
       "      <td>2</td>\n",
       "      <td>20</td>\n",
       "      <td>Bird</td>\n",
       "      <td>chicken, crow, dove, duck, flamingo, gull, haw...</td>\n",
       "    </tr>\n",
       "    <tr>\n",
       "      <th>2</th>\n",
       "      <td>3</td>\n",
       "      <td>5</td>\n",
       "      <td>Reptile</td>\n",
       "      <td>pitviper, seasnake, slowworm, tortoise, tuatara</td>\n",
       "    </tr>\n",
       "    <tr>\n",
       "      <th>3</th>\n",
       "      <td>4</td>\n",
       "      <td>13</td>\n",
       "      <td>Fish</td>\n",
       "      <td>bass, carp, catfish, chub, dogfish, haddock, h...</td>\n",
       "    </tr>\n",
       "    <tr>\n",
       "      <th>4</th>\n",
       "      <td>5</td>\n",
       "      <td>4</td>\n",
       "      <td>Amphibian</td>\n",
       "      <td>frog, frog, newt, toad</td>\n",
       "    </tr>\n",
       "    <tr>\n",
       "      <th>5</th>\n",
       "      <td>6</td>\n",
       "      <td>8</td>\n",
       "      <td>Bug</td>\n",
       "      <td>flea, gnat, honeybee, housefly, ladybird, moth...</td>\n",
       "    </tr>\n",
       "    <tr>\n",
       "      <th>6</th>\n",
       "      <td>7</td>\n",
       "      <td>10</td>\n",
       "      <td>Invertebrate</td>\n",
       "      <td>clam, crab, crayfish, lobster, octopus, scorpi...</td>\n",
       "    </tr>\n",
       "  </tbody>\n",
       "</table>\n",
       "</div>"
      ],
      "text/plain": [
       "   Class_Number  Number_Of_Animal_Species_In_Class    Class_Type  \\\n",
       "0             1                                 41        Mammal   \n",
       "1             2                                 20          Bird   \n",
       "2             3                                  5       Reptile   \n",
       "3             4                                 13          Fish   \n",
       "4             5                                  4     Amphibian   \n",
       "5             6                                  8           Bug   \n",
       "6             7                                 10  Invertebrate   \n",
       "\n",
       "                                        Animal_Names  \n",
       "0  aardvark, antelope, bear, boar, buffalo, calf,...  \n",
       "1  chicken, crow, dove, duck, flamingo, gull, haw...  \n",
       "2    pitviper, seasnake, slowworm, tortoise, tuatara  \n",
       "3  bass, carp, catfish, chub, dogfish, haddock, h...  \n",
       "4                             frog, frog, newt, toad  \n",
       "5  flea, gnat, honeybee, housefly, ladybird, moth...  \n",
       "6  clam, crab, crayfish, lobster, octopus, scorpi...  "
      ]
     },
<<<<<<< HEAD
     "execution_count": 7,
=======
     "execution_count": 4,
>>>>>>> 35938a6a6b446af0f21d96ce596375ac18ed081a
     "metadata": {},
     "output_type": "execute_result"
    }
   ],
   "source": [
    "dataclass\n",
    "# abbiamo 7 classi fondamentali, per circa 100 (101) animali, distribuite in modo non uniforme\n",
    "# la tabella degli animali viene chiamata qui datazoo e poi la tabella delle classi dataclass (nome un po' lungo forse ma per non confondersi poi)"
   ]
  },
  {
   "cell_type": "code",
<<<<<<< HEAD
   "execution_count": 8,
=======
   "execution_count": 5,
>>>>>>> 35938a6a6b446af0f21d96ce596375ac18ed081a
   "metadata": {},
   "outputs": [],
   "source": [
    "datazoo = pd.read_csv (\"zoo.csv\")"
   ]
  },
  {
   "cell_type": "code",
<<<<<<< HEAD
   "execution_count": 9,
=======
   "execution_count": 6,
>>>>>>> 35938a6a6b446af0f21d96ce596375ac18ed081a
   "metadata": {},
   "outputs": [
    {
     "data": {
      "text/html": [
       "<div>\n",
       "<style scoped>\n",
       "    .dataframe tbody tr th:only-of-type {\n",
       "        vertical-align: middle;\n",
       "    }\n",
       "\n",
       "    .dataframe tbody tr th {\n",
       "        vertical-align: top;\n",
       "    }\n",
       "\n",
       "    .dataframe thead th {\n",
       "        text-align: right;\n",
       "    }\n",
       "</style>\n",
       "<table border=\"1\" class=\"dataframe\">\n",
       "  <thead>\n",
       "    <tr style=\"text-align: right;\">\n",
       "      <th></th>\n",
       "      <th>animal_name</th>\n",
       "      <th>hair</th>\n",
       "      <th>feathers</th>\n",
       "      <th>eggs</th>\n",
       "      <th>milk</th>\n",
       "      <th>airborne</th>\n",
       "      <th>aquatic</th>\n",
       "      <th>predator</th>\n",
       "      <th>toothed</th>\n",
       "      <th>backbone</th>\n",
       "      <th>breathes</th>\n",
       "      <th>venomous</th>\n",
       "      <th>fins</th>\n",
       "      <th>legs</th>\n",
       "      <th>tail</th>\n",
       "      <th>domestic</th>\n",
       "      <th>catsize</th>\n",
       "      <th>class_type</th>\n",
       "    </tr>\n",
       "  </thead>\n",
       "  <tbody>\n",
       "    <tr>\n",
       "      <th>0</th>\n",
       "      <td>aardvark</td>\n",
       "      <td>1</td>\n",
       "      <td>0</td>\n",
       "      <td>0</td>\n",
       "      <td>1</td>\n",
       "      <td>0</td>\n",
       "      <td>0</td>\n",
       "      <td>1</td>\n",
       "      <td>1</td>\n",
       "      <td>1</td>\n",
       "      <td>1</td>\n",
       "      <td>0</td>\n",
       "      <td>0</td>\n",
       "      <td>4</td>\n",
       "      <td>0</td>\n",
       "      <td>0</td>\n",
       "      <td>1</td>\n",
       "      <td>1</td>\n",
       "    </tr>\n",
       "    <tr>\n",
       "      <th>1</th>\n",
       "      <td>antelope</td>\n",
       "      <td>1</td>\n",
       "      <td>0</td>\n",
       "      <td>0</td>\n",
       "      <td>1</td>\n",
       "      <td>0</td>\n",
       "      <td>0</td>\n",
       "      <td>0</td>\n",
       "      <td>1</td>\n",
       "      <td>1</td>\n",
       "      <td>1</td>\n",
       "      <td>0</td>\n",
       "      <td>0</td>\n",
       "      <td>4</td>\n",
       "      <td>1</td>\n",
       "      <td>0</td>\n",
       "      <td>1</td>\n",
       "      <td>1</td>\n",
       "    </tr>\n",
       "    <tr>\n",
       "      <th>2</th>\n",
       "      <td>bass</td>\n",
       "      <td>0</td>\n",
       "      <td>0</td>\n",
       "      <td>1</td>\n",
       "      <td>0</td>\n",
       "      <td>0</td>\n",
       "      <td>1</td>\n",
       "      <td>1</td>\n",
       "      <td>1</td>\n",
       "      <td>1</td>\n",
       "      <td>0</td>\n",
       "      <td>0</td>\n",
       "      <td>1</td>\n",
       "      <td>0</td>\n",
       "      <td>1</td>\n",
       "      <td>0</td>\n",
       "      <td>0</td>\n",
       "      <td>4</td>\n",
       "    </tr>\n",
       "    <tr>\n",
       "      <th>3</th>\n",
       "      <td>bear</td>\n",
       "      <td>1</td>\n",
       "      <td>0</td>\n",
       "      <td>0</td>\n",
       "      <td>1</td>\n",
       "      <td>0</td>\n",
       "      <td>0</td>\n",
       "      <td>1</td>\n",
       "      <td>1</td>\n",
       "      <td>1</td>\n",
       "      <td>1</td>\n",
       "      <td>0</td>\n",
       "      <td>0</td>\n",
       "      <td>4</td>\n",
       "      <td>0</td>\n",
       "      <td>0</td>\n",
       "      <td>1</td>\n",
       "      <td>1</td>\n",
       "    </tr>\n",
       "    <tr>\n",
       "      <th>4</th>\n",
       "      <td>boar</td>\n",
       "      <td>1</td>\n",
       "      <td>0</td>\n",
       "      <td>0</td>\n",
       "      <td>1</td>\n",
       "      <td>0</td>\n",
       "      <td>0</td>\n",
       "      <td>1</td>\n",
       "      <td>1</td>\n",
       "      <td>1</td>\n",
       "      <td>1</td>\n",
       "      <td>0</td>\n",
       "      <td>0</td>\n",
       "      <td>4</td>\n",
       "      <td>1</td>\n",
       "      <td>0</td>\n",
       "      <td>1</td>\n",
       "      <td>1</td>\n",
       "    </tr>\n",
       "    <tr>\n",
       "      <th>...</th>\n",
       "      <td>...</td>\n",
       "      <td>...</td>\n",
       "      <td>...</td>\n",
       "      <td>...</td>\n",
       "      <td>...</td>\n",
       "      <td>...</td>\n",
       "      <td>...</td>\n",
       "      <td>...</td>\n",
       "      <td>...</td>\n",
       "      <td>...</td>\n",
       "      <td>...</td>\n",
       "      <td>...</td>\n",
       "      <td>...</td>\n",
       "      <td>...</td>\n",
       "      <td>...</td>\n",
       "      <td>...</td>\n",
       "      <td>...</td>\n",
       "      <td>...</td>\n",
       "    </tr>\n",
       "    <tr>\n",
       "      <th>96</th>\n",
       "      <td>wallaby</td>\n",
       "      <td>1</td>\n",
       "      <td>0</td>\n",
       "      <td>0</td>\n",
       "      <td>1</td>\n",
       "      <td>0</td>\n",
       "      <td>0</td>\n",
       "      <td>0</td>\n",
       "      <td>1</td>\n",
       "      <td>1</td>\n",
       "      <td>1</td>\n",
       "      <td>0</td>\n",
       "      <td>0</td>\n",
       "      <td>2</td>\n",
       "      <td>1</td>\n",
       "      <td>0</td>\n",
       "      <td>1</td>\n",
       "      <td>1</td>\n",
       "    </tr>\n",
       "    <tr>\n",
       "      <th>97</th>\n",
       "      <td>wasp</td>\n",
       "      <td>1</td>\n",
       "      <td>0</td>\n",
       "      <td>1</td>\n",
       "      <td>0</td>\n",
       "      <td>1</td>\n",
       "      <td>0</td>\n",
       "      <td>0</td>\n",
       "      <td>0</td>\n",
       "      <td>0</td>\n",
       "      <td>1</td>\n",
       "      <td>1</td>\n",
       "      <td>0</td>\n",
       "      <td>6</td>\n",
       "      <td>0</td>\n",
       "      <td>0</td>\n",
       "      <td>0</td>\n",
       "      <td>6</td>\n",
       "    </tr>\n",
       "    <tr>\n",
       "      <th>98</th>\n",
       "      <td>wolf</td>\n",
       "      <td>1</td>\n",
       "      <td>0</td>\n",
       "      <td>0</td>\n",
       "      <td>1</td>\n",
       "      <td>0</td>\n",
       "      <td>0</td>\n",
       "      <td>1</td>\n",
       "      <td>1</td>\n",
       "      <td>1</td>\n",
       "      <td>1</td>\n",
       "      <td>0</td>\n",
       "      <td>0</td>\n",
       "      <td>4</td>\n",
       "      <td>1</td>\n",
       "      <td>0</td>\n",
       "      <td>1</td>\n",
       "      <td>1</td>\n",
       "    </tr>\n",
       "    <tr>\n",
       "      <th>99</th>\n",
       "      <td>worm</td>\n",
       "      <td>0</td>\n",
       "      <td>0</td>\n",
       "      <td>1</td>\n",
       "      <td>0</td>\n",
       "      <td>0</td>\n",
       "      <td>0</td>\n",
       "      <td>0</td>\n",
       "      <td>0</td>\n",
       "      <td>0</td>\n",
       "      <td>1</td>\n",
       "      <td>0</td>\n",
       "      <td>0</td>\n",
       "      <td>0</td>\n",
       "      <td>0</td>\n",
       "      <td>0</td>\n",
       "      <td>0</td>\n",
       "      <td>7</td>\n",
       "    </tr>\n",
       "    <tr>\n",
       "      <th>100</th>\n",
       "      <td>wren</td>\n",
       "      <td>0</td>\n",
       "      <td>1</td>\n",
       "      <td>1</td>\n",
       "      <td>0</td>\n",
       "      <td>1</td>\n",
       "      <td>0</td>\n",
       "      <td>0</td>\n",
       "      <td>0</td>\n",
       "      <td>1</td>\n",
       "      <td>1</td>\n",
       "      <td>0</td>\n",
       "      <td>0</td>\n",
       "      <td>2</td>\n",
       "      <td>1</td>\n",
       "      <td>0</td>\n",
       "      <td>0</td>\n",
       "      <td>2</td>\n",
       "    </tr>\n",
       "  </tbody>\n",
       "</table>\n",
       "<p>101 rows × 18 columns</p>\n",
       "</div>"
      ],
      "text/plain": [
       "    animal_name  hair  feathers  eggs  milk  airborne  aquatic  predator  \\\n",
       "0      aardvark     1         0     0     1         0        0         1   \n",
       "1      antelope     1         0     0     1         0        0         0   \n",
       "2          bass     0         0     1     0         0        1         1   \n",
       "3          bear     1         0     0     1         0        0         1   \n",
       "4          boar     1         0     0     1         0        0         1   \n",
       "..          ...   ...       ...   ...   ...       ...      ...       ...   \n",
       "96      wallaby     1         0     0     1         0        0         0   \n",
       "97         wasp     1         0     1     0         1        0         0   \n",
       "98         wolf     1         0     0     1         0        0         1   \n",
       "99         worm     0         0     1     0         0        0         0   \n",
       "100        wren     0         1     1     0         1        0         0   \n",
       "\n",
       "     toothed  backbone  breathes  venomous  fins  legs  tail  domestic  \\\n",
       "0          1         1         1         0     0     4     0         0   \n",
       "1          1         1         1         0     0     4     1         0   \n",
       "2          1         1         0         0     1     0     1         0   \n",
       "3          1         1         1         0     0     4     0         0   \n",
       "4          1         1         1         0     0     4     1         0   \n",
       "..       ...       ...       ...       ...   ...   ...   ...       ...   \n",
       "96         1         1         1         0     0     2     1         0   \n",
       "97         0         0         1         1     0     6     0         0   \n",
       "98         1         1         1         0     0     4     1         0   \n",
       "99         0         0         1         0     0     0     0         0   \n",
       "100        0         1         1         0     0     2     1         0   \n",
       "\n",
       "     catsize  class_type  \n",
       "0          1           1  \n",
       "1          1           1  \n",
       "2          0           4  \n",
       "3          1           1  \n",
       "4          1           1  \n",
       "..       ...         ...  \n",
       "96         1           1  \n",
       "97         0           6  \n",
       "98         1           1  \n",
       "99         0           7  \n",
       "100        0           2  \n",
       "\n",
       "[101 rows x 18 columns]"
      ]
     },
<<<<<<< HEAD
     "execution_count": 9,
=======
     "execution_count": 6,
>>>>>>> 35938a6a6b446af0f21d96ce596375ac18ed081a
     "metadata": {},
     "output_type": "execute_result"
    }
   ],
   "source": [
    "datazoo\n",
    "# I 101 animali del nostro data set sono contraddistinti da 16 caratteristiche distintive diverse: \n",
    "# i valori di queste caratteristiche sono espressi in modalità boolenana ad eccezione dell'attributo \"legs\"che è numerico. \n",
    "# A parte questo non sembrano vi siano dati nulli o mancanti ma questo richiede un approfondimento (vedi dopo).  \n",
    "# Il fatto che legs abbia valori non binari e compresi tra 0 e 8 può essere un problema? lo vedremo dopo"
   ]
  },
  {
   "cell_type": "code",
<<<<<<< HEAD
   "execution_count": 10,
=======
   "execution_count": 7,
>>>>>>> 35938a6a6b446af0f21d96ce596375ac18ed081a
   "metadata": {},
   "outputs": [
    {
     "data": {
      "text/plain": [
       "<bound method NDFrame.head of     animal_name  hair  feathers  eggs  milk  airborne  aquatic  predator  \\\n",
       "0      aardvark     1         0     0     1         0        0         1   \n",
       "1      antelope     1         0     0     1         0        0         0   \n",
       "2          bass     0         0     1     0         0        1         1   \n",
       "3          bear     1         0     0     1         0        0         1   \n",
       "4          boar     1         0     0     1         0        0         1   \n",
       "..          ...   ...       ...   ...   ...       ...      ...       ...   \n",
       "96      wallaby     1         0     0     1         0        0         0   \n",
       "97         wasp     1         0     1     0         1        0         0   \n",
       "98         wolf     1         0     0     1         0        0         1   \n",
       "99         worm     0         0     1     0         0        0         0   \n",
       "100        wren     0         1     1     0         1        0         0   \n",
       "\n",
       "     toothed  backbone  breathes  venomous  fins  legs  tail  domestic  \\\n",
       "0          1         1         1         0     0     4     0         0   \n",
       "1          1         1         1         0     0     4     1         0   \n",
       "2          1         1         0         0     1     0     1         0   \n",
       "3          1         1         1         0     0     4     0         0   \n",
       "4          1         1         1         0     0     4     1         0   \n",
       "..       ...       ...       ...       ...   ...   ...   ...       ...   \n",
       "96         1         1         1         0     0     2     1         0   \n",
       "97         0         0         1         1     0     6     0         0   \n",
       "98         1         1         1         0     0     4     1         0   \n",
       "99         0         0         1         0     0     0     0         0   \n",
       "100        0         1         1         0     0     2     1         0   \n",
       "\n",
       "     catsize  class_type  \n",
       "0          1           1  \n",
       "1          1           1  \n",
       "2          0           4  \n",
       "3          1           1  \n",
       "4          1           1  \n",
       "..       ...         ...  \n",
       "96         1           1  \n",
       "97         0           6  \n",
       "98         1           1  \n",
       "99         0           7  \n",
       "100        0           2  \n",
       "\n",
       "[101 rows x 18 columns]>"
      ]
     },
<<<<<<< HEAD
     "execution_count": 10,
=======
     "execution_count": 7,
>>>>>>> 35938a6a6b446af0f21d96ce596375ac18ed081a
     "metadata": {},
     "output_type": "execute_result"
    }
   ],
   "source": [
    "datazoo.head"
   ]
  },
  {
   "cell_type": "code",
<<<<<<< HEAD
   "execution_count": 11,
=======
   "execution_count": 8,
>>>>>>> 35938a6a6b446af0f21d96ce596375ac18ed081a
   "metadata": {
    "scrolled": true
   },
   "outputs": [
    {
     "name": "stdout",
     "output_type": "stream",
     "text": [
      "<class 'pandas.core.frame.DataFrame'>\n",
      "RangeIndex: 101 entries, 0 to 100\n",
      "Data columns (total 18 columns):\n",
      " #   Column       Non-Null Count  Dtype \n",
      "---  ------       --------------  ----- \n",
      " 0   animal_name  101 non-null    object\n",
      " 1   hair         101 non-null    int64 \n",
      " 2   feathers     101 non-null    int64 \n",
      " 3   eggs         101 non-null    int64 \n",
      " 4   milk         101 non-null    int64 \n",
      " 5   airborne     101 non-null    int64 \n",
      " 6   aquatic      101 non-null    int64 \n",
      " 7   predator     101 non-null    int64 \n",
      " 8   toothed      101 non-null    int64 \n",
      " 9   backbone     101 non-null    int64 \n",
      " 10  breathes     101 non-null    int64 \n",
      " 11  venomous     101 non-null    int64 \n",
      " 12  fins         101 non-null    int64 \n",
      " 13  legs         101 non-null    int64 \n",
      " 14  tail         101 non-null    int64 \n",
      " 15  domestic     101 non-null    int64 \n",
      " 16  catsize      101 non-null    int64 \n",
      " 17  class_type   101 non-null    int64 \n",
      "dtypes: int64(17), object(1)\n",
      "memory usage: 14.3+ KB\n"
     ]
    }
   ],
   "source": [
    "datazoo.info ()\n",
    "# qui sotto si fornisce il tipo dei valori e il count dei not null. \n",
    "# come si vede vi è un object (animal_name) e 17 interi (di cui l'ultimo indica la classe)"
   ]
  },
  {
   "cell_type": "code",
<<<<<<< HEAD
   "execution_count": 12,
=======
   "execution_count": 9,
>>>>>>> 35938a6a6b446af0f21d96ce596375ac18ed081a
   "metadata": {},
   "outputs": [
    {
     "name": "stdout",
     "output_type": "stream",
     "text": [
      "animal_name object\n",
      "hair int64\n",
      "feathers int64\n",
      "eggs int64\n",
      "milk int64\n",
      "airborne int64\n",
      "aquatic int64\n",
      "predator int64\n",
      "toothed int64\n",
      "backbone int64\n",
      "breathes int64\n",
      "venomous int64\n",
      "fins int64\n",
      "legs int64\n",
      "tail int64\n",
      "domestic int64\n",
      "catsize int64\n",
      "class_type int64\n"
     ]
    }
   ],
   "source": [
    "for k, v in datazoo.dtypes.items ():\n",
    "    print (k, v)\n",
    "# usiamo qui sotto una funzione che dà un elenco dei campi "
   ]
  },
  {
   "cell_type": "markdown",
   "metadata": {},
   "source": [
    "# Data visualization"
   ]
  },
  {
   "cell_type": "code",
<<<<<<< HEAD
   "execution_count": 13,
=======
   "execution_count": 10,
>>>>>>> 35938a6a6b446af0f21d96ce596375ac18ed081a
   "metadata": {},
   "outputs": [],
   "source": [
    "import matplotlib.pyplot as plt"
   ]
  },
  {
   "cell_type": "code",
<<<<<<< HEAD
   "execution_count": 14,
=======
   "execution_count": 11,
>>>>>>> 35938a6a6b446af0f21d96ce596375ac18ed081a
   "metadata": {},
   "outputs": [],
   "source": [
    "cols = ['animal_name', 'hair', 'feathers', 'eggs', 'milk', 'airborne', 'aquatic', 'predator', 'toothed','backbone', 'breathes', 'venomous', 'fins', 'legs', 'tail', 'domestic', 'catsize', 'class_type']"
   ]
  },
  {
   "cell_type": "code",
<<<<<<< HEAD
   "execution_count": 15,
=======
   "execution_count": 12,
>>>>>>> 35938a6a6b446af0f21d96ce596375ac18ed081a
   "metadata": {},
   "outputs": [
    {
     "data": {
      "text/html": [
       "<div>\n",
       "<style scoped>\n",
       "    .dataframe tbody tr th:only-of-type {\n",
       "        vertical-align: middle;\n",
       "    }\n",
       "\n",
       "    .dataframe tbody tr th {\n",
       "        vertical-align: top;\n",
       "    }\n",
       "\n",
       "    .dataframe thead th {\n",
       "        text-align: right;\n",
       "    }\n",
       "</style>\n",
       "<table border=\"1\" class=\"dataframe\">\n",
       "  <thead>\n",
       "    <tr style=\"text-align: right;\">\n",
       "      <th></th>\n",
       "      <th>animal_name</th>\n",
       "      <th>hair</th>\n",
       "      <th>feathers</th>\n",
       "      <th>eggs</th>\n",
       "      <th>milk</th>\n",
       "      <th>airborne</th>\n",
       "      <th>aquatic</th>\n",
       "      <th>predator</th>\n",
       "      <th>toothed</th>\n",
       "      <th>backbone</th>\n",
       "      <th>breathes</th>\n",
       "      <th>venomous</th>\n",
       "      <th>fins</th>\n",
       "      <th>legs</th>\n",
       "      <th>tail</th>\n",
       "      <th>domestic</th>\n",
       "      <th>catsize</th>\n",
       "      <th>class_type</th>\n",
       "    </tr>\n",
       "  </thead>\n",
       "  <tbody>\n",
       "    <tr>\n",
       "      <th>0</th>\n",
       "      <td>aardvark</td>\n",
       "      <td>1</td>\n",
       "      <td>0</td>\n",
       "      <td>0</td>\n",
       "      <td>1</td>\n",
       "      <td>0</td>\n",
       "      <td>0</td>\n",
       "      <td>1</td>\n",
       "      <td>1</td>\n",
       "      <td>1</td>\n",
       "      <td>1</td>\n",
       "      <td>0</td>\n",
       "      <td>0</td>\n",
       "      <td>4</td>\n",
       "      <td>0</td>\n",
       "      <td>0</td>\n",
       "      <td>1</td>\n",
       "      <td>1</td>\n",
       "    </tr>\n",
       "    <tr>\n",
       "      <th>1</th>\n",
       "      <td>antelope</td>\n",
       "      <td>1</td>\n",
       "      <td>0</td>\n",
       "      <td>0</td>\n",
       "      <td>1</td>\n",
       "      <td>0</td>\n",
       "      <td>0</td>\n",
       "      <td>0</td>\n",
       "      <td>1</td>\n",
       "      <td>1</td>\n",
       "      <td>1</td>\n",
       "      <td>0</td>\n",
       "      <td>0</td>\n",
       "      <td>4</td>\n",
       "      <td>1</td>\n",
       "      <td>0</td>\n",
       "      <td>1</td>\n",
       "      <td>1</td>\n",
       "    </tr>\n",
       "    <tr>\n",
       "      <th>2</th>\n",
       "      <td>bass</td>\n",
       "      <td>0</td>\n",
       "      <td>0</td>\n",
       "      <td>1</td>\n",
       "      <td>0</td>\n",
       "      <td>0</td>\n",
       "      <td>1</td>\n",
       "      <td>1</td>\n",
       "      <td>1</td>\n",
       "      <td>1</td>\n",
       "      <td>0</td>\n",
       "      <td>0</td>\n",
       "      <td>1</td>\n",
       "      <td>0</td>\n",
       "      <td>1</td>\n",
       "      <td>0</td>\n",
       "      <td>0</td>\n",
       "      <td>4</td>\n",
       "    </tr>\n",
       "    <tr>\n",
       "      <th>3</th>\n",
       "      <td>bear</td>\n",
       "      <td>1</td>\n",
       "      <td>0</td>\n",
       "      <td>0</td>\n",
       "      <td>1</td>\n",
       "      <td>0</td>\n",
       "      <td>0</td>\n",
       "      <td>1</td>\n",
       "      <td>1</td>\n",
       "      <td>1</td>\n",
       "      <td>1</td>\n",
       "      <td>0</td>\n",
       "      <td>0</td>\n",
       "      <td>4</td>\n",
       "      <td>0</td>\n",
       "      <td>0</td>\n",
       "      <td>1</td>\n",
       "      <td>1</td>\n",
       "    </tr>\n",
       "    <tr>\n",
       "      <th>4</th>\n",
       "      <td>boar</td>\n",
       "      <td>1</td>\n",
       "      <td>0</td>\n",
       "      <td>0</td>\n",
       "      <td>1</td>\n",
       "      <td>0</td>\n",
       "      <td>0</td>\n",
       "      <td>1</td>\n",
       "      <td>1</td>\n",
       "      <td>1</td>\n",
       "      <td>1</td>\n",
       "      <td>0</td>\n",
       "      <td>0</td>\n",
       "      <td>4</td>\n",
       "      <td>1</td>\n",
       "      <td>0</td>\n",
       "      <td>1</td>\n",
       "      <td>1</td>\n",
       "    </tr>\n",
       "    <tr>\n",
       "      <th>...</th>\n",
       "      <td>...</td>\n",
       "      <td>...</td>\n",
       "      <td>...</td>\n",
       "      <td>...</td>\n",
       "      <td>...</td>\n",
       "      <td>...</td>\n",
       "      <td>...</td>\n",
       "      <td>...</td>\n",
       "      <td>...</td>\n",
       "      <td>...</td>\n",
       "      <td>...</td>\n",
       "      <td>...</td>\n",
       "      <td>...</td>\n",
       "      <td>...</td>\n",
       "      <td>...</td>\n",
       "      <td>...</td>\n",
       "      <td>...</td>\n",
       "      <td>...</td>\n",
       "    </tr>\n",
       "    <tr>\n",
       "      <th>96</th>\n",
       "      <td>wallaby</td>\n",
       "      <td>1</td>\n",
       "      <td>0</td>\n",
       "      <td>0</td>\n",
       "      <td>1</td>\n",
       "      <td>0</td>\n",
       "      <td>0</td>\n",
       "      <td>0</td>\n",
       "      <td>1</td>\n",
       "      <td>1</td>\n",
       "      <td>1</td>\n",
       "      <td>0</td>\n",
       "      <td>0</td>\n",
       "      <td>2</td>\n",
       "      <td>1</td>\n",
       "      <td>0</td>\n",
       "      <td>1</td>\n",
       "      <td>1</td>\n",
       "    </tr>\n",
       "    <tr>\n",
       "      <th>97</th>\n",
       "      <td>wasp</td>\n",
       "      <td>1</td>\n",
       "      <td>0</td>\n",
       "      <td>1</td>\n",
       "      <td>0</td>\n",
       "      <td>1</td>\n",
       "      <td>0</td>\n",
       "      <td>0</td>\n",
       "      <td>0</td>\n",
       "      <td>0</td>\n",
       "      <td>1</td>\n",
       "      <td>1</td>\n",
       "      <td>0</td>\n",
       "      <td>6</td>\n",
       "      <td>0</td>\n",
       "      <td>0</td>\n",
       "      <td>0</td>\n",
       "      <td>6</td>\n",
       "    </tr>\n",
       "    <tr>\n",
       "      <th>98</th>\n",
       "      <td>wolf</td>\n",
       "      <td>1</td>\n",
       "      <td>0</td>\n",
       "      <td>0</td>\n",
       "      <td>1</td>\n",
       "      <td>0</td>\n",
       "      <td>0</td>\n",
       "      <td>1</td>\n",
       "      <td>1</td>\n",
       "      <td>1</td>\n",
       "      <td>1</td>\n",
       "      <td>0</td>\n",
       "      <td>0</td>\n",
       "      <td>4</td>\n",
       "      <td>1</td>\n",
       "      <td>0</td>\n",
       "      <td>1</td>\n",
       "      <td>1</td>\n",
       "    </tr>\n",
       "    <tr>\n",
       "      <th>99</th>\n",
       "      <td>worm</td>\n",
       "      <td>0</td>\n",
       "      <td>0</td>\n",
       "      <td>1</td>\n",
       "      <td>0</td>\n",
       "      <td>0</td>\n",
       "      <td>0</td>\n",
       "      <td>0</td>\n",
       "      <td>0</td>\n",
       "      <td>0</td>\n",
       "      <td>1</td>\n",
       "      <td>0</td>\n",
       "      <td>0</td>\n",
       "      <td>0</td>\n",
       "      <td>0</td>\n",
       "      <td>0</td>\n",
       "      <td>0</td>\n",
       "      <td>7</td>\n",
       "    </tr>\n",
       "    <tr>\n",
       "      <th>100</th>\n",
       "      <td>wren</td>\n",
       "      <td>0</td>\n",
       "      <td>1</td>\n",
       "      <td>1</td>\n",
       "      <td>0</td>\n",
       "      <td>1</td>\n",
       "      <td>0</td>\n",
       "      <td>0</td>\n",
       "      <td>0</td>\n",
       "      <td>1</td>\n",
       "      <td>1</td>\n",
       "      <td>0</td>\n",
       "      <td>0</td>\n",
       "      <td>2</td>\n",
       "      <td>1</td>\n",
       "      <td>0</td>\n",
       "      <td>0</td>\n",
       "      <td>2</td>\n",
       "    </tr>\n",
       "  </tbody>\n",
       "</table>\n",
       "<p>101 rows × 18 columns</p>\n",
       "</div>"
      ],
      "text/plain": [
       "    animal_name  hair  feathers  eggs  milk  airborne  aquatic  predator  \\\n",
       "0      aardvark     1         0     0     1         0        0         1   \n",
       "1      antelope     1         0     0     1         0        0         0   \n",
       "2          bass     0         0     1     0         0        1         1   \n",
       "3          bear     1         0     0     1         0        0         1   \n",
       "4          boar     1         0     0     1         0        0         1   \n",
       "..          ...   ...       ...   ...   ...       ...      ...       ...   \n",
       "96      wallaby     1         0     0     1         0        0         0   \n",
       "97         wasp     1         0     1     0         1        0         0   \n",
       "98         wolf     1         0     0     1         0        0         1   \n",
       "99         worm     0         0     1     0         0        0         0   \n",
       "100        wren     0         1     1     0         1        0         0   \n",
       "\n",
       "     toothed  backbone  breathes  venomous  fins  legs  tail  domestic  \\\n",
       "0          1         1         1         0     0     4     0         0   \n",
       "1          1         1         1         0     0     4     1         0   \n",
       "2          1         1         0         0     1     0     1         0   \n",
       "3          1         1         1         0     0     4     0         0   \n",
       "4          1         1         1         0     0     4     1         0   \n",
       "..       ...       ...       ...       ...   ...   ...   ...       ...   \n",
       "96         1         1         1         0     0     2     1         0   \n",
       "97         0         0         1         1     0     6     0         0   \n",
       "98         1         1         1         0     0     4     1         0   \n",
       "99         0         0         1         0     0     0     0         0   \n",
       "100        0         1         1         0     0     2     1         0   \n",
       "\n",
       "     catsize  class_type  \n",
       "0          1           1  \n",
       "1          1           1  \n",
       "2          0           4  \n",
       "3          1           1  \n",
       "4          1           1  \n",
       "..       ...         ...  \n",
       "96         1           1  \n",
       "97         0           6  \n",
       "98         1           1  \n",
       "99         0           7  \n",
       "100        0           2  \n",
       "\n",
       "[101 rows x 18 columns]"
      ]
     },
<<<<<<< HEAD
     "execution_count": 15,
=======
     "execution_count": 12,
>>>>>>> 35938a6a6b446af0f21d96ce596375ac18ed081a
     "metadata": {},
     "output_type": "execute_result"
    }
   ],
   "source": [
    "datazoo[cols]"
   ]
  },
  {
   "cell_type": "code",
<<<<<<< HEAD
   "execution_count": 16,
=======
   "execution_count": 13,
>>>>>>> 35938a6a6b446af0f21d96ce596375ac18ed081a
   "metadata": {},
   "outputs": [
    {
     "data": {
      "text/html": [
       "<div>\n",
       "<style scoped>\n",
       "    .dataframe tbody tr th:only-of-type {\n",
       "        vertical-align: middle;\n",
       "    }\n",
       "\n",
       "    .dataframe tbody tr th {\n",
       "        vertical-align: top;\n",
       "    }\n",
       "\n",
       "    .dataframe thead th {\n",
       "        text-align: right;\n",
       "    }\n",
       "</style>\n",
       "<table border=\"1\" class=\"dataframe\">\n",
       "  <thead>\n",
       "    <tr style=\"text-align: right;\">\n",
       "      <th></th>\n",
       "      <th>hair</th>\n",
       "      <th>feathers</th>\n",
       "      <th>eggs</th>\n",
       "      <th>milk</th>\n",
       "      <th>airborne</th>\n",
       "      <th>aquatic</th>\n",
       "      <th>predator</th>\n",
       "      <th>toothed</th>\n",
       "      <th>backbone</th>\n",
       "      <th>breathes</th>\n",
       "      <th>venomous</th>\n",
       "      <th>fins</th>\n",
       "      <th>legs</th>\n",
       "      <th>tail</th>\n",
       "      <th>domestic</th>\n",
       "      <th>catsize</th>\n",
       "      <th>class_type</th>\n",
       "    </tr>\n",
       "  </thead>\n",
       "  <tbody>\n",
       "    <tr>\n",
       "      <th>count</th>\n",
       "      <td>101.000000</td>\n",
       "      <td>101.000000</td>\n",
       "      <td>101.000000</td>\n",
       "      <td>101.000000</td>\n",
       "      <td>101.000000</td>\n",
       "      <td>101.000000</td>\n",
       "      <td>101.000000</td>\n",
       "      <td>101.000000</td>\n",
       "      <td>101.000000</td>\n",
       "      <td>101.000000</td>\n",
       "      <td>101.000000</td>\n",
       "      <td>101.000000</td>\n",
       "      <td>101.000000</td>\n",
       "      <td>101.000000</td>\n",
       "      <td>101.000000</td>\n",
       "      <td>101.000000</td>\n",
       "      <td>101.000000</td>\n",
       "    </tr>\n",
       "    <tr>\n",
       "      <th>mean</th>\n",
       "      <td>0.425743</td>\n",
       "      <td>0.198020</td>\n",
       "      <td>0.584158</td>\n",
       "      <td>0.405941</td>\n",
       "      <td>0.237624</td>\n",
       "      <td>0.356436</td>\n",
       "      <td>0.554455</td>\n",
       "      <td>0.603960</td>\n",
       "      <td>0.821782</td>\n",
       "      <td>0.792079</td>\n",
       "      <td>0.079208</td>\n",
       "      <td>0.168317</td>\n",
       "      <td>2.841584</td>\n",
       "      <td>0.742574</td>\n",
       "      <td>0.128713</td>\n",
       "      <td>0.435644</td>\n",
       "      <td>2.831683</td>\n",
       "    </tr>\n",
       "    <tr>\n",
       "      <th>std</th>\n",
       "      <td>0.496921</td>\n",
       "      <td>0.400495</td>\n",
       "      <td>0.495325</td>\n",
       "      <td>0.493522</td>\n",
       "      <td>0.427750</td>\n",
       "      <td>0.481335</td>\n",
       "      <td>0.499505</td>\n",
       "      <td>0.491512</td>\n",
       "      <td>0.384605</td>\n",
       "      <td>0.407844</td>\n",
       "      <td>0.271410</td>\n",
       "      <td>0.376013</td>\n",
       "      <td>2.033385</td>\n",
       "      <td>0.439397</td>\n",
       "      <td>0.336552</td>\n",
       "      <td>0.498314</td>\n",
       "      <td>2.102709</td>\n",
       "    </tr>\n",
       "    <tr>\n",
       "      <th>min</th>\n",
       "      <td>0.000000</td>\n",
       "      <td>0.000000</td>\n",
       "      <td>0.000000</td>\n",
       "      <td>0.000000</td>\n",
       "      <td>0.000000</td>\n",
       "      <td>0.000000</td>\n",
       "      <td>0.000000</td>\n",
       "      <td>0.000000</td>\n",
       "      <td>0.000000</td>\n",
       "      <td>0.000000</td>\n",
       "      <td>0.000000</td>\n",
       "      <td>0.000000</td>\n",
       "      <td>0.000000</td>\n",
       "      <td>0.000000</td>\n",
       "      <td>0.000000</td>\n",
       "      <td>0.000000</td>\n",
       "      <td>1.000000</td>\n",
       "    </tr>\n",
       "    <tr>\n",
       "      <th>25%</th>\n",
       "      <td>0.000000</td>\n",
       "      <td>0.000000</td>\n",
       "      <td>0.000000</td>\n",
       "      <td>0.000000</td>\n",
       "      <td>0.000000</td>\n",
       "      <td>0.000000</td>\n",
       "      <td>0.000000</td>\n",
       "      <td>0.000000</td>\n",
       "      <td>1.000000</td>\n",
       "      <td>1.000000</td>\n",
       "      <td>0.000000</td>\n",
       "      <td>0.000000</td>\n",
       "      <td>2.000000</td>\n",
       "      <td>0.000000</td>\n",
       "      <td>0.000000</td>\n",
       "      <td>0.000000</td>\n",
       "      <td>1.000000</td>\n",
       "    </tr>\n",
       "    <tr>\n",
       "      <th>50%</th>\n",
       "      <td>0.000000</td>\n",
       "      <td>0.000000</td>\n",
       "      <td>1.000000</td>\n",
       "      <td>0.000000</td>\n",
       "      <td>0.000000</td>\n",
       "      <td>0.000000</td>\n",
       "      <td>1.000000</td>\n",
       "      <td>1.000000</td>\n",
       "      <td>1.000000</td>\n",
       "      <td>1.000000</td>\n",
       "      <td>0.000000</td>\n",
       "      <td>0.000000</td>\n",
       "      <td>4.000000</td>\n",
       "      <td>1.000000</td>\n",
       "      <td>0.000000</td>\n",
       "      <td>0.000000</td>\n",
       "      <td>2.000000</td>\n",
       "    </tr>\n",
       "    <tr>\n",
       "      <th>75%</th>\n",
       "      <td>1.000000</td>\n",
       "      <td>0.000000</td>\n",
       "      <td>1.000000</td>\n",
       "      <td>1.000000</td>\n",
       "      <td>0.000000</td>\n",
       "      <td>1.000000</td>\n",
       "      <td>1.000000</td>\n",
       "      <td>1.000000</td>\n",
       "      <td>1.000000</td>\n",
       "      <td>1.000000</td>\n",
       "      <td>0.000000</td>\n",
       "      <td>0.000000</td>\n",
       "      <td>4.000000</td>\n",
       "      <td>1.000000</td>\n",
       "      <td>0.000000</td>\n",
       "      <td>1.000000</td>\n",
       "      <td>4.000000</td>\n",
       "    </tr>\n",
       "    <tr>\n",
       "      <th>max</th>\n",
       "      <td>1.000000</td>\n",
       "      <td>1.000000</td>\n",
       "      <td>1.000000</td>\n",
       "      <td>1.000000</td>\n",
       "      <td>1.000000</td>\n",
       "      <td>1.000000</td>\n",
       "      <td>1.000000</td>\n",
       "      <td>1.000000</td>\n",
       "      <td>1.000000</td>\n",
       "      <td>1.000000</td>\n",
       "      <td>1.000000</td>\n",
       "      <td>1.000000</td>\n",
       "      <td>8.000000</td>\n",
       "      <td>1.000000</td>\n",
       "      <td>1.000000</td>\n",
       "      <td>1.000000</td>\n",
       "      <td>7.000000</td>\n",
       "    </tr>\n",
       "  </tbody>\n",
       "</table>\n",
       "</div>"
      ],
      "text/plain": [
       "             hair    feathers        eggs        milk    airborne     aquatic  \\\n",
       "count  101.000000  101.000000  101.000000  101.000000  101.000000  101.000000   \n",
       "mean     0.425743    0.198020    0.584158    0.405941    0.237624    0.356436   \n",
       "std      0.496921    0.400495    0.495325    0.493522    0.427750    0.481335   \n",
       "min      0.000000    0.000000    0.000000    0.000000    0.000000    0.000000   \n",
       "25%      0.000000    0.000000    0.000000    0.000000    0.000000    0.000000   \n",
       "50%      0.000000    0.000000    1.000000    0.000000    0.000000    0.000000   \n",
       "75%      1.000000    0.000000    1.000000    1.000000    0.000000    1.000000   \n",
       "max      1.000000    1.000000    1.000000    1.000000    1.000000    1.000000   \n",
       "\n",
       "         predator     toothed    backbone    breathes    venomous        fins  \\\n",
       "count  101.000000  101.000000  101.000000  101.000000  101.000000  101.000000   \n",
       "mean     0.554455    0.603960    0.821782    0.792079    0.079208    0.168317   \n",
       "std      0.499505    0.491512    0.384605    0.407844    0.271410    0.376013   \n",
       "min      0.000000    0.000000    0.000000    0.000000    0.000000    0.000000   \n",
       "25%      0.000000    0.000000    1.000000    1.000000    0.000000    0.000000   \n",
       "50%      1.000000    1.000000    1.000000    1.000000    0.000000    0.000000   \n",
       "75%      1.000000    1.000000    1.000000    1.000000    0.000000    0.000000   \n",
       "max      1.000000    1.000000    1.000000    1.000000    1.000000    1.000000   \n",
       "\n",
       "             legs        tail    domestic     catsize  class_type  \n",
       "count  101.000000  101.000000  101.000000  101.000000  101.000000  \n",
       "mean     2.841584    0.742574    0.128713    0.435644    2.831683  \n",
       "std      2.033385    0.439397    0.336552    0.498314    2.102709  \n",
       "min      0.000000    0.000000    0.000000    0.000000    1.000000  \n",
       "25%      2.000000    0.000000    0.000000    0.000000    1.000000  \n",
       "50%      4.000000    1.000000    0.000000    0.000000    2.000000  \n",
       "75%      4.000000    1.000000    0.000000    1.000000    4.000000  \n",
       "max      8.000000    1.000000    1.000000    1.000000    7.000000  "
      ]
     },
<<<<<<< HEAD
     "execution_count": 16,
=======
     "execution_count": 13,
>>>>>>> 35938a6a6b446af0f21d96ce596375ac18ed081a
     "metadata": {},
     "output_type": "execute_result"
    }
   ],
   "source": [
    "datazoo.describe ()\n",
    "# qui sotto utilizziamo lo strumento describe sempre per esplorare e visualizzare i dati, \n",
    "# (dà una indicazione dei valori statistici di base come media, deviazione standard, minimo e massimo)"
   ]
  },
  {
   "cell_type": "code",
<<<<<<< HEAD
   "execution_count": 17,
=======
   "execution_count": 14,
>>>>>>> 35938a6a6b446af0f21d96ce596375ac18ed081a
   "metadata": {},
   "outputs": [
    {
     "data": {
      "text/plain": [
       "animal_name    False\n",
       "hair           False\n",
       "feathers       False\n",
       "eggs           False\n",
       "milk           False\n",
       "airborne       False\n",
       "aquatic        False\n",
       "predator       False\n",
       "toothed        False\n",
       "backbone       False\n",
       "breathes       False\n",
       "venomous       False\n",
       "fins           False\n",
       "legs           False\n",
       "tail           False\n",
       "domestic       False\n",
       "catsize        False\n",
       "class_type     False\n",
       "dtype: bool"
      ]
     },
<<<<<<< HEAD
     "execution_count": 17,
=======
     "execution_count": 14,
>>>>>>> 35938a6a6b446af0f21d96ce596375ac18ed081a
     "metadata": {},
     "output_type": "execute_result"
    }
   ],
   "source": [
    "datazoo.isna().any()\n",
    "# riproviamo con questo comando isna().any() la presenza di valori nulli"
   ]
  },
  {
   "cell_type": "code",
<<<<<<< HEAD
   "execution_count": 18,
=======
   "execution_count": 15,
>>>>>>> 35938a6a6b446af0f21d96ce596375ac18ed081a
   "metadata": {},
   "outputs": [
    {
     "data": {
      "text/plain": [
       "animal_name    0\n",
       "hair           0\n",
       "feathers       0\n",
       "eggs           0\n",
       "milk           0\n",
       "airborne       0\n",
       "aquatic        0\n",
       "predator       0\n",
       "toothed        0\n",
       "backbone       0\n",
       "breathes       0\n",
       "venomous       0\n",
       "fins           0\n",
       "legs           0\n",
       "tail           0\n",
       "domestic       0\n",
       "catsize        0\n",
       "class_type     0\n",
       "dtype: int64"
      ]
     },
<<<<<<< HEAD
     "execution_count": 18,
=======
     "execution_count": 15,
>>>>>>> 35938a6a6b446af0f21d96ce596375ac18ed081a
     "metadata": {},
     "output_type": "execute_result"
    }
   ],
   "source": [
    "datazoo.isna().sum ()\n",
    "# stesso processo di sopra ma cumulativo con sum"
   ]
  },
  {
   "cell_type": "code",
<<<<<<< HEAD
   "execution_count": 19,
=======
   "execution_count": 16,
>>>>>>> 35938a6a6b446af0f21d96ce596375ac18ed081a
   "metadata": {},
   "outputs": [
    {
     "data": {
      "text/html": [
       "<div>\n",
       "<style scoped>\n",
       "    .dataframe tbody tr th:only-of-type {\n",
       "        vertical-align: middle;\n",
       "    }\n",
       "\n",
       "    .dataframe tbody tr th {\n",
       "        vertical-align: top;\n",
       "    }\n",
       "\n",
       "    .dataframe thead th {\n",
       "        text-align: right;\n",
       "    }\n",
       "</style>\n",
       "<table border=\"1\" class=\"dataframe\">\n",
       "  <thead>\n",
       "    <tr style=\"text-align: right;\">\n",
       "      <th></th>\n",
       "      <th>animal_name</th>\n",
       "      <th>hair</th>\n",
       "      <th>feathers</th>\n",
       "      <th>eggs</th>\n",
       "      <th>milk</th>\n",
       "      <th>airborne</th>\n",
       "      <th>aquatic</th>\n",
       "      <th>predator</th>\n",
       "      <th>toothed</th>\n",
       "      <th>backbone</th>\n",
       "      <th>breathes</th>\n",
       "      <th>venomous</th>\n",
       "      <th>fins</th>\n",
       "      <th>legs</th>\n",
       "      <th>tail</th>\n",
       "      <th>domestic</th>\n",
       "      <th>catsize</th>\n",
       "      <th>class_type</th>\n",
       "    </tr>\n",
       "  </thead>\n",
       "  <tbody>\n",
       "    <tr>\n",
       "      <th>0</th>\n",
       "      <td>False</td>\n",
       "      <td>False</td>\n",
       "      <td>False</td>\n",
       "      <td>False</td>\n",
       "      <td>False</td>\n",
       "      <td>False</td>\n",
       "      <td>False</td>\n",
       "      <td>False</td>\n",
       "      <td>False</td>\n",
       "      <td>False</td>\n",
       "      <td>False</td>\n",
       "      <td>False</td>\n",
       "      <td>False</td>\n",
       "      <td>False</td>\n",
       "      <td>False</td>\n",
       "      <td>False</td>\n",
       "      <td>False</td>\n",
       "      <td>False</td>\n",
       "    </tr>\n",
       "    <tr>\n",
       "      <th>1</th>\n",
       "      <td>False</td>\n",
       "      <td>False</td>\n",
       "      <td>False</td>\n",
       "      <td>False</td>\n",
       "      <td>False</td>\n",
       "      <td>False</td>\n",
       "      <td>False</td>\n",
       "      <td>False</td>\n",
       "      <td>False</td>\n",
       "      <td>False</td>\n",
       "      <td>False</td>\n",
       "      <td>False</td>\n",
       "      <td>False</td>\n",
       "      <td>False</td>\n",
       "      <td>False</td>\n",
       "      <td>False</td>\n",
       "      <td>False</td>\n",
       "      <td>False</td>\n",
       "    </tr>\n",
       "    <tr>\n",
       "      <th>2</th>\n",
       "      <td>False</td>\n",
       "      <td>False</td>\n",
       "      <td>False</td>\n",
       "      <td>False</td>\n",
       "      <td>False</td>\n",
       "      <td>False</td>\n",
       "      <td>False</td>\n",
       "      <td>False</td>\n",
       "      <td>False</td>\n",
       "      <td>False</td>\n",
       "      <td>False</td>\n",
       "      <td>False</td>\n",
       "      <td>False</td>\n",
       "      <td>False</td>\n",
       "      <td>False</td>\n",
       "      <td>False</td>\n",
       "      <td>False</td>\n",
       "      <td>False</td>\n",
       "    </tr>\n",
       "    <tr>\n",
       "      <th>3</th>\n",
       "      <td>False</td>\n",
       "      <td>False</td>\n",
       "      <td>False</td>\n",
       "      <td>False</td>\n",
       "      <td>False</td>\n",
       "      <td>False</td>\n",
       "      <td>False</td>\n",
       "      <td>False</td>\n",
       "      <td>False</td>\n",
       "      <td>False</td>\n",
       "      <td>False</td>\n",
       "      <td>False</td>\n",
       "      <td>False</td>\n",
       "      <td>False</td>\n",
       "      <td>False</td>\n",
       "      <td>False</td>\n",
       "      <td>False</td>\n",
       "      <td>False</td>\n",
       "    </tr>\n",
       "    <tr>\n",
       "      <th>4</th>\n",
       "      <td>False</td>\n",
       "      <td>False</td>\n",
       "      <td>False</td>\n",
       "      <td>False</td>\n",
       "      <td>False</td>\n",
       "      <td>False</td>\n",
       "      <td>False</td>\n",
       "      <td>False</td>\n",
       "      <td>False</td>\n",
       "      <td>False</td>\n",
       "      <td>False</td>\n",
       "      <td>False</td>\n",
       "      <td>False</td>\n",
       "      <td>False</td>\n",
       "      <td>False</td>\n",
       "      <td>False</td>\n",
       "      <td>False</td>\n",
       "      <td>False</td>\n",
       "    </tr>\n",
       "    <tr>\n",
       "      <th>...</th>\n",
       "      <td>...</td>\n",
       "      <td>...</td>\n",
       "      <td>...</td>\n",
       "      <td>...</td>\n",
       "      <td>...</td>\n",
       "      <td>...</td>\n",
       "      <td>...</td>\n",
       "      <td>...</td>\n",
       "      <td>...</td>\n",
       "      <td>...</td>\n",
       "      <td>...</td>\n",
       "      <td>...</td>\n",
       "      <td>...</td>\n",
       "      <td>...</td>\n",
       "      <td>...</td>\n",
       "      <td>...</td>\n",
       "      <td>...</td>\n",
       "      <td>...</td>\n",
       "    </tr>\n",
       "    <tr>\n",
       "      <th>96</th>\n",
       "      <td>False</td>\n",
       "      <td>False</td>\n",
       "      <td>False</td>\n",
       "      <td>False</td>\n",
       "      <td>False</td>\n",
       "      <td>False</td>\n",
       "      <td>False</td>\n",
       "      <td>False</td>\n",
       "      <td>False</td>\n",
       "      <td>False</td>\n",
       "      <td>False</td>\n",
       "      <td>False</td>\n",
       "      <td>False</td>\n",
       "      <td>False</td>\n",
       "      <td>False</td>\n",
       "      <td>False</td>\n",
       "      <td>False</td>\n",
       "      <td>False</td>\n",
       "    </tr>\n",
       "    <tr>\n",
       "      <th>97</th>\n",
       "      <td>False</td>\n",
       "      <td>False</td>\n",
       "      <td>False</td>\n",
       "      <td>False</td>\n",
       "      <td>False</td>\n",
       "      <td>False</td>\n",
       "      <td>False</td>\n",
       "      <td>False</td>\n",
       "      <td>False</td>\n",
       "      <td>False</td>\n",
       "      <td>False</td>\n",
       "      <td>False</td>\n",
       "      <td>False</td>\n",
       "      <td>False</td>\n",
       "      <td>False</td>\n",
       "      <td>False</td>\n",
       "      <td>False</td>\n",
       "      <td>False</td>\n",
       "    </tr>\n",
       "    <tr>\n",
       "      <th>98</th>\n",
       "      <td>False</td>\n",
       "      <td>False</td>\n",
       "      <td>False</td>\n",
       "      <td>False</td>\n",
       "      <td>False</td>\n",
       "      <td>False</td>\n",
       "      <td>False</td>\n",
       "      <td>False</td>\n",
       "      <td>False</td>\n",
       "      <td>False</td>\n",
       "      <td>False</td>\n",
       "      <td>False</td>\n",
       "      <td>False</td>\n",
       "      <td>False</td>\n",
       "      <td>False</td>\n",
       "      <td>False</td>\n",
       "      <td>False</td>\n",
       "      <td>False</td>\n",
       "    </tr>\n",
       "    <tr>\n",
       "      <th>99</th>\n",
       "      <td>False</td>\n",
       "      <td>False</td>\n",
       "      <td>False</td>\n",
       "      <td>False</td>\n",
       "      <td>False</td>\n",
       "      <td>False</td>\n",
       "      <td>False</td>\n",
       "      <td>False</td>\n",
       "      <td>False</td>\n",
       "      <td>False</td>\n",
       "      <td>False</td>\n",
       "      <td>False</td>\n",
       "      <td>False</td>\n",
       "      <td>False</td>\n",
       "      <td>False</td>\n",
       "      <td>False</td>\n",
       "      <td>False</td>\n",
       "      <td>False</td>\n",
       "    </tr>\n",
       "    <tr>\n",
       "      <th>100</th>\n",
       "      <td>False</td>\n",
       "      <td>False</td>\n",
       "      <td>False</td>\n",
       "      <td>False</td>\n",
       "      <td>False</td>\n",
       "      <td>False</td>\n",
       "      <td>False</td>\n",
       "      <td>False</td>\n",
       "      <td>False</td>\n",
       "      <td>False</td>\n",
       "      <td>False</td>\n",
       "      <td>False</td>\n",
       "      <td>False</td>\n",
       "      <td>False</td>\n",
       "      <td>False</td>\n",
       "      <td>False</td>\n",
       "      <td>False</td>\n",
       "      <td>False</td>\n",
       "    </tr>\n",
       "  </tbody>\n",
       "</table>\n",
       "<p>101 rows × 18 columns</p>\n",
       "</div>"
      ],
      "text/plain": [
       "     animal_name   hair  feathers   eggs   milk  airborne  aquatic  predator  \\\n",
       "0          False  False     False  False  False     False    False     False   \n",
       "1          False  False     False  False  False     False    False     False   \n",
       "2          False  False     False  False  False     False    False     False   \n",
       "3          False  False     False  False  False     False    False     False   \n",
       "4          False  False     False  False  False     False    False     False   \n",
       "..           ...    ...       ...    ...    ...       ...      ...       ...   \n",
       "96         False  False     False  False  False     False    False     False   \n",
       "97         False  False     False  False  False     False    False     False   \n",
       "98         False  False     False  False  False     False    False     False   \n",
       "99         False  False     False  False  False     False    False     False   \n",
       "100        False  False     False  False  False     False    False     False   \n",
       "\n",
       "     toothed  backbone  breathes  venomous   fins   legs   tail  domestic  \\\n",
       "0      False     False     False     False  False  False  False     False   \n",
       "1      False     False     False     False  False  False  False     False   \n",
       "2      False     False     False     False  False  False  False     False   \n",
       "3      False     False     False     False  False  False  False     False   \n",
       "4      False     False     False     False  False  False  False     False   \n",
       "..       ...       ...       ...       ...    ...    ...    ...       ...   \n",
       "96     False     False     False     False  False  False  False     False   \n",
       "97     False     False     False     False  False  False  False     False   \n",
       "98     False     False     False     False  False  False  False     False   \n",
       "99     False     False     False     False  False  False  False     False   \n",
       "100    False     False     False     False  False  False  False     False   \n",
       "\n",
       "     catsize  class_type  \n",
       "0      False       False  \n",
       "1      False       False  \n",
       "2      False       False  \n",
       "3      False       False  \n",
       "4      False       False  \n",
       "..       ...         ...  \n",
       "96     False       False  \n",
       "97     False       False  \n",
       "98     False       False  \n",
       "99     False       False  \n",
       "100    False       False  \n",
       "\n",
       "[101 rows x 18 columns]"
      ]
     },
<<<<<<< HEAD
     "execution_count": 19,
=======
     "execution_count": 16,
>>>>>>> 35938a6a6b446af0f21d96ce596375ac18ed081a
     "metadata": {},
     "output_type": "execute_result"
    }
   ],
   "source": [
    "datazoo.isnull ()\n",
    "# ulteriore verifica con isnull"
   ]
  },
  {
   "cell_type": "markdown",
   "metadata": {},
   "source": [
    "# 3 Data quality assessment and missing values\n",
    "Valutazione della qualità dei dati e i valori mancanti: non ci sono missing values e la qualità dei dati sembra buona"
   ]
  },
  {
   "cell_type": "code",
<<<<<<< HEAD
   "execution_count": 20,
=======
   "execution_count": 17,
>>>>>>> 35938a6a6b446af0f21d96ce596375ac18ed081a
   "metadata": {},
   "outputs": [
    {
     "data": {
      "text/plain": [
       "array(['aardvark', 'antelope', 'bass', 'bear', 'boar', 'buffalo', 'calf',\n",
       "       'carp', 'catfish', 'cavy', 'cheetah', 'chicken', 'chub', 'clam',\n",
       "       'crab', 'crayfish', 'crow', 'deer', 'dogfish', 'dolphin', 'dove',\n",
       "       'duck', 'elephant', 'flamingo', 'flea', 'frog', 'fruitbat',\n",
       "       'giraffe', 'girl', 'gnat', 'goat', 'gorilla', 'gull', 'haddock',\n",
       "       'hamster', 'hare', 'hawk', 'herring', 'honeybee', 'housefly',\n",
       "       'kiwi', 'ladybird', 'lark', 'leopard', 'lion', 'lobster', 'lynx',\n",
       "       'mink', 'mole', 'mongoose', 'moth', 'newt', 'octopus', 'opossum',\n",
       "       'oryx', 'ostrich', 'parakeet', 'penguin', 'pheasant', 'pike',\n",
       "       'piranha', 'pitviper', 'platypus', 'polecat', 'pony', 'porpoise',\n",
       "       'puma', 'pussycat', 'raccoon', 'reindeer', 'rhea', 'scorpion',\n",
       "       'seahorse', 'seal', 'sealion', 'seasnake', 'seawasp', 'skimmer',\n",
       "       'skua', 'slowworm', 'slug', 'sole', 'sparrow', 'squirrel',\n",
       "       'starfish', 'stingray', 'swan', 'termite', 'toad', 'tortoise',\n",
       "       'tuatara', 'tuna', 'vampire', 'vole', 'vulture', 'wallaby', 'wasp',\n",
       "       'wolf', 'worm', 'wren'], dtype=object)"
      ]
     },
<<<<<<< HEAD
     "execution_count": 20,
=======
     "execution_count": 17,
>>>>>>> 35938a6a6b446af0f21d96ce596375ac18ed081a
     "metadata": {},
     "output_type": "execute_result"
    }
   ],
   "source": [
    "datazoo.animal_name.unique()\n",
    "# qui sotto restituiamo la lista degli oggetti presenti nel data set in formato più leggibile. \n",
    "# Tra le curiosità che spiccano: \"aardvark\" che cosa é? Trattasi di un oritteropo (o armadillo del Sudafrica). "
   ]
  },
  {
   "cell_type": "code",
<<<<<<< HEAD
   "execution_count": 21,
=======
   "execution_count": 18,
>>>>>>> 35938a6a6b446af0f21d96ce596375ac18ed081a
   "metadata": {},
   "outputs": [
    {
     "name": "stdout",
     "output_type": "stream",
     "text": [
      "[1 4 2 7 6 5 3]\n"
     ]
    }
   ],
   "source": [
    "print(datazoo.class_type.unique())\n",
    "# Controlliamo se il type della classe ha valori corretti "
   ]
  },
  {
   "cell_type": "code",
<<<<<<< HEAD
   "execution_count": 22,
=======
   "execution_count": 19,
>>>>>>> 35938a6a6b446af0f21d96ce596375ac18ed081a
   "metadata": {},
   "outputs": [
    {
     "name": "stdout",
     "output_type": "stream",
     "text": [
      "[4 0 2 6 8 5]\n"
     ]
    }
   ],
   "source": [
    "print(datazoo.legs.unique())\n",
    "# Un dato curioso attira la nostra attenzione. \n",
    "# Il risultato qui sotto infatti farebbe pensare ad un errore nei dati. \n",
    "# Un animale con 5 zampe? Verifichiamo di cosa si tratta. "
   ]
  },
  {
   "cell_type": "code",
<<<<<<< HEAD
   "execution_count": 23,
=======
   "execution_count": 20,
>>>>>>> 35938a6a6b446af0f21d96ce596375ac18ed081a
   "metadata": {},
   "outputs": [
    {
     "data": {
      "text/html": [
       "<div>\n",
       "<style scoped>\n",
       "    .dataframe tbody tr th:only-of-type {\n",
       "        vertical-align: middle;\n",
       "    }\n",
       "\n",
       "    .dataframe tbody tr th {\n",
       "        vertical-align: top;\n",
       "    }\n",
       "\n",
       "    .dataframe thead th {\n",
       "        text-align: right;\n",
       "    }\n",
       "</style>\n",
       "<table border=\"1\" class=\"dataframe\">\n",
       "  <thead>\n",
       "    <tr style=\"text-align: right;\">\n",
       "      <th></th>\n",
       "      <th>animal_name</th>\n",
       "      <th>hair</th>\n",
       "      <th>feathers</th>\n",
       "      <th>eggs</th>\n",
       "      <th>milk</th>\n",
       "      <th>airborne</th>\n",
       "      <th>aquatic</th>\n",
       "      <th>predator</th>\n",
       "      <th>toothed</th>\n",
       "      <th>backbone</th>\n",
       "      <th>breathes</th>\n",
       "      <th>venomous</th>\n",
       "      <th>fins</th>\n",
       "      <th>legs</th>\n",
       "      <th>tail</th>\n",
       "      <th>domestic</th>\n",
       "      <th>catsize</th>\n",
       "      <th>class_type</th>\n",
       "    </tr>\n",
       "  </thead>\n",
       "  <tbody>\n",
       "    <tr>\n",
       "      <th>85</th>\n",
       "      <td>starfish</td>\n",
       "      <td>0</td>\n",
       "      <td>0</td>\n",
       "      <td>1</td>\n",
       "      <td>0</td>\n",
       "      <td>0</td>\n",
       "      <td>1</td>\n",
       "      <td>1</td>\n",
       "      <td>0</td>\n",
       "      <td>0</td>\n",
       "      <td>0</td>\n",
       "      <td>0</td>\n",
       "      <td>0</td>\n",
       "      <td>5</td>\n",
       "      <td>0</td>\n",
       "      <td>0</td>\n",
       "      <td>0</td>\n",
       "      <td>7</td>\n",
       "    </tr>\n",
       "  </tbody>\n",
       "</table>\n",
       "</div>"
      ],
      "text/plain": [
       "   animal_name  hair  feathers  eggs  milk  airborne  aquatic  predator  \\\n",
       "85    starfish     0         0     1     0         0        1         1   \n",
       "\n",
       "    toothed  backbone  breathes  venomous  fins  legs  tail  domestic  \\\n",
       "85        0         0         0         0     0     5     0         0   \n",
       "\n",
       "    catsize  class_type  \n",
       "85        0           7  "
      ]
     },
<<<<<<< HEAD
     "execution_count": 23,
=======
     "execution_count": 20,
>>>>>>> 35938a6a6b446af0f21d96ce596375ac18ed081a
     "metadata": {},
     "output_type": "execute_result"
    }
   ],
   "source": [
    "datazoo.loc[datazoo ['legs'] == 5]\n",
    "# in realtà non è un errore: si tratta di una stella marina, con 5 punte o braccia che il data set considera \"legs\"."
   ]
  },
  {
   "cell_type": "code",
<<<<<<< HEAD
   "execution_count": 24,
=======
   "execution_count": 21,
>>>>>>> 35938a6a6b446af0f21d96ce596375ac18ed081a
   "metadata": {},
   "outputs": [
    {
     "data": {
      "text/plain": [
<<<<<<< HEAD
       "<matplotlib.axes._subplots.AxesSubplot at 0x194a7253430>"
      ]
     },
     "execution_count": 24,
=======
       "<matplotlib.axes._subplots.AxesSubplot at 0x25ad9c47550>"
      ]
     },
     "execution_count": 21,
>>>>>>> 35938a6a6b446af0f21d96ce596375ac18ed081a
     "metadata": {},
     "output_type": "execute_result"
    },
    {
     "data": {
      "image/png": "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\n",
      "text/plain": [
       "<Figure size 432x288 with 1 Axes>"
      ]
     },
     "metadata": {
      "needs_background": "light"
     },
     "output_type": "display_data"
    }
   ],
   "source": [
    "legs = datazoo.legs\n",
    "legs.hist()\n",
    "# mostriamo un boxplot relativo alla presenza di gambe nelle varie classi (la classe 5 è fish e contiene la stella marina)"
   ]
  },
  {
   "cell_type": "code",
<<<<<<< HEAD
   "execution_count": 25,
=======
   "execution_count": 22,
>>>>>>> 35938a6a6b446af0f21d96ce596375ac18ed081a
   "metadata": {},
   "outputs": [
    {
     "data": {
      "text/html": [
       "<div>\n",
       "<style scoped>\n",
       "    .dataframe tbody tr th:only-of-type {\n",
       "        vertical-align: middle;\n",
       "    }\n",
       "\n",
       "    .dataframe tbody tr th {\n",
       "        vertical-align: top;\n",
       "    }\n",
       "\n",
       "    .dataframe thead th {\n",
       "        text-align: right;\n",
       "    }\n",
       "</style>\n",
       "<table border=\"1\" class=\"dataframe\">\n",
       "  <thead>\n",
       "    <tr style=\"text-align: right;\">\n",
       "      <th></th>\n",
       "      <th>animal_name</th>\n",
       "      <th>hair</th>\n",
       "      <th>feathers</th>\n",
       "      <th>eggs</th>\n",
       "      <th>milk</th>\n",
       "      <th>airborne</th>\n",
       "      <th>aquatic</th>\n",
       "      <th>predator</th>\n",
       "      <th>toothed</th>\n",
       "      <th>backbone</th>\n",
       "      <th>...</th>\n",
       "      <th>fins</th>\n",
       "      <th>legs</th>\n",
       "      <th>tail</th>\n",
       "      <th>domestic</th>\n",
       "      <th>catsize</th>\n",
       "      <th>class_type</th>\n",
       "      <th>Class_Number</th>\n",
       "      <th>Number_Of_Animal_Species_In_Class</th>\n",
       "      <th>Class_Type</th>\n",
       "      <th>Animal_Names</th>\n",
       "    </tr>\n",
       "  </thead>\n",
       "  <tbody>\n",
       "    <tr>\n",
       "      <th>0</th>\n",
       "      <td>aardvark</td>\n",
       "      <td>1</td>\n",
       "      <td>0</td>\n",
       "      <td>0</td>\n",
       "      <td>1</td>\n",
       "      <td>0</td>\n",
       "      <td>0</td>\n",
       "      <td>1</td>\n",
       "      <td>1</td>\n",
       "      <td>1</td>\n",
       "      <td>...</td>\n",
       "      <td>0</td>\n",
       "      <td>4</td>\n",
       "      <td>0</td>\n",
       "      <td>0</td>\n",
       "      <td>1</td>\n",
       "      <td>1</td>\n",
       "      <td>1</td>\n",
       "      <td>41</td>\n",
       "      <td>Mammal</td>\n",
       "      <td>aardvark, antelope, bear, boar, buffalo, calf,...</td>\n",
       "    </tr>\n",
       "    <tr>\n",
       "      <th>1</th>\n",
       "      <td>antelope</td>\n",
       "      <td>1</td>\n",
       "      <td>0</td>\n",
       "      <td>0</td>\n",
       "      <td>1</td>\n",
       "      <td>0</td>\n",
       "      <td>0</td>\n",
       "      <td>0</td>\n",
       "      <td>1</td>\n",
       "      <td>1</td>\n",
       "      <td>...</td>\n",
       "      <td>0</td>\n",
       "      <td>4</td>\n",
       "      <td>1</td>\n",
       "      <td>0</td>\n",
       "      <td>1</td>\n",
       "      <td>1</td>\n",
       "      <td>1</td>\n",
       "      <td>41</td>\n",
       "      <td>Mammal</td>\n",
       "      <td>aardvark, antelope, bear, boar, buffalo, calf,...</td>\n",
       "    </tr>\n",
       "    <tr>\n",
       "      <th>2</th>\n",
       "      <td>bear</td>\n",
       "      <td>1</td>\n",
       "      <td>0</td>\n",
       "      <td>0</td>\n",
       "      <td>1</td>\n",
       "      <td>0</td>\n",
       "      <td>0</td>\n",
       "      <td>1</td>\n",
       "      <td>1</td>\n",
       "      <td>1</td>\n",
       "      <td>...</td>\n",
       "      <td>0</td>\n",
       "      <td>4</td>\n",
       "      <td>0</td>\n",
       "      <td>0</td>\n",
       "      <td>1</td>\n",
       "      <td>1</td>\n",
       "      <td>1</td>\n",
       "      <td>41</td>\n",
       "      <td>Mammal</td>\n",
       "      <td>aardvark, antelope, bear, boar, buffalo, calf,...</td>\n",
       "    </tr>\n",
       "  </tbody>\n",
       "</table>\n",
       "<p>3 rows × 22 columns</p>\n",
       "</div>"
      ],
      "text/plain": [
       "  animal_name  hair  feathers  eggs  milk  airborne  aquatic  predator  \\\n",
       "0    aardvark     1         0     0     1         0        0         1   \n",
       "1    antelope     1         0     0     1         0        0         0   \n",
       "2        bear     1         0     0     1         0        0         1   \n",
       "\n",
       "   toothed  backbone  ...  fins  legs  tail  domestic  catsize  class_type  \\\n",
       "0        1         1  ...     0     4     0         0        1           1   \n",
       "1        1         1  ...     0     4     1         0        1           1   \n",
       "2        1         1  ...     0     4     0         0        1           1   \n",
       "\n",
       "   Class_Number  Number_Of_Animal_Species_In_Class  Class_Type  \\\n",
       "0             1                                 41      Mammal   \n",
       "1             1                                 41      Mammal   \n",
       "2             1                                 41      Mammal   \n",
       "\n",
       "                                        Animal_Names  \n",
       "0  aardvark, antelope, bear, boar, buffalo, calf,...  \n",
       "1  aardvark, antelope, bear, boar, buffalo, calf,...  \n",
       "2  aardvark, antelope, bear, boar, buffalo, calf,...  \n",
       "\n",
       "[3 rows x 22 columns]"
      ]
     },
<<<<<<< HEAD
     "execution_count": 25,
=======
     "execution_count": 22,
>>>>>>> 35938a6a6b446af0f21d96ce596375ac18ed081a
     "metadata": {},
     "output_type": "execute_result"
    }
   ],
   "source": [
    "df=pd.merge(datazoo,dataclass,how='right',left_on='class_type',right_on='Class_Number')\n",
    "df.head (3)\n",
    "# facciamo un join tra la tabella degli animali (datazoo) e la tabella delle classi e mostriamo una nuova e più completa tabella"
   ]
  },
  {
   "cell_type": "code",
<<<<<<< HEAD
   "execution_count": 26,
=======
   "execution_count": 23,
>>>>>>> 35938a6a6b446af0f21d96ce596375ac18ed081a
   "metadata": {},
   "outputs": [
    {
     "data": {
      "text/plain": [
       "(array([41., 20.,  5., 13.,  4.,  8., 10.]),\n",
       " array([1.        , 1.85714286, 2.71428571, 3.57142857, 4.42857143,\n",
       "        5.28571429, 6.14285714, 7.        ]),\n",
       " <a list of 7 Patch objects>)"
      ]
     },
<<<<<<< HEAD
     "execution_count": 26,
=======
     "execution_count": 23,
>>>>>>> 35938a6a6b446af0f21d96ce596375ac18ed081a
     "metadata": {},
     "output_type": "execute_result"
    },
    {
     "data": {
      "image/png": "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\n",
      "text/plain": [
       "<Figure size 432x288 with 1 Axes>"
      ]
     },
     "metadata": {
      "needs_background": "light"
     },
     "output_type": "display_data"
    }
   ],
   "source": [
    "plt.hist(df.class_type, bins=7)\n",
    "# facciamo un istogramma per visualizzare le sette classi "
   ]
  },
  {
   "cell_type": "code",
<<<<<<< HEAD
   "execution_count": 27,
=======
   "execution_count": 24,
>>>>>>> 35938a6a6b446af0f21d96ce596375ac18ed081a
   "metadata": {},
   "outputs": [],
   "source": [
    "import seaborn as sns\n",
    "sns.set(style=\"dark\") \n",
    "sns.set(style=\"dark\", color_codes=True)\n",
    "#importiamo seaborn per fare l'istogramma e scegliamo il background dark style per i plot"
   ]
  },
  {
   "cell_type": "code",
<<<<<<< HEAD
   "execution_count": 28,
=======
   "execution_count": 25,
>>>>>>> 35938a6a6b446af0f21d96ce596375ac18ed081a
   "metadata": {},
   "outputs": [
    {
     "data": {
      "text/plain": [
<<<<<<< HEAD
       "<seaborn.axisgrid.FacetGrid at 0x194a7119af0>"
      ]
     },
     "execution_count": 28,
=======
       "<seaborn.axisgrid.FacetGrid at 0x25adc436cd0>"
      ]
     },
     "execution_count": 25,
>>>>>>> 35938a6a6b446af0f21d96ce596375ac18ed081a
     "metadata": {},
     "output_type": "execute_result"
    },
    {
     "data": {
      "image/png": "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\n",
      "text/plain": [
       "<Figure size 720x360 with 1 Axes>"
      ]
     },
     "metadata": {},
     "output_type": "display_data"
    }
   ],
   "source": [
    "sns.catplot('Class_Type', data=df,kind=\"count\", aspect=2)\n",
    "# rappresentiamo graficamente l'appartenenza degli animali per ogni classe"
   ]
  },
  {
   "cell_type": "code",
<<<<<<< HEAD
   "execution_count": 35,
=======
   "execution_count": 26,
>>>>>>> 35938a6a6b446af0f21d96ce596375ac18ed081a
   "metadata": {},
   "outputs": [
    {
     "data": {
      "text/plain": [
<<<<<<< HEAD
       "<matplotlib.axes._subplots.AxesSubplot at 0x194ab1ea310>"
      ]
     },
     "execution_count": 35,
=======
       "<matplotlib.axes._subplots.AxesSubplot at 0x25adc5d5a90>"
      ]
     },
     "execution_count": 26,
>>>>>>> 35938a6a6b446af0f21d96ce596375ac18ed081a
     "metadata": {},
     "output_type": "execute_result"
    },
    {
     "data": {
<<<<<<< HEAD
      "image/png": "iVBORw0KGgoAAAANSUhEUgAAA1kAAALmCAYAAACw6l4nAAAABHNCSVQICAgIfAhkiAAAAAlwSFlzAAALEgAACxIB0t1+/AAAADh0RVh0U29mdHdhcmUAbWF0cGxvdGxpYiB2ZXJzaW9uMy4yLjIsIGh0dHA6Ly9tYXRwbG90bGliLm9yZy+WH4yJAAAgAElEQVR4nOzdd3QU1d/H8ffWbCohCaRQQxMQ6UV67yBSVESKKF0QKaEFQXrvSLfQLEgRRZqgiIhSlCJCQAhJgPTey+7O88dCwpKikNXI8/u+zskhO3t39pOZe2f3zr0zqBRFURBCCCGEEEIIYRPqog4ghBBCCCGEEP+fSCdLCCGEEEIIIWxIOllCCCGEEEIIYUPSyRJCCCGEEEIIG5JOlhBCCCGEEELYkHSyhBBCCCGEEMKGpJMlhBD/IpPJxEcffUSvXr3o0aMHXbp0YcmSJWRmZv5j73nmzBm6dev2l+XWrl3LsWPHAFi1ahVffvmlTd7/7t271KlTJ9fyNWvWMHv27Cdeb1JSEgMHDixMNCGEEOIfoS3qAEII8b/kvffeIyEhga1bt+Ls7ExqaioTJ07E39+fJUuWFGm2M2fOUKlSJQDGjh1bpFn+joSEBH7//feijiGEEELkIp0sIYT4l9y9e5evv/6aU6dO4eTkBICDgwOzZs3it99+AyyjM7NmzSIgIACVSkXz5s0ZP348Wq2WGjVq0LZtWwICAli6dCmvvvqq1WMHBwfmzZtHfHw8JpOJAQMG0KdPH6sMt2/fZvbs2aSkpBAVFUXVqlVZuXIlu3fv5sqVKyxevBiNRsPx48epXLkyb775JufPn2fx4sWkpaWh0+l45513aNGiBXv37uXbb79FrVYTHByMwWBg0aJFVKxY8bG3TVJSEvPmzePGjRtkZWXRuHFjJk2ahFarZffu3Xz++edkZWWRkJDA0KFD6devH1OnTiU9PZ0ePXqwd+9eateuzeDBgzl9+jSpqamMHj2aw4cPc+PGDUqWLMmGDRtwcHDId3179+7l8OHDmM1mQkND8fT0ZOHChXh6ehZ+5wshhPjfogghhPhXHD58WOndu3eBZSZNmqTMmTNHMZvNSkZGhvLGG28oGzduVBRFUapUqaLs27cvu+zDj7OyspQuXbooV65cURRFURITE5XOnTsrFy5cUH755Rela9euiqIoysKFC5Uvv/xSURRFyczMVLp166YcPnxYURRF6d+/v3Lo0CFFURRl8uTJypYtW5TY2FilcePGysWLFxVFUZQbN24oDRs2VEJCQpQ9e/Yo9erVU8LCwhRFUZTZs2crkyZNyvU33blzR6latarywgsvWP00adJEmTVrlqIoijJlyhRl27ZtiqIoitFoVCZOnKhs2rRJSU5OVl5++WUlNjZWURRFuXDhglK7du3s9T74/cH22Lp1q6IoirJx40alTp06Snh4uGIymZSePXsqX331VYHr27Nnj1K7dm0lMDBQURRFWbJkiTJmzJgC95cQQgiRFxnJEkKIf4larcZsNhdY5uTJk3z66aeoVCr0ej19+/Zl69atDBs2DID69etblX/wOCgoiJCQEKZNm5b9XHp6OlevXrUaWfLz8+Onn35i8+bNBAUFERkZSWpqar55Ll++TNmyZalVqxYAlStXpm7dupw9exaVSsWzzz6Ll5cXANWrV+fbb7/Ncz0Gg4H9+/dbLVuzZg1xcXEAnDhxgt9//53du3dnZwdwdHRkw4YN/PDDDwQFBREQEFBg3o4dOwJQtmxZqlSpkj0KVbp0aRISEv5yfU2bNsXX1xeAl19+mR49euT7XkIIIUR+pJMlhBD/kpo1axIYGEhycnL2dEGAiIgI3n33XVavXo3ZbEalUmU/ZzabMRqN2Y8dHBys1vngsclkwtnZ2aojEx0djbOzMxcvXsxeNn78eEwmE507d6ZVq1aEhYWhKEq+mU0mk1UeAEVRMBqN6HQ6DAZD9nKVSlXgugpiNptZtWpVdocwMTERlUpFeHg4r7zyCi+//DL16tWjU6dOfP/99/muR6fT5fn7A3+1Po1GY5Xp4cdCCCHE3yV3FxRCiH+Jp6cn3bt3Z9q0aSQnJwOQnJzMe++9h6urKwaDgWbNmrFjxw4URSEzM5Ndu3bRpEmTv1y3r6+v1WhRWFgY3bp148qVK1blTp06xVtvvUWXLl0AuHTpEiaTCbB0MB7u0AHUrl2bwMBALl++DMCff/7JuXPnaNiwYeE2xiOaNWvGxx9/nP13jxw5kh07dnDlyhXc3NwYNWoUzZo1y+4QmUwmtFotJpPpsTp2Ba0P4JdffiEiIgKAzz77jNatW9v07xRCCPG/QUayhBDiXzRz5kzWrVtH37590Wg0ZGZm0q5dO8aMGQPA9OnTmTt3Lt27dycrK4vmzZszYsSIv1yvXq9n3bp1zJs3jy1btmA0Ghk7diz16tXjzJkz2eXGjRvHW2+9hYODA05OTjRo0ICQkBAA2rRpw/Lly8nKysou7+bmxqpVq5gzZw7p6emoVCoWLFiAr68vFy5csNl28ff3Z968edl/d5MmTRgyZAhGo5Hdu3fTqVMnVCoVDRs2xM3NjeDgYMqVK0fNmjXp2rUrO3fu/Fvv07Rp03zXB5aOsJ+fH1FRUVSqVKlQt5gXQgjxv0ulPOncDiGEEOL/kb1793LkyBE2btxY1FGEEEI85WS6oBBCCCGEEELYkIxkCSGEEEIIIf7fSE5Opm/fvmzYsIHSpUtbPXft2jX8/f1JSUmhfv36zJo1C61WS2hoKH5+fsTExODr68vSpUtxdHR84gwykiWEEEIIIYT4f+HSpUu8+uqrBAUF5fm8n58fM2bM4MiRIyiKwq5duwCYNWsW/fr14/Dhw9SoUYN169YVKod0soQQQgghhBD/L+zatYuZM2dSsmTJXM/du3eP9PR0ateuDUCvXr04fPgwWVlZnDt3Lvv/WnywvDDk7oJCCCGEEEKI/7TExEQSExNzLXdxccHFxSX78bx58/JdR2RkJCVKlMh+XKJECSIiIoiLi8PJyQmtVmu1vDCkk5WHrOjAoo6Qp9H1Jxd1hAJ9Ff9HUUfIV9CpVUUdoUAfd9pa1BHydUqTWtQR8tUxy+GvCxWhniP+u5e8xh8KK+oIBSrWwrWoI+Tr2FbDXxcqItfs/tsTVEZ3jSnqCPm6eUBf1BEK5FU295fL/wqXlh5FHSFfL21PKeoIBToYcrCoI/wt/4Xvxls//Ya1a9fmWj569Ojs/wblr5jNZlQqVfZjRVFQqVTZ/z7s0cePSzpZQgghhBBCiP+0QYMG0bNnz1zLHx7F+iteXl5ERUVlP46OjqZkyZK4ubmRlJSEyWRCo9EQFRWV53TDxyGdLCGEEEIIIcR/2qPTAp9EqVKlsLOz49dff6VevXrs37+fFi1aoNPpqF+/PgcPHqR79+58+eWXtGjRolDv9d+eVyCEEEIIIYQoWmZT0f8UwtChQ/n9998BWLp0KQsWLKBTp06kpqYycOBAAGbOnMmuXbvo0qUL58+f55133inUe8pIlhBCCCGEEOL/le+++y77982bN2f/XrVqVXbv3p2rfKlSpdi+fbvN3l9GsoQQQgghhBDChmQkSwghhBBCCJE/xVzUCZ46MpIlhBBCCCGEEDYkI1lCCCGEEEKI/JllJOtxyUiWEEIIIYQQQtiQdLKEEEIIIYQQwoZkuqAQQgghhBAiX4rc+OKxyUiWEEIIIYQQQtiQjGQJIYQQQggh8ic3vnhs0sn6BymKgv/cZVSuWJ7B/fr8q+9do3Vdek7qh1av415AMNsmryc9OS3f8rU6NOCN5WMYW2MgAAZnBwYuGolXRR9UajW/7DnBkQ37bZavbYcWTJs5Dr1ez7U/bjB+zHSSk1JylevcrS0Tp47GbFaIj4tn4tszCQ66g8Fgx/yl71Kn7nOoVCp++/Uy0ybOIT09o1C5Tv56hVU7viLTaKRKuVLMGtUPJwd7qzLHz1xi3WffoFarcHFy5L2Rr1LGqwQmk5n5W3bx69WbADSrW50JA3uiUqkKlakgZdvUpuHUl9HodcRcC+GHiVvIymM/V+7VlFojuqAoYEzL4KcZ24m+fNvmeWq1qcfLk15Dp9dxJyCYzZPeL7De1evQkOErxjLs2dcAGLPeD89yXtnPlyhTkoAzV1kxZEGhs5VqW5vaU19GY6cj7moIv0zIe1s90HjlcOID7nBtw8HsZX2urCc1LDb78dV13xC073Shs2kq10bf5hXQaDFH3iHjq82QmXc2zTP1sHtxJKmLhlgWGByx6/oGas+yKFkZGC+exHjuaKEzPWDXpBHFRg4BnR7jrUDi5i1BSU3Ns2zxdyeTdes2yZ/sAkDl4oyr3zvoKldCSU8n9cBhUnbvs1k2AE3Veug7vYZKq8McFkz67vchI59tV70hhr5jSZnxWq7nDAMmYU6MJXP/Fpvme5hnu9pUn9YXtV5L4rU7XBi3CWMBdbDu6hEkXrvDzfXf/CN5KrapTatJluNHZEAIBydtITOPPM/2bEqjYV1Agaz0DL6duZ3w32+jUqvoMHsQZZ+vBsCt7y/y3bxPbZJNU6MBdj0Go9LqMN27TfqOlZBuXe90Lbuja94VUDBHhZGxcxVKcgI4OGF4dTSa0hVRMtLJ+uVbsk58Vag8Lm3q4TN5ICq9jrSAIEL81mB+ZFv9nTK+G6eQFRHL3RmbAHBq/Bylpg9GpdVgjEvi3qwtpF0LKlRWu8bP4zx8CCq9jqxbgSQsyN1m7Tu0w7FfX1AUlPR0EleuIev6jezn1SVL4LHxfaJeH4KSkFioPA/TPFMXfYd+oNFhDg8mY9/6/NtrtQbYvTSG1NkDs5dpG3VAW78tKq0ec2ggGXvXg8los3wN2jTg9cmvo9PruB1wm5V+K0nLo00MmT6EZl2bkRSfBMC9wHssfGshAF0HdKVj347oDXpu/n6TlZNWYsy0XUbx9HgqpgueOXOGAQMG/O3yPXr0+AfT/D23gkJ48+2pfHvi1L/+3k5uLgxaMoqNI5cys+1You9E0HNy7i8VD5Qs70WfaQPhoc5Aj/GvEB8ew+yOE1jwwhRa9O9AhbpVbJLP3b04K9+fx5AB79C8QVeCg+7gP3N8rnIGgx1rNy7izf5jad+8F98ePsHcRdMAGDthOFqthjZNX6RN0xcxGOwYM35ooXLFJiTx7todLPcbwtdrZlDa052VO6w/mNMzMpm6aisrJg3li2VTaVW/Bgs/2A3AgR/OEhQayZ7l0/hi2VR+/eMm3/58oVCZCmJwc6bV8qEcHbaKz1v6kRQSSaOpr+QqV6yCN438X+Vg/yXs6ejPb6v302HzWJvncXZzYdiS0awesYRJbcYQGRLBK1Pyb7ee5b151X/Qw9WONSOXML3LBKZ3mcAHU9aTmpjK1nc3FTqbnZszjVcM5eTQVXzV3I/kkEhqT8u9rQBcKvnQbtdUynVrYL28ojeZcckcbO+f/WOLDhYOzti9MIz0L1aSts4Pc1wk+rZ5Z1O5eaJv38+qreo79kfJTCdt/STSP5iJplItNJXrFD4XoHYtRnH/ScRMfY/IvoMw3gvFZVTudqYtVxaPNcswtG5htdx17CiUtDQi+w0mashbGBo3xND0eZtkA8DRBbuXRpO+fQmpS8dgjo3ArnPedU7l7o1d10F5Pqdr+SKa8tVslysPendn6q4cztk3V3K82URSgiOoPr1vnmWdKvvQdLc/Pt0a/mN57N2c6bpkKHtHrGJTGz/iQyJpPSV3vXOr4E2baa/y+aAlfNjFn9Nr9tNro+X4UaNXM9wqerOlwxQ+6DSNso2qUbVL4TOrnIphGDCetE1zSZk1FHN0OHYvDrYqoy5TCX273qQuHU/q3JEoUaHou98/SdhnOEpGOimzh5O6ZBza6vXR1HjyXFo3F8oufZvbwxdyrfUoMkPC8Zky8LHLlBzRE8eG1XP+BmcHfDdN4d78jwnoOJY7/uspv24SKv2Tn/9Wuxaj2LRJxE2fSVS/QZhCw3AeOcyqjKZMGZxHjSB2wiSiBw8leesOis+fnf28facOuK9dhaZEiSfOkScHF+x6jSL9k6WkrRyLOS4Cfce8v5uo3L3Qdx4I5BzrNNUbonu+M+kfziFt9XjQ6tE17WazeC5uLoxbOo55w+cxrPUwwkPCGTxlcJ5lq9WrxqLRixjTeQxjOo/J7mA16dSE7q93Z1q/aYxsNxI7gx09h/S0WUbxdHkqOlmPa/9+2424PKnP9hygd/eOdGjd/F9/7+rNaxJ8+RaRQeEA/LDjKI165J1DZ9Dzxsq3+WLuVqvln8/6iN3ztgFQrGRxdHodaYl5n71+XC3bNOXib1e4HRgMwNYPP6PXS7kPlGqNBpVKhYuLEwCOjg5kZFhGqn45fZ6VSzagKApms5krl69RuoxPoXL9fCmAGpXKUc6nJAAvd2zOwR/PoShKdhmzWQFFITnVcmYrNT0Dvc7ygWgym0nLyCDTaCQry0iW0YRepytUpoKUbvkckZduk3g7AoA/th2nUs8mucqZMrM46beF1Mh4AKIu3cahhCtqncameZ5rUZvAyzeJCAoD4PiOwzTJp97pDXpGrhzLzjkf5/m8Rqdl+PIx7Jj9IbFhMYXO5t3yOWIu3ibp/ra6sfU4vr1ybyuAZwa34+anJwj++qzVco/6lVHMZjrse5eux+bz3LgXUakLP0qpqfAcptBAlFhLNuP5Y2ifa5q7oFaPXc9RZB7daf16b1+Ml0+BooDZhOnPi2iq2ebLuV3D+mRdu47p7j0AUvZ+hUPHtrnKOfZ5kZSvvyHtux+sluueqULqoW8t00yMRtJP/5KrI1YY2sq1Md+5iRJjqXNZvxxGWyePOqfTY+g7lowDH+d6SlPhWTRV6pB1xnajf3kp2bImcRcDSbltOS4HbT1GmV557GegwuAOBO/8ntCvz/xjeSq0eI6wy7eJC7LUuws7jlO9R97Hj4OTt5By//gRdvk2TvePHyqNGr29HRq9Do1ei1qnwZiRVehsmmp1MQffQIkKBSDr5AF0DVpblTHfuUnKzDcto1taHapi7igplhEXddlKGM8cB8UMJiPGK2fR1Wn2xHmcW9Qh9dJNMu4f26K3H8btxZaPVcbp+Rq4tKxLzI7D2cvsfH0wJaaQ/NNlADJu3cOUnIpj3apPnFXfoIFVm03dtx/79o+02axMEhYtxRxjGZXPCriO2s0NtFrU7u4YmjcldsKkJ86QH03lmpju3UKJsbQB45mjaGvl3V7tXnqbzIPW30u0dVqS9dPXkJYMikLG/s0YL560Wb66Lepy49INQoMs9e6b7d/Q+sXWucpp9VoqPluRPiP6sO7oOvw3+FPCx9Ihbdu7Lfs27yM5IRlFUVgzbQ3f7fnOZhmLlGIu+p+nzFMzXTA2NpahQ4cSEhKCr68vq1ev5v333+fnn38mISGBkiVLsmLFCjw8PHjmmWe4fv06a9as4eLFi4SFhdG/f3/69ev3r+X1nzAKgNNnf/vX3vOB4j4exIZFZz+OC4vB3sUBg5N9rqlb/ecP5+TOb7kXEJxrPWaTmTdWjKFul+e5cOQs4YGhNsnnU8qL0Hvh2Y/D7kXgUswZJ2dHqymDqSmpTB4/i6+OfkJcbDwajZoXOvYH4Ifvc0YQSpfxYejIgfi9M7NQucKj4/DycM1+7OnuSnJqOilp6dlTBh3s7Zg+vC8Dpi3H1dkBk1lh2zzLKFyP1s9z9OcLtBvqj8lkpnGtqrRq8FyhMhXEycedlNCcDkhKWCx2Lg7onOytpsEl340m+W5OfWgy8zWCv/0Nc5bJpnncvN2JCc15n9iwGBxcHPOsd4MXjOC7T45yJyAoz3W1eqUtcRGx/HrENl8yHUtZb6vUsFj0eWwrgHP+lpML3i2s951aoybsxz+4MO9z1DoNrbdPJCspjYAtRwqVTV3MHSUhZwqikhiLyuAAenurKYN23d7E+Ot3mCNCrF5vuncLbc1mZN65ARot2moNUMy22bcaz5KYIiNz3isqCrWTEyoHB6vpRwnLVlsyNqxv9frMq9dw6NyezMtXUOl12LdqgWK03bQZlas7SkJOnVMSYlAZHMHO3moKkl2vEWSdOYo5PMj69c7F0Xd/k/QP56Br1MFmufJi7+NG2r2cOpgWGovOxQGtk32uKYOXp30MQMlW/9zxw9nbncSH2kRiWCwGFwf0TvZWUwYT7kaT8NDxo+27r/HnMcvx4/cvTlKtSyNGn12DWqPm9o+/c/N44Ufv1cU9MMdFZT9W4qNR2TuCwcF6yqDZhLZWY+xeGwvGLDIObAfAFHQdbaO2mG5dBZ0ObZ2mYHryNqH38SDroc/UzLBoNC6OqJ3ss6cDFlRG7WhP6feGcHPgLDxe65hdJiPwHmoHA87Na5P040UcalbCvkpZdCWLP3FWjWeJv2yzpvAITOER2WVcxowi/dRpMBoxx8QQ51+4z9L8qIt5WLfXxBjLse7R9tpjOMZz32IOt/5eovbwwXz3JnaD/FG7FMcUdI3Mwztslq+ETwmiH9qH0WHROLo4Yu9kbzVl0N3TnUunL7FtyTaCbwTTe3hvZmyZwZguYyhVoRTFLhZj9rbZuHu688fZP/hg/gc2yyieLk/NSFZoaCgzZszg0KFDREdH8+mnnxIYGMhnn33GkSNH8Pb25quvcs+5zszM5ODBg/9qB6uoqVUqUHIvN5uszwK07N8Bs8nE6S++z3ddH45bw4Q6b+Lo6kS3sba5rkytVluNDj1geiRf1eqVGTdpFC0bdadOtVasWraJLdtXWpWpWas6Xx7czkebP+HYEeuz6I/LrCg8PDXh4bwP3Ai+x8YvDvHlKn+Ob5nP0N4dGb9kC4qisGHXQdxcnDjxwQK+3TSXxORUtn51vFCZCqJSqfLcjoop77M9Wns72m0Yg0t5T37ws/11Jyq12jKa8hd52g7ohNlo5uSu/M/udXyzO/vX7LZhOFWe2R5tEwW5+ckJzk/fhiktg6zEVK5tPESZzvX/8nV/K1teDfahs3ba+u1QzCaMF3PX8cyjO0FRsB82D8Mr4zEFXrHdNQpqVV6b7W9fAJ2wej0oCiW3bsJt0RzSz523aScLVd517uF82uc7gdmM8fwj9U2twdBvPJkHPkRJirNdpnyo1Hl/3CpFdDG5Sp13m8jv+KGzt+PFdWMoXs6Tg5Mtx49m7/QiNTaR1fVG8f7zb2Pv6kTDoZ1tES7PJkEeJw+Ml34mZVJfMr/ZicOYuaBSkbFnMygKDtPWYj98BqaAC4VrE/kca3l4W+VXRqWi/JoJ3J39AcZI63pmTk7j9tD5eI7uQ9XDK3Hr3Zqk05cxZxUm61+3ieyiBgOuc2aiKV2KhEVLnvw9/3a2vL+bWLXXRh0sx7pf8/heotagqVSTjM+Wk7ZuCip7J/TtX7VhvLz34aOfExF3Ipj5+kyCb1g6gXs27sG7nDeeZTzRaDXUaV6HBaMWMLbbWJxcnRg0Ke9pyk8ds6nof54yT81IVtWqVSlTpgwAFStWxMXFhcmTJ/PFF19w+/ZtLl68SNmyZXO9rmbNmv921CLRfdwr1Gpv+cJncLLn3vWcs92uXm6kxCeTmWZ9U4jGfVqjt9cz/eASNDoteoPl9zWvz6dU1bLcCwghITKOjNR0zn31E3U7NXrifH7TRtOhcxsAnJ0duXb1z+znvH08iYtLIC3V+mxuqzbNOHfmN4KD7gDw0eZPmDV/Mm5ursTGxtOjV2cWLJuBv99c9u0u/IXh3h7F+f3PoOzHkTEJuDg54GCwy152+uI1aletQBkvy9SAvp1asOTjPcQnpXDszCWmvvkSOp0WnU7LC60a8e0vFxj0Qu7pVU+q/sTelGtfFwC9kz2xAXeyn3P0Kk56fDLGtNw3/3DycafTx+OJ+zOUr1+ehym98FN6AHqN70vddpZrl+yd7bkTkFPvinu5kxyfRMYjeZr3aY2dvR1zDy5Dq7fUu7kHl7H09bnER8ZR7llfNFo1Ab/8UahsNf16U7qDZVvpnOyJf2hbOXgVJyMuGVMe2yo/vr2bEnc1hPhrlvWoVGA2Fv6gb06IQVuqUvZjlYsbSloyZOVk09ZqgUqnxzBsPiqNFrSW3zM+WQxqDZnHPoV0yyiwrtkL2VMPC8sUHom+es61SpoSJTAnJqKkp/+t16sdHUl4fxNKouXicKdB/bKnMdmCEh+Fqkzl7McqF3eU1CSrbaer3xp0dtiPXWbZdjo99mOXkfHlZss1bt0s11yonF1RqdSotHoy9qyzSb6qk/rgfb8Oap0dSLyW0z4M3m5kxiVjSi3czXoeR/Pxvanc7v7xw9meqIfahLNXcdLik8nKo024+LjT54PxxNwM5ZO+87KnBD7TqT5HZ27DnGUiIyuN33f/SNUuDTm7+VChcprjItGWfyb7scrVAyUlCTJzsqlKeKN2ccN0y3KcyDp9FLtXR4ODEyq9gYx9H0BqsuVv7fgK5sgnn4mRGRqFQ52ca5J1Xu4Y45MwP7St8itjqFwGu7JelHr3DcvyEsVBo0Zlp+fOlPcxp6Rz85Xp2a+rdmIdmfenHD4Jc0SEdZv1yLvNqj1L4rZoPsagYGLGjIPMzCd+z7+dLT4arVV7dUNJfeRYV7e15Vg3ekl2ezWMXkLG1vkoSXEY/ziTPeplvPQjutaFO/nbf3x/GrW3fLdxcHYg6KHZFR5eHiTl8RlWvmp5KlSvwHd7HzpxowJjlpHYiFhOHz6dPfL1/b7v6Tf2f+ckv7D21HSytNqcqCqViri4ON58801ef/11OnbsmO/oiMFg+DdjFpmvV3zO1ys+B8DZ3YUZh5dRsrwXkUHhtHitA5e+PZfrNQtfnJr9u3vpEsw4spy5XfwAeGFCX+p0asTOaZvQ6rXU69qYa6cuP3G+JfPXsmT+Wst7ebjx/ekv8a1QjtuBwQwc/ApHDuYe1fj98lXeGNYPjxLuREfF0LlbW0KC7xEbG0/7Tq2Yu2gar/YcwqWLhfsy/kDj2tVYunUfwaGRlPMpyRdHf6T1I9P9qlUow2eHThITn4i7qwvfnb1EqZLuFHdxolqFMhw5/RsNn6tCltHEifO/U7OKr02yPXB+6R7OL90DgMHdhZeOLcDF15PE2xFUH9CW4CO5p6fqHIauiX4AACAASURBVA10/8KfG7t/5NcVtr2z297ln7F3+WcAuLgXY/6RFXiW9yYiKIy2r3Xgt6O56917PSZn/+5RugQLjq5kepcJ2cuqNnqWq6evFDrb5SV7uLzEsq3s3F3o9t0CnH09SbodQeWBbbl79PGm8rpWLU3Zrg04OWQVar2WZwZ34Pbenwqd03Trd+zav4bKzRMlNgJtvbYYr/9qVSb9gxnZv6uKeWA/chHpmyw3gdG1eRmV3p7Mw1vB0QVtndZk7FlT6FwAGWfPU+ztEWhKl8J09x6OPbuTdvLv3+zDsWd3VI6OJCxbjbp4cRy7dyH23Tk2yQZgunEJfdfXUbl7o8SEoXu+A8ar1nUubW1OfVMVL4HDuJWkrbLUt9QFOTcE0Ld7BRydbXp3wYDFuwlYbBmR1Xu40Ob7RTj6epFyOxzfgW0JO/LrX6zBtn5cvocfl1vahIO7C0OOLKB4eU/igiKo81pb/syjTegdDfT73J8ru3/k1Crr40f4lSCqdW1EyM/XUGs1VG5fl3sXbhY6p+nqb9j1GoqqhA9KVCi65l0wXv7ZqozaxQ3DG1NInf8WSkoi2oatMYcGQ0oSura9UBkcyNi1HpWzK7qmHUn7YOET50k6eZFS09/Arrw3GUFhePTvRMLRs3+rTOpv1/nj+Tezy3mN64u2uEv23QUrbJ1B4JD5pF2+iWv3ZigZWYW6u2DG2fM4jx6Z3WYdXuxO+o/WxymVvT3ua1aQdugIyR9te+L3elymm5ew6zIQlbsXSkw42oYdMF6zbq/p63O+l6hcS2D/9nLS11q+lxiv/Iz2uSaWUWljJppqDTDfu1WoTDuW72DHcsuUw2LuxVh3dB0+5X0IDQqlS/8u/HL0l1yvUcwKw2cN549zfxBxJ4KuA7oSFBBETHgMpw6eonm35hz59AiZGZk07tiYG5du5FqH+N/w1HSyHqVSqWjYsCGvvvoqcXFxnDhxgg4d/tk59U+LpJhEtvqtY9j6CWh1WqKCI/hovKWDU+65CgxYNDK7M5Wf3fO28tq8Ycw4sgyAi0fO8t2HBwt8zd8VEx3LO29NZ/O2Feh1OoJu3+HtEZYDa63az7J0zRzaN+/FTyfPsG71h+w98DGZWVnExyXwer/RAMyY44dKpWLpmpwvbOd++Y1pfnOfOJd7MWfmvNWfCUs/IMtopIyXB/PGDOSPm8G8t/4Tvlg2lUbPPcPrPdryxoxV6LRaijk5sGrycAAmDe7F/M1f8MKYOWjUKhrVfIbBPdoVYksVLD0mkRMTNtFh49uodVoSgyP5/p0NAHjU9KXlkiHs6ejPs6+3x6m0B+U71ad8p5zpbQdeWUBGfLLN8iTGJLDZby1vr/dDo9cSGRzOxnGWa3V8n6vIm4tGWXWm8uPl60303ci/LPc4MmIS+XncJlpsehu1XktSUCSnx1q2lVtNX55fNoSD7f0LXMfl5ftoMG8QXb9biFqrIeTAWW5+cqLw4VITyfhqI3Z9xqLSaDHHRZLx5XrU3r7ouw/N7kzlJ+vUV9i9OBL7EQsBFZkndmMODSx8LsAcF0/c3CW4z38PdFpM90KJnb0QXdUquE6dSNSgYQW+PmnbJxSfMZWSOz4AlYrEzR+Tde26TbIBKCkJZHyxFkN/P1RaLeaYcNI/X426VEXs+ozK7kz9F2RGJ3LhnY003DIWtU5LSnAEv45ZD4BrLV/qLBvK9+0K3te2lBqTyDd+m+i5/m00ei3xwZF8Pc7SJrye86XLoiF82MWfeoPaU6yUB1U61qdKx5zjx6f9FnB89k46zB7EsOOLMZvNBP/0B79sOFDobEpyAunbV2A/1B+0WpSoMNK2LkVdtjKG18aSumA0plt/kHn4M+zHLQKTCSUhlrSNljvkZR7ZheH1iThMXw+oyDiwHXPwk3/RNcYkEDJxNb4bJqPSackICSf4nZXY16xE2UVvcb3zuHzL/JXgMcsou/AtVHotxsg4AofOf+KcAOb4eBLmL6b43FmotFqM90KJn7sA3TNVKDbFj+jBQ3Ho3RONpyeGFs0xtMi58UTM2Akoiba7XXsuKYlk7FmH3asTLMe62Agydq9FXaoC+p4jsztT+TGeOYrKwQn7txaBSm25hfv+wt999oGEmARWTFzBtA3T0Oq0hIeEs/SdpQBUrlmZtxe9zZjOYwi+EcyGGRuY+eFM1Go1MeExLBq9CIBvtn2Ds6szqw+uRq1Wc/PKTTbP2WyzjEXqKbzxRFFTKXlOIv5vOXPmDGvXrmX7dstFrVOmTKFcuXJ89913pN8fAq9WrRpms5mlS5da3fgCYMyYMY/1flnRtvmCYmuj60/+60JF6Kt424wo/ROCTq0q6ggF+rjT1r8uVEROaWxzV8l/Qscsh6KOUKCeI/67h9f4Q08+JenfUKyF618XKiLHtv53Z0hcs/tvX2o9umvh7xb6T7l5QF/UEQrkVfYf7AAVkktLj6KOkK+Xtuf+Pzj/Sw6G2OYE9j8tM+h8UUdAX94G10H/i56KkaxGjRrRqFHO9UALF1qG/UeOHJln+evXLWdKH7dzJYQQQgghhBCF9VR0soQQQgghhBBFpIjuhPo0+2/PKxBCCCGEEEKIp4yMZAkhhBBCCCHypciNLx6bjGQJIYQQQgghhA1JJ0sIIYQQQgghbEimCwohhBBCCCHyJze+eGwykiWEEEIIIYQQNiQjWUIIIYQQQoj8yY0vHpuMZAkhhBBCCCGEDUknSwghhBBCCCFsSKYLCiGEEEIIIfJnNhV1gqeOjGQJIYQQQgghhA3JSJYQQgghhBAif3Lji8cmI1lCCCGEEEIIYUMqRVGUog7xXzO8/EtFHSFPa88vKuoIBcqY/05RR8jXpL2Goo5QoGULqhV1hHz9+M71oo6Qr1TVf/s80UptZFFHyNfnlbOKOkKBNPqiTpC/I7+XKeoI+YrTFHWCgv2Xp8+8XP9OUUcoUOC54kUdIV+3TI5FHSFf8RpVUUco0PC7O4o6wt+Sce37oo6AXbXWRR3hsfyXj3dCCCGEEEKIomaW6YKP6799GlgIIYQQQgghnjIykiWEEEIIIYTIn9z44rHJSJYQQgghhBBC2JB0soQQQgghhBDChmS6oBBCCCGEECJ/cuOLxyYjWUIIIYQQQghhQzKSJYQQQgghhMiXopiKOsJTR0ayhBBCCCGEEMKGpJMlhBBCCCGEEDYk0wWFEEIIIYQQ+ZP/J+uxyUiWEEIIIYQQQtiQdLKEEEIIIYQQwoZkuqAQQgghhBAif/L/ZD026WQVQo3Wdek5qR9avY57AcFsm7ye9OS0fMvX6tCAN5aPYWyNgQAYnB0YuGgkXhV9UKnV/LLnBEc27P+34qMoCv5zl1G5YnkG9+vzr72vplp99F0HotJqMYcGk/75asjIe7tpajTC0G8cKdP6Whbo9Nj1GoG6bGVQqTAH3yBj7wbIyrRZvhqt69Djof26Y/KGv9yvg5aPZnyNQVbLi3u747dvHvM6+5ESl2STbCdvhLLm2CUyTWYqe7ry3gsNcTLorMr8GRHPwoO/kpyRhUalYnr3BlT3cQPg87N/su+3QDKMJqp5F+e9Hg3RazWFyuTRrg6V/fui1utIuhrCH+M2YspjexVUrtXVTaSHxWaXDVr3NeF7fqJ40+o8894AVFo1WXHJBEzfSvLVkELlfcCzXW2qT+uLWq8l8dodLozbhLGA/Vx39QgSr93h5vpvbPL+j3q+TSOGTn0TnV5H4LVAFk9cRmpyaq5yvlV9GTtnNI7OjphNJpZNWcmN3//Mfr6EdwnWfb2GIe2HkRCXWOhc+uefx2nIMFQ6HcbAQBKXLEJJtc5laNceh759QVFQ0jNIWrMa443rqBwdcfGbhLZsWVCpSTtymNTPPi10pofpGj6P4+BhoNNhuh1I8orc+ezatMf+pfv5MjJIWbca45/XAXDbtR9zdFR22bQvPiPj+2M2y+fTtja1p76Mxk5H3NUQfpmwpcB61njlcOID7nBtw8HsZb2vrCf1ofZxbd03BO07Xehs5drUpvGUl9HodcRcC+G43xay8shWpWdT6o7ogqKAMS2DH2duJ/LybTQGHS3nvo5n7QqAioiLt/hh+seY0rMKnQ2gbJvaNHoo34l88lXu2ZRaI7rA/Xw/zdxO1OXb2c87ervR66v3+KLDNNLjkgudS1fveez7W9qEKTiQ5LWLIM26zulbtsfQoy9gqXOpW1ZjunUdlZMzDsPHo/WthJKeTsZ3h8g4uLdQeYq1qUepqQNQ63WkXgsiaOJazI9sp/zKaJwdKLd0NPYVS4FaTczu7whftw8Ah1qVKPvem6gdDKBRE75uL7F7fyhUVgDvtrWpOe0V1HotCdfucHb85gLbRMNVw0m4dofrD7WJB5p+8A5p4XH85r+10LnyUrZNbRpOzamDP0zMpw72stTBB23kpxnbiX6oDor/TTafLjh16lTatm3LgQMHHut1q1ev5vz58wAMGDCAM2fO2DqaTTm5uTBoySg2jlzKzLZjib4TQc/Jr+VbvmR5L/pMGwgqVfayHuNfIT48htkdJ7DghSm06N+BCnWr/BvxuRUUwptvT+XbE6f+lffL5uiCXd+3Sf94AakLR2GODceu26A8i6o8vLF74Q2rbaZv9xKo1aQtfZu0JW+DTo++re06iE5uzgxYMopNI5cxq+07RN+J5MXJ/fItX6K8Fz2nDbDKCNCoVwvG7ZqFq5ebzbLFpqQz88szLH2lGfvHdKV0cUdWHbtkVSYt08jI7Sd4vWk1Ph/RiaEtn2Xanp8BOH71Dp+d/ZONA1uxZ1RnMowmdvx8vVCZdO7O1Fg1gktvrOCnpuNJC46kyvRXH6ucQ0VvsuJT+KXtlOyf8D0/oXW2p/aH47kxeyc/t57M1UkfUGvzO6j0hT83pHd3pu7K4Zx9cyXHm00kJTiC6tP75lnWqbIPTXf749OtYaHfNz/F3IoxeflEZgybxcCWgwkNCWPY1CG5ytkZ7Fi6cyGfrv+coZ1GsG3VTqavmZr9fIfe7Vm9ZzklvDxskktVrBjFJk0hYea7xAwagCksFKdhw63KaMqUwWnESOIn+RE7dAgpO7bhOnsOAE5vvIkpKoqYNwYTM3I4Dj16oKv+rE2yPcjnPGEKiXPeJX7IAEzhoTi88Ui+0mVwHDKSBH8/4kcNIfWTbTjPmJP9nJKURPyoIdk/tuxg2bk503jFUH4cuoqvm/uRHBJJnWmv5FnWpZIPbXdNpWy3BlbLnSt6kxmXzKH2/tk/tuhgGdycabtsKIeGrWJnKz8SQiJpMjV3NtcK3jT1f5WvBizh807+nF+9n86bxgJQf0wP1Bo1n7afxmcdpqI16Kn31guFzvYgX+tlQzk6bBWftfIjMSSS5/PIV6yCN8/7v8rBAUvY3cmf31bvp8P9fABVejejx+7pONroWKxyKYbjmCkkL36XhNH369wA6zqn9imDw8CRJM3xI3H8ENK/2IbTZEudc3hjNKSnkfD2IBKnjERXtxG6+o2fOI/WzYXyy8dwa9girrR8i4yQCEpPHfi3y/j49SMrLIY/2o3lWteJlBjQGce6zwBQcdNk7i37lKsdx/HngNmUmTEYO1/vJ84KYOfuTMOVw/hpyEoONfcjOTiSWv55twnnyj60+mIaZfI59lYd1Q2PRs8UKk9BDG7OtFpuqYOft/QjKSSSRvnUwUb+r3Kw/xL2dLxfBzePzWONTznFXPQ/Txmbd7L27dvHoUOH6Nat22O97ty5c5hMT89/dFa9eU2CL98iMigcgB92HKVRj+Z5ltUZ9Lyx8m2+mGt9puXzWR+xe942AIqVLI5OryMtMfeZ63/CZ3sO0Lt7Rzq0zjvzP0X7TB3Md/5EiQ4DIOunQ2jrtsxdUKfH8Np4MvZ/YLXYdOsPMo/tAkUBxYz5XiCq4iVtlq9a81oEX75F1P39enLHURoUsF9fXzmGPY/s12Ili1OrQwPWDpxns1wAP98K59lSbpRzdwbgpfqVOPR7MIqiWJUpXdyJ5lV8AGj1TCkWv9QUgK8vBTGg8TMUc7BDrVbh360+XWuVL1Qm91Y1Sbhwi9Tblu11Z+u3ePVu9ljlXBtUQTGZabD/PRp/v4gK43uBWoVDBW+MiWnE/ngFgNSboRiT0nCtX/gTESVb1iTuYiAp9/MEbT1GmV5N8yxbYXAHgnd+T+jX/9yJnwYt6xFw6Qb3bt8D4KttX9OuZ9s8y4UGh3Hmu7MA/HT0NO+NtHx5c/d0p1mnJvi9NsVmuewaNCDregCme5Zcqfv3Y2jbzqqMkplF4tLFmGMtIy1Z16+jdnMDrZakNatJXr8eAI2bO+j0mFMKP5LwgL5uA4zXAzCHWvKlH9iPXZtH8mVlkbRyMcr9fMYb11EXt+TTVq+BYjZTbNkaXNd/iP1rg0Btu49F75bPEXPxNkm3IwD4c+txyvdqkmfZKoPbcevTEwR/fdZqeYn6lVHMZtrve5cux+ZTY9yLqNSqPNfxOMq2eI7IS7dJCLJku7L9OFVezJ3NlJnFd5O2kBoZD0Dk5ds4lHBFrdMQeiaA86v3W0YIzQpRV4JwKWWbDn6ZR/Jd3X6cSnnkM2dm8UM++Rw8XSnfsR7f9F9sk0wAutoNMP4ZgDnMUucyDu9H38K6zpGVRcq6xShx9+vcreuoXS11TlOxChknjlqmXhmNZP36M/rGeXwG/k0uLWuTcukmGbctn6lR2w7j1rPF3y5zZ8YW7sz5yPK3eRZHpddiSkpBZacjbMXnJJ26bPmTwmIwxiSi93Z/4qwAXi2fI/ZiIMn328TNrccom8+xt/Lr7Qn85AR3HmkTACUaV8OrdU1ubTteqDwFKd3SUgcT72f9Y9txKvXMu42c9Mupg1GXcuqg+N9m0+mCI0aMQFEUXnrpJQYPHszWrVsxm808++yzzJw5Ezs7O3bs2MH+/ftJS0tDp9OxbNkyLl++zJUrV5g+fTpr164FYPfu3SxcuJDExET8/f1p06YN0dHRzJgxg/DwcFQqFRMmTKBJkyasWbOGixcvEhYWRv/+/cnIyGDfvn2o1Wpq1qzJ7NmzbflnAlDcx4PYsOjsx3FhMdi7OGBwss81taz//OGc3Pkt9wKCc63HbDLzxoox1O3yPBeOnCU8MNTmWfPiP2EUAKfP/vavvN8DKlcPlPic7aYkRKOydwQ7e6spg3YvvUXWz0cwhwZZvd5042LOuoqXQNeiOxlfvG+zfMV93IkLi8l+HF/Afu03fxindh7jXoD19LWEyDg2jVhms0wPRCSk4uXikP3Y08WB5IwsUjKM2VMGg2OS8HAy8N7+M9wIj8fZoOed9rUACIlJIjYlnVHbTxCVlEadciUY1752oTIZfNxJD83ZXhmhMehcHNA42VtNGSyonEqrIfbH3/lz7qeotBrq7JyMMTmNe5+cQONgh3vLmsT8cBmX2hVweqY0dp6uhcoMYO/jRtq9nDxpobHoXBzQOtnnmrZyedrHAJRs9Vyh3zc/JX1KEhUamf04KiwKJxdHHJwcrKYMlq5QmtioWPyWTqBStQokJ6awYd4mAGIiYpgxdJZNc6lLlMQUmZPLHBWF2skJlYND9pQ8c0Q4mRHh2WWcR71FxumfwGi8/yITLtP8MbRsScaPpzDduWPbfNGP5HPMnc/8UD7H4W+R+cv9fBoNWRd+JeWDjai0WlzmLERJTSF9326b5HMo5U7qQ/U+NSwWfT717Ly/5YSbVwvreqbSqAn/8Q8uzPsctU5D6+0TyUpK4/qWI4XK5uTjTvJD2ZLDYrFzcUDnZG81HSrpbjRJd3OO2c1mvMbtb3/DnGXizskr2cudS7lTe0gnvp9sfWLsSTk+Yb4mM14j6H6+1Ih4jg5bZZM8D6g9SmKOeajOxVjqHPYO2VMGzVHhmKNy6pzD4LfIOmepc6Yb17Br1QFjwO+WmRiNW+a0lSeg9/EgMzTn788Mi0br4ojayT57yuBfljGZ8V39DsW7NCHu8C+k3woFs5noz3JGdT1e64DayZ7k3248cVYAex93UkNzpr6mFdAmHkwB9Gpp3SYMnq7UnTOAH/otpuKANoXKUxAnH3dSHqqDKfnUweS70SQ/XAdnvkbw/Too/rfZdCRrw4YNACxdupRdu3bx2WefsX//ftzd3fnggw9ITk7m2LFjbN++nQMHDtCqVSt27tzJiy++SI0aNZg7dy7PPGMZ+nV2dmbfvn1Mnz6d99+3fImeN28evXv3Zu/evaxfv54ZM2aQnGw5K5qZmcnBgwd55ZVX2LhxI3v27GHv3r1kZWURERFhyz8TALVKBUru5WaT9XBmy/4dMJtMnP7i+3zX9eG4NUyo8yaOrk50G/vvXRtVJFTqPLfbw8PA2iadwWzCeDb/aTvq0hWxH72QrFMHMV09b7t4KrXVyNADj+7XFvf3688F7FdbMysKKlXuM9iah85qG81mTv0ZRu96lfhkeEf6NqrM6J0nyTSayDKb+SUwgsUvNeWTYR1ITMtkzfHLhcqkUuezPx+5QLagcvd2fEfAtI8xpWZgTEwleMM3lOzcAFNyGhdfX4rv2Bdp/N0ifF5uQexPf2DOfPIvJFZ58qAU0YW9KpWKPKpdrnqn1Wpp1KYhB3Z+w/Cub7H3oy9ZtG0+Or0u94ttIZ/9lud2MhgoNnMWmlKlSFyyxOqpxPnziOrRA5WLM44D854ebNN8pjzy2Rlw9p+FxqcUySss+TIOHSBl3SrISEdJSSZt7y7smthudN+yX3MHzDNfPm59coLz07dhSssgKzGVaxsPUaZz/cJnU6tQ8th4+WXT2tvRaf0YipX35LtJW6yeK/FceXrteZfLH39L0PGLeb7+SfLltXMLytf+fr4fHslnU/l9huXVJuwMOPnNQuNVipT3LXUu9aN1KIqCy/ItOE+ZS9bF8yiF6GRZ8uQR6OHt9DfK3H57JRdrDkTr6ozPuJetinm91Quf8X25+fo8lPTCXf+sUqvyzPJ324RKq6Hx+tFcmLmD9PsjR/+Ux22/Wns72m0Yg0t5T37w+wfrYFExm4r+5ynzj9z44syZMwQHB/Pyy5aGmpWVRfXq1XFycmLZsmV88803BAUF8eOPP1KtWrU819GunWX4vVKlSsTFxQFw+vRpAgMDWb16NQBGo5E798+K1qxZEwCNRkOdOnXo06cPbdu2ZfDgwXh6etrk7+o+7hVqtbd8uBmc7Ll3PWcEw9XLjZT4ZDLTMqxe07hPa/T2eqYfXIJGp0VvsPy+5vX5lKpalnsBISRExpGRms65r36ibqdGNsn6X6XER6EqlzPdS1XMHSU1CTJztpuuYVvQ2WE/YSUqjRZ0euwnrCR982yUxFi0tZtj12cEGXs3YvztZKEzdRv3Ms/d36/2f3O/Pt+nFXp7PVMPLkZ7f79OPbiYda8vICEyrtCZ8uJdzJEr93LOAEYmpeFi0GP/0DVKJZzt8S3hwnOlLVM6WlctzeyvznE3LpmSzva0rVY6e9SrS83ybPrhCo+r4qSXKNGxHgBaZ3uSr+WMTNh5u5EVl4wp1Xp7pd+NpljdSnmW8+7TnKSrwdk3tFCpVChGE6hUGFPSOd8rZyS66ekV2VMOH1fVSX3w7lD3fm4HEq/l7GeDtxuZeeT+Jw2eOIim7S3XYjg4ORIYkHORtIeXB4nxiaSnpVu9JjoihuA/Q7h2IQCwTBf0WzIe77LehNy0zQ1BHmaOiED30DFaXcIDc2IipFvnUpcsiev8BZiCg4kb9w5kWr6I6Rs0wBgYiDkmBiU9jfTjxzG0ePKpUbnyRUagrfpQPg8PzEmJkPFIvhIlcZm9AFNIMAmTcvLZte2AMfAmptuB90uqUEyF68TX9OtNqfv1TOdkT3xATvtw8CpORlwyprS/X898ezcl7moI8Q/amQrMxif7stFwQm9821uy6Z3sibmek83Jqzjp8ckY88jm5ONOt4/GE3szlH2vzLO6sUXlF56n5bzXOfnuVm58+fMT5Xqg/oTelM8nn+Nf5Ov00Xjib4by1SP5bM0cHYG2ykN1zj2fOudREqdpCzDdDSZxRk6dUzk4kLZtA0qy5WZIht79MYfdfeI8maFRONapnP1Y7+WOMT4J80PbqaAyLi1rkxYQTFZEHObUdGL3/0jxLpbjkkqvpfzyt7GvUoaAHlPIvJszgvc4avj1xqeD5TND52xPwkOfGfbebo/VJtxq+eJUtiS13+sPgKFkMVQaNRo7HecmFr5jU39ib8o9VAdjAx6jDn48nrg/Q/n65X+2Doqnxz/SyTKZTHTu3Jnp06cDkJKSgslkIiwsjAEDBtC/f39atGiBh4cH165dy3MdGo1lLuvDZ+7NZjNbt27F1dUyXSgyMhJ3d3eOHTuGwWDILrdu3TouXrzIyZMnGTJkCEuXLqVhw8JftP71is/5esXnADi7uzDj8DJKlvciMiicFq914NK353K9ZuGLORelu5cuwYwjy5nbxQ+AFyb0pU6nRuyctgmtXku9ro25dqpwIwv/dabrF9C/8AYqD2+U6DB0TTpjvGJ9rUvayonZv6uKl8Rh0hrSlr0DgKZ6A/Q9h5K2YSbmuzdtkunAil0cWLELACd3F6YfXkqJ8l5EBYXT/LX2XM5jvy5+cVr2726lSzD9yDIWdJlkkzz5aVzRi2VHLxAck0Q5d2d2n79Jq6qlrMo0q+TN8iMXuRoaS3UfN34NsnwolnJ1ol31Mhz9I4SedStgp9XwfcBdnvV5/Pn1txZ/wa3FXwCg93Ch8YnFOPh6kXo7nNKD2hF5OPfIYswPl6kyq3+e5ZyqlsGzW0MuvrEctV5LmTc6Erb3FCgKdT+ZwsVBS0m8FIhnj8aYMzKf+O6CAYt3E7B4d3buNt8vwtHXi5Tb4fgObEvYkV+faL1P6qOlW/loqWU6jKu7Kx8e20wp31Lcu32PFwZ056cjuW9ucPb7s4yaMZwqz1Xmxu9/UrPRcyiKQvidsH8kY8b5cziNSCZTsgAAIABJREFUHIWmVClM9+7h0P0F/o+9+46K4vr7OP7ezsLSO2LBWKKxxxp7w65RY4nGFnsviGKJvWPXJLYUY4ndqFETW4zGbkzsWBGlI72X3X3+WH/gChiBNWCe+zqHc5zZ77Afd2aHvXPv3E09d86oRqJWY7tiFSm//kLiD8b3J5o1aYq+YSPily8DhQKzJk1J+9N0Pc9pf17BYsgIpG7F0AUHYdauI2kXsuez9l1FyvFfSN5mnE9WygNlg0bEz50Bcjnqjp1JKeDEFzd893LDdy8AKnsr2p1aiKWHM/H+YZTt25zAY3kbom39vjvF29Xi7KBVSJVyyg/wxH/fuX/eMAeXl+3l8jJDNrW9FZ8eX4h1KWdin4RR6bPm+OeQTWFhRudd0/Dbc5YrK/cbPVaqRXUazu7Dwd6LCTfBTGpXl+3l6ot8ZvZWdH8pX8XPmvMkl3wdd03j3p6z/PlKvrch/e8rmPcfgdS1GLqQIFStOpJ++ZX9YabGcu4qUn/7hZRdxsecqlUnJObmJG1chcTaFlWLdiQsy/8w37jf/6b4F4YJKVL9Q3Ds04qYXy+/cY1thwbYtqlHgM/XSJRy7DrUJ+6MoTfSY/V4pGoVfp18jBpteXXLdy+3XnpPtP5tERoPZxL8w3ivb3OC83DujfzzIYdqjslc/sCrCyo7S5PNLnh16V6uLs06BrudWIiVhzNx/mFU7NOcgF9zPgY77J7G/T1n+XPF2z8GC807OPFEYXsrjaw6derw7bffMnz4cOzs7Jg1axYlSpSgfPnylCxZkv79+5OSksLq1atxcXEBDI2qf5r4om7dumzfvp0RI0bw8OFDevfuzcmTxjc9RkVF0bt3b/bs2UP16tUJDQ3l3r17JmlkvSw+Mo7N3l8x5Gsv5Ao5EQFhfDfBcD9Zycql6bN4eGZjKjd75m+m9/whzPjVcP/O379e5tS32aco/S/RJ8SSumMVZv19kMjk6J6HkvLjCqTuZVD1GJXZmMqNquMAJBIJqh6jMtdp/e+Stm+9SfIlRMaxxftrBn89IXO/bn6xX0tULk3vxcPeemMqN3YaM2Z3qoP3rnOka3W422qY17kOt4OimH3wMruGt8bBUs2Kng1YcPgqyWlalHIpy3s0QKWQ0b1WGWKT0+i1/hhavZ4KrrZ4ta9eoExpz+O4PXYdVb8Zj0QhJzkgjJujDMN7raqWpuLyIVxs7vPaukfL9lBh4QA+Ou2LRCEj7NAlgraeAuDm8DVUXDYYqUJOangMf/c3zb1uac/j+GvcempvGotUIScxIIw/RxsmaLCp6kH1ZYP5rcXUf/gtphMTGcNiL19mr5+BQiEnOCCEBeMWA1C+Sjm8fScwqNUwoiKimT5wJuMWjEGtNiMtLZ0Zg2eTlvp2rprqY2KIW7II69lzkMgVaIODiF24AHm58lh5G2YTVHfugszZGVXDhqgaZg21i/aaQPxXX2E1YQL23xpurE85e5akvaa53wlAHxtD/LJFWH0xB+QKdCFBxPsuQF62PJrxhtkEzTp2QerkjKp+Q1T1s/LFTp5A0tbv0Ywch82675DI5aSePU3q0bzNjPs6qZFxXBy/gYYbxiBVykl4Es75sYZh9XZVPKizbBBHW0577e+4uXw/teb3o92pRUjkMp7+fJlH208XOFtyZBwnvTbQZv0YpAo5cQHhHB9vyOZUxYOmSwaxs/U0qvRviaW7A6Vb16R066xhigd6LqT+9F5IJBKaLsmaCTPk6n3OTC/4B96UyDhOe22g5foxyF7kO/Uin2MVDxovGcSe1tOo1L8lGncHPFrXxOOlfId6LiQ1xnSTrPyPPjaGxDWL0HjPMUzhHhpE4qoFyN4rj8VIw2yCZm27IHV0Rlm3Icq6Wcdc/MwJJO/dimbcNKxWfQdISN7xLdqHfvnOkxEZyxOvNby3fhIShZzUgFD8x63CvMp7lPIdxZ1W43OtAQic8x0lFw7jgxOG5ehfLhH2zc9Y1CiPXfv6pDwK4v2fFmU+X+CCzcT9nv8hoamRcVwet576G8dmvicujTGce22relBr6WCOtfz3zr2v879j0POl98hv4wzHoEMVDxr7DmJvq2l88OIYLNW6JqVeOgZ/7vF2jkHh3SHR5zTgtADKly/PvXv32L17d+bEFxUqVGDBggVkZGQwatQowsLC0Ov11KpViwcPHvDjjz/yzTffsGPHDhYvXsyKFSsYNWoUderUITAwkL59+3Lq1CnCwsKYMWMGwcGGySEmTpxI48aNWbNmDQCjR48G4Pvvv2fnzp2o1Wo8PDyYO3cu5ubmuWZ+1dBS3Uz5kpjM2quLCzvCa6UueH0DqTBN2mf2z0WFaNnCnIfNFgVnxxVsmve3KUli8glSTWqlPH/Da/4NO8sW7eEsMmVhJ8jdrzeLF3aEXEUX8QnNivKXc3avabpJWd6Gx1dsCztCrh5pLQo7Qq5iZAWfjfNtGhq4tbAjvJGUy7sLOwJmtYvm5/PcmLyR9V8gGln5IxpZ+ScaWfkjGln5JxpZ+ScaWfknGln5JxpZ+SMaWaaRcnFnYUfArG7O36lWVBXtTyiCIAiCIAiCIAjvmKJ8UUkQBEEQBEEQhMImJr7IM9GTJQiCIAiCIAiCYEKikSUIgiAIgiAIgmBCYrigIAiCIAiCIAi504nhgnklerIEQRAEQRAEQRBMSPRkCYIgCIIgCIKQO9GTlWeiJ0sQBEEQBEEQBMGERCNLEARBEARBEATBhMRwQUEQBEEQBEEQcqXXaws7wjtH9GQJgiAIgiAIgiCYkOjJEgRBEARBEAQhd2LiizwTPVmCIAiCIAiCIAgmJNHr9frCDlHUuNpULOwIOXrweZnCjvBaqqkrCztCrtRuDQs7wmtFDahU2BHeSXcOWRR2hNfyksQUdoRcNVG4FHaE10qi6F41HaKIK+wIuTK3TCvsCK91KKJoH3dFmU0RviXmgCK+sCPk6oclNQo7wmupe8ws7AhvJPn0t4UdAXWTzws7Qp6I4YKCIAiCIAiCIOROX3QvfBVVYrigIAiCIAiCIAiCCYlGliAIgiAIgiAIggmJ4YKCIAiCIAiCIOTuHZtd8NChQ3z99ddkZGTQr18/evfunfnY3bt38fHxyVyOiorC2tqan3/+mf3797Ns2TLs7e0BaNKkCePHj89XBtHIEgRBEARBEAThPyEsLIwVK1awb98+lEolPXv2pE6dOpQpY5hArkKFChw4cACA5ORkunXrxqxZswC4desWPj4+tG/fvsA5xHBBQRAEQRAEQRByp9cV/s8bOn/+PHXr1sXGxgZzc3NatWrFL7/8kmPt+vXrqVWrFjVr1gTg5s2b7N+/nw4dOjBx4kRiY2Pz/ZKJRpYgCIIgCIIgCEVaXFwcgYGB2X7i4oy/ViM8PBxHR8fMZScnJ8LCwrL9vvj4eHbt2sWoUaMy1zk6OjJixAgOHjyIq6src+bMyXdeMVxQEARBEARBEIQibfPmzaxduzbb+lGjRjF69OjMZZ1Oh0QiyVzW6/VGy/9z8OBBWrRokXn/FcCXX36Z+e9BgwbRsmXLfOcVjSxBEARBEARBEHJXBCa+6NevH507d8623srKymjZxcWFq1evZi5HRETg5OSUbbsTJ04wdOjQzOX4+Hj27t1L//79AUPjTCaT5TuvGC4oCIIgCIIgCEKRZmVlhbu7e7afVxtZH330ERcuXCAqKork5GSOHTtGo0aNjGr0ej23b9+mevXqmevMzc3ZtGkT169fB2Dr1q2iJ0sQBEEQBEEQhLckDxNPFDZnZ2fGjx9P3759SU9P55NPPqFKlSoMHjyYMWPGULlyZaKiolAoFKhUqsztZDIZK1euZNasWaSkpFCqVCmWLFmS7xyikSUIgiAIgiAIwn9Ghw4d6NChg9G6jRs3Zv7b3t6ec+fOZduuZs2a7N+/3yQZxHBBQRAEQRAEQRAEExI9WYIgCIIgCIIg5K4ITHzxrhGNrAJo7tmIqTPHo1QquXv7PhNGTychPjFbXZv2zZk4ZRQ6nZ6Y6BgmjplJwJNnmJmpWLD0C6rXqIxEIuHanzeYOnEuKSmpBc4mq1ATZbu+SORydMEBpOxcDanJOddWqoNZr/EkTu1pWKFQouoyDGmJsiCRoAu4T+q+dZCeVuBcb0qv1zNt3jLKvleKAb0++deeF6Btm+bMm+eDSqXi5s27DB7iRXx8Qra6kSMGMGLEAJKTU/Dze8DoMdOIjo4xqtm9ayPBwWGMHTfdJNnklWqj6jwA5Ap0Qf4k/7ACUpKMahRNOqJs3B70enQRIaRsXYE+PhYkUsw+HYmsbGUAMm5dIXXvxpye5j+Rzab5hxSf0hupSkHSnQAee32JNiE5TzVKN3sqHVrEjZYTyIiKB8CiahlKzfkcqbkKiVRK8Jf7eb7vTIGyAtRrXodhPoNQqpQ8vPuYhV6+JCUkZasr/b4H4+eORmNlgU6rY8nk5dy7+cCoZsHG2TwPi2T59NUFzgVQvmk1PCf1RKaUE+r3jP2TN5CakP18UrevJ7U/awF6PVFPw9jvs4nESOPvL+m1bhzxYTEcmvm9SbIBVGxanXaTeiJXKgj2e8qOyetzzNegbyvqf9YCvR6ePw1jl88GEiLjkEgldJ3zOe/VqQDA3d/+5uCCrfnKomlSC0ev/kiUClLv+RMydSW6V7LkViO11uA6exSqCqXRJ6cQs/c40VsOAWBepwrOUwaBTIY2Jo6w+RtI9fPPV0YAdYM62IweiEShIO3BYyLnLEOfmP14A7CfPYn0h/7Ebdmd9X/o1hHNx22QmilJvfuAyNnLID0933lyUrJZNer5dEemVBB59yknvTeRnsN+Lde5PjWGtUWvh4zkVM7O3EL4DX9kZgoaz+uPc7XSgISwvx/x+/Tv0aYUPGdRzlaseTWqTemOTKUg+s5TLnrlnO1/6q0cSozfM+6uO5KVu18LyvRqgsxMQdSNJ1zw2oguLaPA2QBqNPuQXpP6olAqCPB7wteT1pCcQ76+0wdQr219EmIM597gx8GsGOWb+bi9qwMLflrCxNZjiY+OL3CuM/eCWHPiOmkZWsq62DCrU100ZgqjmgdhMSw6fJWElHRkUgnTO9amopsdADsv32f/n49ITddSwc2OWR/XQSnP/8x0wrtPDBfMJ3t7W1Z+OZ9BfcbRsFY7Ap48Y9rMCdnqzMxUrF2/mIGfjaVlwy4c/+U08xZPBWCs11DkchnN6n9Ms/ofY2amYvSEwQUPZ2GFqucYUr5fSNKiEeiiQlG175djqcTBFVXHz+Gl7w9QtugGUinJS8eQ7DsGFEqUzf+9hs6jJ08ZOGYKx0//8a895/84ONixaeNyuvcYwgeVGuHvH8CC+VOz1TVp/BHeE0fi2aoHNWt5cvSXU6z72vjmyIlew2lQv47Jskk01pj18yJ5/VwSZw5C9zwUs86fG9VIS5RB1bIriYvHkThnKLrwIFQdDfteUbc5Umd3EucMI3HucOTlKiOv0fA/mU1uZ8V7K0bxYLAv1xuOJvVpGMWn9slTjcMnTai4bx5KV3uj7cpt8ubZ0h3cbOmF32fzKDlrAGYervnOCmBjZ8205ZOYNmQWnzbqR3BAMMOnZj8XqMxUrNi+hO1f72RAq6F8t3ILM9dOM6rpNbwHVepULlCel5nbWdLFdyjbh69kZfOJRD8Lo9Xkntnq3Cp50GBIO9Z3ncnqVpN57h9KC69uRjUNh7anVK33TZYNwMLOkp6+w/hu+AoWNp9A5LNw2k/+NFudeyUPmg5pz6quM1jSypvn/qG08eoOQM0ujXAq7cqSVt74tpnMe3UqULVt3t+7MjsrXBeNJ3DUfB63GkLas1CcJg544xrnqUPQJSXzuM0w/LtNQNOoJpqmtZFqzHH/chphi7/Bv8NIQmd+SbFVU5Ao83edVGpjjf2siURMnE1wlwFkBIVgO3pQtjq5Rwmc1/ti3sL4vahu1gCrnp0IHz6J4E8GIVGpsOrdNV9ZcmNmZ0nzZYM5OmQV25p4E/s0nI+m9MhWZ1PalfrTPuVgH192tp7G1dUHaLNhLAA1R3dCKpPyY8up7PCcgtxMyYcjO/6ns6nsLKm3YjBnBq/iYENvEp6GU21q9mwAVmXcaLFrCiXb1zJaX7xNTcp/3pITPRZyqIkPMjMFFYa0KXA2ACs7K0b4jmHpsEWMbTaCsKeh9Pbpm2Nt+Q/fZ8XopXi3HY932/FGDaxGXZoyZ/cC7Fzsc9w2r6ISU5j500WW9mzAgbEdcLfVsOr430Y1yWkZDN98iv4NKrBzRBsGN67E1D3nATh55xk7Lt5nfb9m7B3VjtQMLVvP+5kkW5Gh0xX+zztGNLLyqXGz+vx97Rb+jwMA2PztDrp0a5+tTiqTIZFIsLLSAGBhYU5qqqGn6uL5q6z0XYder0en03Hrxl3ci7sVOJu8fHV0zx6gfx4CQPq5o8hrNM5eqFBi1nsCqQe+MVqtfXSbtBO7QK8HvQ5d0GMkttm/X+Bt2bH3Z7p2aIVnU9M0APKiZcvGXL16nYcPDVeI163/gV6fZv9Ohho1KnPy1FmCggyv8f79R2jfrgUKheGqV+NG9Wjl2ZQNG7eYLJusYg20AffQhQcDkPb7zyjqNDOq0T19SMIXnxt6kOQKpDb26BNfXOGTSpGozECuAIUCZArIME3vZFHLZt24Ggl/PyTF37B/wjb/gkOXhm9co3C2xa51bfx6GX/Tu0SlIHD5LuLO3jD8P0MiSY+MzdYQy6vajWty9/o9Av2DANj/w0E8OzfPsS4oIJgLpy4B8Mex83wxLCtj9XpVqdu0Ngde9H6YQtmGVQi68ZjIJ6EAXNp6gqqd6merC77lz/ImE0iNT0auUmDlYkdSdFYPsEfdCpRtXJXL206aLBtA+YZVeHbjEc9f5Du39TgfdmqQrS7wlj/zm4wj5UU+axdbEl/kk0qlKM3NkCsVyJVyZEo5Gal571GwaFCDlJv3SQ8wvA9ith/GqmPTN64xq1SG2J9OGT5MpGeQcPoKlq3royxVDG18EkkXDNMKpz0ORJeQhLpahTxnBFDX+5DU2/fJeGY43uJ3H8KiTfbjzbJ7R+L3HyXpuHFPraZdS+K27EEXF2/otZy/ksTDx/OVJTclGlUm/Lo/sU/CALi15STlPv4oW502LZ1TkzaRFG4YRRB+wx9zRxukChnBl/y4uvoA6PXodXoibj3BqpjDfzqba+PKRP7tT7y/Idv9zSfx6JI9G0D5AS14+ONpAg5dNlpfulsD7q4/SlpMIuj1XJr8HY/3mOaiZ5VG1Xl04yGhTwzn3WNbf6Fhp+yfT+RKOaUqlqbT0M4s+3UVXusm4+BmeH1sneyo3aoO8/rMMkkmgAsPQ/jAzZ6S9oapwLvVKsvRG0/Q6/VZNY9CcLezpGG5YgA0eb8YS7obzoWH/vanT/33sTZXIZVKmNahFu2qeZgsn/BuKpLDBTds2MDRo0fRarU0aNAAb29vtmzZwtatW7G0tKR06dKUKFGC0aNHc+TIEVavXo25uTkVKlRAq9WyaNEiFi9ezLlz55BKpbRo0YJRo0aZNKNbMReCg0Izl0OCwrCytkRjaWE0ZDApMYnJE2Zz8Nh2oqNikMmkdGz1GQC//3Y+s869uBuDh/fFe9zMAmeT2Digj3meuayPfY5EbQEqtdGQQVW3kaRf+BVd8BOj7bX3s67eSGwdUTTqQOruL/m3TPMaAcD5y9f+tef8n+LubjwLDM5cDgwMwdraCktLjdGQwcuX/2LUyIGUKFGMp0+D6N+vByqVCnt7WyQSCcuXz6Fd+94MGfyZybJJbR3RR720X6MjDPvVzNx4WJ5Oi7xqPcz6jof0dFIP/QBA+vnjKD5shOXibSCTkXHnGhk3Lv0ns6mK2ZMWnJUnNSQSuZUFMo06czjg62rSw6K5Pyj7tK361HQifsxqJDj1bolMoyb+2v18ZwVwcnMiPDg8czkiJAKNlQZzjbnRkMHipd2JiojCZ+lEylZ8j/i4BL6atwEAB2d7xs4ZhVfvyXT6rEO258gvazc7YkMiM5fjQqIwszJHpVFnG5Kny9BSwbMmnRcNRpuWzsnlewCwdLKh3cy+bO67mFq9s3+YLwhbN3tiXsoXGxKJ+jX5KnnWpMeiIWSkZXB0uWH42+U9p6narg6zLn2FVCbj3tkb3D6Z9/OPwsWR9JCsYyo99DkySwukGnXmkMHX1aRcv4f1x81IunYHiVKBZav66DMySHsSiNTcDIsG1Un84y/MKpdFVbYEcie7PGcEkDk7oQ3LOt604RFILS2QWJgbDRmMXrwWAHXdD422l5d0R3rbBqe1C5E52pP6102iV5pu6DGAxs2ehOCs/ZoQEoXKyhyFRm009C0+8DnxgVmvZ4MZvfE/fg1dupZnZ25lrrcsZk+1Qa35bbLxRcX/WjaLYvYkvpQtKSQKZQ7ZAK5MM5x/XRsZ93xblnZFZf+YZtsmoXa2IfzyPa7N3VHgbAAOrg48f+m8GxnyHHMrC9QatdGQQTtnO25duMGOpdt4dv8pHYd2ZtKmaUxqO57o8CiWDl1kkjz/ExabhIu1eeays5U5CanpJKZmZA4ZDHgej4PGjFk/XeR+aAyWZgrGeRq+Y+lpZBxRCfaM+OE3IuKTqV7SkfGe1XN8LuH/jyLXk3XmzBlu3brFnj17+OmnnwgLC+PLL79k27Zt7Nu3j+3btxMQYOg9ioqKYsGCBWzevJk9e/YQGxsLQFBQEGfOnOHgwYP8+OOPPHz4MLP3yFSkUqnRFY7/0WqNuzPfr1iW8ZNG0LhOB6pXaMKqZRvYtGWlUU2VqhX56cgWvtu4nRO//l7wcBIpZI9m9B0H8o/agE5LxuUTuf4aqft7qEctIv2PI2jvXM217r8k9/2qNVr+49xl5s5bzp7d33DxwhF0Oj2RkdHodDq2bfmSiRNnERoanu33FDAcOe5YnTbbqozrF0jw6k7qz1sxH7MAJBJU7T9DFx9DvHdP4if3RmJhibKFiYb4FLVsEqmhJ/YV+pffn29S8xpuozrjPrEn9/otRJ9SsB5BqVSSUxR0r2SRK+TUa1aHg9t+ZmDb4ez5dj9LtyxEoVQw68vprJ71FZHhUQXK8iqJRPpG2f7n7rGrLKgxlJMr99L/Bx9kSjk91ozmyJwtxEfE5LjN28iX2368dewqX9QYwq8r9zDshylIJBJajf2ExMh4ZtQcyux6IzC30dBkULu8h5FK/vmYek1N2MJNoAePA2so/tUXJJ77C316BrqEZAKHz8V+WA88Dq7F+uPmJF68gT49n/fISCU5/414w2NfIpehrvMhEZPnEtJ7BFIrS2xGDfjnDfNAIpWgzyFkbvtVrlbR+uvRWJdy5tSkTUaPOVYuRZe9X3Dj++M8Ofl3jtv/V7Ihyfn4yu39mhOpXIZro0qcHbqGo22+QGWjoZpPt3/e8E3i5XL8v5ov/Fk4C/vP5dn9pwAcXL8f5xIuOBV/O6NqdHqjuyYyyaRZKzN0Ov54EEzXD8uwfVhretYpz6itp0nL0JKu1XHxUQhLujdg+9BWxCWnsebE9beStdDodYX/844pcj1ZFy5c4MaNG3Tp0gWAlJQUjh8/Tq9evdBoDEPu2rVrR1xcHFevXqV69eo4OzsD8PHHH3PixAmcnZ1RqVT07NmTpk2bMnHiRKMvG8sv76mj8GxjGAJlaWnB3TtZN5u7ujkTHR1LcpLxlaImzRpw5dI1Ap48A+C7jduZvWAydnY2REXF0KlLGxYum8E073ns33O4wBkB9DERSEqWy1yWWNujT4qHtKyGpqJ2c1CoUHutRCKTg0KJ2mslKRvnoI+LQl6tIapPhpG6bz0Z1wp+U39RNmvmRNq39wTAylLDrdtZ46iLFXMhKiqapFf2q0ZjwZmzF/nue8PVPTc3F2bP8qa0R0k8PEri62vokXRxdkQmk2FmpmLoMO8C5dRHhSMplXU/i8TGwTDc7qX9KnF0Q2pli/bRbQDSz/2KWe/RSMw1yKvXJ2XHV6DNAG0G6ReOG+57OrG3QLmKYra0oAg0NcpmLitd7MmIjkeXnJqnmpxIlHLeWzkaddni3O7gQ2pgRL4yDprYnwaehmE85hpzHr80iYGDiyNx0XGkJKcYbfM8NJInD55y5y/DMfrHsfP4LJ1IucplcSvpypiZwwGwc7RDKpOiVClY5L0sz9maj/+ECi1rAKDSmBN272nmY1YudiTFJJD+yutkV9IZS0cbAq7eA+DPXafpNH8gxSqXxra4E22/MPTqahxtkEqlyFUK9vvkr/ej9fhuVGpp6F0x06gJvvcs8zFrFzsSYxJIeyWfw4t8/i/yXdr1G93mD0JtbUGV1rXZN+s7tOlatOnJXNl7hqpt6nB6U97OyenBEairls9cljs7oI2JR/9SltfVyFytCFvyDbpYQ6+5/bDupAUEGyYgSkrm6Wc+mduVPrbR8Fg+aEPDUVXKGmooc3JAGxuHPiXlNVu9tH1EJEmn/sjs9Uo8chJrE/Ta1/bqiseL406pURP50n7VuNiSEpNARg7vT42bPe2/m0DUw2D295hvNHlE2Y51aTy/P2e+2Mz9ny78J7NV8e6Ku6chm0KjJsYvK5u5iy2p0Qlo/+G89rLksGieHb2S2fPlv/cclcd/nO98PSb0omYLw31faktznvoFZD5m52JPQkw8qa/kK/F+SUpV8ODM/tOZ6yQSCRnp2S/cmYKrjTm3grJ62MLjk7FSK1G/dN+jo6UaDwcrKhc3DFtsWsGdOQcuERidgJOlOc0rFs/s9WpbpRQbTt9C+P+tyDWytFot/fr1Y8AAw1WxuLg49u/fT1BQULZaqVSKLocb4eRyObt37+by5cucOXOGnj17smXLFjw8CjY+1nfBWnwXGIZP2DvY8dv5n/AoXRL/xwH0HdCDX4+cyrbNzRt3+HxILxwc7XkeEUmb9s15GhBEVFQMLVs3Yd7iqXzaeRDX/76EQ6M7AAAgAElEQVRdoGwv0977C2XHz5E4uKJ/HoLiozZk3DIeepW8cmLmvyW2TphPWkPysnEAyCrWQtl5MMnrZqILfGiyXEXVrNlLmTV7KQCOjvb8fe0kZcp48PChP0OH9OHgoWPZtnFzc+HYLzupXLUJ8fEJTPEZw46dP3Hx0p94vJd1E/GMLyZgb29nktkFM+78ieqTIUid3NCFB6Ns1I7068Z/mKXWdqgH+ZA4dwT6xDgUdZqhCwpAnxiP9ulDFDUbob1/HaQy5FXrovW/W+BcRTFbzO/XKTGzP2YerqT4h+Dc15OoY1fyXJOTMmvGIVWruN1xyj82yF5n09Lv2bT0ewBs7G3YcnIT7h7FCPQPonOfDpw9dj7bNhd/u8ToGcMoX7ks924+oGqdKqDX8+DWA7rUypqM4vMJ/bCxs8737IInV+zh5ArDUD8LeyvG/LIY+1IuRD4JpXbv5tw9/me2bSydbOixehRr204lKTqeqh83IOz+M57+eR/fj0Zn1jUb1xULW8sCzS74y4rd/LLCMNRPY2/FpF+W4FDKhedPQvmodwtuHc/e827lZEuf1aNZ2taHxOh4Pvy4ASH3n5EUk0DgLX+qtavHwwt3kMplVGrxIQF/Pcj2O/5J4h/XcJ4yCEVJN9IDgrH9tC3xJy++cY3tp22RaswJm/M1MnsbbLq3ImjsItDrKb5xNoHD55Jy6wGWbRuhT03L9+yCyRf+xHb8MOTFi5HxLAjLrh1I/j378ZabpBNnMfdsTMJPR9CnpqFuUp/UO/fyleVll5ft5fIyw4UVtb0Vnx5fiHUpZ2KfhFHps+b4H8s+hFNhYUbnXdPw23OWKyuNv0C0VIvqNJzdh4O9FxN+I/8zMRb1bDd893LD15BNZW9F+1MLsfRwJt4/jLJ9mxOYQ7bXeXr4MiU71OXh9tNoU9Jxb/0hkdcf5zvfzuXb2bl8OwBW9tYs+3U1LqVcCX0Sgmfv1lw5djnbNnqdngGzB+N39Q7hz8Lx7NOGAL8nRIVGZqs1hXrvubLsl78IiIyjpL0Ve648oMn77kY1Dcq6sfzXv7gTHEVFNzv+fBIOEihmo6HFB8U5duspnT98D5Vcxm9+gXxQLH/DeYusd3DiicJW5BpZdevWZfXq1XTv3h2VSsXIkSNp1aoVv//+O2PGjEGpVHLs2DHq1atHjRo1mDNnDuHh4Tg6OnLkyBFUKhV37txh7ty5bNmyhXr16nHnzh38/f0L3Mh6WeTzKMaNnM7GH1agVCh44v+MMcOmAFC12gcsXTOXlg27cO7MJb5a/S37fv6etPR0YqJj6d/LcH/YjLneSCQSlq6Zm/l7r1y8xlTveQXKpk+IJXXHKsz6+yCRydE9DyXlxxVI3cug6jEqszGVG1XHAUgkElQ9su5j0/rfJW3f+gLlehdEREQyaPAEdu7YgFKp4PGjAPp/bpgN6sMaVVi/fik1a3ly//4jlviu5fy5n5FKpZw7d5kxY00zTXtu9PGxpGxehnrIFyCXo4sIIfk7X6Qly6LuM57EeSPQPrxF6pEdmHv5gk6LLiaSpK9nAZC6ex1mPUdiMXsT6HRk+P1F2q+7X/+k72i2jMhYHo9fS9kN3kiVclKehPJw7GosqrxH6WUjuNnSK9ea19F8WA77Dh+R/CiIDw4uyFz/dN4WYn/P/1CfmMgYFkzwZd6GWSgUcoICgpk71nDPwftVyuGzdCL9PYcQFRGNz8AZeC0Yh9rcjLS0dKYOmklaPiZpeFOJkXHs9V7Pp1+PRaaQExUQxp4JXwNQrLIHnRcPZm3bqQRcucfpLw8waMd0dFotcWExbBu8/K3l+p+EyDh+9F5H/6/HI1fIeR4QxvYJhntIi1cuTY/FQ1ja1ofHV/w4/uVPjNwxA51WS2xYNN8ONlxc+WnuD3SdMwCfk8vQa3XcP3eLU+sP5jmLNiqWYJ8VuK+ZikQpJ+1pKMHeSzGrVBbXBWPw7zg61xqAyPW7cPOdiMfhr5BIJESs3ErKi+n5g72W4Dp/DBKFnIzwKAJHzH1dlNfSRcfwfJYvjr4zkCjkpAeGEPnFYpQVymE/YwIhnw577fbxuw8itbbEZdvXSKRS0vweEDl/Xb7z5CQ5Mo6TXhtos34MUoWcuIBwjo83PIdTFQ+aLhnEztbTqNK/JZbuDpRuXZPSrWtmbn+g50LqT++FRCKh6ZKsmRNDrt7nzPTN/9lsqZFxXBi/gUYbxiBVyol/Es75sYZsdlU8qLtsEEdaTnvt77j//QmUNhra/DIPqUxK1M0nXJq9vUC5/icuMpavvFfj9fVk5Eo5YQGhrB1vuIWidOUyDF88Eu+243l2/ynfztzA5G+mGzKERLJq9FKTZMiJncaM2Z3r4L3jD9K1OtztNMzrUo/bQZHMPnCJXSPa4mCpZsWnjVhw6ArJ6RkoZVKW92yISiGje+2yxCan0WvdL2h1eiq42eHVofZbyyu8GyT6nG5AKWRfffUVhw8fRqvV0rBhQ6ZOncr27dvZvn075ubm2NraUqtWLQYPHsyxY8dYvXo1SqUSd3d37OzsmDVrFosXL+a3335DrVZTo0YNpkyZglz+Zm1KV5uKb/l/mD8PPi9T2BFeSzV15T8XFRK1278/U2FeRA2oVNgR3kl3DlkUdoTX8pKY/h4kU2micCnsCK+VRNG9ajpEEffPRYXE3PLf+z7D/DgUUbSPu6LM5u2MlDOJA4qCf0/V2/LDkhqFHeG11D0KPuHZvyH54Ntr5L4pdceJ/1xUhBS5niyAESNGMGLEiMxlf39/0tPTOXzYMD5++PDhvPfee0RHR+Pn58fBgweRSqXMmzePkiVLAjB58mQmT55cKPkFQRAEQRAE4T/jHZx4orAVyUbWq4oVK8bNmzdp3749EomEBg0a0LSp4XtF4uLiaN++PTKZjA8++IDu3bsXclpBEARBEARBEP4/eycaWUqlkmXLcp4ha/r0t3sfjCAIgiAIgiAIQl68E40sQRAEQRAEQRAKiZhdMM+K3JcRC4IgCIIgCIIgvMtET5YgCIIgCIIgCLkTE1/kmejJEgRBEARBEARBMCHRyBIEQRAEQRAEQTAhMVxQEARBEARBEITciYkv8kz0ZAmCIAiCIAiCIJiQ6MkSBEEQBEEQBCF3oicrz0RPliAIgiAIgiAIggmJRpYgCIIgCIIgCIIJieGCgiAIgiAIgiDkTq8v7ATvHNGTJQiCIAiCIAiCYEKiJysHT/5YVdgRcjS+/cbCjvBaG9Y2LOwIuUoOPlvYEV5rSs1phR0hV0X5SkxbbUZhR3itE0tqF3aEXGVc+LuwI7yWxFxZ2BFytXGPXWFHyJVjYmEneL1PygQWdoRc6XWSwo7wWmlJssKOkKsuA98v7Ai5qjnmSGFHeK3bPWYWdoQ3Iya+yLOi/PlJEARBEARBEAThnSMaWYIgCIIgCIIgCCYkhgsKgiAIgiAIgpA7MVwwz0RPliAIgiAIgiAIggmJnixBEARBEARBEHKnFz1ZeSV6sgRBEARBEARBEExINLIEQRAEQRAEQRBMSAwXFARBEARBEAQhd2LiizwTPVmCIAiCIAiCIAgmJHqyBEEQBEEQBEHInV5f2AneOaInSxAEQRAEQRAEwYREI0sQBEEQBEEQBMGExHBBQRAEQRAEQRByJya+yDPRkyUIgiAIgiAIgmBCoicrn878eYtVWw+SlpFBuZLFmD2iFxpztVHNyUvX+WrHYaRSCVYaC2YN/5TiLo5otToWbNrFn3ceAtCgRkW8+nZGIpGYLF+lptXpNKkXcqWCIL8Atk5eR0pCcq71VT1r0W/5KCZU6me03tbVHu/985nfxpvE6HiT5Wvbpjnz5vmgUqm4efMug4d4ER+fkK1u5IgBjBgxgOTkFPz8HjB6zDSio2OManbv2khwcBhjx003Wb7X0ev1TJu3jLLvlWJAr0/+led8WYWm1WkzqSdypZwQv6fsmryB1Bz2bf2+ntT7rCXo9Tx/GsYen40kRMbR96tx2Jdyzqyzc3fi8aW7fDd4aYGzvf9Ktt25ZPuoryd1X2SLfJEtMTIOgHqftaR2z6bIzZQE3fRn9+T1aNMyCpzNrkUNSk/rhVSpIOFOAPfGf402h2y51ckszXl/xXDMy7qBRErortM8W3ugwLkAzjwMZc1vt0nT6ijrZMWsdjXQqBRGNQ/CY1l07AYJqenIJBKmt6lGRVdb4lPSmX34Gv6R8ej10KFKCQbUK2eSXACySrVRfTwAiVyBNsiflC0rICXJqEbRpAOKRu1Br0f3PITUrSvRx8eCRIqq5whk5SoDoL11hdS9m0yWDUBWoSbKdn2RyOXoggNI2bkaUnM+18kq1cGs13gSp/Z8EVyJqsswpCXKgkSCLuA+qfvWQXqayfJ5NKtG/cndkSkVPPd7ynHvTaTlcNy937k+NYe2Ra+HjORUTs/aQtgNf6Oa9uvHkhgWzW8zfjBJtmLNq1FtSndkKgXRd55y0WsT6a/5O1Fv5VBi/J5xd92RzHXl+rWgTK8myMwURN14wgWvjehM8H5V1a2LZuhgJAoFGY8eE7t4Cfok4+POrGVLLD7tAXrQp6YQt2oNGffuZT4udXLE/uuveP75IPSxsQXOlJmtXl0shw5ColSQ/ugxsQt9s2VTe7bAoldP0OvRp6QQt3IN6ffuG2VzWP8lEf0HoY+NM1k2AHWDOtiMHohEoSDtwWMi5yxDn5iUY6397EmkP/QnbsvuzHWabh3RfNwGqZmS1LsPiJy9DNLTTZLtrH8Ea84/NJzrHDTMbP4BGpXxR9FlZ+9x4kE4VmaG9aVsLVjcpgoTD1/nWWzW/yM4LoUaxWxY1aG6SbIBNGpRn3HThqNUKrl/5yFfjJ9PYkKiUU3Hbm3oN6xX5rLGSoOzqxPNq3cgIT6R6Yu8qVy9IhIk3PjrNvN8fElNSTVZRuHd8Z/oyerUqRMAa9asYc2aNQCUL1/+rT1fVGw8X6zdynLvQRxaMwN3Z3tWbj1oVJOSmsaUVZtZMWkwu5dNoUnNSiz6Zg8AP/9+mSfB4exdPpXdy6bw5+2HHL/wl8nyaews6eM7gg3DlzG7+TiePwvn48m9cq13LOVC56l94JVGXp0ujRi/azY2LnYmywbg4GDHpo3L6d5jCB9UaoS/fwAL5k/NVtek8Ud4TxyJZ6se1KzlydFfTrHu6yVGNRO9htOgfh2T5nudR0+eMnDMFI6f/uNfe86XWdhZ0sN3KD8MX8GS5l5EPQun3eRPs9UVq+RB4yHtWdt1BktbTeK5fyitvLoB8MOIlaxoO4UVbaewx2cjKXGJ7JvxrUmydfcdypbhK/Bt7kXks3Da5JKt0ZD2fNV1BstfyVapVS0+6t+KDb3ns7ylNwozBQ0Hti1wNoW9Fe+vGsHtz5dyuf5YUgLCKD29d57qPHx6kBoSyZXGXvzZ2odi/TyxqlnwxkxUYiozf/6TpV3rcGBYS9xtLFj1222jmuT0DIb/eI7+dcuyc2AzBjcoz9QDVwH46swdnKzU7B3Sgm0DmrDrmj/XAyMLnAtAorHGrO8EkjfMJXHWIHTPQ1B1HmBUIy1RBmXLT0haMp6kucPQhweh7GC4WCOv2xypsztJc4aTNHcEsrJVkNdoaJJsAFhYoeo5hpTvF5K0aAS6qFBU7fvlWCpxcEXV8XOj85yyRTeQSkleOoZk3zGgUKJsbroLJ2o7SzyXDubnoavY3NSb2KfhNPDpka3OtrQrjaZ9yv6+vmxrM41Law7Qfv1Yo5qaw9pRrLbp/q6p7Cypt2IwZwav4mBDbxKehlNtavZsAFZl3Gixawol29cyWl+8TU3Kf96SEz0WcqiJDzIzBRWGtClwNom1NVZTJhPzxQyef9aXjJBgLIcOMaqRFS+O5YhhRHtPInLgIBJ+2ILtvDmZj5u18sRuzWpkjo4FzvMyqY011lMnET19JhG9+qENDsFyeM7Zorwm8XzAYBI2b8V2QVY2dWtP7NeuMnm2/+WznzWRiImzCe4ygIygEGxHD8pWJ/cogfN6X8xbGL8f1c0aYNWzE+HDJxH8ySAkKhVWvbuaJFtUUhozT9zGt10VfupbH3drc1aff5Ct7npILAvbVGZnr3rs7FWPxW2qALC0XdXMdTOaV0SjkjOlSQWTZAOwtbdh3qrpjPt8Cu3rdycwIIgJ00dkqzu4+yhdm/eha/M+9GjVn+fhkcyfspTIiCiGjuuPTCajc5PedG7aGzMzFYPH5HxOeufodIX/8475TzSyDhwwzdXkN3Xhuh+VypSkpJsTAN1bNeTI2SvoX5reUqfTg15PQpLhqmBSSipKheGqjFanIzk1lbSMDNLTM0jP0KJUKLI/UT5VaFiVgBuPiHgSCsCZrceo1SnnDzYKMyX9V45m77zNRuutnWyp6lmLtX3nmyzX/7Rs2ZirV6/z8KHhKu269T/Q69PO2epq1KjMyVNnCQoKAWD//iO0b9cCxYvXqnGjerTybMqGjVtMnjE3O/b+TNcOrfBsasIPinlQrmEVnt14zPMX+/b81uNU71Q/W13QLX8WNRlPSnwycpUCaxc7kqKNewplChk9lw3nwNwfiA2JMnm2i6/JtiSXbDW6NuTsxsMkxyai1+vZN+0bru07W+Bstk2qEP/XI5L9DdmCNx/DuWv2ffi6uofTvuPRLEMPgsrJFolKQUZczleH8+KCfzgfuNpS0k4DQLcaHhy9/czofHLhcTjuthY0LOMCQJOyrizpUhuASS2rMKF5JQAiElJIz9Bm6wXLL1nFGugC7qMPDwYg/cxhFLWbGdXonj4k8YvPDb1bcgUSGwf0iYYr8xKJFInKDOQKUChALkdvwl4iefnq6J49QP/ccI5IP3cUeY3G2QsVSsx6TyD1wDdGq7WPbpN2YpdhamK9Dl3QYyS2TibLV7JRZUKv+xPzJAyAG1tO8v7HH2Wr06alc3zSJhLDDb30YTf8sXC0QaqQAeBetwIlG1fhxtZTJsvm2rgykX/7E+9vyHZ/80k8umTPBlB+QAse/niagEOXjdaX7taAu+uPkhaTCHo9lyZ/x+M9Bb8Apapdi3Q/P7SBQQAk/3QQs5YtjIvS04lb7Isu0nDuyvC7h9TODuRypPb2mDVsQLSXd4GzvEpZqxbpd+9lZkvafwB1y+avZEsjdvHSzGzp2bLVJ8prksmzAajrfUjq7ftkPDPki999CIs2zbPVWXbvSPz+oyQdP2O0XtOuJXFb9qCLiwe9nqj5K0k8fNwk2S4+jeQDZ2tK2lgA0K2yO0fvhRqd69IydNyLiGfzn0/otu0CXoevExJv3LuartXxxbHbeDcqj4ulmUmyAXzUpA63/rrLU/9nAOzYvI92XVu/dpuBo/sS9Tya3Vv2A3D1wt+sX/Eter0enU7H3Zv3cHN3MVlG4d1S5IcLXrp0iXXr1qFQKAgMDKRZs2aYm5tz4sQJADZs2ED9+vW599IQgZddu3YNHx8fNm7cSMmSJU2SKfR5NC4ONpnLzvY2JCSlkJickjlk0FytYvrQnvSZuhwbS3O0Oj0/zJ8AQKemdTl24S9aDJ6GVqujXtX3aVKrskmyAdi62RMdknUlOyYkErWVOWYadbYhg70WDOGPbScI8ntqtD42PJoNw5aZLNPLiru78SwwOHM5MDAEa2srLC01RkMGL1/+i1EjB1KiRDGePg2if78eqFQq7O1tkUgkLF8+h3btezNk8GdvJWdOpnkZrmqdv3ztX3vOl9m42RPz0r6NDYlCbWWOSqPONixPl6HlA8+adF80hIy0dH5dvtvo8do9mhIbFs2tX6+aJJu1mz2xecz2yYtsx15kc/Rw5Zn9IwZu9sHKyRb/K34cXri9wNnM3BxIDX6euZwaHIncyhyZRm00ZPCf6vRaHRW+HI1j+7pEHL1M0sNgCiosLgkXq6yhxs5WahJSM0hMy8hsLAVEJeBgYcasw9e4HxaLpZmCcc0MDSuJRIJcImHqgauc8AuiWXk3StlbFjgXgNTWEV10ROayPjoCidoCzMyNhwzqtMir1kPVZxxkpJN6yNAYTb9wHPmHDdEs2goyGRl3rqG9eckk2QBDgy4ma3/pY58b8qnURkMGVd1Gkn7hV3TBT4y2197/O+t32TqiaNSB1N1fmiyfpZs9CS+9J+JDolBZmaPUqI2GDMYFPicuMOv/0fiL3jw+cQ1duhYLZxuazPqM/X19qdzbuIFbEBbF7EkMzsqWFBKF0sochUadbcjglWmG/enayPjvlGVpV1T2j2m2bRJqZxvCL9/j2twdBc4mc3JCF5513GkjIpBqNEjMzTOH5WlDQ9GGhmZlGTWS1HPnISMDXWQkMdNnFDhHjtmcHdGGh/9DtjC0oWGZNVajR5DyR1a26Gkz30o2Qz4ntGEv5QuPQGppgcTC3GjIYPTitQCo635otL28pDvS2zY4rV2IzNGe1L9uEr1yo0myhSak4KxRZS47aVQkpGWQmKbNHDIYkZhKLXdbRtYrw3t2FvxwLYDxh67z46d1Mm+p2H87CEeNimbvme6CCICrmzOhwVn7LSw4HEsrDRYai2xDBgFs7KzpN6wX3T2zeqrO/551fnN1d6HPkJ7MmrjQpDkLjf7d60kqbO9ET9b169eZPXs2e/fuZdu2bdjZ2bFv3z7Kly/P4cOHc93Oz8+PadOmsW7dOpM1sAB0ej2Q/f4pqTTr5bwfEMT63Uf5adU0Tm5awOCurZjguwm9Xs+6XUews9Jw+puFHN8wj7iEJDYfPGmyfBKJ1OjKUGZurfEbpNFnnui0Wi7s/s1kz/0mpNKc82m1WqPlP85dZu685ezZ/Q0XLxxBp9MTGRmNTqdj25YvmThxFqGh4dl+z3+ZRCLJ8bXTa3M++d0+dpWZNYZwbOVeBv/gY3TfX6PP23Jy7f63nu3V4+7lbLNrDOH4yr0MfJFNJpdRrmFlto5cxeqOUzG30dDaO+chTHkileT4PYr6V4cfvEHd3ZFrOFdhIAobDaW8Cj60TKcHSQ7nE9lL+ypDp+ePR2F0rVaK7Z83pWfN0ozaeZ60jKz3zIJONTk9vh2xyWms/8OvwLkAw9C6nF4QnTbbqozrF0ic2IO0n7diPno+SCQo2/dGHx9LwqRPSfD5DImFJYoWXUyTDUAihZy+H/OlDwPyj9qATkvG5RO5/hqp+3uoRy0i/Y8jaO+Y5qKDIV/e3hNytYp2X4/GppQzxydtQiqX0XbNSH6fsy2zl8uU2XLat7lly4lULsO1USXODl3D0TZfoLLRUM2n21vLltNwIYmZGTazZyErVozYJb4Ff+5/zCbNW7a5M5G5FyN28b+QDUAqyfk98Yb7VSKXoa7zIRGT5xLSewRSK0tsRg345w3fgF5Pjveey6RZ64pZq1nbqQZl7DVIJBL61ihJYGwSwXEpmTXb/n7K4FoeJsn0Mok0l/drDuc7gG59Pua3X84QGJD9YlvFKu+z5cB6tn+7m9+PnzN5VuHdUOR7sgDKlSuHq6srALa2ttSrVw8ANzc34uJyv2F04MCBtG7dmtKlS5s0j6uDLTcfPMlcDo+MxUpjjrlZ1hWa83/fpdr7pSnuYhhz3bN1I3y/30tMfCInLl1nysBuKBRyFAo5HZvU4fjFv+jXMXuX/ptqP747lVvWBECtURN0L6tnysbFjsSYBNKSjW+8rPtJE5RqJVOOLEGukKM0M/z7q/4LiQ2PzneWnMyaOZH27T0BsLLUcOt21ofAYsVciIqKJinJ+OqpRmPBmbMX+e57w5VRNzcXZs/yprRHSTw8SuLra7ga6OLsiEwmw8xMxdBhph8eUthajf+Eii0NVxvNNGpC7j3LfMzaxY6kHPatfUlnLB1teHLV0MN7eddvdJ0/ELW1BUkxCbh9UAqpXMqji3cLlM3zpWwqjZrQl7JZvciW/g/Zruz6jS4vssWFx3DzlyuZPV/X9v9Bi7H5+1BealIPHFoZ3hMySzWJd7PeE0pXO9KjE9AlGWdLDXyOVY2yOdbZNqlK4t2npIVFo01KIXz/ORzaF/x+QFdrNbeCs4ZrhsenYGWmQK3MOj07aszwcLCkcjHD/ZFNy7kx5/BfBMYkEhqXTBlHK5ws1Zgr5bT+wJ2TfgXvYQPQRUUg93g/c9kwFDAe0rJeN4mjK1IrO7SPDPeRpZ87hqrXaDDXIK9Wn9SdX4E2A7QZpF88gaJ6A9JP7DNJPn1MBJKSWffFSazt0ScZ51PUbg4KFWqvlUhkclAoUXutJGXjHPRxUcirNUT1yTBS960n49qZnJ4mT+pN6ErpljUAUFmqee6X9Z7QuNiSEpNARnL2m+At3ezp9O0Eoh4Gs7vHfLSp6bjWKIN1CScafWG4L9DC0RqJTIpMpeTE5LxPIFLFuyvunoZsCo2amJeymbvYkhqdgDaHbLlJDovm2dErmT1f/nvPUXn8x3nO9SptWDiKiln32kgdHNDFxaFPSTGqkzo5YbtoARkBT4kaOw7STDcUNTe6sDCUL2WTOTjmnM3ZCbvFC8h4EkDk6PH/SjYAbWg4qkov5XNyQBubPV+u20dEknTqj8xer8QjJ7E20WgRF0szboZmTUASnpCKlUqO+sWwWID7z+O5HxFP+wpumev0gPxFQ8wvPA6tTs+HxWxNkmnUpCE0bWUYEm5hacGDu48yH3NydSQ2OpbkpJxfuzadWrJgWvYRP20+bskXi7yZP3Uph/cdM0lO4d30TvRkKV65X0kmk+VSaWzp0qUcO3YMPz8TXdV9oV61Cty4/4SAYEMvyu5jZ2n6ynC/CqWL8+fth0TGGBqBpy5fp5iTPbZWGiqULs6v5w3DzdIztJy+epMq5Qp2VebnFbtY2HYSC9tOYknnaXhUK4tjKcM44Ia9W3Lj+JVs2yz5eCrzWk1kYdtJfDlgIWkpaSxsO8nkDSyAWbOXUrOWJzVreVK/YQfq1K7xf+zdd3QU1dvA8e/2lE0hISSEUAKEAErv0gldUAELCoKU0JGMC+IAACAASURBVHsIBkIXQXqXZqGI0gVBqqAovXcILQ3SSG+bZNv7x8YUUkxgMfh77+ecPTA7z+48uXdn7s7cO3epWtX0Nw8d8im/7M97IHJ1deH4sV3Y2JjuVZnsN4Zt2/dy7vxl3Ks0ynq/9Ru2sGPnL/+TJ1gAR5buypqoYmWP6VSs60HpzLpt2qc9t4/lvfJuW8aevitHY1XKNGys/nstiLgfSmq8aThmlSY1eHjmdp7XFdfRpbtY1nUyy7pOZlWP6VQoQm42Zez5JEdu9XLkduPgeeq83RR55jC5Nzo2JPT6ozzvURRBC7ZzycuXS16+XOk6BdsGHli6m3Jz7d+R6MN594nYk9cLjCvz7ltUmmi6Si9RynF6pxnxp269UG45NXN35sbTOIJjTXWz60ogbaqVzRXTooozT+NTuBNu2jcvh0SDBMrZW3P07lPW/XUPo9FIhk7P0btPaVTJPDfU6+9eRuZeHUkZ0xceRau30V0/mytGaueAxWA/JNa2AMgbt8UQFgwpSRhCHyJv0CozUIa8dlP0geY7HusDriKt6ImktKm8FG91QXcr93BEzbKJaBaORrN4HJoNs0GbgWbxOIyJschqNkLZwxvN2hlmOcECOLtkN1u7+LO1iz8/vTsTl3pVsc+czbN2Xy8eHc071FhhbcEHO/x5ePgSB0etRp9umskt/MpDvmk6Nuv9bmw9wf39517oBAvgxsLdHOzgz8EO/hzuNpPS9ati427KzaOfF0/yya0wIb9eoGL3psgsTPurW+cGxFx//EK55ZRx8SKKmjWRuZUDwOrdd0g7lbs3QGJpicOKZaT9+RcJs2b/aycx6RcuoXijRnZu73Un7a+8uTmuXErayT+Jn/nFv5YbgObsZVS1aiAvb8rPpld3NCfPFPn1qb/9hVXH1khUSgAs2zQn/U7+t2MUV7MKjtyMSCA43jT0btfNJ7SpnHvIn1QiYcGfATxNMJ2477z5BI/Sapwz7726/DSORm6lzDYb86oF67Mmsfik6yBqN3iTCu7lAfiof09OHM7/nmBbOxvKu7tx7eKNXM+36diCyV9OwPujMf9zJ1hGg7HEH/81/4merBfVrFkzfHx8mDp1Kjt27Mg1nO9lONrZ8MXIvvgs+hatTkd5l9J8Oboftx8GM3PNj+xcPJkmtTz57F0vBk5fjkIux05txfLPhwIwaUBP5m7YyTujv0AmldCkticD3m3/D1stuuSYRLb4rsF7zQTkCjnPgiPZNME0/rpCrcr0mT+MeV1fzU23RfHsWQyDvSewfdt6lEoFjx8F89lA00xaDerXZt060wnZ/fuPWLBwFWdOH0AqlXL69AXGjP13pml/XSXHJLLddy391oxDppATExzJTxO+BsCtVmU+mO/N0q6TCbwYwPHVexmxbRp6vZ7EyDg2emdfcStdyYXYHPeAmENKTCI7fdfSNzO32OBItuXI7f353izrOpmgiwGcWL2XYdumYcjMbVNmbme3HMXKXs3YA3ORSqU8vR3EgS9/eOnctNGJ3Bv7NW9864NEISctOJK7o0z7hE2dynguGc4lL99C4x7N2ES1hUNodNKU67ODF3iy/mCB2ywqB2sVs7rVx3fPebR6A26lrJnTvSG3w+OY9etVdgxuR2m1BUvfb8rcI9fRZOhQymUs6dUElVzGBK83+fLQNd7fYBpy3M7TlT6Nqrx0XgDGpATSNi/BcshUkMkxPgtHs3Eh0goeWHw6jtQvR6J/eJuMQ9uwnLAADHqMCTFo1swCIG3nOix6j8Rq5gYwGNDfu0bG0Z3/sNVi5JecQPq25Vh85odEJscQHUHaT0uRulVF9dEoNIvHFfp61TsDkEgkqD4alfWcPvAuGXvWmSU/TUwiRyeup9vaMUgVchJCojg8bi0AzrXdaT9/MFu7+FP3sw7YlCtNlU4NqZLZ+wqw++N5pMXn/WkLc0iPSeTs+PW0Wj8GqVJOUlAUZ8aacnOo7U7TxYM52MG/0Pe4v/E3lPZquhyeg1QmJfZmEOdnvfw9lIb4eBK+mo/97FmmKdyfhpHw5Vzknp7YTfIlZtBgrHr2QObsjEXLlli0zJ7EJnb8BIyFjHAxS25zF1Bqziwkcjm6p2HEz5mHwrMadn6+RA/wxqpXZm6tWmLRKju3mLE+rzQ3AENcPNEzF+K0cDoShRztk3Bips1HWaMajtMnEP7xsEJfn7TzF6R2NrhsXYNEKiXj3gNivlxrltwcrJTM7FAT34M30OmNuNlZ8kXHN7kdmcDs43fY/kkzqjqq+bx1dcbuv4rBaLpva17n7IvYIfGpuNpaFrKVFxcbHcfUsV+w7Nt5yBVyQoOfMmWU6Vj2Rp3qzF7iTy+vTwGo4O5GdGQ0Ol3uoYQTZ4xBgoTZS7L3nasXbjBn8r80XFR4rUiM+Q1AfY2cP3+eVatWsWWLaQa5du3asXnzZtzc3LKma1+1ahUBAQFZy6NHj8bT0zNrMox+/frh5eVF//5Fm0Yz/ZZ5ZtIxt/HdzHPz6auyPuz1HXesCXv5GepepckNC/8yU5Je5+7urpqX/z2eV6nJAvOc7LwKurPX/jmoBEmslCWdQoE27LIt6RQK5PR67xK0r/qkpFMokNFgvt+qfBUyUos2iqckOA2q/s9BJaTR7LyjFl4ntyPNNxnQq5S6duw/B71iVsOWl3QKxfLa92Q1adKEJk2y73s4cSJ7CtvRo0fn+y+Qa7bBzZvN88ONgiAIgiAIgiAI/+R1vkgtCIIgCIIgCILwn/Pa92QJgiAIgiAIglCCxO9kFZvoyRIEQRAEQRAEQTAj0ZMlCIIgCIIgCELB/oNTqJc00ZMlCIIgCIIgCIJgRuIkSxAEQRAEQRAEwYzEcEFBEARBEARBEApmEBNfFJfoyRIEQRAEQRAEQTAj0ZMlCIIgCIIgCELBRE9WsYmeLEEQBEEQBEEQBDMSJ1mCIAiCIAiCIAhmJIYLCoIgCIIgCIJQMKP4naziEj1ZgiAIgiAIgiAIZiR6svKxsfOmkk4hX4sX1ijpFAr11R8JJZ1CgSY39C/pFAo179KXJZ1CgbbWmV7SKRToL4vX+zrRnKlXSzqFAo3SOpZ0CoVq1eRpSadQoGa617fpPC23KukUChUWaFfSKRQoQy8r6RQKZaXUlnQKBfp6YUxJp1Cg72TlSjqF/w1i4otie72/oQiCIAiCIAiCIPzHiJMsQRAEQRAEQRAEM3p9xzwIgiAIgiAIglDyDGLii+ISPVmCIAiCIAiCIAhmJE6yBEEQBEEQBEEQzEgMFxQEQRAEQRAEoWBGMbtgcYmeLEEQBEEQBEEQBDMSPVmCIAiCIAiCIBRMTHxRbKInSxAEQRAEQRAEwYzESZYgCIIgCIIgCIIZieGCgiAIgiAIgiAUyGj4b018sX//ftasWYNOp6N///706dMn1/pVq1axe/dubG1tAfjwww/p06cPYWFh+Pr6EhMTg7u7O4sWLcLa2vqFchAnWYIgCIIgCIIg/E+IjIxk6dKl7NmzB6VSSe/evWnSpAlVq1bNirl16xZLliyhXr16uV47a9YsPvnkE95++21Wr17N119/ja+v7wvlIYYLCoIgCIIgCIJQMIOx5B9FdObMGZo2bYq9vT1WVlZ06tSJw4cP54q5desW69ato3v37syePZv09HS0Wi0XL16kU6dOAPTs2TPP64pDnGQJgiAIgiAIgvBaS0xM5MmTJ3keiYmJueKioqJwcnLKWi5TpgyRkZFZyykpKdSoUQNfX19+/vlnEhMT+frrr4mLi0OtViOXmwb6OTk55XpdcYnhgmZSoV1dGk/+EJlSQczdEE5O/AZtsiZPnEfP5tQZ1hWjEXSadE5P30L0jUCz5/Pn/TBW/nadDL0BD2d7Zr7TGLWFIlfMg8h4vjp4meR0LTKJhKndG1HT1QGA7Rce8POVx6Tr9NQoW4qZ7zZGKZeZJTf5m41R9RgAcgWGp4FoNi+FtNRcMYo276Bs3Q2MRgzPwkn7YSnGpASQSLH4eCQyj1oA6G5dJH33BrPk9bcabevRZVJv5Eo54fdC2PH5etLzqcvm/TrSrG8HMBqJDolkl98GkmMS6ff1OBwrOWfFObiV4fH5u3zvvciseRbEaDTiP2cxHlUqMeCT9/+Vbf7Nzasu9f0+RKZSEHc3hNM++e8Hf2uxbChxd0O5ve4gAG3Wj8E2R9mpyzsRce4eJwYsMXuuVdvVpd2kj5Ar5UTeC2X/pA1k5JNrw/4daNi3PUajkbjgKA74fUNqTGI+7/hymrRrzCC/ASiUCh7fDWSx71JSk1PzxA2dNoTWb7ckMT4JgCePnzBnxFxs7G0YO3c0VWpWJi01jSM7jrJ34y9mz9O5fV1qTumNVCkn8W4oV8evR1dIHddfMYzEu6E8XPOr2XMBUDRoimW/IUgUCvRBj0leOR80uctN2boDFj16g9GIMSOd1A0r0D8MQKK2wWr4BOTuVTGmpZF+/BDpv+4p1vbtvRpQfnIfpCoFqXeCeeyzGv1z5VFgjFRKxRmfYd+2LhKZjLC1+4jachQASw833BcOR2ZtAUYjIV/+QMLJawB4bPDFumYl9KlpACSevkXwzO+LXXbu7erS8nNTu/XsXghHfb/Jdx+o0aM5DYd2hcx268TMLURmtlsjrq0hKTw2K/biul+5t/dMsXOxbdeAcn79kCgVaO4GEey7EsNzuRQlpvJ6PzIiY3kybX2u55Xly1D94BIe9plJ6o2HRcrpVdWt7VtvUnHGZyCTootLInjG96TeCQJerG5t2jbEZVI/pEoFmntBPPl8RZ5yKSzGsW9XHHp3RGKhRHPzIU8+X4ExQ4d1s1qUnTwAiUKOIS2dsJnr0Vx/UKSyK0z1tvXonKON3VVAG9sss401Go3EhESy228DKZnH3ulX1pMQEZMVe3LdAa7tO13sXP6uP0lm/QUWUsfPx0gslFSa6426rgdIIPnqA4KmbMCYloHtW29Sflo/JHI5xrQMgqZ9Q8q1on3uhIJt2rSJVatW5Xl+1KhRjB49OmvZYDAgkUiylo1GY65la2trNmzI/u44cOBApkyZwieffJIrDsizXByvvCcrMjISb2/vfNe1a9eOJ0+evOoUXjkLBxvaLPHm6JDlbG/tS1JIFE0mf5Qnzq5yWZr4f8zBvgvZ3cmfKyv20XHDWLPnE5uSxoy951n0UQv2jX4bt1LWLP/teq4YTYaO4Vv+4LPmNdg+rDPerd9gyu6zABy/E8q2Cw9Y168Nu0d0IV2n54ezAWbJTaK2w6K/D5p1X5AyYzCG6AgsegzMFSOtUBVVh16kzB9HyuyhGKKeonqnPwCKpl5Ind1ImT2MlC+GI69WC3n9lmbJDcDawYaPFg5l8/ClLPDyITY0irc//zhPXLk33Wk9pBurek1nUadJRAdG0MnnAwA2j1jG0q6TWdp1Mrv8NpCWmMKe6d+ZLcfCPAoKYdCYyRz749S/sr2cVA42NF/ize9DlvNzK1+SgqNoMCXvfgBgV9WVTjsmU/HtRrme/2PICn7p6M8vHf057fstGYmpnPPfaPZcrRxseGfhEHYNW8bX7XyJD4nCyy9vri5vVqKZ99t833Mm6zr6ERsUQRsf85+42jnYMXGxD7OGfMGANoMJD4lg8OSB+ca+0aAGc0bOY1jnEQzrPII5I+YCMHz6UDQpGga1G8Lod8fRqG0jmng1MWueSkcb6i8byoVByzjeYiIpwZHUnNo731i1hyvNd/nj2q2xWXPISWJrh/UYP5K/mkbCiE/RR4Rh1W9orhhpufJYfTacpFm+JI4fTNqOzaj9vgDAatAo0GhIGNWfxEnDUdRvgqJhsyJvX+5gS5Wlo3jgvZDrLUeTHhJJ+SmfFjnG+dOOWFQuy/W247jZdRJlvbthXdd0z4D7vCE823acmx18eDRhNR7rfEBmarJtGnhyu+dUbnbw4WYHnxc6wbJ0sKHzIm9+Gbqc79v6khASRct89oFSlcvSyv9j9vRbyJYu/pxbuY931o3NWqeJT2ZLF/+sx4ucYMkdbKm4eAyPh3zFnTYjSA+JoNzkfsWOcR7WA+vGNfO8v0SloNLyCUgURb+u/KrqVmZjRbVvJhH8xSZutp9A4OT1eKzzQaI05VbcupU52FJ+4ViCh88jwGs4GaERuHz+WZFjbDs1w/GzbjzuM5X7HUYitVBRetB7SBRyKq6cxJPJq3jQZQxRK3dQYcmEIpdfQawdbPhg4VC2DF/Kosw2tksBbWyrId34utd0lnaaREyONrZ05bKkxiezvOvkrMeLnGDJHWypvHQU970XcqOQOi4optyYXkhkMm56jeem1wSkFkpcR/dEopBTda0Pgb5ruNVhAk+X76TKSvN/1/vXGQ0l/ujfvz/Hjx/P8+jfv3+uVF1cXHj27FnW8rNnzyhTpkzWclhYGLt27cr+04xG5HI5Dg4OJCUlodfr831dcb3ykyxnZ+dcZ4v/i9xa1yLqeiCJgaYuxdubj1O1x1t54vQZWv70/YbUqHgAnl0PxMrJHqnCPD1Efzv7KII3yjlQ0dEGgA8aVuXQzWCMRmOuGLdSalpWcwWgjWc5FnzQHID914P4tJkndlYqpFIJ/t0a8nadSmbJTVazPvrgAAxRYQBknDyAokm7XDGGkIckTxto6t2SK5DaO2JMMV21RypForIAuQIUCpApQJdhltwAqrWsTeiNx0QHRQBw5odj1Hu3eZ64p7cC+arNeNKSNMhVCuxcHEiNS879typk9F48nH1fbCYhx5XeV2nb7gP06t6Jjm3Nd+JZVOVa1yL6eiBJmftBwObjVM5nPwCo/ll77v/4B8EHLuS7XqqQ0XLZUC7M+IHUMPOXXeVWtQi78ZjYIFOul374jTfzqeeIW0GsbuNDepIGmUqBjXMpNM/Vszk0aFWf+9cDeBpk2i/2bzmA13vt8sQplAqqvlGVj4Z/wIZja5mxbhplXE1DIjxqe/Db7uMYDAZ0Wh3nT1yg1dstzJpnmda1ibv2mJRA0/4RtOk3yvfMW24AlQd0JHjr74TtP2/WHHJS1GuE7uE9DOFPAUg/vA9l6/a5g7RaUlYtwBhn+hzpHgYgtXcAuRxZlWqk/3EUDAbQ6dBePovyrdZF3r5d67okX3tIWmA4AJGbDlO6Z8six5Tq0oRn20+A3oA+IYWYfacp3Stz+zIpcju16b/WlhjStQCoypdBprak8sIR1D6+lMpLRyGzVxej1EwqtqpFxPVA4jP3getbjlPjvfzbraOTviEls92KuBGIdWa75drAA6PewEe7ptHvyFyajn0PibT4V31tWtUj9fpD0oNMZRS95TAO77UuVoy66ZvYtqlP9A95758oP2coMTuPo4steg/0q6pbC/ey6JNSSTx1E4C0h0/RJ2mwaeD5QnVr07IeqTcekJFZLjE/HKLUu62LHFOqVzuiN+xFn5AMRiNP/FcTt+cERq2OO00/I+32YwCUFVzQZfaevwyPzDY2JrONPVdIG7swRxtr6+JASuaxt1KDahgNBobtmMG4Q/PxGtPzhT53f9dfeo76cyygjvOLSTp/h7DlO8FoBIOB1FuBqMo5YdTquFp/MKm3TL29qorO6OJevuwEsLW1xc3NLc/j7xkC//bWW29x9uxZYmNj0Wg0HD16lFatWmWtt7CwYOHChYSGhmI0Gtm6dSsdOnRAoVDQsGFDDh40ja7Zu3dvrtcVl1mHC+p0OmbOnMmDBw+Ijo7G09MTHx8fvL29OXHiBH5+fsTHxxMcHJw1U8eqVau4d+8eKpWKWbNmUb16daKjo/H39ycsLAy5XM748eNp1aoVK1eu5Nq1a4SHh9O3b18OHTpErVq1uHz5MrGxsUydOpXWrVsTHR3N9OnTiYiIQCKR4OPjw1tv5f9lzxzUro6khGV3W6eEx6KytUKhtsw1VCr5STTJT6Kzlt+a0YfgY1cwaPVmzScyIRUXW6usZWdbK5LTtaSk67KGDAbHJFFabcHMfee5HxGPjYWScR3qABASk0RsShojtvzBsyQN9So6Mb5DXbPkJi3lhDE2uwyMcc+QWFqDhVXuIYMGPfI6zbDoNx60WtL3bwZAe+YYigatsJm/FWQydHeuoLthvi9x9q6OxIdn12VCeCyWtlao1JZ5hjMYdHre6NiQD78agi5Dy5ElO3Otb/xRWxIi47h15JLZ8vsn/j4jADhz4cq/ts2/Wbs6kvrcfqDMZz8AOD/VVJ/lWtfK9708Pm5DamQcIYdfTdnZlnUkMcfJW2J4LBa2VijVlnmGSxl0ejw7NqDbfG90GVpOLtn1/Nu9tDKuTkSFZe8Xz8KfYW1rjZXaKteQQUdnB66eucb3CzcSFBDMh0PfZ/a3MxnWZST3rt6jfS8vbl26jUKpoGWXFuh1OrPmaenqgOZpdh1rwmJR2FohV1vmGTJ4Y8pG09/WJv86Ngdp6TIYoqOylg3Rz5Baq8HSKmvIoCEqAkNURFaM1cCRaC+eBp0O/f27qNp0RHf3JiiUKJu1Bn3Ry0xVzpGMHPWWHh6D3NYamdoya8hRYTEqV0cycuwz6eExlKpREYCgKRuosXMWLt7dUZS25cHwJaA3oChtR8JfNwia9g0ZEXFUmj2QKktGcn/g/GKVna2rI0k5jnVJme3W8/tA4pNoEnO0W22m9eHRb6Z2SyqXEnLqNn9+tR2ZQkaPjRPJSNZw5dsjxcpF6Vo6VxllhEcjs7VGqrbMGtJWWIzM2hK3WYN5+OksnPp0yvXejr07IJHLifnpGC6jPyhyTq+qbtMehyG1UmHXug4JJ69jXacqlp7lUTiXwpCWUey6Vbg6oQ3PzkGbT9kVFqNydyXV0Q73TTORl3Eg5eIdwudl9p7p9MhL2+NxYBmyUraEjF5Q5PIriL2rIwnPtbEWhbSxNTs25P3MNvZoZhsrlcl4cOoWh+b/hEwhY8B3k0hP1nDqu0PFykX5XP1l5FPHhcUknLye472ccBncjcBJawAw6vTIS9tR68gi5A62PBy+uFi5vZaKMfFESXN2dmb8+PH069cPrVbL+++/T+3atfH29mbMmDHUqlWL2bNnM3z4cLRaLfXr12fAgAEAzJgxAz8/P9asWUPZsmVZsuTFb1cwa0/W1atXUSgUbN++nWPHjpGUlMTJkydzxdjb23Po0CHatTNdpa1YsSJ79+5lxIgR+Pn5AfDFF1/QtGlT9u/fz4oVK5gyZQrR0aYPeUZGBgcPHuSTTz4BQKvVsn37diZPnszy5csB+PLLL+nVqxd79uxhzZo1TJ8+neRk8199/ptEIsnVS/Q3oz7/3xSQW6pov3Y0tpWcOen7jdnzMTw39vRvshxXenQGA6cehNOrQVV+HNqJ3k08GLX1TzJ0erQGA+ceR7Lgg+b8OKQjiZoMVh6/YZ7kpFIgnx3VkPdEU3f9LMk+H5J+4AesxswFiQRVt74YkuJJ8u1N0ud9kFjboGzfyzy5Ufy6vH30EjPqD+Host14b/bLVe6tBnbl+KqfzZbba09avLIrTE3vztxYvs8cWeVLUsxcA45eZnG9Yfy5dA+fbPGDlxijnX8++e8XBn3u/SIiNBL//tMICggGYMe6XZStWBaX8s6s/WI9RqORtYe/ZvY3M7ny1xW0GeY9yTLlmVeJ/X6KRJrv4YT88lFZoJ40C1nZcqSsWghA6vdfY8SI7dJvsJkyB+21Sxi1xSgzidR0Ffs5uT5HhcU8t06S+bxEpcBjrQ+Pxq3kakNv7vScRuUFw1C6OpJ89QH3B803fYE3GHiyeBv2Xg2KNRTOtLH89wFDIe1WtzWjsa/kzNFJpnbr5k9/cGLGZnSadNITU7m84RBVOzUsXh4AUgn5VmTOXAqKkUiotMqHJ7O+RRcVl2uV5ZuVKf1pZ0Imf138nF5R3eqTNQQMnE+50b2odWwJTh+0IfHUTYwZuherW4mkCHkWHCORy7FpWZfgkfN5+M4E5PZqXHyzh8zpouO52/QzHvX0xW3hWJTurgXnUgQFtbEFfe7uHL3E7PpD+G3ZbgZltrEXtp3gl5kb0WrSSUtM5a9vDvJGp0b5vr7wXP65josSY1WrMjX3ziHy+0PE/3Y563lddAJXG3hz+53JVF4yCovKZYudo/DiunfvzoEDBzhy5EjWbUsbNmygVi3Thb9OnTplrZ83bx5KpRKAcuXKsWXLFg4ePMi3336LnZ3dC+dg1p6sRo0aYW9vz9atW3n8+DFBQUGkpua+Abl27dq5lj/4wHRlqXXr1vj6+pKYmMi5c+eYM2cOAOXLl6dOnTpcv34939e3bGnqtvXw8CA+3jSc4cyZMzx+/JgVK1YAph620NBQatSoYba/teHEXlTsUB8ApdqS2HuhWeusXUqRFp+MTpOe53VqV0c6b5xA3IMw9n/4Jfo0rdly+ltZO2tuPc2+Sh+VpMHWQomlMru6nWwscXeypZabIwBtq7sx+5eLPIlLpoyNJV413LJ6vbrWrsT6k7fMkpsxNgpJpepZyxL70qahgBnZZSVxckVqWwr9o9sAaE8fwaLPaCRWauT1mpO27WvT1Wa9Du3ZY6Z7sn7b/cI5dRr/PjU7NADAQm1JeEB2Xdq5OJAan0zGc3XpWNEZGyd7gi6Z7lW7sON3en05CEs7a1Ljk3F9oxJSuZRH5+6+cF7/BXUn9qJCR9N+oFBbEpdjP7ByKUV6XP77QWEc3qiIVCYj4qx5y671hF5Ua2+qZ5WNJVE5crV1cUATn4z2uVxLVXRG7WRH6KX7AFzb8Qdd5w7E0s4aTfzLXbjp79OPZh2aAmCttiIwIChrXWmX0iTGJ5H2XD7u1d2pUrMyv+05nvWcRCJBp9VjrbZiw9xvScoc0vPxqN6EBYe9VI4A1Se9T9nMOpbbWJF4NyRrnUVZBzLiktGnFq+OzcXwLBJ5tezjutSxNIakREhPyxUnLV0G9dR56J8Ekzh1HGSYhhhLLK3QbFyLMdlUZhbv98UQUfT7hDOeMlfRigAAIABJREFUPkNd3yNrWeniiC4uCUOOeissJiPsGQpnh6x1ChcHMsJjsPKsgNRSlfWFLfnKfTQBoajrVUPrFo/cXk3c0YumF0kkYDAW6WLGWxN6UeXvdsvGkugc+4DapRSaAtotG1dH3vtuArEPw9j50ZfoMocu1ujZnGd3QrLfR2LqfSgu7dNnWNerlrWsdHFEF5+7HAuKsfQoj6qCC27TTfcwKpxKgUyKVKXEkKJBprbEc6+pJ0jh7EClFRN4+uVGEo7lP1T5b6+qbpFIMKSkcef96Vnr6vy1irSgCGwa1yh23WrDnmGVo1wUmeVizFl2hcRoo2JJOHw2q9cr7uc/cB7bG6mNFeq3apN45BwAmtuPSLsbiIVnJTICi3dc6ZCjjVWpLYkIyH3sTc3n2Pt8G3txx+/0yGxjPdvWJfxuCBH3QrKKSV+ciyOZ0otQx/8U4/Buc9znDiFo6jfE/PwXADIbK2yb1yLusGmUTerNx6TeCcKyekXSHocXO0/hv8usPVnHjx9n4sSJWFhY0LNnTxo1aoSra+6rHhYWFrmWZbLs+5H+vvHs+ascRqMx6ya051+vUqmA3LN/GAwGNm3axL59+9i3bx87duygWrVqmNOlRbvZ3cmf3Z38+fmdmZSpXxVbd9OsaDU/9SL4SN7hWgprC7rv9Cfw0CWOj1z9Sk6wAJpVceHGk2iCY0xfHHZdekib6uVyxbSoWpancSncyRwydTnINOSmnL2a9jXLc/R2CGlaHUajkd/vPeENV0ez5Ka7cxlZ5epIy5g+F8pWb6O9fjZXjNTOAUvvyUisTWNsFU3aYXgajDElCX3IQxQNM8fHSmXI6zRFH/hyX8aPLN2VNVHFyh7TqVjXg9KVXABo2qc9t4/lHbJmW8aevitHY1XKdN9b/fdaEHE/lNTML95VmtTg4ZnbL5XXf8G1RbuzJqr4tftMnOpXxSZzP/D81IuQo8UftujSrDrhp++YO1VOLtnNhq5T2NB1Ct+9N4Ny9arikDmTYYM+XgQcvZznNeoy9vRcNRrLUqb7Imq915xnAaEvfYIFsGnx5qzJK0a/O5Ya9apTrpJpv+je923OHD2b5zVGo4GRs4bjUt6U9zv9uvH4biDREdF0+7Qb/X1MEwHYl7ana+/OnNj7+0vneW/BLn5vP4Xf20/h5NvTKdXAA2t30/7h3s+L8CN5y+3for12EblnTaRlTcc3Ved30F547gZ4S0tsvlxOxtk/SVk0O+sEyxT/LpafmL6cS+xKoerwNuknj1NU8Sevo65fDQt30xVq534dif37C3IRYmKPXKTMx+1AJkVma0Xpd1sQe/g8aUHhyGysUDf0NOVZ0RnLauVJufUYmbUFleYMzrpXx3X4e8T+ejb/3rvnnFmyO2uCih/fnUnZelWxz9wH6vT14lE++6vC2oIPd/jz8PAlfh21OusEC6C0pxvNfXohkUqQqxTU69+RgP3nilx+f0v88xrW9TxRVTKVUem+nUk4eqFIMSlXArjVZBD3Oo/nXufxRP9wmLj9pwiZtIons77lTusRWeu0kbEEjVnyjydY8OrqFqOR6lv8sa5dBQDHd5pjSM8g9U7QC9Vt0l9XsarriTKzXBz7dCHx2PkixyQcPI392y2QqExX8W07NiX1+gPQG3BbMBarBqaLGCqPCqiquKG5VvxJsI4t3ZU1QcXqHtOpUNcDxxxt7J182libMvZ8kqONrZejjXXxLE/HCe9nfe6a9e/EjQPF/9wlZNafKkf9xT1Xx4XF2HdoSKUvBnPv49lZJ1hg6uWqvGQk6kamC8qW1cpjUbUcKVdffmbGEmUwlPzjP8asPVlnz56lS5cu9OrVi9DQUM6fP0+zZoXP1LR//3769evHsWPHqFKlClZWVjRt2pRdu3YxYMAAQkNDuXLlCjNnziQgoGg7d9OmTfnxxx8ZMWIEDx8+pE+fPhw/fhy1uvg3BxdFWkwif/isp+O6MUgVchKDo/h93FoAStd2p/XCwezu5M8bn3VA7VaaSp0bUqlz9pCKAx/NI90MX9r+5qC2YNa7TfDdcRqt3oBbKTVzejTh9tNYZv1ygR3DO1PaxpKlvVsw99dLaDL0KOVSlnzUApVCxoeNqpKgyeCTdUfRG43UKFsKn271/nnDRWBMSiBt02Ish0wDuRzDs3A03y9EWtEDy0/HkzJnBPqHt0g/uA0rn4Vg0GOIjyF1zUwA0neuxaL3SKxnfQMGA7p7V8k4srPwjRZDckwi233X0m/NOGQKOTHBkfw0wTTUxK1WZT6Y783SrpMJvBjA8dV7GbFtGnq9nsTIODZ6Z4+5Ll3Jhdgc9zH8f5AWk8ipCetpu960HyQFR/HXWNN+4FjbneaLBvNLR/9/fB8bdxeSnzz7x7iXkRqTyH7fdby/ZiwypZzY4Cj2jTeNpS9by51u873Z0HUKoRcDOLVqL/22T8WgM5AUFceOIUvNnk98TAILfRYzfd005Ao54cHhzB9vGtJWrbYHExaMZ1jnEQQFBLNq+td88f1spFIp0eHRzB01D4CfVm3Db/kkNvy2DgkSNi7eTMD1+2bNMyM6kavj1tH4m7FIFXJSgiO5PNpUbvZ13Km32Jvf208x6zYLY0yIJ2XFV6g/n41ErkAf8ZSUZXORVfXEeqRpNkGLrj2ROjmjbNoSZdPsm9qTpk9As/sH1OP8sV3xPUgkaH78Dv3De0Xevi4mgcfjV+Gx3hepUk5aUAQPx67AunYVKi8ewc0OPgXGgOkmeouKLtT+bQkShZyoH46RdM50geH+oPlUmj0IqUqBUa/n8aQ1pAdHkh4cScS3v/LmvrkglZB6N4THvsUfDqeJSeTIxPV0XzsGmUJOfEgUhzPbLefa7nScP5gtXfyp91kHbMuVpmqnhrmGAu78eB5nl/6M1xf96X/sK6RyGfd/vcDNn/4odi66mASCfVbgvu5zpAo56cERBI1fhlXtqlRYMJJ7nccXGPOqvMq6fTByKZUXDUeikKONisu65yr+96vFrlt9TAJPfJdTcc1kJAo5GcERhE5YgmWtqrjNH82DrmMLjAGI2XIQmb0ajwNLkUilaG4/4smX32JITSN4yJe4TvdGopBhzNASMmYR2hzTpr+IlJhEdvqupe+accgz29jtmW1suVqVeX++N8u7TiboYgAnVu9l6LZpGDLb2M2Zbexvy3bz7uwBjD+yAJlcxo2D57mw7USxc9HFJPDoufp7lFnH7otHcCuzjvOLAagwvT9IwH3xiKz3TL54j6ApG7g/8CsqzhpoKrt0LY9GLjX1ZAr/r0iM+Q2OfUEBAQFMnDgRAIVCQbly5VCpVFy5ciVr4ovGjRvTs2dPwDSFe5s2bbh8+TLW1tbMnTuXSpUqERkZyfTp0wkLM3VJjx07lvbt27Ny5UqArLnwP/30U0aNGkWTJk148uQJ/fr148SJE3leP3HiRFq3LvqMUevc+pqrSMyq38IqJZ1CobR/FP9K0r9l9hGHfw4qQfMufVnSKRRoa53p/xxUQkLlr/eNuCcNr++J9iiteXqnX5VWTZ6WdAoFun/x9S2703Krfw4qQW2Nr+8saxl68870a25Wylcz+sUctvJqLmKbQ8+MkhnOXFRNwor323wlJWV6/j/X8W+ynr2tpFMoFrP2ZHl6erJ///4C13/11Ve5lk+cyP/Kg7OzM+vWrcvzfM4fGgPYsmVL1v/d3Nyy3q+g1wuCIAiCIAiCILxqr/x3sgRBEARBEARBEP4/MWtPliAIgiAIgiAI/2OM/72JJ0qa6MkSBEEQBEEQBEEwI3GSJQiCIAiCIAiCYEZiuKAgCIIgCIIgCAUzvN6z+b6ORE+WIAiCIAiCIAiCGYmeLEEQBEEQBEEQCmQ0iIkvikv0ZAmCIAiCIAiCIJiROMkSBEEQBEEQBEEwIzFcUBAEQRAEQRCEgomJL4pN9GQJgiAIgiAIgiCYkejJEgRBEARBEAShYKInq9hET5YgCIIgCIIgCIIZiZ6sfJySpZZ0Cvk65XeTT9OUJZ1GgZq+V9IZFOx1v5qwtc70kk6hQH2uzy7pFAql8R9e0ikUqNshi5JOoUAZ0rSSTqFQ3S/JSjqFAm2wTC/pFAo0YnKlkk6hUDPm6Es6hQJ1znh9cwO4pLcq6RQK1ET7+k7v7ekVX9IpCP9PiZOs/5DX+QRLEErC63yCJQiCIAj/M4yv74n06+p1v8AvCIIgCIIgCILwnyJ6sgRBEARBEARBKJiY+KLYRE+WIAiCIAiCIAiCGYmTLEEQBEEQBEEQBDMSwwUFQRAEQRAEQSiQUQwXLDbRkyUIgiAIgiAIgmBGoidLEARBEARBEISCiZ6sYhM9WYIgCIIgCIIgCGYkTrIEQRAEQRAEQRDMSAwXFARBEARBEAShYAZDSWfwnyN6sgRBEARBEARBEMxI9GQJgiAIgiAIglAwMfFFsYmeLEEQBEEQBEEQBDMSPVkvoU67Bnw4qQ8KpYLQe8FsmLSatGRNgfENOjZm6NKxDHmjDwCj1/jiXNEla71T+TLcO3+HpYPnvVA+pdvXw8O/N1KlgqQ7Idwevw59PvkUFtfmznrSwmOzYoO+3k/E7tOUal4Tz5mfIpFL0cYlc2/qJpLvhLxQnvI3G6PqMQDkCgxPA9FsXgppqbliFG3eQdm6GxiNGJ6Fk/bDUoxJCSCRYvHxSGQetQDQ3bpI+u4NL5RHQaq3rUeXSb2RK+WE3wth5+frSc+nHN/q15GmfTuA0UhMSCS7/DaQEpMIQLO+HWjcuy1yCyVPbway8/N16DN0ZsnPzasu9f0+RKZSEHc3hNM+36At5HPXYtlQ4u6GcnvdQQDarB+DbSXnrPXq8k5EnLvHiQFLzJJfYYxGI/5zFuNRpRIDPnn/lW/vb6/jZ862XQNcP++HRKlAcy+IEN+VGJ6rx8Jial3bQkZ4dFZs1Lq9xO09ibpZLcr5f4ZELsOQlsGTGRtIvf6gWLnZezWg/OQ+SFQKUu8EE+izOs+xpKAYiYWSSnO9Udf1AAkkX31A0JQNGNMysK5TlYqzByK1UiGRSglb/TMxe/58wRLM1syrCcP8BqNUKXl49zHzfBaSmpyaJ65ydXfGfzEata01Br2BBZ8vIeBm7rKZu2EW0ZExLJm64oVyUbdpRBnf/kiUCtLvBRE2eVmeei0wRirFZeYwrBubPmvJJy8ROe9bAJRVy+P65WikVpYYjUaiFm4k5a8rL5Rjfv58FMnKPwPI0BvwcLJhZufaqFWKXDEPniXy1fHbJKfrkEkkTO1Yi5oudmbL4Xmv27HYsX09qvh/gkSpIOVOMHfHr823jS0oTmZjSY2lw7HycEUikRK+4yQhq/aZXtOxATVXjCTtafY+feWd6ehT0oqdZ8V2dWnm9yEypYKYuyEc982/jajWozn1h3XFaASdJp2/Zmwh6kYgMgsFred8hnPdyoCEyGuPODl1I/o0bbFzyY9L+7q8MaU3UqWchLuhXBm/Hl1h351WDCPxbigP1vya9ZzC1opWe6dzefw64q8HmiUved0mWH40GORK9KGPSd2wEDS5jyPKDu+hav+OqZ2ICiP1m8UYE+PB0hqrIRORla0AUgkZfx4l/cA2s+Ql/Hf953uyduzYwYEDBwBYvnw5x48f/1e2a+Ngy5CFo1gxbCGT2o0mKiSSj/w+LTDeuVJZPvbvj0SS/dzK4QuZ2tWHqV19+NZvDamJqWyatv6F8lE42vDm8mFcH7iU080noAmOotrUj4sVZ1WlLNr4FM55+WU9InafRm5jSd3vJnB/9lbOtv2cO5O+pc6GcUiUxT9Hl6jtsOjvg2bdF6TMGIwhOgKLHgNzxUgrVEXVoRcp88eRMnsohqinqN7pb8q/qRdSZzdSZg8j5YvhyKvVQl6/5QuUWP6sHWz4cOFQtgxfykIvH2JCo+jyed5yLPemO62GdOPrXtNZ0mkS0YERdPL5AIA3OzXirc86sb7Plyzp4IvCQkHLQV3Nkp/KwYbmS7z5fchyfm7lS1JwFA2mfJRvrF1VVzrtmEzFtxvlev6PISv4paM/v3T057Tvt2QkpnLOf6NZ8ivMo6AQBo2ZzLE/Tr3ybeX0On7m5A62VFg0hsChX3G37QgyQiJw9etX5BhV5XLo4pMI6DI+6xG39yQShZxKqycS8vkq7nUeR8TKHVRcNr7YuVVeOor73gu50XI06SGRlJ/yaZFjyo3phUQm46bXeG56TUBqocR1dE8APL7x5cmibdzq4ENA3zlUnDkAlXvZFy1GAOwd7PBfMgn/ITP5uFV/woLDGD7FO0+cykLF0h8X8OOa7QzoNJTvl21hxir/XDGfDP+I2k1qvXAuMgdbXBeM48nIuTzqMJSM0AjK+A4ocoxdj3aoKrvxqOtIHnUbhVXjN7Hp0gKAsrNGEL/zGI+7jybcbxluK/1AZp4mPDY1nRmHb7DovQbsG9wGN3srlv95L1eMRqtn+M4LfNa4Ctv7t8S7WVWm/HrVLNvPz+t2LFY42lBj+QhuDlzM+ebj0ARHUWXqJ8WKq+zXm/TwGC60nsjFzpMp178Dtg09ALBrVI2QNfu56DUp6/EiJ1gWDjZ4Lfbm0JDlbG3jS0JIFG9NzttG2FcuS3P/j/nl04Vs7+zPpRX76LJ+LAANR7+LVCblpw5T2NZxMnILJQ1GvlPsXPKjdLSh/rKhnBu0jGMtJpISHMmbU3vnG2vj4UqLXf6U69Y41/POXnVpc3A26iovd+zISWJjh9WQSaQsm0mSb38MUWFYfpT7OCKr5IHF2x+SNHM0SX6D0Ec8xeJ9075r+cEAjDHRJPkNImnaCFTt30FWtabZ8nstGIwl//iP+c+fZF25coWMjAwAxo4di5eX17+y3Vqt6vL4xkMig8IBOP7DYd56N/8vXkoLJcOXjWXrFxvzXS9TyBm6ZDQ/zP6O2PCYF8rHsU1tEq4+IjUwAoDQTcdw6dWiWHH2japh1BtotG8mzX6fT+UJPUEqwapyWXSJGmL/ugVA6sMwdEka7BtWK3aespr10QcHYIgKAyDj5AEUTdrlijGEPCR52kBTT4NcgdTeEWNKkmmlVIpEZQFyBSgUIFOALqPYeRSkWsvahN54THSQqXzO/XCMeu82zxP39FYgC9qMJy1Jg1ylwM7FgdS4ZADq92rJXxt+RZOQgtFoZI//t1zZ85dZ8ivXuhbR1wNJCowEIGDzcSr3eCvf2Oqftef+j38QfOBCvuulChktlw3lwowfSA2LzTfGnLbtPkCv7p3o2NZ8J8VF8Tp+5mxa1SP1+kPSM48f0VsO4/Be6yLHWDeoDnoDHrvmUv3IclzGfgRSKUatjluNB6K5bbqyq6rggi4uqVi52bWuS/K1h6QHmrYbuekwjj1bFjkm6fwdwpbvBKMRDAZSbwWiKueERKXg6ZIdJP51A4CM8Bi0MQmoyjoWK7/nNW7dkLvXA3gS+BSAnzf/QsceeduBxq0b8jQ4jLMnzgNw6ugZpg2bnbW+XrM6NG3bmH1b9r9wLtYt6qO58YCMINNnLW7rr9i926bIMRKpFKmlBRKlwvRQyDGmmz5rEpkUqZ0aAKm1Zdbz5nA2KJo3XOyoWMoagA/qVuTQnTCMRmOOmGe42VvRsnIZANpUdWZB9/pmy+F5r9ux2KFNHRKvPkKT2XY+3XQUl155j2WFxT3w/56HM7cAoCpjj1SlQJdo6imxa+hJqRZv0OjEAurvm4V90xovlGeFVrWIuh5IQpCpjbi15TjV3svbRugztJyY9A2pUfEARN0IxMrJHqlCRtj5e1xasQ+MRowGI89uBWFbrvQL5fM859a1ib/2mJTM8gnc9Bvle+atV4DKAzoStPV3nu4/n+v5qoM6cWnU16Rl5m4O8loN0T8OwBBpOo5k/PYLyua5jyP6oAck+nwKmhRQKJCWKo0x2dRjqtm8Cs2PawCQ2juAXIFRk2K2/IT/plc+XFCn0zFz5kwePHhAdHQ0np6eLFmyhC1btrBz505KlSpFlSpVKFu2LKNHj8bT05OAgAAA9uzZw4ULF/jqq684dOgQ33//PWlpaWRkZDB37lzS0tI4ceIE586dw8nJiV9//ZXGjRvTs2dPNm7cyE8//YRMJqNt27b4+vqa9e9yKOtITFh2t35seAxWttZYqC3zDBkcMG8YJ348Sui9oHzfq81HXsRFxnL5yPl81xeFhasjaWHZJ2jpYTEobK2QqS1zDWcoLE4ilxH7100ezPkJiVxGva2fo0vW8PTHP5BZqXBsXZuYkzewrVsZtacbKmf7YucpLeWEMTa73Ixxz5BYWoOFVe7hWwY98jrNsOg3HrRa0vdvBkB75hiKBq2wmb8VZDJ0d66gu/Hi5fY8O1dHEnKc6CaEx2Jpa4VKbZlnmIpBp+eNjg15/6sh6DK0HF2yEwAn97KEOj5i0CY/bMuUIvDiPX6d96NZ8rN2dSQ1R/2lhMeitLVCobbMMxzk/FRTmZVrnf+VeY+P25AaGUfI4Utmye2f+PuMAODMBfMNcSqK1/Ezp3QtjTbHUL+M8GhkttZI1ZZZQ8sKi5HIpSSduk7YV5uRKORU3jgNfXIqz77dDzo98tJ2eB5ciryULUEjFxYvt3KOZITl3G4MclvrXMeSwmISTl7P8V5OuAzuRuCkNRjTtTz7KXukgVOfDsjUliRduV+s/J5XxrUMUWFRWcvPwp+htlVjpbbKNWSwfGU3Yp/F4rdoIh41q5CUmMzXc0wjB0o7OzJ29ih8+nzOu327v3AuirJOaMOfZS1rI6KR2eSu18Ji4nf/hm3XFlQ7sxlkUlJOXSX5hOkiSfiMNVT8YS6OA95D7mjHk7ELQG+eKZUjkzS42FhmLTvbWJCcoSMlQ5c1ZDA4NoXS1ipmHr7O/agkbFRyxrV5sROBonjdjsUWro6kP9d2ygtoYwuLM+oN1Fw9GqduTYg+dJHUh6aTbW1cEpF7TvHswHnsGntSe9MkLrTzJT28eBfA1K6OJOfYfnJ4LKp82oikJ9EkPcneh1tM70PgsSsYtHpC/7yV9bxNOUfqDu7M759/W6w8CmLp6kDq0+z8NGGxKGytkKst8wwZvD5lIwDObXK3Yac/mW+WXHKSOpbBEJt9HDHEPkNipQZLq9xDBvV6FA2aY+k9EbRaknd9n73OYMBq+GQUjVujvXQKQ1io2fMU/lteeU/W1atXUSgUbN++nWPHjpGUlMTmzZvZtWsXe/bs4bvvvuPmzZuFvofBYGDbtm2sXbuWX375hcGDB7N+/Xreeust2rVrx5gxY2jZMvuK0o0bN/jxxx/ZtWsXv/zyC7dv3+bWrVuFbKH4JFKp6Urtc4zPNXpen3bGoDPw544TBb5Xp0Hd2bdylxnyyWfFc79rUFjc0x9OcG/KRvSp6egSUwle+ytlujRCn6zh2meLcB/7Hs1OzMf1w1bEnr6N4UXGtUul5JuAQZ/nKd31syT7fEj6gR+wGjMXJBJU3fpiSIonybc3SZ/3QWJtg7J9r+LnUQCJRJLr6m12evl/mbl99BKz6g/h2LLdDNrsh0QiQSaXUa1lLX4YuZwV70zByl5NZ9/8h/QVmzT//J7/3BVFTe/O3Fi+zxxZvd5ex89cAZ+zXF+aC4mJ+ekYT2ZswKBJR5+YQtSGfdh1apr9d0QncLvxQO73mESFxWNQubsWI7V/PrYVJcaqVmVq7p1D5PeHiP/tcq64sqN64DaxN/f7z8OY9nI9MlKpJL9U8uyzcoWcZu2a8MvWAwzqOpxd3/3Moi3zUCgVzFw9lRUzvyYm6uV6dCVSyT+XXSExTmM+QReTQECTPjxo3h+ZvQ0Og3ogUSpwW+FH2KSlPGjRn6CPP6fsnFHIy5qnd8FgBEk+z8tyjG/XGQycehxFr9oV+LFfC3rXr8SoXRfJ0OXdj8zhtTsWS6X5H3uf/+2gIsTdGbmSUzUGIbe3xt3HdG/qrYGLeXbAdPEm4UIACZfu49C6drHTlEglGPM53hXURsgtVXReMxq7Ss6cmPRNrnVOtSrRc/c0bmw8RtDxa8XOJf/88v/amacc/20SSZG+QwFoL58mcVgP0vZswtpvPjnvA0ldM4+EYe8hUdtg0bPgW0j+i4xGY4k//mteeU9Wo0aNsLe3Z+vWrTx+/JigoCCaNGlCmzZtUKtNQx/efvtttNqCb6iUSqWsXr2aEydOEBgYyIULF5AWsKMCXLx4kbZt22JjYwPAxo0bzfK39JzQm/rtTfe3WNpYEnove+KHUi6OJMcnka5Jz/Walu+3RWWpYs7BxciVcpQWSuYcXMyiz+YQHxVHxTfckcml3Dt3u9j5VJn0AU6dGgAgt7Ek+W72VRNVWQe0ccnoU3Pnk/YkGrv6VfONK/t+S5LuBGdNaCGRSDDq9CCRoEtJ41LP7KE1zc8szRpyWBzG2CgklapnLUvsS5uGZWVk5ylxckVqWwr9I1OZaE8fwaLPaCRWauT1mpO27WvQ60CvQ3v2mOn+mN92FzuXv3Uc/z41O5jKUaW2JCIguxxtXRxIjU9G+1y9OlZ0xsbJnqBLpl7Xizt+p+eXg7C0syYxKp6bhy9mXW298vMp2o/t+cL51Z3YiwodTcNyFGpL4u5l52flUor0uGR0z+X3TxzeqIhUJiPi7N0Xzuu/4nX8zGWEPcOqXvZwW4WLI7r4JAw56rGwmFI926C5E0javWBT/hIJ6PRIbayweas2CUfOAaC59RjNnUAsqlckPTCsSLmlP32Gur5H1rLSxRFdXO7c/inG4d3muM8dQtDUb4j5OXt4lkQpp/Ky0Vh6lOd2dz8ynmT36BTH4Imf0aKjaQiUldqKx/eyb3wv7eJEYlwiaZrc97NER8QQ9CCEO1dN9xqdOnoGv0UTqVbLA9eKZRkzY7gpdycHpDIpSpWCr3wXFysvbdgzLOt4Zi0rnB3RxydhzFF2hcXYdGpGxKx1oNVh0OqI33Mc287NSb1wE4mliuTfLwKguRZA+oPQEY5pAAAgAElEQVRgLOt4kpSjt/NFlbWx4FZ49tCrqKQ0bC0UWOa479ZJbYG7o5parqUAaOvhwuwjN3mSkEplR5uXzgFev2Ox+6QPKd2pIfB3G5vd5v/ddhryaWNt82ljDanpOLSpQ/LdEDIi49CnphP582nKdGuK3NaKcgM6Efx/7N11dBTX///x56zFXQkaSJC2BHeKuxb7QEtxKe7BghUrDkWKt6WUClK0FChQaCkUa3GHCCHunqz9/tgQEiJElib9fe/jnJ7TnX3v7ovZmbl7596ZfH7w1RtJoFPnrwNbf2ov3Nsa2giVpRmRmdabpasdKTE5txGWbg50+WoKUU+CONh3SZYbW3h2a0jzJYP5fe4uHh26lK8cuak2vTelXrZhVubEZlqPpqXsScvht8q/TRcZhsLj1cisZO+ELiEOUl8dR2Qubkg29mgfGU7ap537BbOhk5AsrJC7V0b73Bd9TCSkpqC+dBZlvWb/+r9DKFne+kjWmTNnmDZtGqampvTs2TOj05WZQpG1r/eyt6rRGEZKEhMT6d27N4GBgdSrV48BA/I+O6BQKAw/OtKFhoYSFxdX5H/LT2t+yLhRxacfzMKjVmVcKhguvGzdvx1/n7qa7TULus9gVrtJzOk0lVWDF5OWksacTlOJCYsGoGqDd7l3sXCjbE9X7Mu4QcWVTnOxqeOBubvhboVlBrUhLIdpYJHnb+VaZ1m1LB7T+4BMQmaqpOzQ9oQcvgR6PbW/m4l1jYoAuHRvhC41rVB3F9Tcu468YlVkzoYz66pmnVHfzHoAl9nYYzZiFpKFNQDKBq3QvfBHnxiPNuAJyrrpBy6ZHEWNhmh9i9ZROLV2P+s6zWJdp1ls7DGPcjU9caxgWD8N+7fh7q/Z16OVsy0fbRiPuZ3hx0WtD5oS8ug5STEJ3Dp+mRqdG6JIn2bzbru6PL/5tND5bqw6kHGjip+7LsCptgdW7oa7A1YZ0JqAUwWffufaqCrBf94rdKb/kpK4zcX/fgOLWlUwST9+OH7cgdhTV/JdY1alHKWmfpR+vZgKx0GdiD76B2h1lFs1Hou6hk6laeWymFYqQ9I/+Z+SF3v+Jpa1K2fckMJlYDuiXzu25VVj27YuFRYN58GHC7N0sAAqbZiE3NKce91mFbqDBbBj1dcMbjeSwe1GMrLrON6tXY0y7qUB6DGgK3+cupjtNX/9dhm3sq5UqW7oHNZo4AV6PY/vPKZnvX4Z73do91HOHjlX4A4WQMKFvzGrVQVVBcO2ZvdRJ+JP/5XvmpS7T7HulH4trUKOVesGJN94QJpfMHIrc8xqG34EKsu5YuJZjpR7hT+uZNaoghO3gqLxjzZcQ7L/ZgAtPFyy1DR1d+JFbDL3QmIBuP48EiQobWNulAxQ8o7Fviv2ZtyE4lonH2zqeGKW3na6DWpLxInsbX7U+Zu51jl3b4T7NMPIlaRS4NytEdEX7qBJSKbMkPY4dW4AgOV7FbCu5UHUb/kbPbqy+gA/dvDhxw4+7O++ANdaHtik30H2vY9b45tDG6G0MKXHXh+e/nKNU2M3ZelgVWhTi/c/HcCR/suL3MECuL9iP2fbzOZsm9mc6zwP+zqeWKSvn4oDWxN88vob3uHt09y+htyjGjIXw3HEpHVX1NezHkckWwcsxs9FskxvJ5q0RvfcD31CHMqGLTDtmX7zIoUSZYMWaO6+vRvDFIvivunFf/DGF299JOvSpUt07NiRXr168fz5cy5fvkydOnU4d+4cY8eOxdTUlFOnTmVM97Ozs+Px48d4enpy9uxZbG1t8fPzQ5IkRo0ahV6vZ/r06Wi1hjM8crk84/9fqlu3LtOmTWP8+PGYmJgwdepUxowZQ+PGOd8goDDiImPZ7r2RCZu9kasUhPmHsHWy4Za/7tUrMWz5GOZ0mvrG93F1L0VEYNgb694kLSKOuxO3UGPnZCSlgmT/UG6P2wSAdY2KvLNmJH+1npln3dPV+6n22RAan1uJpJQTevQyL741THO8PXoD76wegUypIDUshhuDC/4DBEAfH0vKrtWYjZwLCgW68GCSv1qJrLwnZgMmk7h4DNond0g9/gPmU1eCTosuJpKkzQsASN23BdN+Y7H4dAfodGge/EPayX1FXn8vJUbGsc97Cx9vnoRcqSDKP5QfpnwBQJnqFem9fATrOs3C7+pDzm46xKgf5qLTaokLjWbXCMM6ubT7FOa2lkw8thSZTMaLu34cW/KtUfKlRMZxYco2Wm6bgEypIN4/jD8mbgHAwcudJquGc6SdzxveBazcXUkowo/c/5KSuM1pImMJmLYe9y0zkJQKUgNC8J+0DjMvD8otH8vDjpNzrQEIXvsDZRd9QtVf1yMp5MT8/CeR3/8KgO/wpZSePxxJIUefpsFvwmrUIfm/oY4mMpankzfiuc0bmUpBil8ITyeux8KrEu6rx3Cn7dRcawDKzRsEErivHpPxnglXHxBx4DwOXRuT/PQF7xxZmvHc88W7iT1f+KlIMZExLJ2yksXbFqBUKnjhH8SiicsAqOpVmZmrpjG43UiiwqOZOWweU5dOwszclLQ0NbOHzyct1Ti3pQbQRsYSNGMdZTbOQlIqSQsI5sW01ZhW98Bt6USedR2faw1A6OLtuC4YTaVTW9BrdSReuknEtgOg1vB89BJc545EMlGh12gJ9tmAOqDgswlyYm9hwqcda+B9+DpqrY4ythYs7lSDuyExfHriNnsHv4+jpSlrP6jD0tN3SFZrUMllrOleBxOF3CgZXlfSjsXqiDjuT9zMezunIEtvO++N2wiAVY2KVF0ziqutp+dZ92T+N1RZOYL651cBEH78Ks+3HQe9nluDVlB56VDcp/dBr9FxZ+Q61FEFu2kNQHJkHGembqPjVkMbEecfxq+TDW2Es5c7LVcM58cOPngNbotVGUcqdqhLxQ51M15/uN9nNJnzEZIk0XLF8Izlwdce8fucXYVad5mlRsRxfdJWGuyYiEypINE/lGvjDTeMsK3hTu3VIzjbZnaRP6eg9HExJG1dicXEBYZ2IiyIpM3LkLtXxnzENOJnj0T78DYph/ZgOWetoZ2IjiRx7VwAUvZsxmzoZKyWGa5dU1+7QOrJws92EP7/IOnf8iTHhw8fMm3aNACUSiWlS5emYsWKVKhQgZ07d2JmZoalpSW1a9dm/Pjx7Nu3j82bN+Po6EidOnWIjo5myZIleHt7c/fuXSRJomnTppw+fZpz587x888/s2bNGry9vTl37lzGjS/27NnDDz/8gE6no23btkyaNCnfmQeUL/zUrrdpQIqquCPkqeEH0cUdIVeLT9oXd4Q8vaN+Oz9UjKH/zYVvLiomyT6jiztCnp7+YlrcEXKVpim52xzAFMl4dw4ztu2mZm8uKibus6q8uagYzV8cXNwRctUh+e1cX2Ys91Ql9zeAm7qYr6nKQ6vWxjkZ8bbY7sn9mv2SJG5Eu+KOgPX2U8UdoUDe+khWlSpVOHo051vi9ujRA4ANGzZkLOvTpw99+vTJVrtmTdY/lDpnzhzAcD1X586dAejQoUPG8/3796d///5FCy8IgiAIgiAI/9f9B6frFbf//N/JEgRBEARBEARBKEne+khWfowfP764IwiCIAiCIAiCkAO9GMkqMDGSJQiCIAiCIAiCYESikyUIgiAIgiAIgmBEJWK6oCAIgiAIgiAIJZSYLlhgYiRLEARBEARBEATBiMRIliAIgiAIgiAIuSu5fwqtxBIjWYIgCIIgCIIgCEYkOlmCIAiCIAiCIAhGJKYLCoIgCIIgCIKQK/F3sgpOjGQJgiAIgiAIgiAYkRjJEgRBEARBEAQhd2Ikq8DESJYgCIIgCIIgCIIRiU6WIAiCIAiCIAiCEYnpgjlorzYv7gg5SpJK9h8puHfUorgj5KqTVlPcEfL0h2nJPd+R7DO6uCPkymzJ5uKOkCfrP0vuuouLMy3uCHnqgVtxR8iVQhVR3BFyFbXzRnFHyFPjFNfijpArC3nJbieiZMrijpCrzi7hxR0hVwF/ltzfJgC2xR0gv0r2T9ASqeT+shMEQRAEQRAEQfgPEiNZgiAIgiAIgiDkStzCveDESJYgCIIgCIIgCIIRiU6WIAiCIAiCIAiCEYnpgoIgCIIgCIIg5E7c+KLAxEiWIAiCIAiCIAiCEYlOliAIgiAIgiAIghGJ6YKCIAiCIAiCIORK3F2w4MRIliAIgiAIgiAIghGJkSxBEARBEARBEHInbnxRYGIkSxAEQRAEQRAEwYhEJ0sQBEEQBEEQBMGIxHRBQRAEQRAEQRBypRfTBQtMjGQJgiAIgiAIgiAYkRjJKoLSrWtSc9b/kJsoib4XwF9Td6BOSM61vtG6T4h58Jz7W45nLOt9ZzNJwVEZj+998TN+By8aPatLm5q8M7sfMpWCuPvP+WfyNjR5ZK29fhRx95/zZPPPRvl829Z1KDurPzITJUn3/Hk2dRPa1z7/TTUqNwfeO7qMW22noImKB8CihgcVFg5FZm6CJJMRtOkgET/9XqSs9m1qU9HnI2QqJQn3/Hk4eXO2rHnVya3Mqbp2NOaebiDJCNl7jucbDxcpU248WtWk1fS+KFQKQh885+j07aTlkLXuoLbU/bgNer2eaP8wjs3cQVJknFGzKN6rj0mPIaBQonvhS/I3ayElKUuNskU3VM27gF6PLjyYlG/Xoo+PBUmG6YdjkXtWB0Bz5yqpB7YbNV9+6PV6fBavxrNSBYZ81Ptf+1zzZvWxnzQESakk7ZEvYfPWok9MyrHWeck0Uh/7Efv1fgBkluY4LZyCyr0syCTiD58m5su9Rcpj3aoObjMGIqmUJD/wI8B7A7rXtqu8aqrf2E1acERGbdjWQ0QfOp/x2P5/rbHt0JBnQ5cUKedLFVvV5P0Z/0OuUhL+IICT3jty3A+q9WhCvU86gR7UyamcXbCb0Fu+ANQc0Ibq/VqgMFUSetuPk9O3o03TFCmXRfP6OE4egqRSkvrQl9A5a9Hl8r26fDaVtEd+RH91AADJRIXz3LGYelUBSSLl5gPCFm1Cn5pWpEwvmTRugM3o4aBUoXn6jOglK9En5ZzNbu4M1E99SfjOsF1J1lbYek9C6emBPiWFpGMnSNx/0Ci5clNS2jApvX3yzaMNy61G5ebAu0eXcTtTG2bd+D3KzR+MJJehiY7Hf/5XJN3zK1JWz/R2Qa5SEPbgOUdyaRfqDWpLnY/bQHq7cPS1dsG6lD1DD33K1g6zSI5OKFKml8zer4/9hGGgUqJ+5Ev4gtW5HuscF3mT9tiXuG/2Z3vOec18tOGRRH62sUh5rFrWxXX6QGTpx7HAGeuzHevyqnH4uBP2/dohmapIvv2EwBnr0Wc6btj1aYNN+0b4DV9UpJwlghjJKrASO5I1c+ZMfvrppzxrZs2axYsXL/6lRFmZ2FvRaO0Ifh/xOUfe9yYhIIyas/vmWGvt4UabvbMo36Ve1uWVSpEWncDxtj4Z/72NDpbKwYra6z7hyrB1nGk6jUT/UN6Z0y/HWktPN5rs98GtS32jfb7C3ppKa8fxeMRKbr4/ntSAUMrOHlCgGsfeLXjnp8WoSjlkeV3lHd48X/UDt9tO5cHHiym/YAim7qUKnVXpYE3Vz8dwd+gqrjSZSIp/KBXn9C9QnfvMvqQGR3K1+VSud5hJ6UHtsK5budCZcmNub0W3lSPZP2odX7TyJiYgjNYzs2+Dru9VoNGIznzVcwFb280kyi+EFlON24GQLG0wHTSV5K2LSJw/HF1ECKY9hmapkZXzwKRtLxKXTyJx4Sfowl5g0m0QAMqGrZG5lCFx4SgSF41GUbk6itrvGzXjmzz1C2DYhFn8eu7Cv/q5MjsbnBdNJXTSIp53HY46MASHyUOz1SkrlsVt53Is2mZdL3bjB6EJjeB5j08I7Dce676dMalRrdB5FPbWlFs1Ad9PlnG/5RjSAkJwmzkw3zUmFUujiYnnYcfJGf+97GDJbSwpu3Q0ZRaMAEkqdMbMzOyt6LBqBIc/+ZwvW3oTGxBGsxz2A7uKpWju8yEHBq7km44+/LXhMN23TgTAs0Ndag1uy76PPuOrNjNRmCqpM7xjkXLJ7WxwWTKFoImL8Os0HHVgMI5Th2SrU1UsS5mvlmHVLuv3aj/qQySFHP/uo/HvPhrJ1AT7kTm3MQUls7XBzmc6kbMWENZvEJoXQViPGZGtTlG+HI4bVmPaslmW5bYTx6BPTibsoyGEDx+LaaP6mDZpaJRsOSkJbVjFteN4NGIlt/Jow/KqcezdgmqvtWFyK3M8d0wnYNEubreZgu+sbXhsnYqkKvz575ftwr70diE6l3ahVKZ2YUt6u9AyU7vg1bMpg/bNxdrVvtBZXiezs8Fp4TRCpy7kRfehqF8EYz9xWLY6pXs5XLevyHase8lm8P8wrfVekfPI7a0pu3Ii/qM/42Hr0aQ9D8F1xuB811i3b4TD4C486z+HR23HIjM1wXHYB4bX2VhSeskY3OYb71gn/PeU2E5Wfly+fBm9vnj+OFqp5tWJvOFLvG8oAI92ncG9Z+Mca6sMacOT78/hf/RKluWOdT3R63S0OziXzqeXUn3yB0gy4++Mzs29iL7xjETfEAD8dp2mbM8mOdZWHNIO/z2/EXT0stE+36Z5TRJuPCHFNxiA0F0ncOz5fr5rlC522Heoz4OPFmZ5jWSiJHDNXuL+uAVAWnAk6sjYbB2xgrBr4UX8P09JTl9XQbtO4dIr+4E+r7onPl/xdME3AJg42yGZKNHE5XymrigqNqtO0K1nRPkZtsFr357mve7Zv9eQO35sajGV1Phk5CZKrFzsjHZW8iX5O7XR+j9EFxYEQNr5YygbtMpSowt4QsLcoYbRLYUSma0D+kTD2VxkMiQTU1AoQakEuRI0xjljn18/HDhGr67tadfy3+3cmTeuTcrdh6gDDOsu7sdjWHZula3Opl834g6cIOFU1pHayM82E7lqGwByRwcklRJdfGKh81g1q0XSzSek+hn2xYjdJ7D/oHm+ayzqVAWtDs/9S6l68nNcJ/YFmaGpse3aFHVoFC+WfFXofK+r0Kw6ITd9iUnfD27sPkO1D7Ifi7Vpak5N30FiWAwAobd8sXCyRaaU806vplzb/gspsYmg1/Pr7K+4d6BonW3zJrVJufMItb/he435/mesumT/Xm0/6krs/hPEn/wjy/Lkq7eJ3PI96PWg05F6/wkKN+ciZXrJpH5d1Pcfog00nKRM/OkI5u1bZ6uz6P0BiUd/Jvns+SzLlVUqk/TLr6DTgUZDysW/snXEjKmktGGpmdonh1zasJxqlC522HWoz8PX2jBT91Jo45OIu3AbgJQnL9DGJ2NZp0qhs+bULlTPoV0IvuPHxlzaBUtnW6q0r8ueAcsLnSMnZo3qkHrnEZoAw3YXv/colp2yb3fW/boR/9MvJJ76I9tzpnW9MGtSl7j9x4qcx+r9WiTdekxa+nEs8ttfsOvePN81dr1aEbH9ENrYBNDrCfTZRPRPZwGw6WI41gUvNd6xTvjvMep0wcuXL/PFF1+gUCgIDAzEy8uL0aNHM2bMGOzs7DA1NWXHjh2sWLGCK1euoNVq6dmzJ4MHD0av17Ns2TLOnTuHs7MzWq2W+vUNZ6LWrl3LpUuXiI2NxdnZmbVr1/LTTz8RFhbGyJEj2bNnD/7+/ixZsoTU1FTs7OxYuHAh5cuXZ8CAAdjY2PD48WPWrVtHtWqFP8ObmUVpBxKDIjMeJwVHobI2R2lplm3K4FUfww/uUs2qZ1kuk8sI/uMu/yz5EZlSTsvd01DHJ/Ngx0mjZHzJzM2e5BevsiYHRaG0NkdhaZZtusWt2V8D4Nwia9aiMCntQFrQq6lDqcGRKKwtkFuaZUylyKtGHRrNo+Ersr2vPlVN+PdnMh4792+L3NKM+L8fFTqrqZsjqZlzBEWisDbPkjU/dXqtjmqbxuPUpSHhv1wh6UlQoTPlxrqUA3FBr6aaxgVHYWptjsrSLNvUEJ1GS5V2deiyfASaNDXn12SfflEUMjsn9FGv1oc+OhzJzAJMzbNOGdRpUdRohOnAyaBWk3rUsG+oL/6Ksk4zrJbvAbkczb2/0dwy3o+k/PCZOgaAi1f+/lc/V+HqhCbk1brThIYjt7JAsjDPMo0mYukmAMwa187+JlodzsumY9H2fRLP/InaL7DQeVRujqgzTfVLC45Abm2BzNIsY4pMXjWSQkb8hZsELfsGSamg4tdz0SYkEb7zKJHfngDAvnf2zkZhWbk5EBf86vgWHxyFSQ77QVxgBHGBrzK3mNufp6f/RqfWYl+xFCE3ntHrm+lYutgSeOUhvy/9oUi5FK5OaILDMx6//F5lFuZZpgyGLf4CAPMmdbK8Puniq+1Q4eaM3cAehM7/vEiZXpK7OKMNC8t4rA0PR2ZpiWRunmXKYOzq9YChU5ZZ2r37mHdsS9qtO0gqJWYtmqHXFG1qZV6Kuw1TvdY+peXQhuVVow6N5nEObVjKsyBk5ibYNK9B7PmbWNTwwKxKWVQudoXOalPKgdgCtgtd09uFc+ntQkJYDPs+WVfoDLlRuDqhCc26T8hyONa9nAJo1ijrdid3csB++hhCx8zGqnfnIudRujllOY6pczjW5VVj4u5GkoMN7rsWoHC2J/HqPYI/M3SqovYYjnV2vbN3Iv+rxI0vCs7oI1n//PMPPj4+nDhxgtTUVM6fP4+vry8rV67kq6++Yu9ew5zugwcPsn//fs6cOcO1a9c4efIk9+7d49ixY3z++ecEBAQA4O/vz7Nnz/jhhx84efIkpUqV4siRI4wcORJnZ2e2bduGhYUFU6ZMYe7cuRw5coR+/foxZcqUjExVqlTh5MmTRutgAYbh3xxG0XTa/G+FT747x7U536BNTkUdl8T9rb9QtmPdN76uoCRZzl+zXvcv7TGSLMd1pc+8rvJTkwe3cT0oM60fDwd9hj6lCCMgMimnGNnXVT7q7o/dwJ/VhqG0taSCkafnAUgyKceR3NzW2cNT11ldaxS/r/2Jj3bPNO4UBpkMyGGF6LTZFmluXiJh6v9IPfYt5hOWgiRh0uVjdPExxHv3I35GfyQLK1RtehkvX0kmy3nbz2nd5SVs5gr8mvZBbmOF3ejsU1zzTcp5uyLL/pp7TeT3vxI4fzu65FS0cYmEbT+MTfu3N5VMyuVYnNt+oDQzoevm8dhWcOHk9B0AyBRyyr//HkfHbGB3l7mY2lrSdHqfouWSSeS0T+gL+L2avONB2d2riNlzhMRzV978gvzI5fhFPtuE2PWbQa/Hedc27JcvIuXqtbfaySruNkzKR/uUn5rXaROSeTR0OW7je/Her2tw7NOCuAu30RXhWkBJVrD94eGp66yqNYrza3+iv7HbhezhcjnW5eN7VMhxWjabqFVb0EZEvbk+X3nysa7yqJEUCqzer4n/2OU86TYFha0lrt4DstUKxePo0aN06tSJdu3asWfPnmzPnz59mu7du9OtWzfGjBlDbGwsYOifNG3alO7du9O9e3fWrl1b6AxGv/FFvXr1qFixIgDdu3dn7969ODg4UKZMGQAuXbrE/fv3+euvvwBISkri4cOHPH36lHbt2qFUKrG3t6dZM8PUg/LlyzNjxgz27duHr68vN27coFy5clk+08/PD2tra7y8vADo2LEj8+bNIz7eMBXp5fKi8vLuRZl2hrPISkszYh48z3jO3NWO1OgEtMmp+X4/915NiL4XQMx9w/tIkuHMkjFUnd6bUulZFVbmxN0PyHjOtJQ9adEJaJPyn7Uo0l6EY1nbM+OxytUBTXQ8ukzrKj81OZFUCiqtG4+ZZ1nudp1JamB4nvU5qTC9L47tDZ1buZUZiZnWlaqUPeroBHSvravUwAisM+fNVGfXogaJ9wNIC41Gm5RC2ME/cezSoMC5ctJ8Si8qtzGc8TaxMiMs0zZo7WpPckwC6tfWmV15FyydbHh+zTDCd2PvOTotHYqZjQXJMcaZNqiPCkOqUDXjsWTraJgKmPYqi+TkhszaDu3TuwCo/zyJaf/xSOaWKGo1IeWHL0CrAa0G9aVfDddknT5glHwlmSY4DNPqr9adwtkRbWw8+nweS8wa1yHtsS/a8Cj0ySkkHD+HRdumhc6TFhSOea1X1xAqXR3QxLy2v+ZRY9ezBcn3fEl54A+kd4KMdFx7qcmUXlRqazi+qazMiMi0H1i52uW4H4Bh1KvHl1OIehLE3r5L0KSqAUgIjebxiasZZ/rvH/yTRhM/KFJGdXA4pl6ZvlcXR7Qx+f9eAaw6Ncd57jjCFm8i/udzRcqTmTYkDNU7r046yp2c0MXFoU9JydfrZRYWxG7ahj7O0MZaDvooY+qhsZSkNiw1H+1TfmqykSR0iSnc7z0vY5HXHxtJ9QspUL4WRmoXOhu5XXidJiQMk2zHujj0yW/e7kzeqYyyjCv2U0cBIHe0Q5LJkFQqIj5dU6g86lyOY5n30bxq1GFRxJ64lDHqFX3wHC4Tc75W8P8L/6GRrNDQ0IxZbyqVin79+tGgQQM8PDwASEhIYMGCBRw4cAAXFxc+//xzNmzYwJw5c7hz5w4zZ86kS5cuRc5h9JEsuVye8f96vR65XI6pqWnGMq1Wi7e3N4cPH+bw4cP8+OOP9O7dG+m1M6MKhaH/d+fOHYYNG4ZOp6N9+/a0adMm2xlUXQ5nQfR6PVqtoWHP/PlFcWvlgYwbVJzosgDH2h5YubsA4DmwNYGnCjbNyLZqGWp490KSSchNlVQZ0g7/w38ZJeuDFfv5rc1sfmszm/Od52FXxxMLd1cA3Ae2JvjkdaN8Tn7EnL+JZe3KGTekcBnYjqhTVwtckxOPDZOQW5pzt9usQnWwAPxW/Mi11t5ca+3N351mY13HE7P0deU2qB0RJ7LniDp/M9c65+6NqTDNcBZcUilw6taImAt3CpXtdefXHGB7p9ls7zSbLz+YT+laHthXMGyDdfq35uGp7N+rpbMtPTeOx8zOEjcczK4AACAASURBVIDqHzQh/OFzozakmnvXkVesiszZDQBVs86ob17KUiOzscdsxCwkC2sAlA1aoXvhjz4xHm3AE5R106/pkMlR1GiI1ve+0fKVZMkXr2NSoyrKcoZ1Z923M4lnL73hVa9YdmiG3eiPDQ+USizaNyP58o1C54n//QYWtapgUsGwLzp+3IHYU1fyXWNWpRylpn6Ufp2dCsdBnYg+mv3aiqL4c80Bvunowzcdffiu+wJK1fLANn0/qPFxa57mcCxWWpjSd68Pj09c49i4TRkdLIBHx69QpUtDFCZKADza1yHk5rMiZUz68zqmNaqiLG/4Xm37diahAN+rRYsGOM0eTeDw2UbtYAGkXrmG6r1qyMuUNnxWj64k/57/my5Z9OiK9QjDTTxkdnZYdO1E0qkzb3hVwZSkNiw2vX0yydQ+Rb/WPuWnJhu9niq7fbDwqgSAfbcm6FPTCnx3wXNrDrCt02y2dZrNzny2C1bOtvR6rV0IM3K78LrkS9cx9aqGopxhu7Pq04Wkc/nbJ1Jv3ed5+/4E9R1FUN9RxO87RuKp84XuYAHE//EP5jWroEo/jjn070jcr5fzXRN7/E9sOzdFMlEBYN2uIUk3Hxc6j/BmcXFxBAYGZvsvLi7r3ZIvXrxIw4YNsbW1xdzcnPbt23PixImM59VqNfPnz8fFxbCfVKlSheBgw3V3t2/f5uDBg3Tt2pVp06ZljHAVhtFHsq5fv05oaChOTk4cOnSIZs2a8eDBg4znGzZsyN69e2nZsiVpaWl89NFHfPrppzRq1IidO3fSr18/kpOT+eOPP6hZsyZXr16lfv36fPjhh0RHR3Pu3DnatWsHGDp0Wq2WihUrEhMTw61bt/Dy8uL48eO4ublha2tr7H9ehtTIOC5N3kazbROQqRTE+4VxceIWAOy93Gm4ejjH2/rk+R631hyk3pJBdD67DJlCTsCxKzz57pzRs6ZFxPHPpK3U3zERmVJBon8o18dvBsC2hju1Vo/gtzazjf65L2kiY3k2eSOe27yRqRSk+IXwZOJ6LLwqUXH1GG63nZprTV4s61TGoWtjkp++4N0jSzOWByzeTez5wv3IVEfE8WDiF7y7cyqSUkGKfyj3xxnmh1vVqEiVNaO51to7z7qn83dReeVI6p1fDUD48SsEbjue62cWVlJkHEe9t9J780TkKgVR/mEcnmz4XktVd6fL8hFs7zSb51cfcmHjIQb+OAedRkd8WDR7RxZ++Dsn+vhYUnatxmzkXFAo0IUHk/zVSmTlPTEbMJnExWPQPrlD6vEfMJ+6EnRadDGRJG1eAEDqvi2Y9huLxac7QKdD8+Af0k7uM2rGkkobFUv4nNW4rJ2LpFSgfh5M2KyVmLzridOnkwnsPSbP10eu3IbjvAmUPbgVgIQzfxL77aFC59FExhIwbT3uW2YgKRWkBoTgP2kdZl4elFs+locdJ+daAxC89gfKLvqEqr+uR1LIifn5TyK//7XQed4kKTKOE9O20W3LBORKBTEBYfwyyXAsdvFyp/3y4XzT0Ydag9tiXdoRz/Z18Wz/alr23g8/48Y3pzG1tWTA8cVIMhmhd/w4t+i7IuXSRsUS6rMGt3VzIP17DZlp+F5dFk0ioOfYPF/vNH0ESOCyaFLGspR/7hG2aFORcgHoomOIXrwSh6ULQKlA+yKIqIXLUFatjO2saYQPGpnn6+O/+Q67ebNw/nYnSBJx279Gff9hkXPlpiS0YU9fa5+eprdh7qvHcCe9Dcup5k2ejF2L+6rRhn0/LJpHQ4t2s4mkyDiOZGoXov3DOJSpXei6fATbOs0m4OpD/th4iEFvsV14nS4qhvB5q3BeNRdJqUQTGES4zwpU71TGcf4UgvqOequf/zptZCyB3p9TfvMsJKWCNP8Qnk9Zg1l1D8osH8/jThNzrQGI3H0cua0lnsfWIslkJN99SuCSnf/qv+H/ml27drFxY/bb9o8bN47x48dnPA4LC8PJySnjsbOzM7du3cp4bGdnR9u2bQFISUlh27ZtDBhgmOrp5OTE0KFDqV27NmvWrGHhwoWsXr26UHklvRFvz3f58mUWLFiAs7MzoaGhNGnShEGDBjF48GDOnjXccUWtVrN8+XL++usvNBoNPXv2ZORIwwF97dq1/PLLLzg6OmJubk6nTp1o0qQJ48aNIyV9GkO1atXQ6XSsWrWKJUuW8Pvvv7Njxw4iIiJYunQpycnJ2NjYsHDhQipVqsSAAQMYN24cDRrkf7rWt24fG2uVGJXlv3UNVSG5yvI31aQ4pGjlby4qRn+Yqoo7Qq4mdoh4c1ExMVuyubgj5CmgxejijpCruDjjjPC/LWewKu4IuepmUXL3CQvbf/eunAV11de1uCPkqlQJbsMATirNijtCrgbYhr25qJjEx5bsY52X39HijpAv4W2bv7noLTM5cDTbqBWAtbU11tbWGY83b95MamoqkyYZTlLt3buXO3fusHBh1jt8xsfHM3bsWMqUKcPSpUt5XWxsLG3btuXKlcJdD2v0kSxHR0d27dqVZdnLDhaAUqlkzpw5Ob528uTJTJ48OdvyfftyPqPt4+ODj49htKhs2bI51u3evTvf2QVBEARBEARBKHle70zlxtXVlWvXrmU8Dg8Px9k565/ACAsLY9iwYTRs2JDZsw0j4fHx8Rw4cIDBgwcDry57Kqz/9N/JEgRBEARBEATh7dLriv+//GrcuDGXLl0iKiqK5ORkTp06lXFDPTDcH2LUqFF07NgRHx8fww2aAHNzc3bs2MHNmzcB+PbbbzOmFRaGUUeyGjRoUKBpeYIgCIIgCIIgCMbi4uLC5MmTGThwIGq1mt69e+Pl5cWIESOYMGECISEh3Lt3D61Wy8mThr9N+95777FkyRLWrVvHggULSElJoUKFCqxYkf1v3OWX0acLCoIgCIIgCIIgFJeuXbvStWvXLMu2b98OQPXq1bPclC+zunXrcvDgQaNkEJ0sQRAEQRAEQRByVZDpeoKBuCZLEARBEARBEATBiEQnSxAEQRAEQRAEwYjEdEFBEARBEARBEHKnl4o7wX+OGMkSBEEQBEEQBEEwIjGSJQiCIAiCIAhCrsSNLwpOjGQJgiAIgiAIgiAYkehkCYIgCIIgCIIgGJGYLigIgiAIgiAIQq70OnHji4ISI1mCIAiCIAiCIAhGJEayctBjlL64I+So87aw4o6QJ3UJviry9Ir6xR0hT4vn/FPcEXLV5RfT4o6QK+s/Rxd3hDyVO7e5uCPkSv3jmuKOkKfQhRHFHSFXz1JtiztCrho3jSruCHkKf15yz+02b1Sy1535NavijpAr+5olt/2fd05Z3BHytLu4A+RTCf6JV2KV3KOdIAiCIAiCIAjCf5DoZAmCIAiCIAiCIBiRmC4oCIIgCIIgCEKu9Hpx44uCEiNZgiAIgiAIgiAIRiRGsgRBEARBEARByJW48UXBiZEsQRAEQRAEQRAEIxKdLEEQBEEQBEEQBCMS0wUFQRAEQRAEQciVXidufFFQYiRLEARBEARBEATBiMRIliAIgiAIgiAIudLrizvBf48YyRIEQRAEQRAEQTAi0ckSBEEQBEEQBEEwIjFdUBAEQRAEQRCEXIkbXxScGMkSBEEQBEEQBEEwIjGSVUhyz5qoWvUFuQJd2HNSj2yHtOSca6vUweSD0SQtH25YYGqBSeehyFzKoVenornxO5qrp4yar2GrBoyYNQylSsmz+89YMW01SQlJ2ercq7ozcdE4LKws0Gm1rJ65jke3H2c871TKiS+ObmB425HERscZLV+j1g0YNXM4KhMVT+4/47OpK3PMV7GqO5MXjcfS2gKdVseKGWt4mCkfwNLtnxIRGsmaOeuLnOv3JyFs+O0uaVodns7WLOhcG0sTZZaax2GxLDt1i4RUNXJJYk7HmrxTyo74FDWf/vw3vpHx6PXQ1ascQxpVLnKm1zVoVZ9hM4ekf7e+rPZem+O6+2TuSJp3fp+4mHgAAp8FsnjMUqxsrZi4dDyV3qlISlIKJ/ee4tDXRwqVxbpVHdxmDERSKUl+4EeA9wZ0Ccn5rql+YzdpwREZtWFbDxF96DyWjapT2mcwkkKOLiWNwPnbSbqZ9XsvCPNm9bGfNARJqSTtkS9h89aiT8y+zgCcl0wj9bEfsV/vB0BmaY7Twimo3MuCTCL+8Glivtxb6CyFpdfr8Vm8Gs9KFRjyUe9/7XP/8A1nw8Unhn3C0ZL5rd/F0iRr07H6j4ecfhyGtalheQU7C5Z39EKr07Ps/AOuB0YD0LSCI5ObeiJJRTsj6tSmFpV9+iFTKYm/F8DtyVvRJmQ//uZVV3ZwW8r0b4XcVEXcrWfcnrwVfZoGpa0F1ZYOwbJyaWSmKp6tO0TQ/j9KTD7rmhWptmgQcnMTJLmMZxuOEHzgQoHXoaJ6fUx6DgWFEl2gL8m71kBK1n1C2bIbqhZdQA+68CBSvlmHPj7G8FyLrqiadgCVCVr/x6TsWgMadYFz5KVsq5rUm/U/5ColUfcD+H3aDtQ5rMeXmq/9hKgHz7m99TgAJrYWNFk6BId3y6NJSuXR3vPc/erXIudS1G6I2UcjkJRKtP7PSNy8ApKzrjuTDj0wadcN9KANfUHSllXo42IynpccnLBe+gVx04ajj48tUh6rlnVxmT4QmUpJygM/Amesz3YczqvG/uNO2Pdth2SqIvnOE17MWI8+TYNFw+qU8hkGChna6HiCF20n5b5fkbIqajTAtM9ww3b3/BlJO1dl2+5UbbqjatUN9Hp0YUEkf7kmY7t7yXz8AnQxkaTs3lCkPK+r0aoO/5veH6VKyfMH/myfvomUPLa5Ou3q88naiYx8tz8A4zd741LeNeN5p7LOPLh8j7XDPzNqzuIgRrIK7q2NZMXHxzN27NhCvXb9+vVcu3YNgAEDBnD58uVC52jVqhWBgYGFfn2OzK0w6TaSlH3rSP7CG110GKrWfXMslexdULX9CDL9qFC1/xh9WgrJm6eTsnM+co8ayD1rGS2ejb0NM9ZMY97ITxnYfAhBAcGMnDU8W52JqQmr9izj+80/MqLDKL75fA9zNszKeL5dr7asP7AGJ1dHo2UDsLW3wWfNdHxGLuDDZoMI8g9i9OwROeZb+90Kvtv8I0Paf8JX63Yzf6NPlpqPRvfFq0F1o+SKSkxl/rHrrOrVgMOj2lLG1oLPf7ubpSZZrWH0938yuKEnPw5rxYimVZh92LCtfvH7PZytzTgwsg17hrRg79++3AyMNEq2l2zsbZi2eiqfjlzEkBbDCQ4IYfisoTnWvlunGovHfsaoDmMY1WEMi8csBWD0vE9ITkxmWKuRjO8+iXot69GgdYMCZ1HYW1Nu1QR8P1nG/ZZjSAsIwW3mwHzXmFQsjSYmnocdJ2f8F33oPJJSQYVN0wiYsZEHHSYRsmEv5ddNLnC+l2R2NjgvmkropEU87zocdWAIDpOzrzNlxbK47VyORdv3syy3Gz8ITWgEz3t8QmC/8Vj37YxJjWqFzlMYT/0CGDZhFr+eK/iP6aKISkpj/um7rOzsxaGBTShjY876i9k7uzeDY/msY3V+/KgRP37UiOUdvQD4+UEw/tGJ7OvfiB8/asj1F9GcfhJWpExKByve+3wU/wxdyx9NppDkH0aVOR8WqM6lUz3KD+vAtT6LudBsGjJTFRU+6QRA9fWjSQmK4mKbWVzts4RqSwZhUsq+xOSrtXMKT1bu42LrmVz7cBlVFw7A3N012/vnRbK0wXTwNJI3LyRx7jB0EcGY9hyWpUZWzhOTdr1JXDaJxAUj0YW+wKT7IAAUtZqgatWdxDUzSZw/AkmpQtWmZ4EyvImpvRXN14zg9MjP2dfcm/iAMOrPyrmdtfVwo/OPs3DvXC/L8obzP0aTlML+ltM53G0+ZVrWoFzrmkXKJVnbYDFmBomr5hE3cSC60CDM+o/MUiOvWBmTrn2JmzOOuKlD0AW/wKzfq2OOqlk7rBauR2bvVKQsAHJ7a8qsmEjA6M941Ho0aQEhuE4fnO8a6/aNcBjUBd+P5/C43VhkJiY4Dv0AmZU55bfMJvizL3nScQJBczZTbuMMJFXhz81LVjaYDfcmacMCEmYORhcejOn/sv42kVXwxKTD/0hYNIEEn+GG7a7XkCw1qk59kVc2TrufmZW9NSNXjmP9qJVMbzWesIBQ+s4ckGu9S4VSfOgzKPPPOzaMXsmcTlOZ02kqO2duJikuiV1ztxk9q/Df8NY6WbGxsdy/f79Qr7169SpardbIiYxHXrE62qBn6KNCAdBcO42iepPshQoVJj3GkHZqT9bXl3JHc+uC4X6YOi3axzeQV6tvtHz1mtfhwc1HvPB9AcCRb47SpkfrHOuC/IO5fPYKAH+eusiC0YsAcHBxoGmHxnj3n2m0XC/Vb16X+zcfEpie7+A3R2iXQ776zevywj+IS2cNnewLpy4yd9TCjOdrNapBw5b1Obz7qFFyXfIN491SdpS3twSgT213frn7HH2m+5ZeehZGGTsL3vcw/Khp4VmKFT0N3930tl5Maf0eAOEJKag12myjYEVVp1ltHt18yAu/IACO7j5G6w9aZatTqpR4vOtB39F92P7rFuZvnYuzm6FB9/Ty5PSBM+h0OjRqDZfPXqFZ56YFzmLVrBZJN5+Q6hcMQMTuE9h/0DzfNRZ1qoJWh+f+pVQ9+TmuE/uCTIZereFO/aEk3/UFwKScK5ro+ALne8m8cW1S7j5EHWBYZ3E/HsOyc/Z1ZtOvG3EHTpBw6vcsyyM/20zkKkMjKXd0QFIp0cUnFjpPYfxw4Bi9uranXcv331xsRH8FRPKuiw3lbS0A6FO9DL88DMmyT6RpdDwMj2fXdT/67LnE1J9vEhxvOPOr1etJVmtJ0+pQa3WodTpU8qI1O44tvIj95ylJviEAPN/1K6V6Zd9+86pz+18z/LYcQx2TCHo9d6fvIGjfHyhtLXBo5sWT1YZRzNTgKC51nIs6JqFE5JOZKHmy+gCRv9/JyJcWEYepW/47gQDyd+ug9XuILsywT6SdO4ayQdZ9QhfwmIQ5QwwjNAolMjtH9ImG2QzKRm1JO7UfkuJBryfl2/Wo/zpdoAxvUrp5dcJv+hLna2hn731zBo8ejXOsfWdwGx58fw7fY1eyLHesXoHHB/5Er9OjU2t5fuYG7p2L1tYqveqhffoAXYih/Uo9dQST99tkqdE+e0TchP6QlAhKFTJ7R3TxhnUn2TmgrN+UhMXeRcrxktX7tUi69Zi09GNs5Le/YNu9eb5rbHu2ImLHIbSxCaDX82LOJqIPnsWkghva+EQSL94y/DufBaKNT8a8VtVCZ1W8Vxfts4foQtPX3dkjqBplbft1fo+JnzEQkhNBqUSyc0Sf8GoWjbxqDZTV65H2m3Ha/cyqN6vJs1tPCE1fT2e+PUHj7jkfc1WmKkavm8ieRV/n+LxcqeCTNeP5duGXRAUb92Sr8N/x1qYLLl68mLCwMMaOHUurVq346quvkCSJd999l7lz52JhYcFvv/3GunXr0Ol0lC1bloULF3LhwgXu3LnDnDlz2LhxIwD79+9n2bJlxMXF4ePjQ6tWrYiIiGDevHmEhIQgSRJTp06lcePGxMTE4O3tTUhICJUqVSI1NdXo/zaZjQP62KiMx/q4KCRTc1CZZZkyaNJlGJrrZ9GFBmR5vfbFUxReTUl7/gjkChTV6qHXGa9T6ezmTHjQq7PF4cHhWFpbYG5pnmVaWZmKZYgKj8J71VQ8qlUkIS6RLUsMPyYjQyOZN+JTo2V6PV9YtnyW2fKVTc83c9U0PN+pRHxcAl8sNuRzdHFg4sJxTO0/g+4fdzVKrtC4JFytzTIeu1ibkZCqITFNk9FZ8o9KwNHClAU//82j0FisTJVMamXoWEmShEKSmH34GqcfvKBVFTcqOFgZJdtLzm5OhAW9ml4XHhyORQ7frYOLPf9cvMFXK7/G76E///ukNwt3LmBUx7E8+OcBbXq15s61uyhVSt7v2BStRlPgLCo3R9SZpvqlBUcgt7ZAZmmWMQ0lrxpJISP+wk2Cln2DpFRQ8eu5aBOSCN95FDRaFI42VDm+FoWdNX5jVxZmdQGgcHVCE/IqgyY0HLmVBZKFeZYpgxFLNwFg1rh29jfR6nBeNh2Ltu+TeOZP1H5GHh1/A5+pYwC4eOXvf/VzQxJScLE0yXjsbGlCQpqGxDRtxpTB8MRU6pWxY2wjDyrZW/DN3/5MPnqT7z9sQLdqbpx+HEr7L39Hq9PTsJwDzSsW7ey9qZsDKUGvfrSkBEWitDZHbmmWZUpeXnUWFUsR62hDne9nYupqR9RfD3i06Dssq5QhNSyaCqM649SqJjKVAt/Nx0h6Flwi8ulS1bz47reM15QZ0BqFpRkx1ws2lVZm54Q+OjzjsT46HMncAkzNs07d0mpR1GyM6cDJoFGTeniX4fUupZGsbTGfuATJ1gHt4zuk7N9RoAxvYunmQGKm9ZMYHIXK2hylpVm2KYMX53wDQJlmWUc3wm88xbNXE0KuPkKuUuDeqR46ddHaWsnRGV3Eq3WniwxHMrcEM/OsUwa1WpT1mmI+yhs0aST/+CUA+uhIElfNK1KGzJSlnLIcY9Uh2Y/DedWYuLuR7GBDha8XoHCxJ+nqPYI/+wpdYjIyM1Ms369Fwh//YObliWnlciicC9ahz0xm74QuKtN2F5W+7nLa7mo3wWzoVNCoSfzpawAkWwfM+o8lcdVMVC27FDpHbuxLORCZqX2NCo7E3NoCU0uzbFMGh3w2irPfneL5A78c36tF39ZEh0Zx/WThZ2KVNOLvZBXcWxvJmjNnDs7OzkyYMIEtW7awe/dujh49ipmZGRs3biQyMpJ58+axadMmjh49Su3atVm4cCEffPAB7733HosXL6ZKlSoAWFlZcfDgQebMmcOmTYYfQkuWLKFXr1789NNPbN68mXnz5pGQkMD69et55513OHr0KP379yciIiKvmIUjSUAOW5tel/G/irpt0Ou0aG6cz1aWdmoP6PWYjVyCad8paJ/dAW3Bf+TmHk/KcWfQaXVZHisUChq0qs+xPT/zSeex/PTVIZZ/sxSlyrijL6+TyfKZT6mgUasGHNlzjGGdRrP/y4Os2v0ZSpWSBZvmsH7BF0SGRWV/o0LS6UEi+5xjeaa5ABqdngtPQ+lVswLfDW1Jv7oVGffjRdI0rxrupd3rcm5yZ2KT09h64YHR8gFIMhk5bXu610Z+Q56H4jNoLn4P/QHYu3U/pcqXwrWsC1sWbUOv17PlxBcs3LGAv//4G3VaIbY/ScoyopEh8/eYR03k978SOH87uuRUtHGJhG0/jE37hhklmohY7tYfyqMe0ym3egIm7m4Fzwggk+XcOhTwxEbYzBX4Ne2D3MYKu9H9C5flP0avJ8frp+SyV8tK25ixsXttPBwskSSJgbXLExibRFBcCluvPMXOTMWZ4c05MfR94lLUfPO3X5EySTJZjodfdLp810lKOQ7Nq3NjxOdcbDcblZ0lnrP6IinkmJd3QRufzOWu87n5yXqqLhyItZd7iciXmfv4bnh49+bvASvQpRTwWiiZlMs+ocu2SHPjIglT+pB6dDfmkz4ztH9yBYpqtUnauoTExeOQLKww6TG4YBneQMrl2KHXZs+Ym78WfodeDz1PLKbdzskE/n4Hrbpoba2UW/ufw7pTX71A7LDuJO/9Gss5K7NcNmA0uXyXWdZTHjWSQoFl05oEjFvO025TkNtY4jptALqEZPw/WYLTmD54HF+Pbc+WJFy8hb4o60/Kuf3Kcbv7+0/ix/Uk5eAuLKYtA4US89E+JH/3RZaT3MYk5dJWvL7NtR7QAZ1Gx+97z+b6Xu2HdeXwhv1Gzyj8t7z1G19cvXqVli1bYmdnB0Dfvn2ZNWsW9evXx8vLizJlymQs37Yt53mrbdoYhuI9PDyIjjZcQH3x4kWePXvG+vWGmx1oNBqeP3/OlStXWL16NQD16tWjbNmyRv836WIjUZT2yHgsWdujT04A9atRM0WNZkhKFaYjlyLJFaAw/H/qdytAJift9PeQYphypGzaLWPqYWENmTaIJm0bAWBuacGzB74Zzzm6OhIXE0dKckqW10SERuL/OID7/xg6An+euoj3yimUKleKgCdZR9+Kavi0wTRt1zg9n/lr+ZyIi84hX0gkfo8DuJee78Kpi8xcNY3K1T1xK1+KCfNHA2DvZI9MLkNlomSZ9+pCZyxlY8adoFcH77D4FKxNlZhlmoPuZGmKu6MV1Usbzua1rOzGwp//ITAmkZC4ZDycrHG2MsNcpaDDu2U48yCo0HleGjR1II3aGjofFpbm+D70y3jO8N3Gk5KcdcTWvao7ld6pyOmfzmQskyQJjVqLhaU525fuJD79hhgfjutHkH/Bc6YFhWNe69WNPZSuDmhi4tFlypJXjV3PFiTf8yXlgX9GPjRaZFbmWDX2IvbkXwAk33lG8j1fTKuWJ9W34Dk1wWGYVn81xUXh7Ig2Nh59cv5Guc0a1yHtsS/a8Cj0ySkkHD+HRduCT6/8L3K1MuV2yKuL8sMSUrE2UWCmlGcsexQRz6PweLpUe9UJ1gMKmcTZJ2HMaF4VpVyGUi6jazU3Tj8JZWDtCgXK4TG9D87t6wCgsDIj/v7zjOdMStmTFp2ANinr95kcGIFNbY8c61JDogn9+UrGyFLQ/gtUmtoL/+2/ABD4/TkAkvxCibn8EJtaHsTd8iU3/1Y+AEmlwGv9aCwql+Fy53kkPw+noPSR4Ujur/YJyTZ9KmDaq2Ow5OSGzMYO7RPDdanqCycx/XgCkrkl+phI1P/8mTH6oP7rDCZdPqao80bqTOtF+baGkWSlpRlRD16tRwtXO1JiEtDkc799+R5XlnxPaoyhra05rhtxfkVra3URYcg9X12TKbN3RJcQB6mv1p3MtTSSrT3aB7cBSPvtF8xHTkGysMoy9c0Y1EHhmNfMfozNfHzLq0YdFkXc5JMNIgAAIABJREFUyUsZo14xh87hPKEfSBK6pGR8P5yd8brKZ7eQVoi24iVdVBjKSpm2O7v0dZdpu5M5uyHZ2KN9bJgSq/79BGaDJyF3r4zMqRRmHxrafcnGHmQyJKWK5C8L3+73nNKP2m0M1/KZWZnx/MGr3z52rg4kxMST+to2937vlpiYmbD4+GoUKgUqUxWLj69m1eDFxIRFU/5dd+QKGQ/+ynpNt/B/z1u/hbvutTMUer0ejUaT6/KcyOWGBj3zGVWdTseuXbs4fPgwhw8fZu/evVSuXDnb2a+XrzUm7dPbyEt7INm7AKCo0xrNw+tZalJ2ziN5y0xSts0m5bsVoEkjZdts9AkxKOq2RtUi/e5g/4+9+46Oour/OP6erSmbThJI6BCa9I5A6J2AoDwiSO9Ih9B7r1IFQVEBkSodpSqi0gSpCqGFhPTe22Z3fn8sJIQkPCRZDD6/+zon57C73935MHXv3Duz1raoarUg/c6FAmX6euU2BrcbzuB2wxnZZTRValfGvYw7AF36ePH7yeyff+XnKxQrWZQK1TwAqN6gGrIsE/L09YfGvK4vV35D/7ZD6d92KEO9RvFO7coUf5avWx8vfj2VPd+lny/jVqIoFZ/lq9GgOsgyD+48oHu9nhmfd2jHUX46cq5ADSyARmVcuRUYjV+U6fqL/X/60rxCsSw1Tcq5EhiTyN/Bpsb+Nf8IkMDd3ppTdwPZ/Os9ZFkmLd3AqbuB1Ctd8Aubt63annHzitFdx1K5ViXcS5u+0Hp93IkLpy5me48sG/lk3giKljCto136dubxXV8iQiLo3Kcz/Saabj5hX8Sejj3b89Ohn7N9xn8Tf/4G1rUqoi1tmkdFPm5P7Kkrr11jWbEkxSb2Mh0otRqK9OtI9NFfwWCk5MrRWNc1HYwtKpTAolxxkq7fz3NGgOQL19DWqIS6pGme2X7YicSfss+z3Ojae+Iw4mPTA7Ua63aeJF++ka8s/zaNSjpxOyQWv2dfUvffDqB5WZcsNQpJYvl5HwJjTV/S9t0OwKOIDlcbCyq52HLqoelLrd5g5BffcKoVtctzjofLTTd6uNBqKpc6zsK+TvmMmz2U7NeasBNXs70n8pdbudaFHLtM0S6NUFiYeu1dOtQl9vojkv3Dib35GPcPTderaJztsK9Xgdibj96KfAA1PhuFUmfJ5c75a2ABpP99DWXZyihcTNuEplln9DeybhMKe0csh05H0tkCoG7YEmPgE+TEePR//oq6rieoNQCoar6L4YlPvrK86NrK7znQbgYH2s3gcJe5uNQuj20Z0z6scp9W+J3M23DZyn1aUWeSqXFqWcSWih815+Gh19/2c6K/+QcqjyooipqOX5q2XdD/8XuWGoW9I7pxs5FsTOu6pklrDP6+Zm9gAcT/eh3LWhXRPNvHOvbqQNzpy69dE/fj79h1aoKkNS1L27YNSb71AGSZ0l/NxbKa6USAXacmGFPTCnR3wfTbV1GWq4LC9dm8a+lF+vWsx37J3gmrkTMz17t3W2EMeILhwV/ET/iIhNnDSJg9jLSfj6K/cq5ADSyAA5/uzrhRxbz3plG+VgVcn82nVr3b8uepP7K9Z27XKUxrO46ZHSeysv9C0lLSmNlxIjFhpu8FlRq8w98X7hQo19tINkqF/vdv88Z6slQqFenp6dSvX5/t27czcuRI7O3t2bt3Lw0aNKBGjRrMmTOHgIAAihcvzp49e2jQwHSHM6VS+V9vfNGwYUO+++47Ro4cycOHD+nduzdnz56lUaNGHD58mEqVKnHr1i38/c3bIwNAUhypRzaj/WAsklKFMTqM1EObUBQrg8ZrCClbpr/y7frfjqB9bwSWw5cCEmnn9mMMemy2eDGRMSybuIJ5m2ejVqsI8gtm8bhlAFSsXgHvFRMY3G44UeHRzBw0h3GLx2BpaUFamp7ZQ+aRlmre2/DmlG/xhBUs3DIXtVpFoF8QC8YuBaBS9QpMXTmJ/m2HEhUezdRBs5m4eByWVqZ80wfPeWP5HK21zOtcG+8Dl9EbjBR3sGahV13+Co5m3vHr7B3ckiI6C1Z/0JDFJ2+SnJaORqXk0/cboFUpmdCqKot+vMEHX5h6j1pWdKN3vXJmzRgTGcuKiauYvXkWKrWKYL9glo03Xa9UoboHE5aPZ3j7kTzx8WPD7I0s+Ho+CoWCiOAIFo8y3UJ214bdTF07mS/ObEZC4ptV2/G5mfcGTHpkLP6T1lHm8ylIahWp/iH4jVuDZfXylFz2CT4dxudaAxC8ejclFgyj0ul1SColMcd/J3KX6fbKvoMX4z5nMJJKiZyWzpMxq9CH5O/iYUNULOEzV+G6ehaSWoX+aTBh01agfccD53njCfhg5CvfH7liC0Vmj6HEwc0AJJz9ndhvD+Ury7+No5WGuW2q4P3DLdINMsXtLFnQtip/hcYy/+zf7OnViPJOOqY0q8TYo9cxyqbrtpa0N10bM6lpBZb+co9uO35HIUnUL+FI/zqlC5QpLSKO22M/p+bW8SjUKpL8Qrk9yjSM3LZGWap+OpQLraa+ss7/61Oo7XW8e2oJklJB3G1f7swxXVN0fcAqqiwdSIl+rZEUCh6t+p64G6+/f36T+ezrelC0S0MSHwbR4GjmNbP3F3xHxLlbr51Rjo8h5euVWA6fZbqVdngQyVtXoCjlgWW/CSTOH4HhwR1Sj+/CatJKMBowxkSStNE0Tf3PR5GsbbCe+RkoFBj9H5K8w7x3UEuJjOP8xC203jwGhVpFvF8Y58Z9DkCR6mXwXDGYA+1mvPIzbm44QvO1w3n/zBIkSeLaqu+JuFmwY60cF0PixmVYT5yHpFJjCA0iacNilGUrYjXCm3jvwaTfu03ygR3YzF2DbDQgR0WQuGJmgaabG0NkLIHeaym5cRqSWkWaXwgBEz/Fslp53JeO5mGnsbnWAETu+AGlnY7yR1cjKRUk33lE4KKtADwdtxL3JaOQ1GrSw6LwG7qoQFnl+BiSv1yO1ag5oFJhDAsmectSlKUrYDlwIgmzh2G4f5vUozuxnvYpGEzrXeJa813D9ipxkbF84b2BMZu8UWpUhPmFsHm8abRUmWrlGLRsJDM7Tvyvn1O0TDEiAgp2F1Xhf4Mk53jBRMHp9Xr69OmDWq2mS5cubN++Hb1ezzvvvMO8efPQ6XT89NNPrFu3Dr1ej5ubG4sWLcLFxYWtW7eye/duli1bxurVqxk1ahQNGjQgICCAvn378tNPPxEaGsrs2bMJCjJ1XU+aNIlmzZqRkJDA1KlT8fX1pWzZsvj4+PDVV19lDEt8HYnz387rLTptKdgwhzdNL7/+WPl/2pnF5rt745vgNfN6YUfI1QrJorAj5MrWNuW/FxWikuc2FXaEXOn3fFrYEV7p/Pw3cD3t/wPvdnkz16uYy54fXf57USH5oNE/e0ObvAq4at4bKZlTSc+cf3fwbTDqXN57z/9JO/wOFHaE1/KoarvCjkC5OycLO0KevLGeLLVaze7duzMe9+jRI1tNy5Ytadky+62UBw0axKBBpt/s2LFjR8bzxYsX56efTBcaurq6snnz5mzv1el0GXclFARBEARBEARB+Ke98WuyBEEQBEEQBEEQ/j9543cXFARBEARBEATh3+stviLkrSV6sgRBEARBEARBEMxI9GQJgiAIgiAIgpAro/zvu4V6YRM9WYIgCIIgCIIgCGYkGlmCIAiCIAiCIAhmJIYLCoIgCIIgCIKQK1kMF8wz0ZMlCIIgCIIgCIJgRqInSxAEQRAEQRCEXMlG0ZOVV6InSxAEQRAEQRAEwYxEI0sQBEEQBEEQBMGMxHBBQRAEQRAEQRByJcuFneDfR/RkCYIgCIIgCIIgmJHoyRIEQRAEQRAEIVfixhd5JxpZOYj5MbiwI+Roj4ehsCO80jpf98KOkKv0izcKO8IrjdI7FXaEXKUpUgo7Qq7i4iwKO8Ir6fd8WtgRcqX+cEJhR3ilGrsGFXaEXO32f3v3dTXu6gs7witdUaUWdoRcfTywe2FHeCX1zROFHSFXkurtHRh1Kubvwo4g/D/19m4VgiAIgiAIgiAI/0KiJ0sQBEEQBEEQhFwZZTFcMK9ET5YgCIIgCIIgCIIZiZ4sQRAEQRAEQRByJYuerDwTPVmCIAiCIAiCIAhmJBpZgiAIgiAIgiAIZiSGCwqCIAiCIAiCkCtZLuwE/z6iJ0sQBEEQBEEQBMGMRCNLEARBEARBEATBjMRwQUEQBEEQBEEQciV+JyvvRE+WIAiCIAiCIAiCGYmeLEEQBEEQBEEQciV+JyvvRE+WIAiCIAiCIAiCGYmerHzSvtsAuxGDQa0h/dFjohetQE5KyrHWYdYU9I98SfhuLwCSrQ323uNQe5RHTkkh6dgJEvcfNGs+TcOG6AYPRVKrSX/8mLgVy7Lls2jdBquePUGWkVNSiV+/jvT7PkjW1th6T0ZVsiRICpJPniBp9y6z5qvYoiZtJ/dEqVERcu8pB6dsITUhOVtdw75tqf9xa5BlovxDOTj1SxIj47LU9Pp8HPGhMRyd802Bcymr1kf73gAklRpDoC8pO1ZDStb5pm7uhdqzM8gyxohgUr9dgxwfC5ICbc+RKCtUA8Bw5w9Sv/+ywJlexbV1TapM74lCoyLu7lOuj99Ceg7z8bna64YTd/cpDzcdN8v07VvVocS03khaNUl/++E78TMML00/txrJQkPpxUPQ1fQACRKuP+DJ9C+QU9KwrlGeUvMHorDSIikUBH12kMgD5/OUzbZlHdym9EXSqEm+9wR/7/UYX8r2qppqN3aQFhyRURu2+RDRh37JeOz4n1bYt2/I44GL8jrbsvnVN5z1Fx6SZjDiUUTHnFbvoNNm3T2v+tWHMw/CsLUwPV/awZplHapjMMos/eUe1wKiAWhSugjjm3ggSf/cWUdZlpmxcBUe5UozoNcH/9h0AbSNGmIzbDCSRo3+0WNil2TfF1u2bY11r+f7uhTi1qxH73M/43WFizNFNn9GeP/ByLFxL0+iQMq0rEnjKf9BqVETcc+f095fkpbDNlqpW2PqDuuILEN6cirn5u4g9JYvAMNvbCI+OCqj9trm49w7dKFAud72+QZQrUVtuk/uhUqjJuCeH9umbCLlFfu3mm3rMejT0Yyu2teU38aKfstGULScG5JCwcXvz3Hi88MFznX+ryesP3aJtHQDHm5OzP2oJToLTcbrR6/cY8e5GxmPE1LSCItJ5OS8fmhUSubt/hnf0GhkWcarXiUGtK5d4Ey5sW5eD+cJ/ZE0alJ9fAmZvgZjYs7zsNiyCaT6PCHqqwNvLI+qen203QeBWo0xwJfkr1dlP8a27IqmeWdAxhgWTMq21cjxMabXWnihadoB1FoMfvdJ+eZTSNebLV/rts2YMWcCGq2Gv//yYfyoGSTEJ2ar69C5NZOnjcZoNBITE8uEMbPw832Kja2O1RsW4eFRBkmhYO+uQ2xY82a/Bwhvrzz3ZF2+fJk+ffoUaKIHDhxg6tSp2Z5v2bIlAQEBBfrsf4LC3g6HGZOJnDaXsJ79SA8MwnbkkGx1qlIlKbJ+FRYtPLM8bz92JHJyMmG9BhA++BMsGtXHonFDs+WT7OywmzyV2DmziOzXB0NwELqhw7LUKEuUQDd8BDGTvYkaMpjEb7djP38BALqBgzCEhxM5cACRI4Zh1bUr6irvmC2flaMN3VcM47sRa1jTahLRT0NpN6Vntjq3qmVoMrQTm9+fw7p2U4jwDaH1xB5ZapoO60zpepXMkkvS2WHRdwLJWxaQOHcwxohgtN0GZKlRlCyPps0HJC0fT9KC4chhgWi8+gGgatgKhWtxkuaPIGnBSJQe1VHVbmqWbDnRONlQe80wrgxaw9kmk0j0C6XKzOzzEUDn4Ubj/TNw61zfbNNXOdpSdvUo7g9Zwa2mo0n1D6XE9D6vXeM+5n0kpZLbrcZzu9UEFBYa3EZ3B8DjS28CVu7mTpuJ+Hy8kFJzB6AtUyxP2UquHIPvsKXcbTGSNP8Q3Kb2fe0abVl30mPi8ekwPuPveQNLaaejxOIRFJ87BMzQkIlKSmPOmb9Y0ak6h/o2pridFesuPMhWdzM4liUdqrGnVyP29GrEsg7VATh+Lxi/6ET29W7Enl4NuRYYzZmHYQXO9boePfFn0JhpnD732z82zecU9nbYTZ9M9Mw5hPfqhyEoGJsRQ7PUKEuUwGbkcKImTiZiwBAStn2Lw+L5Ga9btm+L04a1KJ2dzZ7P0tGGtiuHcGzYWra18CbWP4wmUz/MVudQthieMz7iYN8V7Owwg8vrD9N589iM11JiEtjZYUbGX0EbWG/7fAPQOdrSf8VINo1YyaxWY4l4Gkr3Kb1zrXcpXZQe0/tm2Sa7TviQ6JBI5rabyKIuU2n2cVvK1q5QoFxRCcnM2fUTKwe25/CM3hR3smXt0YtZarzqV2Lv5J7sndyTnRN7UMTGiqnvN8XJxoqNP1zGxc6a76d+xM4JPdj7+x1u+oYUKFNulA62FFsynsDRi/BtPxT90xCcJw3IVqcpV4IS25Zg067JG8nxnKSzw2LAJJI3zidxxkCM4cFYfDAoS42ilAfadh+QuGQsibOHYgwLRPves2Ns7SZoWr5H4qopJM4ejKTRomnT3Wz5nJwcWLtxMQP7jKFx3Q74PXnKzLkTs9VZWGjZuGU5A/qMplXTbpz68WcWLZsBwNQZYwkODKFZoy60b9GDfgM/om69mmbLWJhkufD//m3EcMF80Navi/6uD4aAQAASDxzBql2rbHXWH7xH4tHjJP/0S5bn1RUrkPTjaTAaIT2dlAuXsjXECpSvXj30PvcwBJryJR0+jEWr1llq5DQ9cSuXY4wynR3V+/igcHQElYr49etI2LQJAKWjE6g1GBMTzJbPo2l1Am89JvKJ6cBy+dsz1OjaOFtd0B1fPm0+gdT4ZFRaNbZFHUmKzsxRpmFlPJrV4MrOs2bJpaxSG6PffeSwIAD054+jrt8yS43R/yGJswaazryp1Ej2RZATTWdwJUmBpLUAlRrUalCpkPVpZsmWE5dm1Ym+8ZjEZwfoJ9vOUKJ79vkIUHZAW/x2/kzQ0ctmm75ds5ok3HhIqm8wAKHbTuDUvelr18Rf/pugtftMe06jkaQ7vmjdnZG0agI/3Uvcr7cASAuORB8Zi7aY02tns/GsRdLNh6Q+MU03YscJHN9r9to11nUqgcGIx/7FVDq5lqJjPwSFaXdp79UEfWgUgYu+ztP8ys0l/0jecbWjlL01AD2qFedHnxDkF44oaelGfMLj2XbtCT12XmTi8ZsEx5vORhtkmWS9gTSDEb3BiN5oRKP853btu78/xvte7Wjb4s2dUMiNpl69LPvipIOHsWzz0r5Yn0bsspUYI5/t6+5l7usUTk5YNG1M1MTJbyRfKc9qhNz0JeZJKAC3dpyl0nvvZqszpOk5PflLEsNMZ+tDb/li7WyPQq2kWB0PjAYj/9k/i49PLqbB2PeQFAVr3L/t8w3gnabVeXLrEWHPjhPnvj1Fg645r2MaCw2D1oxh78JtWZ7fPe9r9i3aDoCdiwMqjZrkuJxHnLyui/f8eaekC6Wc7QHo0bgqP167n2V7fdE3Z6/jaGPJB42rAjC5e1MmPDvehcclojcY0FlqcnxvQVk3qU3K7fvo/UzHtJhdx7Ht0iJbnUPvzsTuO0n8iV/fSI7nlO/UwfDkPsYw03qX9vNR1A2yrndGvwckTO8PyaZjrMK+CHJiPADqd1uTdmo/JMaDLJOyfS36i2fMlq95y8Zc//M2vo/9ANi2dTfv9/DKVqdQKkGSsLW1AcDK2orUVNOxfsaURcyduRwAl6LOaLVq4uLizZZR+HfJ13DB6OhoBg0aRFhYGNWrV2fOnDns3buXw4cPk5ycjFqtZtWqVZQtW5YLFy6wdOlSZFnGzc2NVatWZfmsRYsWERkZyYoVKwDYsGED9+7dQ6vVMm/ePCpVqkRERAQzZswgKCgIlUrF+PHj8fT0ZP369YSGhuLn50dgYCA9evRgxIgRGAwGli9fzpUrVzAYDHTv3p3+/fsXeGY9p3R1wRCWeabYEB6OQqdDsrLKMtwidtU6wNQoe1Ha33ex6tCGtFt3kDRqLJt7Iqenmy2fwjlrPmMO+YyhIaSFZp49sxn5CakXfofnOYwGbKfPwKJZM1J//Q3D06dmy2fn5khscGTG47jgKCxsrdDqLLMNGTSmG6jcti7dlg7BkKbn7Kf7TXld7Ok0py/b+i6jXu/sDdz8UDg4Y4wOz3gsR4cjWVqDhVXW4QxGA6oajdD2GQfpelKPmg7i+ounUdVpim7pt6BUkv73nxhum69R8zJLN0eSAzPnY3JQFGpbK1Q6y2xDBm9N/wYAl+bVzDZ9jbsTaUGZw+nSgiNR2Vqj1FlmDBl8VU3sLzdf+Cxnig7ujO/kTcipesJ3ZTacnXu3QamzJP7PzGFK/zWbWxH0wS9ONwKlrTUKnWXGcMBX1UgqBfG/3SRo6XYktYqy38zCkJBE+NajRH57AgDHD7I2wPMrJCEFV50247GLTktCWjqJaYaMIYPhianUK+7AJ43KU87Rmu1/+jH+6E12fdSALpXdOPMglHZfncdglGlY0olmZd9M70JOZkwcCcCFK3/+Y9N8Tunq/F/3xYaQUAwhoRk1tqNHkvLbBUhPxxgZSfSMOW8sn42bEwkv7Ovig6PQ2lqh0VlmGTIYFxBBXEDmuthsVm8en/kTo96AQqXA/7e/+G3pHpRqJe99M4m0hGSubz2Z71xv+3wDcHArQvQL22d0cCRWtlZY6CyzDRn8ePEwzu88TcA9v2yfYzQYGbR6NHU6NuT6ySuEPA4qUK7QmASK2usyHrva60hISSMxVZ9lyCBAdEIy23++wa4XRmBIkoRKKTF9x2nO3HxEy2plKe1iX6BMuVEVc86yj9OHRKC0sUZhbZllyGDofNNJVesmtd5IjucUjs7IUS8dY61yOMYaDKhqvYtFvwmmY+whU+NZ4VocycYHq3GLkeydMDy4Q8q+L8yWz614MYICM78XBQWGYGtng87GOsuQwaTEJCaPn8uxU7uIjopBqVTQuV2vF+Ib+GzLcjp3bcePx87w8IGv2TIWJnEL97zL1+nOgIAAZs2axZEjR0hMTGTXrl2cOXOGHTt2cOzYMZo3b87OnTtJS0tj0qRJLFu2jKNHj1KhQgUOHsy89uh5I2n58uUolUoASpUqxaFDhxg5cmTGkMIFCxbQsGFDjh49yrp165g+fToREaYdh4+PD1u3bmXfvn1s2bKFuLg49u41Xft08OBB9u/fz9mzZ7l69WqBZlQWCinnbkuj8bXeHrtuE8gyLtu24LhsASl/XDVrIwuFAnLIJ+eUz8ICuznzULq7E/esoftc3OJFhHftimRrg3XffmaLJ0mKHOef0ZDz/Lt76iqLaw/j7Jrv6b99KkqNig/Xj+aH+TuID48xWy4kKef+aKMh21PpNy+SOOlD0o59i9XoRSBJaDr3Ro6PJWHyRyRM/RjJ2gZ1a/MNZcgWV5Hz5pvjcn4T05cUOc4v+YXl+Do1VtXKUuXQQkK//pGYM9ey1BUb1Y3ik3pyv98S5JQ89ApKUs5nll9cx15RE7nrNAFzvsCYnIohLpGwLw5j1858Q3pfJMvkeP2U8oXeCnc7SzZ0rU15Jx2SJNG3dikCYpMIikth85VHOFhqODu4GScGNiUuRc/2P5+8kaxvnVzWr5z2xZKFBfYL5qAs7k7sshXZ3/Mm5LKO5bavU1lq6bRpNPalXTk92XQdx51d5zg3ZzvpyamkxiVx7YsfKd+ubo7vf/1cb/l8AxRSzsfZl+dd84/bYjQY+H3fz7l+1tbx6xlfaxDW9jq8xhbsmkGjLJPTV01lDtvw9xf/onnVMhQvYpfttcV92nBu0UBik1LYfPKPAmXKjaTI+Zj2Tx0jssnDepd+/QIJ4z4g9ch2rCYsMR2flSpU79Qm6fOFJC74BMnaBm337MMf80uhULzW9lq5SgUmThlJ0wadqFHJkzUrN/PV9nVZaj4ZOpnKZRth72DHxCmfmC2j8O+Sr56sunXrUrp0aQC8vLw4cOAAq1at4vjx4zx58oRff/2VypUr4+Pjg6urK5UrVwZg4kTT2NYDBw5w/vx5oqKi2L9/PypVZowePUxnfJo1a4a3tzdxcXFcunSJhQsXAlCiRAlq1KjBzZums+ANGjRAo9Hg5OSEvb098fHxXLx4kbt373Lp0iUAkpKS8PHxoW7dAh6YnjGEhKGpUjnjsdLZGWNcHHJKymu9X2FtTexnW5CfdSHr+vXKGLZhDsbQUNSVM/MpnItgjIuDl/IpXFywX7wEg58f0ePHQZrpS6ymXj3SHz/GGBmJnJJMytmzWHhmHWqVV63Gf0DlNqaLe7U6K0J9/DNesy3qSFJMAvrk1CzvcSzlio2zPX5XfQC4tvccXRcNwr1aWRxKuNBx1scA6JztUSgUqLRqDk7N/1ktY1Q4qjKZ13dJz4cppGXmkpyLobB1xPDoLwD0v59C22s0WOlQ1WxM6p6NYEgHQzr6S2dQ12qC/oz5LiKuNPkDirU1zUeVjRVxdzPno0UxR9KiEzAkpeb2drNKDQxHV9sj47GmqBPp0fEYX1iO/63GsWtjyiweypOZXxJ5MHOoiqRRUXbNaCw9SvCX11TSAjLPfr6OtKBwrGplXnuhLupEekzWbK+qcejenOS/fUl5dmZckiRIz97YNoeiNhbcDonNeByWkIqtVoWlWpnx3P2IeO6Hx9O5slvGczKgUkj89DCMKc0qoVYqUCsVeFV248zDUPrWLv1G8r5NjKGhWffFRXLeFytcXXBctpj0J35Ejh6fsa97ExpNeJ+yz/d1NpZE3MscBaAr6kBKTALpydm3URs3J7p+NYGoh0Hs+3ARhlTTxfyVuzcm/G//jM+RJFMPf0G8jfMNoMv4D6nZxnScttBZEvjCccK+qCOJMQlWw1goAAAgAElEQVSkvTTv3v2gBRpLDbN/WIFSrUJjYfr32v6LKV6pJAH3/IkNiyY1KYUrR36ndvsGBcpYzMGGO36ZPXxhsQnYWmmx1Kqz1Z66/pDJLw2hvnDXn/JuTrjYWWOl1dC+tgdnbz0uUKbc6IPCsaheMeOxyrUIhph45BzWv3+CHBWGVPaFY6zDs+H2aZnrneTihsLWAcPDZ8fYX09i0WcskpUOOSYS/bXfMnq99JfOoPX6mIL8byZPH027DqZRCTa2Ou7+lTliopibK9HRMSQlZe05bd6qCVcuXcfP17RNfvXFTuYvmYqjoz3Va1Xl7l/3CQ0JIykxiYP7j9O5S9sCJBT+zfLVk/Vio0iWZeLi4vjwww+Jj4/H09OTbt26IcsyarU6yxna+Ph4QkJMXbHu7u4sWLCA+fPnY3zhLMbzHq3nn61SqbKdWZBlGYPBdJDRajOH2UjPzhoaDAa8vb05fPgwhw8fZs+ePXzwgfnueJV65SqaqpVRFncHwLqbF8nnX/9CZOtuXtgOMZ19UTg4YO3VkaRT5rmuCCD16h+oK1dB6W7KZ+XVhdTff89SI1la4rB6LannzxO7YH6Wg6dF8xZY9+tveqBWY9G8BWnXCzYU6Ozq/WzoOJ0NHafzebfZlKjpgVPpogDU792Ku6evZXuPjYs9H64fhZWDadxzjfeaEHr/Kf7X7rPi3dEZn3dl51luH7tUoAYWgOHuNZRlKiG5mL7Iqj07kX4z6wXNCjtHLAZPRbK2BUBVvwXGID9IjMf49CGqOs+urVMoUVVviMH3XoEyveze8v383Ho6P7eezi+dZuNQxwPrMqb5WKZvK4JPZp+Pb0rsLzfR1a6QcUMK175tiT71x2vX2LepS+kFg7n30fwsDSyAcuvHodRZ8XeXaXluYAHEn7+Bda2KaEubplvk4/bEnrry2jWWFUtSbGIvUCiQtBqK9OtI9NE3c71Co5JO3A6JxS/GNBxl/+0Ampd1yVKjkCSWn/chMNZ0sN93OwCPIjpcbSyo5GLLqYemL316g5FffMOpVjT7mfP/RalXrqJ+J3NfbPWeFym/Zt/XOa1fTcov54mZu+CNNxQufvp9xg0qdnWdS9Fa5bEv7QpA9Y9b8ehU9n2p2tqCHntn8PDEVX4Y9VlGAwvAqWJxGk18H0khodSqqdGvLT5HLxUo49s43wCOrN7D/I7ezO/ozZJu0ylb0wOXZ8eJZr3bcuN09h6fxe9NY267iczv6M26AYtJS0ljfkdvYsOiqdvpXbzGmU7cqjQq6nZqxL2LdwqUsVHFEtx6Eorfs1EU+3839Va9LC4pBf+IWGo82z8/d+rGQzafuIIsy6SlGzh14yH1PNwLlCk3ib/9iWXNSqhLmY5pDh91JP5swdadgkj/6xrKspVRuJj+v5pmndFfz36MtRw2A0lnOsaqG7bEGPgEOTEe/dXzqOs1A7VpWKaqVmMMvq8/jDwnyxevp1XTbrRq2o2OrT6kTr0alClbCoB+A3ty4vhP2d5z++ZfNGpcD2dn03XCHTq3xt8vgKioGLp2a8+kqaaeK41GTZdu7fntfOHNc3OSZanQ//5t8tWTde3aNYKCgihatCiHDh3C09OTS5cu0b9/f1JSUli3bh1FixalTJkyREZG8vDhQ8qXL8+XX5qGP5QqVYpy5crRo0cPjh07xs6dOzPuWHj06FH69u3L6dOnKVeuHFZWVjRs2JD9+/czYMAAnj59yp9//sncuXPx8fHJMV/Dhg3Zu3cvLVq0IC0tjV69ejFv3jwaNCjYGaznjNExRC9cgdPiuaBWYQgMImr+UtSVKmA/bRLh/Ya+8v3x27/DYfY0XL7dCpJE3BffoL+b8/8lP+SYGOKWL8Vu3nzTrciDAoldshhVhYrYepvuJmjZrTtKV1e0TZuibZp5pi164gTiN27EdsIEnL4yXdif8uuvJH2/32z5EiPj+N57Mx9tGotSrSLKL5T9E0xjwt2rlaHbsiFs6Dgdvz98OPfZYQbvnonRYCAuNIadQz41W46XyfGxpGz/FMuhM0GpQg4PJvmbFShKemDRZxxJiz7B8PAv0n7cjeWE5WA0IMdGkrxpHgAp+zZj0fMTrOZ+AUYjhns3SDu1743lTYuI4/q4zdT/ciwKtYpEv1CujTbNR/saZai1agg/t57+xqafHhnLo/Eb8NjijUKjIuVJCI/GrsO6ejnKrBrJnTYTc60BKDm7H0hQZtXIjM9M+OMeEd//gpPXuyQ/CqTKkcUZrz1duIPYX25ky5FbNv9J6yjz+RQktYpU/xD8xq3Bsnp5Si77BJ8O43OtAQhevZsSC4ZR6fQ6JJWSmOO/E7nrtBnnXiZHKw1z21TB+4dbpBtkittZsqBtVf4KjWX+2b/Z06sR5Z10TGlWibFHr2OUTddtLWlvur5uUtMKLP3lHt12/I5CkqhfwpH+dUq/kaxvG2NMDLGLl+OwcB6SSkV6YBAxC5egrlgBu6neRAwYgtX73VC6umLh2RQLz8x9XeTYichx5r/t+IuSI+M4NWkLnT8fg0KtItY/jBPjPgfAtXoZWi8bzM4OM6jZvw027kUo164u5V4YCvj9R0u4tPogLRb0o8/ppShUSh4cv8KdXecKlOttn28A8ZFxfO29keGbJqJSqwj3C2XrhA0AlKpWln7LRjC/o/crP2Pvom18vGgoc0+argW/fvIKZ7/6oUC5HG2smNerJd5fn0CfbqR4EVsW9m7NX/5hzNv9E3snm+7w6h8Ri7OtFeoXThwDTOjamEX7zvHBst0AtKxelt6eNQqUKTeGqFiCp63Gff10JLUKvX8IQZNXYlHVg6KLxvCk6+g3Mt3cyPExpHy9EsuRs0CpxhgeRPLW5ShKVcCy/wQS5w3H8OAOqce/w2rySjAYMcZEkrRhLgD6n48i6Wywnr0RFAqMfg9J3rPZbPkiIqIYO3I6W7evRa1R4+f7lFHDpwBQo1ZVPl23gFZNu/Hb+ctsXLeVA8e3o0/TExMdS7+PTA2rOTOWsWL1XH65eASAH46dYcum7WbLKPy7SHJut8TJxeXLl1mzZg1arZbw8HAaNmzIuHHjGDNmDKGhociyTL169Xjw4AG7du3iypUrLF26FL1eT8mSJVm+fDknT57MeN7X15ePPvqIQ4cO0atXL5o3b861a9ewtrZm8eLFlC5dmtDQUGbPnk1QkOmC1bFjx9K6dWvWr18PwOjRph1Fy5Yt2b59O66urixbtoxLly6Rnp5O9+7dGTr01Q2fFwU2Ms8F7eamsngzw5XMZZ3vmzkbZw5T20f996JCdPaQY2FHyFUxxesNgy0MGtXbvU1UnFKisCPkSv3hhMKO8EoR7w3670WFZLf/27uv61nSfEPP34TZAUUKO0Ku1m365++QmRd+Y08UdoRcuTU1329VmZvHfvPduOtNCI0174iXN+Wy25u7xvx1NQh6c7/h9ibkuZH1/4FoZOWPaGTln2hk5Y9oZOWfaGTln2hk5Z9oZOWfaGTlj2hkmYdoZOWd+J0sQRAEQRAEQRAEM8rXNVmCIAiCIAiCIPz/IIa95Z3oyRIEQRAEQRAE4X/G0aNH6dixI23btmXnzp3ZXr979y7du3enXbt2zJgxg/Rnv1cbFBRE7969ad++PSNGjCAxMTHbe1+XaGQJgiAIgiAIgpAroywV+t/rCg0NZfXq1Xz33XccOnSIPXv28PDhwyw13t7ezJ49m5MnTyLLMnv37gVg3rx59OrVixMnTlC1alU2btyY73kmGlmCIAiCIAiCIPxPuHDhAg0bNsTe3h4rKyvatWvHiROZN44JDAwkJSWFmjVrAtC9e3dOnDiBXq/njz/+oF27dlmezy9xTZYgCIIgCIIgCG+1uLg44nL4nT5bW1tsbW0zHoeFheHs7Jzx2MXFhVu3buX6urOzM6GhoURHR6PT6VCpVFmezy/RyBIEQRAEQRAEIVdyHobrvSnbtm1jw4YN2Z4fNWpUxm/mAhiNRiQpM68sy1ke5/b6y3VAtsd5IRpZgiAIgiAIgiC81fr160e3bt2yPf9iLxZA0aJFuXr1asbj8PBwXFxcsrweHh6e8TgiIgIXFxccHR2Jj4/HYDCgVCqzvS+vxDVZgiAIgiAIgiC81WxtbSlevHi2v5cbWe+++y4XL14kKiqK5ORkTp06haenZ8br7u7uaLVarl27BsDhw4fx9PRErVZTt25dfvjhBwAOHTqU5X15JRpZgiAIgiAIgiDkyvgW/L0uV1dXxo8fT9++fXnvvffo3Lkz1atXZ8iQIdy+fRuAlStXsmTJEtq3b09SUhJ9+/YFYM6cOezdu5eOHTty9epVxo0bl4+5ZSKGCwqCIAiCIAiC8D/Dy8sLLy+vLM998cUXGf+uVKkS+/fvz/Y+d3d3duzYYZYMopElCIIgCIIgCEKuZAr/xhf/NmK4oCAIgiAIgiAIghmJRpYgCIIgCIIgCIIZieGCObDztC/sCDlKuRFZ2BFeKSlPlyX+syQrTWFHeCXPBoGFHSFXXleVhR0hV91wK+wIrxQ6P6KwI+Sqxq5BhR3hlYoc2lrYEXJVotqswo6Qq4+evL3bK8CRDrGFHSFXvqNOFnaEV9JoDYUdIVcJd9MLO0KumtpXKOwI/xOMcmEn+PcRPVmCIAiCIAiCIAhmJHqyBEEQBEEQBEHIlVHc+CLPRE+WIAiCIAiCIAiCGYlGliAIgiAIgiAIghmJ4YKCIAiCIAiCIORK/E5W3omeLEEQBEEQBEEQBDMSPVmCIAiCIAiCIOTq7f2RnreX6MkSBEEQBEEQBEEwI9HIEgRBEARBEARBMCMxXFAQBEEQBEEQhFyJG1/knejJEgRBEARBEARBMCPRkyUIgiAIgiAIQq7EjS/yTvRkCYIgCIIgCIIgmJFoZAmCIAiCIAiCIJiRGC6YT8pKddC0742kUmMM9iNl/2eQmpxzbZX6WPQcS+Ls3tles+gzGWNcFGmHvzRrPnX9hlgPGApqNQbfxySsXoaclJSlRtuyDZY9eoIsI6emkrhxHekPfABw3HsYY0R4Rm3yvt2k/nzGbPmqtKhFp8k9UWnUBN3zZ/eUzaQmZJ9/Tfq2o/HHrZFliPAPZe/ULSRExiEpJN6fP5ByDSoDcPfnGxxZ/G2Bcykr10XTqS+SSoUxyI+UPetyX65VG2DRazyJ03uanlBr0HYfjqKkB0gSRr/7pB74HPRpBc71nLpOQyz7DkVSqzE8eUzC+mWQnHW5apq1waLbs+WalkrSF+swPPRB0tlgNWICqjLlkVNSSD37I6nHD5gtG0CjVg0YPnUwGq2Gh3cfs2TiCpISkrLVla1UhvELRqOztcZoMLJ8yqf43H6QpWbxF/OICI3k05nrzJKtbMuaNJ3yH5QaNeH3/Dnp/SVpOaxzlbs1pt6wjiCDPjmVn+buIPSWLwA1+7SmWs/mqCzUhN5+wsnJX2BIS89XHufWtagwoycKjZr4v/25PX4zhhzyvKquRP82FO/dEqWFhrhbj7k9fjNyWjpqe2sqLx6AroI7CgsNj9ccImj/r/nKqW3UEJthg5E0avSPHhO7ZEW2fYll29ZY93q2zqWkELdmPXqf+xmvK1ycKbL5M8L7D0aOjctXjoKQZZkZC1fhUa40A3p98I9Ou2irmlSd/iFKjYrYu0+5OuEL0nNYzs/VXTuMuLtPuf/5DwAoLNTUWtwfx1rlQJKI+vMh16d/gzFFX+BsDVs2YMi0Qag1ah7ffczySaty3F7LVCrD2AWjsLaxxmgwsGrqGu7ffoDGQsO4hWOoXLMiSBJ3r99jzcx1pKUUfJ+nqlYfbfeBoFJjDPAledunkJI1m7pFFzTNO4MMxvAgUravQY6PwXL4LBQubhl1CqeipN+/RfJnc/KdR9e8Hi7e/ZA0alLvPSFo2hqMLy3HXGsUCorOHY51/WoAJPxyldAlWwGwalgd12mDkFRKDDHxhCzYQuo933znBLDyrI/T+AFIGjVp930JnbkaOTH7cgVwWTyJtAdPiPl6PwCSVoPzrFFoq5mWaeqte4Qv2ICcar7j2HPadxtiO3wwktq0b4lZnMO+pV1rdM/3LakpxK5ej/7e/Vw+seBqt6xL78l9UWlU+N/zY+PkdSTnsL32nTmQRh0bkxATD0DQ40BWj1qBRqth8MLhlK/hgSRJPLhxny9nfk7aG5h//zQxXDDvzNKTdfnyZfr06WOOj8pi2rRpBAYGAtCyZUsCAgLMPo18sbZF22MUKTtWkLRyNMaoULQdcv7/S07F0Hbql+Nr6mbvoSxd2ezxJDs7bCZOJW7BLGIG98EQEoTVwGFZapTFS2A9eASxM7yJGTmYpO+2YzN7QcZrcnw8MSMHZ/yZs4Fl7WhDzxXD+XrEapa0mkDk0zA6T/koW13xqmVoMbQza9+fzfJ23kT4htBh4n8AqNvdE5eyxVjezpsVHaZQrkFlanRsUMBgtmh7jiHlmyUkLR2JMSoEbeecl51UpBjaLgNByrzbjqZ1D1AoSF45huQVY0CtQdPKfF/oJFs7rMdMJWHpLGJHPluufbMuV4V7Caz6jyB+njdx4weTsnc7uqmm5Wo1aBQkJxM7qh9xk0egrt0Add1GZstn72jHjE8nM2PoXD7y7EeQXxAjpg/JVqe10LL6u+V8t2kPA9oN4+s1O5izYUaWml4jPqR6g2pmy2bpaEP7lUM4PGwtX7XwJtY/DM+pH2arcyhbjGYzPuL7vivY3mEGl9YfpuvmsQB4tK9Lrf5t2NdrCV+3norKQk2dwR3ylUftZEPVtcO5PnA1vzaeQJJfGBVnZt8GXlXn2rEepQa152qPhfzmOQmFhYbSwzoCUG3dCFKCorjQehp/9FhE5UX90BZzzHNOhb0ddtMnEz1zDuG9+mEICsZmxNAsNcoSJbAZOZyoiZOJGDCEhG3f4rB4fsbrlu3b4rRhLUpn5zxP3xwePfFn0JhpnD732z8+bY2TDXXXDOXS4DWcbOpNol8Y1WZkX+8AbDzc8Nw3neKd62d5vvLY91ColJxuOY3TLaeitNBQaXSXAmezc7RjyqeTmD10Hn2bDSDIP5ih0wZnq9NaaFm5cym7Nu1hSPvhbF+7k5nrpwHQZ3RvlColA9sMZVCboWgtNPQelX09zitJZ4dF/0kkb5pP4qxBGCOCseg+KEuNoqQH2rYfkLh0HIlzh2IMDUTb1bS/Tv58AYnzR5A4fwTJ21cjJyeQ8t2GfOdROtritnwcAZ8s5lGbYaQ9DcHFe8Br19h1a4m2bHEedfyER51HYVW/KjYdmqDQWVFi4wzCln3F406jCJ71GcXXT0XS5P/8t8LBDpdFEwkZtwD/ToPRPw2hyISB2erUZUvg9tUydG2bZnneYdhHoFTy9L3hPH1vOJJWg8OQnvnOk2tOezvsZ0wmavocwj7qR3pQMLYjX9q3lCyB7SfDiZwwmfD+Q4j/Juu+xdxsHW35ZMUYVgxfwtiWIwn1D6H31Jy/A1SsU4k1o1fg3XEc3h3HsXrUCgC6j+6BUqlgYrsxTGw3Bo1WQ7dP/tkTO8Lb460eLnj58mVkWS7sGNmoPGpifPoQOTIYAP2lE6hqNc1eqNZg0XMsqce+yfaSsuw7KCvUQn/5lNnzaWrXI93nHsYgUwM15dhhtC1bZ6mR9Xri1yxHjooCIP2+DwoHR1CpUFWpimw0YrdqPfabvsKydz9QmG9Vqdi0Ok9vPSLiSQgAv397mjpdm2SrC7jjy6Lm40iJT0alVWNX1IHE6AQAFAoFGisLVBo1Ko0KpUZFemrBzuyqKtbC+PQBcsSz5fr7j6hqN8teqNZg0XsCqYe3Znna8Ogv0s7sBVkG2Ygx8DGSg0uBMmWZbK16pD+8hzHYtFxTTxxG0yzrckWvJ3HDcuToZ8v1oQ8Ke9NyVZarQOq5U2A0Qno6+msX0bybw/8vn+o3q8vdmz4E+JryHdx+hLbdWuVYF+gXxMWfLgPw26kLzBqeeeCs1agGDVvU5/COo2bLVtqzGiE3fYl5EgrAjR1nqfzeu9nqDGl6Tk3+ksSwGABCb/li7WyPQq2kyvtNuPrFj6TEJoIsc3r61/z9ff6+uBdpXp3Y649I8jVtA0+3nabY+9m3gVfVuf3HkyefH0MfY8rz1+QvCdr3K2p7a5w8q/NwlenMdGpwFBc7zEIfk5DnnJp69dDf9cEQYFqmSQcPY9nmpWWqTyN22UqMkaZ1Tn/PB4WjaZ1TODlh0bQxURMn53na5rL7+2O879WOti1y2Ee/Ya7NqhF94zEJvqb17tG2M5Ts3jjH2nL92+D73TkCjl7J8nzEpXvcXXPItF8xysTc8cOqeJECZ6vXrA73bt4n8Nn2emT7UVrnsL3Wa1aHIL9gLv9kyvX7qQvMHWE6cXPz8i12rP0WWZYxGo08+Oshru6uBc6mfKcOhic+GMOCAEg7dwx1g5ZZaoz+D0iYOcDUk69So3Aogpz4Ui+pUoXlAG9S9nyOHB1Oflk3qU3yrQekPTHlid55HLuuzV+7RlIoUFhaIGnUpj+1Cjk1DU0ZNwzxiSReuGn6fz4OwJiQhGWt/J98tWpcm9Q7Puj9TDlidx9D17lltjq7j7oQ9/0JEk6ez/J88tXbRH/+3bP1zUjq3Ueo3Mx3HHtOW/+lfcuBw1i2fWn9S0sjZmnWfYvSybRveRNqeNbi4a0HhDwxfQc4+e2PNO2a/Rip0qgoU6UsXYd1Z9XJdUz6fCpF3Ezb5N3Lf7F//d6MbcL3r8c4u5t//hUGGanQ//5tzLamRkdHM2jQIMLCwqhevTpz5szB09OTqlWrEh4ezv79+/n666/58ccfMRgMNGnSBG9vbyRJYvXq1Vy8eJHY2FhcXFxYvXo1Bw4cICwsjKFDh7Jz504APvvsM+7evUtycjLLly+nRo0a+Pn5MXfuXGJiYrCwsGDWrFlUqVKFo0eP8uWXX6JUKilevDgrVqxAq9Wa5f8q2Tshx0ZkPJZjI5EsrEFrmWVombb7cPSXT2EMeZL1/TYOaLwGkfLVAtQN2pol04sUzi4YIsIyHhvDw1FY65CsrDK64o2hIRhDQzJqrId9Qtql3yE9HZRK9Nevkbh1M5JKhe2CpchJiaQc3G+WfA5uTsQER2Y8jg2OxNLWCq3OMtuQQWO6gapt6/Lh0qGkp6Xz46f7ALiy/xw1OjVg7uWNKJRKfH69xV9n/yxQLsm+CHLMi8s1Askyh+Xa4xP0F09iDHqS5f2G+zcyP8vBGbWnF6n7PitQphcpirhgfHG5RpiWK5ZWGUMGjWEhGMMyl6vVwE/Q/2Farob7d9E2b0v63dumXrZGzcCQv6FuOXFxcyEsKDNfeHA4OlsdVjqrLEOQSpQtTlR4FFNXTsKjSjni4xLYuHALAEVcnRg7fxQTe0+h68deZstm4+ZE3AvrXHxwFFpbKzQ6yyxDBuMCIogLyFwHms/qzaMzf2LUG3AsW4yQG495f/tkdK72BFzx4fzi3fnKY+HmREpQZp6UoEjUtlYodZZZhgy+qs66bDFii9hRZ9dULIo6EHXpHvcXfIeuYnFSw6IpPbwTzi1rotCo8N10jKTHwXnOqXR1xhCWuUwN4eEodFn3JYaQUAwhoRk1tqNHkvLbBUhPxxgZSfSM/A/RMocZE0cCcOFKwfYP+WHl5kRSUFTG4+TgKNS2Vqh0ltmGDN6YsQ0wNcxeFPrL7czPK14EjyHt+dM76wme/HBxcyE82/ZqnW17Lf5se/VeOZHylcuSEJfI54tM2+vV89cy6lzdXfhgUHdWTVld4GwKB+csjSI5OhzJyhosrLIOGTQYUNV8F4u+4yFdT+rhbVk+R92kPXJMJOnXfy9QHnUxZ/TBmXn0IREobaxR6Cwzhgy+qibm+zPYdmxChQvbQakg8bfrJPx0BYXOEoWlBdZNapH423Usqnmg9SiJyiXvvc7PqYo6kx6SuQ9LDw1HaWONZG2VZchgxCLTscnq3dpZ3p98IXM7Ubm5YN+3G2Fz1uY7T26Urs4YQvO4bxmTuW95E5yKFSEyKHPeRQZHYG1rjaXOMsuQQUdXJ+5cvMWuld/y9L4/XYZ1Y8qXM/HuOI6bv2Z+Dyji7kynQV5snmq+7wHCv4vZuicCAgKYNWsWR44cITExkV27dhEdHc2QIUM4fPgwFy9e5M6dO+zfv59Dhw4RGhrKkSNH8PPz4/Hjx+zevZuTJ09SrFgxjhw5wtChQ3FxcWHLli04ODgAUL58eQ4dOkSfPn3YutV0kJkyZQre3t4cPHiQBQsWMH78eADWrFnDV199xYEDB3B3d+fx48fm+q+CpDCd5XmZMXPEqqphezAaSb/6U9YahRKLXhNIO/YVcny0+TJlmYYCcognG3IYUau1wGbGPJRu7iSsNnV3p/54jMSNayE1BTkxgeQDe9G+a76zwJKkyHH25ZgPuHPqKrNqD+Xkmv0M3z4NSZJoN/YDEiPjmV13GPMajcTKXkfzwZ0KGCzn+Yb8wnJ9twMYDaRfyX34pKJ4OSxHLUX/2w8Y/r5asEyvk8+Y83LVTZ6Hspg7iRtMyzXp643IyNiu/hKb6QvR37iKrDffwUqhkHLeLF5ariq1ikYtG3Bk5zEGdRzB/q8OsnLHEtQaNXM/m8m6uRuJDIvK/kEFIElSjttsbuuc2lKL16bR2Jd25eRk0/WSCpWSUk2rcnTkenZ0noWFvY4mk3vkL08u2+jLy/JVdZJaiVOzatwYspYLbaejcdDhMe1DJJUSq1KuGOKTuew1h5vD1lFpfl9sq5fJT9D/uq/LKLWwwH7BHJTF3YldtiLv0/ofJCnytt69in310jQ/NItHX58i+Mz1gmeTXnN7Valo0LI+x3YeZ1inTzjw9SGWbV+MWqPOqKlQzYN1B9Zw8JvDXDx7ucDZyGW+5bTepd+4QMKEHqQe3YHVuCVZh3C36U7q8e8KHOd1luOrapzH9CI9MhafBr150LgfSnsbHIEIu8MAACAASURBVAd1w5iQzNMRCygy4j+UPbYe++6tSLx4Czkt/6MyTPuMHBdsnj5HW6U87jtWEfvdEZJ+McMyfVke9y0OC+egcncnZsmb27coFDl/N3l5mwh7Gsri/vN5et8fgCObD+JasiguJTJ7cctWLceCfUs5se0Hrv1kxu8Bwr+K2Xqy6tatS+nSpQHw8vLiwAHTBfU1atQA4OLFi9y6dYvu3bsDkJKSgpubG127dmXKlCns27cPX19fbty4wf+xd9/RUVTtA8e/szWbXggp1FAFpSNFOoSO1FcEFQEh9A7BhN57FZAiiIDKq4iCgHQEFKUpJUAILQVI7z3Z7O7vj41LOmm+QX/3c07Oyc4+s/Pk3pk7e+femVSuXDnPbbi7G6dG1ahRg5MnT5KUlMSdO3fw9vY2xSQnJxMTE0OHDh0YPHgw7u7udO3alTp1Su/eJ0NsBFKlmqbXkrUDhuQE0KaZlimbdgClGs3ktUhyBShVaCavJe3QZ0j2Tqh6GedqS1a2SJIMSaEi7eCnpZKfPjwMxWsv/l5ZuXLoE+IhLTVbnMyxPNaLlqMLCiRu5hRIN96Yqe7UhYwnj9D5/9UxlTCUcMSj29R3eKNzEwDMLDUE+z01vWfjbE9SbCLpKWnZ1ilXxQkrR1v8rxsfxnHl2595Z+lINDYW1O/WjO8X7Ean1aHTpnDt4EUadG/O+Z3Hip2jITYCqUot02vJJrNe07PUa7NOxnqdvuFFvU7fQOpnizDER6No2Ab1f8aQ9v12Mv68mNdmik0fEYaiVpZ6dcinXsuVx3LOcnTPAomf86JeJY05KV9sw5BovFHX7D8foA8t2X2OI2cMo3UX47Q7c0tznmS5YbucsyPxMfGkpmTPLzI0ioCHQdy7cR8wThf0WjODWvVq4lrFhUnzxwJg72iPTC5DpVaywnNtkXNrNW0A1Tsbr9KqrDRE3n+xz1k525ESm4g2xz4HxlGvfp9PI/pRMN++u9Q0DTUxLIaHJ66ZRr58f7hEy8l9C51PjZnvUL6r8RhQWGlI8H2Rj9rFnvSYRHTJ2fNJeRaJTeMaecalhcYQduyqaeQr+LtfqT59AIGfHQfg2f7zACQHhBF7xQ+bRjWIv120G+r1YWGo6r7Y5+TlHNHHx2NIzbHPOZXHfuUyMgICiZo41bTP/X9U13MArl1e1HN8lnrW/FV/eex3BanYpwWNlw/nxuw9PP3ht2LnNnzGUFp1Nt6HaW5pkeN4LUd8bB7Ha1gUgQ+D8M08Xi+d+g3P1dNwqexC0KMgOvZuz5Rlk9g4ZzNnD+W4qFhMhqgIJLfXTK8l28ypgOkvcpMcXZHZ2KF7dBcA7a8nMftgEpK5JYakBGSVqiPJ5Oge3C5xPtrgCDQNapteK50c0MUmYMhSjwXFWHVtSejC7aDNQK/NIPb7s1h3a0X054fQJ6US+P6L7zDVz+wgPbDoo86mPELCUdd/UXYKp3Lo4rLn+jKW3dvhOG8iEUu2kHjs52LnUhBdWBjK17O0LY55ty1yp/LYr1pGRmAgkRNKv215d9p7NHU33gdpbmVO0P1A03v2zg4kxCaQlqPsqrxWlSp1qnLxh/OmZZIEGZkXLVu93YaRS8awa952fj1cut8DypL+nzdbr8yVWidLkWWOrMFgML02MzMDQKfTMXToUIYPN3Yu4uPjkcvl3Llzh+nTpzNs2DC6du2aeSUh7/uw5HI5kHlVGtDr9ahUKg4fPmyKCQ0NxdbWljlz5nD//n0uXLiAp6cnEyZMoE+fPqXyt+oe3ELVcxiSgwuGqBCULbqQce9atpiUzR+bfpfsHDGfuoGUjdMBSF7+4uZOlfu7YGFVqk8XTP/jGhajxiFzrYA++DlmPXuT/nv26RKSRoPN6o2knj5BylfZp1jIq7qhat2WhMXzQKFA07sfqSV88MWJ9Qc4sd441c/SwZqZJ1ZRrqozkQGhvPW+O3dO577SY13ejiGfTGRNDy+SYhJo0rc1IQ+ekhybyLM7/jTs2ZJHv99DppDzhnsTAm88zPUZRaHzu4Gq90dI5VwwRIagfKs7GXeyX8FL2TDD9LtkVx7zmZtIWTsFAHndN1H18yBl23z0zx6VKJe8aG9ew/yjcchcKqAPeY66W2+0V3NMg9FosFq6kbRzJ0j9Jnu9qrv1QTI3J3nHRiQbO9Sde5K4emGJctq55gt2rvkCAFsHW/ad3UlFtwo8839OvyFv88up3F8IL/98hYnzxlC7Xk38fB7SoHl9MBh4eOch/d98cYP1R9OGYmtvU+ynC15ad5BL6w4CYO5gzdBTy7Gt6kRsQBgNPujE41O5p48pLcx499vZ3P3uF37f8EO29x78dJXavVrgs/88GWlaanRtQuitwo+QP1p1gEerjMeAqpw1rc6vwtzNmWT/UCoPdSf8RO5jIOrCbV5b+EGecaFHr+DcuyXPvjqHPlVL+e5NibvxmJSgCOJuPaHCu+0I+vwkKkcbbN+sxZMtPxY617+kXb2O1YSxyCtWQPfsOeZ93yb1l9xticOm9aQcP0ni7r1F3sa/zb3VB7m32rjfqR2s6fzzCizdnEj0D6Pah50IPvnHSz4hO5fOjWi45EN+GbyCmFsle+rc7jV72L3G2C7YOtjy+ZnPqOBWgef+z+k95G0uncx9vF79+Srj5o2mVr2aPPB5SP3m9TAYDIQ+DaGlewsmLhqP53te+N0uvSe+Zdz7A/XAUcjKu6IPD0bVrhfam79ni5HZ2qPx8CZp0VgMifEoW3RE/zwAQ5LxIpKiVn0y7t/M6+OLLPHXP3GaNQJVVVfSA4Kxe68HCWcuFzom9e5jrHu0JvnybVDIserUnJSb98FgoPKuBTwds5hUn0dY92yDIS29RE8XTLn0B+U8R6Gs4oo2MBibd3uSdO73l6+Yybx9c8rNGkfwSG/S7pbsnFqQtKvXsZ74krbFXIPD5vUkHz9J4ud/T9vyzbqv+WadcbTT2sGGdSc34VzVhdCAELq8351rp3KP4un1ej5aOIr7130JfxpG1yHdCbwfSHRoFE06vclHCzxY8sF8HvuU/vcA4Z+l1DpZf/zxB8HBwTg7O3Po0CHatGnDiRMnTO+3aNGCTz75hIEDB6JWqxk/fjz9+vUjLi6OZs2aMXjwYGJiYjh//jxduhjvU5LL5eh0+Q9xW1lZUbVqVQ4fPkyfPn24dOkS8+bN48SJE/Ts2ZN9+/YxevRotFotvr6+pdbJMiTFkXZgM2YfeBof9R0VSuo3nyCrUB31f8aZOlNlxRAXS8LaFVjPXWR8/G3IcxJWL0NRszaWU41PEzTr3R9ZeSfUrdqgbvViKmDcx9NI/vILLMdPwXbbbiSFgrRfzpN2/Gip5ZcYFc9+z20M2zoVhVJBZGAYX08zzlmuVK8a764cxZoeXjy5dp/TWw4x/r/z0Ot0xIXF8LnHGgAOLd7LgEXD8Tq7FoNOz4NLdzi3vehfIrMyJMaR9t+NmA3zQpIr0EeGkrp/PbKKNVC/O8HUmcqPuvdwJElC/e4E0zKdvy/p328vUV6m/OJiSfpkBZYfL0JSKNGFPidpwzLkNWpjMd74NEGzHv2ROTqhatEGVYsX9ZowbxopB7/EcspsrD/ZDZJEytefo3t0v1RyA4iNimXZtNUs2bEApVLB88BgFk9eAcBr9WvhtWYGw7qMIjoiBq8R85i+bAoaczPS07XMGjmf9BI+uKQgyVHxnJixg97bJiFXKogNCuf4lG0AONV3o+vKkeztPptGwzpjXaEcNbs2pWbXpqb1vx28nJt7z2Bma8mQn5YgyWSE3Qng/OLiTUVKj4zHZ/I2Gu6aikypIDkwDJ8JxmPAukE13lg3it86eRUYF7T7FEpbS946tRxJLiPex587840Xa24MX0vdFR9Raag7kkzG47UHib9Z9CnT+thY4patwm7JQiSFgoznwcQuWY6ydi1svDyJHO6B+YB+yJ2cMGvbBrO2L/a5qMnTMcT/7x/X/ipJi4rn+pTttPhsMjKVgqSAcK5O2gqAXQM3mqzx4EznWQV+Rv157yFJEk3WvHhSZ+S1B9yc9UWJcouNimXl9NUs3D4PpVJBcGAIy6asBKB2/Vp4rp7GyK5jiI6IYc6I+UxZNgmNxni8zvNYSHqalrFzRyNJEp6rp5k+1+faXTbO2VSi3AwJsaTuXoNmzFzjOSwimJRdq5FVqYlm6DSSFo1F9/AOacf2Yz5jDeh16GOjSP70xUUjmVMF9FFhBWyl8HRRcQR/vIGKm72RlErSg0J4PmMtZvVq4LpsMk/enphvDEDYks9wXjCW6qe2YdDpSfr9FpE7jB3x51NX47J0EpJSQUZEDE/HLClZrtFxhM9Zi/P6uUhKBdqnIYR5r0b9ek3KL57K0/7jCly/nKcHkgTlF081LUv58y6RS0r3viJ9TCyxS1dhv3QhKBXongcTs2g5ytdqYevlScQwDywG9EPu7ISmbRs0WdqWyEl/T9sSHxXHFs+NzNjqhUKlICwwlE1TjfcYVq9XgzErJ+DZYwpPHwSxa/4OvHbNQSaXERUSxYaJxmmMH84eDpLEmJUvvgf4/eHLzrml8z1A+GeRDKXw+L4rV66wYcMG1Go1ERERtGjRglmzZlG3bl38/PxMcZ9++inHjh1Dp9PRpk0bZs2aRXh4OBMmTCA1c4i4Tp066PV61qxZw9KlS7l48SI7d+5k6NCh7N27l4oVK3LlyhU2b97Mvn37ePz4senBF0qlkgULFlC/fn2OHj3K1q1bUavVODg4sGLFChwcHAr19yR+3L+kRfK3SL0Z9fKgMrTUz6WsU8jX4v55/4+QV0X647iyTiFfb1+Xl3UK+eond315UBl6I+3vuUG7NDSoWTpfQP8u5Q6V/OEOf5fD9eaWdQr52ix/tev1x+6v7kONn51TvjyoDKnUr257Ym776k4RnvTcqqxTKNB3gSW7QPy/ctj5vbJOgT6hJb/H8n+pVDpZ/zaik1U8opNVfKKTVTyik1V8opNVfKKTVXyik1V8opNVPKKTVTpEJ6vo/p5/NiAIgiAIgiAIwr+CGJEpulf3kpIgCIIgCIIgCMI/kOhkCYIgCIIgCIIglCIxXVAQBEEQBEEQhHwV/V+oC2IkSxAEQRAEQRAEoRSJkSxBEARBEARBEPKll6SyTuEfR4xkCYIgCIIgCIIglCLRyRIEQRAEQRAEQShFYrqgIAiCIAiCIAj5Ev8nq+jESJYgCIIgCIIgCEIpEiNZgiAIgiAIgiDkSzzCvejESJYgCIIgCIIgCEIpEp0sQRAEQRAEQRCEUiQZDAZxL1sOh5zfK+sU8pQke7X7xI0toss6hXydSLMv6xQK1DIjuaxTyJe1Jq2sU8iXQqUr6xQK9CTatqxTyJev+tWeLV5J++qemvr4LC7rFPL1y+teZZ1CgSzkGWWdQr78JPOyTqFA1XWpZZ1Cvu4rzMo6hXwNaPO8rFMokO3+n8s6hULZ7/p+WafA4OCvyjqFInm1v7ULgiAIgiAIgiD8w7zalzIFQRAEQRAEQShTeqSyTuEfR4xkCYIgCIIgCIIglCLRyRIEQRAEQRAEQShFYrqgIAiCIAiCIAj5enUfRfTqEiNZgiAIgiAIgiAIpUiMZAmCIAiCIAiCkC+9eO5FkYmRLEEQBEEQBEEQhFIkOlmCIAiCIAiCIAilSEwXFARBEARBEAQhX/qyTuAfSIxkCYIgCIIgCIIglCLRyRIEQRAEQRAEQShFYrqgIAiCIAiCIAj5Ev8nq+jESJYgCIIgCIIgCEIpEiNZpcTJvSF1Zw1CplIQ7/uUG1N3kJGYkm9840/GEO/7lEdbj/0t+bh2akhD74HI1Upi7gVxefrOAvNpuWE0sfef4rvtJ9OyAXe2khwSbXrt++kxAn74rVj5WLZ/E8fpw5BUStL8/AmZtQF9jnzyi5HZWOKycALqOtUwpKQSe/A0MfuOAGDevD5O3iNBLkcXG0/Y0h2k3fcvVo5/cevYkFYfD0SuUhJ5P4jTnjtJz6PsXuvXiqaje2AwQEZKGucX7CPsdvZt99o+maSwGH6et7fQ27ft1IRK3u8jUytJvhfIk+lb0OXYfr4xMhlV5g/DtkNDJLmc4G2HCd93CgBNzYq4rR6L3MIMDAaCln5J3IWbANT8zBOLulXRJacCEH/pDoELdr80V8v2b1Lec6ixzu4HEOydd73mGSOT4bxgDBbN6gGQeOE6Yct3AaCqUQnXpRORmWswGAyEr/6CpF/+LHQZ5mTRrhnlpg437Vthc9ajT0rOM9Zp+XTSHwQQs/sgAJJaRfm54zGrXxskidRb9wlfvAVDWnqx8wFwdG9ErdmDkKmUJNwLwmfq9lz1/LK4SsM6U/H9jsjNVMTffoLP1O0Y0jOwbliNOouHIjdXI8llPNn0IyEHfy12rqVxTIy5uZWELO3JH9uPcf9Q8dqTnJw7NeSNWe8iVymI833K9WmfFdjeNd04mnjfpzzIbO9kZkoaLRuGfaPqIElE//mIG7O+QJ+qLZX8CmIwGJi9ZC01q1dl+Hv/+du35+DeiOqz30NSKUm6F4jv1G157nf5xcmtNNRZPxbzmq5IkoyQby8QtPlwtnXNKjvy5qmV3Hx3CQm3nhQqr7/aNCmzTfMvoN3LGSOZqai6zAPLhjVBgsQbDwmY9RmG1HSs33qDSnM/RFIoMKSmEzB3J0k3HxW/ADNV6NSQxl4DkamVxPgG8fv0nWgL2OdabRhNjO9T7m1/cY6tPdSdGoPbIzdTEn07gN9mfIY+PaPQOdi5N6bKrPeRqRQk+QbxaOqnedZlvnEyGW4LPsS2QyMkhYzgrUcI3Ws8X9i0ep2q8z5EUsjRp6bzZM7nJN4wllvlmYNw6NUcgMSbj3n88Q4owqFSqWNDmnoPRKYylt0vMwouu7brRxN9/yl3MstOkkm0XDIU5xZ1AHh27iZXl+wvfAL5UDRqgWbQSFAo0QU9IXnHakjJfp5QdemLunMfMBjQhwWT/NkaDPGxoFSh+WgKiuqvgSSR8ciXlM83gLZk54lXifg/WUUnRrJKgcrBisYbRnN1xAbOtp5BUmAYdecMyjPWsqYrrb6bjWuvZn9bPmp7K1qu9+AXj40caeNJYlA4jWa9m2esdQ1XOn3rTeVeb2ZbblXdhfSYRI53nm36KW4HS25vjcuKqTybsJQnXUeR/jSU8jOGFzrGadYo9MkpPOk+Bv93pmHZtimWHZohszSn4pbZhK3chf/b4wmdv4UKG72RVMW/dqCxt6LLGg+Ojt7Ing6exAWF09ord9nZVXOh7ezB/PDhar7qPpsrmw7Ta/vkbDFNx/SkQrPaRdq+wt6a6usn8NBjNbfaTCQtKIxKs4YUOsZpSBfMqrlwq8MUfHrMxMWjFxYNawDgtnwUEf89i0/n6TyetoWa26eD3NgEWDWpzd3+c/DpPB2fztML1cGS21vjumoKz8Yv43Hn0cY688xdr/nF2PTriLpaRR73GM/jXhMwb/YGVt1bA+CycByxB07z5O2JhHhtoOImL1OuRSW3s8Fp6TSCJy8moMdItM9CKDd9eK44VbVKVNy9AqsubbIttx8zGEkhJ7DPWAL7jEUyU2M/Ku/jqbCUDla8sXEMNz5azy+tppEcGE7tOYOLFOfU402qjOjG9XeW8GvbGcjMVFQd3QOARrum8Wj1AX7r5MX1wSt4bdEQzN2ci5VraRwTdtVcSI1N5Kvus00/pdXBUjlY0XTDKC6P3MDJNp4kBYZTb3be9WNV05W2B2ZRMUf7W2dyX2QKOac7enO6oxdyMxWvTexdKvkV5HFAECMmeXP6fPE7wEWhdLCizsZx+Hy0liutppASGE71Oe8VKa6a1yDSQqK42m4G17p5U2FoZ6yb1jStK1MrqbtlYpHaYYW9NdXWT+CBx2puF9Du5RdTYdIAJLkcn05T8ek0DZmZCteJ/ZGUCmpsm46/51budJ7G840HqL5pcl4pFIna3oq31nlwftRGDrf1JDEwnMb5nGNtarjS+VtvKvfMfo6t3L0ptYd35vSg5fzYwQu5mZK6Ht0LnYPCwZoaG8Zzf8Rq/mw9mdTAMKrMeb9Icc4fdsasuis32k/lVjcvXDx6YtmoBpJSQa3t03g0fRs3O83g6YaD1No0EQD7Hs2x7dCAm508udF2KjKNGpeRPQudt5m9FW3WeXB21EYOtvMkISicN73zL7vu33hTNUfZ1RjQGpvqLvzg7sUPXWbh3KIOVXuW7DuVZGWD+eiZJK2fT8L0oejDQ9AMHpUtRu5WC7Ne75IwbwIJMz9CF/oMs3c+Mv5d/T5AkslJ+HgECTNHIKlUmPXJXR/C/y+ik1UKyrerT8zNJyT5hwIQsOcMlfq3yjO22vAuBH71M8FHrvxt+bi0q0fUTX8S/MMAeLjnLFX7v5VnbK3h7jzef57AI1ezLXdsWhODXk/nH+bS48wy3pjaF0lWvMsYFq0bk+rzAG1gMACxXx/DuneHQseYvVGDuEPnQK8HbQaJ569h1a0VqqoV0CUkk/z7LQDSnzxDn5iMpmGdYuUJUKVtPUJv+RMbYCy72/vO8lrf3GWnS9dyeuZOksJjAQi77Y+Foy0ypRyAii3qUKVdfW5/ea5I27dp15DEm49I9Q8xfu6eE5Tr36bQMXbdmxPxzTnQ6dHFJRF1+BLlBrQzriiXobCxNP5qoUGfZrz0qK5UHrmlhmqrx1H/7HqqrZ+A3NbypblatG5Myu2HpAcY6yzmq2PY9Glf6BhJJkOmMUNSKY0/SoVpdEiSy5Bl5iqz0JRo1Mi8VWNS72TZt/Yfw6pXx1xxtu+9Tdx3J0g4+Uu25SnXfIjath8MBtDrSfN9hMK1fLHzASjXvj5xNx6TnNlmPN1zGpcBrYsU5zqwLQHbjqKNTQKDgbszdxJ84BdkaiWP1h4k6uIdANJCokmPjMfM1b5YuZbGMeHSpCZ6nZ6B383lg5PLaD65+O1JTk7t6hFz8wmJme3d4z1nqJxP+1t9WGf8vz7PsxztXeTl+/huOJRZxwZi7wRiXrFcqeRXkP8ePMqAt7vSpUOblweXAvv2DYi/8ZiUzP3p+Z5TOA/Ive2C4h7O3s2jBfsAUJe3RaZWkhH/4mp/rRUjCP3mAtqo+ELn9VeblpalTXPIp93LKybhyj2CNx4wHaPJd/xRV3DEoM3gRuORJN8xjqaqqziREZNQ6Lzy49quHlG3Xpxj/faexa1f3ufY2sPcefT1eQKPZt/nqv2nNfe2Hyc98/i97LWbx0UYbbZr1yDzPGCso9A9J3Hsn7suC4pz6N6M8P/+bDpfRB6+hOOAthi0GVxvOIqkzHIzq+yENiYRgOifruDz9hwM2gzklhqU5ayLVKYV2tUj8pY/8Zll57v3LNXzKbu6w9zx238e/xxlJ8llKMzVyFRK5CoFMpUcXVrJRp0V9d9E98QPfehzANJPH0bVqlO2GJ3/A+KnfgApSaBUIrMvhyHRuJ9n+N4m9Yd9xn3QoEcX8AiZo1OJchL++V56qWnChAm8/fbbdO3aFYD+/fuzYMEC1q9fT2xsLGZmZsydO5e6devi5eWFpaUld+/eJSwsjPHjxzNgwABSUlKYM2cOfn5+SJLEiBEj6Nu3L99//z3nz58nNjaW8PBwBg0axPPnz7l8+TK2trbs3LkTtVrNwYMH2b17N5Ik8frrrzN37lwsLCyoXbs2fn5+AHz//fdcvXqVFStWsHLlSi5duoRMJsPd3Z0JEyb8rYWocbUn5XmU6XVKcDRKa3MUlppcU1Zuz/oCgPLt6/1t+ZhXcCA5+EU+ySHRqPLJ5/ps4zQ257bZ85HkMkJ/ucuNpd8gU8rpsG8G2oQU/HaeLHI+SmdHtCGRptfa0EjkVhbILDWmqWUFxaTe8sOmb0eS/7yHpFJi1bUVhowM0gOeITM3w6J1I5J+vYFZvZqoa1ZGUb54XyYBrFwdSAx5UXYJIdGorc1RWWqyTY+KfxZJ/LMX+bab+z5PzvyJXqvDwsmW9gs+4IcPV1Pv/dxf5guiruBAevCLz00LiUJhbYHcUmOaBlJQjNrVgfQsdZ8WEoVdnSoABMz6jDoHFuLs8TbKctY8HLsOdHqU5WyI++U2AXN3kh4aQ9VFH1F93XgefLSywFyVLo5oQyJMr/Os1wJiYg+ewbpHa2r9thfkMpJ+vUHiOePJNGT+Vqp8uQyH4X1RONjwbPIq0BXvv3QonB3JyJJDRliEMQcL82xTBsOXfAqAeasm2dZP/u3FNEWFa3nsPuxH2PyNxcrlL2auDqRmqafU4CiU1ubZ6vllcRbVXIgrZ0OT/V6YOdsRffk+DxZ/jT5Ny/OvfzatU3FIJxSWGmL/eFisXEvjmJApZAT9epdfV3yDXCmn7xczSE9M4cauorcnOZm7OpAc/GIaYkpI/u3vzdl7AGPHLKuwCz4vPq9iOWp6dONPz10lzu1lZk8fB8BvV4s/FbYozFwdSMvaPgRHochnvysozqDTU3fLRBx7NSfy+DWSHxkvYLi83xFJISf4y7NUmdyv0HmpcrRp6Xm0ewXFxF24leWzHHEe2Qv/mVsBMGToUJSzod7JNSjsrXk0dm2h88qPhasDSXmcY5WWmlzT3q7OMZ5jXXLsc9bVXDAr94ROX87E3MmWsKt+/Lnkv4XOQeXqQPrznHVkkasuC4pTuZYj7XmWMg2OwiLzfGHI0KEsZ0OD06tQ2lvjN3qdKc6QocP5o25U+Xgw6aHRRB3P3gkqiIWrA4lZyi6pgLL7PbPsKuT4fvLw24u49WrO4OubkBQynl/04emZG4XOIS8yB0f0UeGm1/roCCRzS9CYZ58yqNOhbNoKzShP0KaTeMA46yPD57opRCrnhLr7AJI/K/m+9ioR/yer6F46ktWnTx+OHTPeNxQQEEBaWhrLli3D09OTH374gcWLFzN16lRTfGhoKF9//TVbt25l1apVAGzatAk7OzuOHj3Knj172LRpIVp5IgAAIABJREFUE/fv3wfAx8eHTz/9lF27drF8+XLatm3LkSPG+21++eUX/Pz82LZtG/v27ePIkSNoNBo2b96cb77Pnz/n4sWL/Pjjj+zfv59Hjx6RlpZW/BIqBEmWdzEa9GWzS0qShMGQ+zkwhiJ8SX389Xmuz9mLLiUNbXwyvtuPU6l70+IlJJOMV3cKyqeAmLDlO8EAboc3UenTuSRduoFBm4E+MYVnYxfjMOZd3H7cjE3fTiRdvo1BW/g57bnkU3b6fMpOoVHTc+tEbKs6cXrmTmQKOT02jefCoq9MV/SLtn3Zy8uqoJgc70mZyyW1kprbpvN4yiZuNPXgXv+5VFs1BpWrA4k3HvJgxEpj50yv59na/2LbqQmSsuBrMFIh6rWgGMdJ75ERFYdf8/d52Gooclsr7Ef0Q1IpqfiJF8Ez1/Ow9VACBn+My5IJKFyKN7JgHDHJIwe9rkifo65bg0r71hD71Y8knS/8l4q8c5Ll/aimHG1GQXGSUo5Du3rc9NjIb11mobKzpGaOaTduE3tTw/M//DlkVfHvLyrhMQFwZ/95zs/fS0ZKGmnxyfzx2XFqdC1me5IzvcK0L4VkW78q7Q/N5fHuU4SU8EvbK0kmy/vckPNcVYi4e+M38WudEShsLXCb/h8s67lR4cPO+M38rMhpSYVo9woTY16vGnUPLSFs93Fiz/xhWp4RGceNJh7c7e1NtXUTMKvmUuQcsymFfU6mlOPa9g0ujtnEsR5zUdta0tDrnUKvL8lkGPJs13K3IfnFGY+drMFStvW1kXFcbzSa271mUXPD+GzlFvr5Ca7UHkrUT1d4bef0wuctlbzsGk3rT2pUPF83Gsd/35yE2taSN0YVfqpl3onlvX/lbJMBtNcvET+qL6kH92DhtQqkF6PycrdaWM3fSNrJQ2TcuFyynIR/vJeOZLVr145FixaRmJjI0aNH6dGjB1u3bsXb29sUk5ycTExMDACtWrVCkiRq1apFbKzxS+bly5dZtmwZAPb29nTq1ImrV69iaWlJ48aNsbS0xNLSODWoZcuWAFSoUIH4+HiuXbtGhw4dsLOzA+Ddd9/Ntu2cnJycUKvVDBo0iA4dOjBjxgzUanVxyqZAr838Dy5dGgOgsDIn3jfI9J6Ziz3pMYnokv/ezl1W9T0HUCEzH6Wlhtj7T03vmTvbkRaTiC6l8Pm4DWhFzL0gYn0zP0cCfUbRvpT+RRscgabBi3uTFE7l0MUmYMiST0ExchdrwlbtQh9nnK7gMGYg6YHBIEnok1MI+sDLtF61U58Z3yuCltMGUK2zsezUVhois5SdpbMdqbGJZORRdlauDvT5fBrRj4I58O5SdGlaXBrXwKZyedrONc7FtnC0QZLLkKtVnPl450tzSX8egWXjF/c3qJwdyIhJQJ9l+wXFpAdHoHR6MZKndLYnPSQK89qVkWnUpi8eiX8+IMXvKZaNaqGtGIvC1pKYU9eMK0kS6A0vPenlrDOlk8NL6zVrjFXXloQu3A7aDPTaDGK/P4t1t1YkX/VB0qhJ/NmYT8pNP9IeBqJpUJuELKOdhaUNicCs/mum13ntfy9j1aMd5edOIHzJFhKOnS9yDgA1Zr5D+a7GUTKFlYYE3xf7mTqfNiPlWSQ2jWvkGZcWGkPYsaumq9bB3/1K9ekDAJBUCup/MhaLWhW50nMeKU8jKIrSPCYA6vRvRcS9INPnSCVoTwDqeg7AtcuLsozPUpaav8qoCPULULFPCxovH86N2Xt4Wsz7T19FbjMHUi6zQ6uw0pCY5VyldrFHG5OIPsd+l/osEusc+91fcfbtG5DoG0R6WAy65DTCfrhE+V4tUFibo7DS0OToEuM6zvbU/XQSjxftI/LkHxQkrRDt3sti7Pu0wm3ZKALm7CTqB+OUX7mVOdat6hFzwjg9P9nnCcn3AtC8VoXUJyGFL0SgwYwBVHrJOTavYyI/yaExBP10zTR68+T7S9Sf0rfAdSrPfBe7Ln/VpTlJueoyIVdd5iy3rHFpzyNROduZ3lM525EeHIXcyhyb1m8QnTlCleTjT9K9QCzqVEZmpkKSyUxTCcO+PourR8H3ZDWeMYDKnV+UXUyWsrNwtiMtn/YkP1W7NeX3eXvRa3XotSk8OvALVXs2486O44X+jJz0UWEoary41UCyd0SfGA9pqaZlMidXJFt7dH7GqdjpPx9HM2IqkoUVhsR4lC07oPloCim7P0H729li5/KqEiNZRffSkSyVSkWHDh04d+4cJ06coG/fvqhUKg4fPmz6OXDgALa2tgCmDo2UpWef84qYwWBApzOeYJVKZbb3FIrs/T59jqsIBoOBjIyMbK8B0zKFQsGBAweYPHkysbGxDBo0CH//kj1tLi/3V33Hz+6z+Nl9Fhd6zsOuSU0sMm8sd/uwEyEvOamUtturD5oeUHGy1wLKNa6BlZtxPnDNDzvx7FTRpqPYvFaR+p4DkGQScjMltYd3IfBw8a7KJP36J5qGr6Gs4gqA3eAeJJy9XOgYu8E9cJxsvMFZ7mCL7cCuxB85DwYDlT5biNkbxhOIVY+2GNLSi/x0wd/XHTTdjL+/zwKcG9XAtqqx7Op/0InHeZSd0sKMd76dzaMT1/lpwhbTl8mQPx+xs8Vk0+fd/uocD45cLlQHCyD2wi0sG9fCzM14xdDpwy5E/9X5KURM9MlrlB/cEeQy5NbmlOvTmugTV0gNCEFuZY5lU2OHR13FCU2tSiTdeYLcwoyqS0aa7sNyHduX6GO/53kFL6vEX/9E06g2qqqZdfZeDxLOXC50TOrdx1j3yLwPSSHHqlNzUm7eJz0zV01j4wlPWdkZdc3KpN57XKgyzCn50h+YNXixb9m+25PEc78Xen2L9s1xnDWWZyNnFbuDBfBolfFBFL918uJyj7nYNqlhehhF5aHuhJ+4nmudqAu3840LPXoF594tkZkZ29Dy3ZsSd8NYRg22TEBuqeFKr6J3sKB0jwkAh9oVaTk9sz1RK2kwtAt+R4p/lffe6oOc6TyLM51n8XPP+dg3qYFlZntX7cNOBBex/XXp3IiGSz7kl8Er/lUdLAD/Vd9yrdNMrnWayfUes7FpUhNN5v7kOrQzkSeu5Von+sKtfOPK92mJ2wzjUxAllYLyvVsS8+sdHs7dw+W3ppi2lRYazb1xn7y0gwUQl9mmqbO0aTE52r2CYmw7N6Xq4pHcH7zI1MEC4+hItXXjsXzTeJFFU6sSZjUqkHSj6FNnb605yNEusznaZTbH385+jq01pBNPi3iODTp2lSpvt0CeefxW7tqEqJc8iTFo1Tfccvfklrsnt3t6Y9WkJmaZdeT8YReiT+auy9gLt/KNiz55Dads54tWRJ24ikGnp+b6cVi9aTxfaGpXRFPDlYQ/H2JRtwo1NoxDplEBUP6ddsT+eqfAvP9cc5BDXWdzqOtsjvReQPnGNbDOLLvXhnQi8GTRyi7yTgBumU83lBRyKndpTMSfJXtiZMbt68hr1kHmXAEAtfvbaK9fyhYj2TpgMXEekpU1AMrW7uifBmBIjEfRuCWaoRNJWu75r+xgCcVTqMf/9OnThyVLlmBra0uFChWoWrUqhw8fpk+fPly6dIl58+Zx5syZfNdv0aIF3333HXPmzCE6OpqzZ8+yadMm0/1UBWnWrBl79+5l3Lhx2Nra8u2339K8ufHgsrOz4+HDh9SsWZNz585ha2vLvXv3WLx4Mfv27aNly5bcu3cPf39/3NzcClkkRZceGc+NKdtptnMyMqWCpMAw/phonA9u28CNRms9+Nl91t+2/ZzSouK5PHUHbXZMQqZSkBgQzm+TtwFgX9+N5mtHcrzz7AI/w2fdD7y5dCg9z61AUsgJOnqVx1+fL1Y+uug4gr3WU3HTLCSVgvSgUII912D2Rk1clk3Cv/fEfGMAorZ/i+vqGbgd+xRJkojY8CWpPsaTZPD0VbgsnYSkVJARHs2zcYuLleNfUqLiOTVjB722TUKmVBAXFM6JKcayc6rvhvvKkXzVfTYNh3XGqkI5qndtSvUs054ODl5OamxisbefERXHk6mbqbnDE5lKQWpAKI8mf4JF/epUWzsOn87T840B483gZlWcqX9mHZJSQfiXp0m4fA+AByNWUnXRCGRqJQadjiczt5IWGEZaYBihu47xxuFlIJNI9g3iieenL81VFxVH8McbqLjZG0mpJD0ohOcz1mJWrwauyybz5O2J+cYAhC35DOcFY6l+ahsGnZ6k328RueMgaDN4OnYpznNHIalVGDJ0hMzehDYotFhlqouOI2z2Olw3zAGlAu3TEEK9VqN+vSZOi6cQ1H98ges7zvQACZwWTzEtS71xj/DFW4qVDxjbDJ/J22i4ayoypYLkwDB8Jhg/z7pBNd5YN4rfOnkVGBe0+xRKW0veOrUcSS4j3sefO/N3Ytu0Js69W5D0KJjmRxaatvlg8ddEnr9d5FxL45i4vP4HOiweypDTK5Ap5Dw8dpU7+88Xu/yySouK5/qU7bT4bLLxEdUB4VydZGx/7Rq40WSNB2c6F9z+1p/3HpIk0WSNh2lZ5LUH3My8h/bfQhsZj+/krbyxaxoypYKUwDDuTTBOv7dqUI3X1o3hWqeZBcY9mr+X2qs9aHbB2D5H/HSNpzt+ynebhZERFcfjHG3a48x2z23tOO5ktnt5xQBUnjcUJHBbO870mYnX7hMw6zMefLSCKgs/QlLKMaRpeTx+PelZ7jEsjtSoeH6btoN2O4zHRGJgOL9mnmMd6rvRcs1IjnYp+Bzrt+cMKltLeh5fgiSXEe0TwPVFXxc6B21kPI+mbOG1nTOQlApSA8N4OHETAJYNqlN97RhuuXsWGBfyxUnMqjjR6NxaJKWC0H2nif/deL7wHb4Kt8XDkRRyDOkZPBi7kfSQaCK+u4iZmzMNTq7EkKEn2e8pj6a9/HyRtewuTt9Bx+2TkCsVxAeGcyGzPSlX343Wq0dyqGvBZXdlwVe0XDKUAedXYdDpCb50l9tbjxY6h7wY4mNJ3rYKiykLQaEwPp790+XIq9XC3MOTBG8PdH4+pB76Esu5G0CnQx8TSdLaOQBo3h8DkoS5h6fpMzMe3CFld8nu3xX+2SRDXhOv8+Du7s6oUaMYOHAgjx8/ZsGCBcTGxqJUKlmwYAH169fHy8uLZs2a0b9/fwDTgykSExNZsGABfn5+6HQ6hg0bxsCBA7M9rCJrPJDtsw4cOMDevXvRarW8/vrrLFy4EEtLSw4cOMDWrVspV64cTZo0ISYmxvTgi59//hmNRkPjxo3x9vbONUJWkEPOuR9p+ypIyufer1dFY4volweVkRNpxX8Yxv9Cy4y8/2fTq8Ba87+b9lpUClXxp5z9LzyJti3rFPLlq361/01iJW2hTk1loo9PyS7m/J1+ed3r5UFlyEJegntm/2Z+knlZp1Cg6rrUlweVkfsKs7JOIV8D2jwv6xQKZLv/55cHvQK2VfqgrFNgzNMvyzqFIil0J+v/E9HJKh7RySo+0ckqHtHJKj7RySo+0ckqPtHJKj7RySoe0ckqHaKTVXSv9llWEARBEARBEIQyJR58UXSv9tCIIAiCIAiCIAjCP4zoZAmCIAiCIAiCIJQiMV1QEARBEARBEIR8iemCRSdGsgRBEARBEARBEEqRGMkSBEEQBEEQBCFfr+7zXl9dYiRLEARBEARBEAShFIlOliAIgiAIgiAIQikS0wUFQRAEQRAEQciXXirrDP55RCdLEARBEARBEIR/teDgYDw9PYmKisLNzY01a9ZgYWGRLSY8PBxvb28iIyORyWTMnDmTli1botVqad68OZUqVTLFfv/998jl8ny3JzpZgiAIgiAIgiDk69/wCPeFCxfy3nvv0bNnT7Zs2cKnn36Kp6dntphVq1bRsWNH3n//fZ48ecKQIUO4ePEifn5+NGrUiF27dhV6e+KeLEEQBEEQBEEQ/rW0Wi3Xrl2ja9euAPTv358TJ07kiuvcuTO9evUCoEqVKqSlpZGcnIyPjw/R0dH079+fgQMHcvXq1ZduU4xkCYIgCIIgCILwSouPjyc+Pj7Xcmtra6ytrQtcNyYmBktLSxQKY9fH0dGRsLCwXHF/dcIAdu3aRZ06dbCyskKSJDp16sTo0aN5+PAhHh4eHDlyBHt7+3y3KTpZgiAIgiAIgiDk61WYLrhnzx42b96ca/mECROYOHGi6fXx48dZvnx5tpgqVaogSdmf3pHzdVZffPEF33zzDV9++SUAgwYNMr1Xt25d6tevz59//om7u3u+nyE6WXnwVb+asyitXoU9vADmVullnUK+HJPKOoOCXVKYl3UK+RrnXbWsU8hX9K6bZZ1Cgd5qHV3WKeSrga+2rFMo0OCA/G8mLmv2r3uVdQr5anN3RVmnUKAuDUeXdQr5+qpyTFmnUKBrT1zKOoV8NSCxrFPIV+gfmrJOoUC2ZZ3AP8jQoUPp169fruU5R7G6d+9O9+7dsy3768EVOp0OuVxOREQE5cuXz3M7q1at4sKFC3z11Vc4OzsDcOjQIRo3bkzlypUBMBgMKJXKAvN9NXsTgiAIgiAIgiAImaytralYsWKun5dNFQRQKpU0bdqUn376CTB2mtq2bZsr7osvvuDKlSvs37/f1MEC8PPz4/PPPwfgyZMn+Pr60qRJkwK3KUayBEEQBEEQBEHIl6GsEygF8+fPx8vLi61bt+Li4sK6desA2L9/P+Hh4UyaNIktW7ZgaWnJkCFDTOvt2LGD8ePHM2vWLHr16oUkSaxcuRJLS8sCtyc6WYIgCIIgCIIg/KtVqFCBffv25Vo+ePBg0+/Xrl3Ld/1PPvmkSNsTnSxBEARBEARBEPKlz/8ZEUI+xD1ZgiAIgiAIgiAIpUh0sgRBEARBEARBEEqRmC4oCIIgCIIgCEK+XvH/IvRKEiNZgiAIgiAIgiAIpUiMZAmCIAiCIAiCkK9/wyPc/9fESJYgCIIgCIIgCEIpEp0sQRAEQRAEQRCEUiSmCwqCIAiCIAiCkC+9mDBYZGIkSxAEQRAEQRAEoRSJkSxBEARBEARBEPIlHuFedKKTVQLVOzak/cyByFVKwu8H8dPMnaQnpuSKe71fK5qP6gEG0KamcXr+PkJ9/JFkEl0WDaVyizoAPP75JueW7i+V3Kp0bEhLL2NuUb5BnPXciTaP3Gr1a0XjMT0wGCAjJY1f5u8j/LY/cjMl7ZYMw6lhNUAi7OZjLsz5Al2qtsS5aVo3x3biCCSlkvSHT4hatBZDUnKesQ4LZ6J95E/8vgOmZZbv9Mayb3dkZirSfB8StXAtaEue118qdGpIQ++ByNVKYu4FcXl63mX3l5YbRhN7/ym+234yLas11J0a77VHbqYk+nYAv0//DH16Rqnk59axIW0+NtZtxP0gTnnmvd/V6deKpqON+11GShrnFuwj7LY/AONubiUhJNoUe237Me4f+q1U8gO4+DiMTRf9SNfpqeloxYJu9bFUK7PFPIyIZ8XZuySmZSCXJOZ0qUddZ5tSyyEr9VvNsRk7EpQqMh4/IWbpagzJee9zdnM/RvvYn8SvvwVAsrbC1nMKypo1MKSmknz0BEnf/VCq+SnqNUPd/yNQKNE/8ydlzzpIzZ6fskNvVO17gQH0EcGk7t2AISHW+F77t1G17gYqNbrAh6TuWQcZpXNMqFu2wGr0SCSVEu3jJ8Qtz112mi7uWLw3CAwGDKmpxG/YhNbvgel9WXlHym3fQsSwkRji4kslr6xadGyOh/cIlColT3yfsGrGWpITc9ev22tuTF48AQsrC/Q6HWu9NvDA5yEqMxVTlkyiTsPaIEn43rjPhjmfkJ6aXqx8HNwbUX32e0gqJUn3AvGdug1dHsdofnFyKw111o/FvKYrkiQj5NsLBG0+nG1ds8qOvHlqJTffXULCrSfFyvNlDAYDs5espWb1qgx/7z9/yzYK0qJjM0aa6tWf1fnWa1UmmepVz7rMev2Lo4sjW458wsjOo4mPKf39T/1WC6zHjERSGo+R2GV5HCNd3bH86xhJSyVu/Sa09x/k84lF5+TekDqzBiFXKYjzfcrNqTvIyGOfyy9OaWtBg5UfYfN6FTKS0wj65gL+u05lW9e8siPtTi7l90HLib3lX+jcbDo2oYL3EGQqJcm+AQTM2Iw+R275xcitzKmyZgKa6hVAJiPqu3OEfmpsf80b1KDyghHIzM1ALiP00++J/v5CkcrNov2bOE4bhqRSkubnT+isDeiTUgoVI7OxxHnhBNSvVcOQkkrc96eJ2XfEmFvz+pT3GglyObrYeMKX7SDtfuHLTPh3+EdNF/T29qZTp07Url27rFNBY29Fz9UefD9mIzs6ehIbFE4Hr3dzxdlXc6HjrMF8M3Q1n/eYzW+bDtN/+2QA3ujfGvvqLuzs4sWubrOo3LwOr/VoVuLczOyt6LTWg+OjNvJVe0/igsJ5yzt3brbVXGg1ezA/DlnNN91mc/2Tw3TfYcyt6cQ+yOQy9neexX+7eKMwU9FkfO8S5yaztcFhwQwiZiwkuP9wMp6HYDdxZK44hVtlnLavxty9Tbblmo6tsR7Uh/CxMwn+z0gktRrr9weUOK+/qO2taLneg4seG/mxjSeJQeE0nJW77ACsa7ji/q03VXq9mW15pe5Nqf1RZ868u5wj7b2QmympM6p7qeSnsbei2xoPfhy9kd0djHXbJo/9zq6aC21nD+b7D1ezr/tsLm86TO/M/c6umgspsYns6z7b9FOaHazo5DTmn7jNmr5NODyyPRVtzdl48X62mBStjrEHrjKsWXW+GdoGj5Y1mHXsRqnlkJXM1ga72TOJ8l5A+KChZDwPxnqcR644RZXKlNu0FrMObbMtt508DkNKCuHvDSdi5HjMWjbDrFWLUstPsrTBbNgMUrYuImnuCPSRIZj1H5H9b6hcE3WX/5C0YgpJC0ahD3uOus9QY96NWqHq2IekdV4kzfdAUqpQufcvldxktjbYzJpJzJz5RLw3FF1wCFZjR2WLkVeqhNW4MURPn0nkcA8S93yJ3bJFpvc13brgsHkjckfHUskpJxt7Gz5eN4N5oxbyYbvhBAeFMMo7d5uiNlOz5qsV7N/6DR7dxrB341fM2eQNwJCJ7yNXyPmo8yhGdB6F2kzF+xMGFysfpYMVdTaOw+ejtVxpNYWUwHCqz3mvSHHVvAaRFhLF1XYzuNbNmwpDO2PdtKZpXZlaSd0tE5FUf9910scBQYyY5M3p87/+bdsoiI29DTPXzWD+qEUMbfcRIUEhjPIekStObaZm9Vcr+O/WbxnVbSz7Nn7J7E1epve7DHBn48G1ODqX+1vylNnaYDt7JtGz5hM+eCgZwSFYj8txjFSuhPX4MURNm0nEMA8Svsh+jJSUysGKRhtGc23EBs62nkFyYBh15wwqUtwbi4aQkZTK2baeXOw5D6eODXHq3OjF36lW0njzOGRF3OcU9tZUXTeRx6NWcqfdeNKCwqjo/WGhY1w930MbEsVd98n49pyB45DuWDQ2fgesvuNjnq/dz72uU3k4ZBGV5g1H7eZS6Nzkdta4LJ/K84lL8e82Cu3TUBxnDC90jNOsUeiTUvDvMYaAgdOwaNsUi/bNkFmaU2HzbMJX7SKg93jCFmzBdYM3klKMa/x/84/qZP3www8cP34cPz+/sk6Fam3rEXLbn5iAMABufHmWun3eyhWnS9fy08c7SQo3XnEOue2PpaMtMqUcSS5DpVEjVymRqxTIlHIy0kp+9bly23qE3/InLjO3O/vOUqtv3rmdm7mT5Mzcwm/7Y56ZW/CV+1z/5LDxqpveQMSdAKwrlPwkpWnZhLS7D8h4+hyAhANHsOjeKVec1cDeJPxwnOTTF7Mtt+zZmfh936GPTwCDgeilG0g6drrEef3FpV09om76k+BvLLsHe87i1j932QHUHu7Oo/3nCTxyNdvyau+0xnf7cdJjk8Bg4MrHu3nyXel8UanSth6ht/yJzazbW/vOUiefuj0188V+F3rbH4vMunVtUhODTs+7383lw5PLaDG5L5JMKpX8AH4PiOR1Zxuq2FkA8E7DKhy/F4zBYMgSE0FFW3PaVCsPQPsaTqx6u3Gp5ZCVullTtL5+6J4Z97mk73/EvGvufc7iP31JOnKMlHPZr4Qqa9ci+fhp0OshI4PU3y7n6oiVhPz1JugC/NCHBwOQfv4oyuYds8Xogx6SOGc4pCSDQonMrhyGJOMVeWXLzqSf+g6SjcdE6pefoL18plRyU735ZrayS/7hMJrOOcpOm07cyjXoo4wjo9r7fsjs7UGhQObggFmbVkRPn1kq+eTlzXZNuH/rAc/9jTn+uPcI7v1y1++b7ZoQHBjClXPG4/XSqd9YMHYxALeu3Gbfxi8xGAzo9Xoe3n2EUwWnYuVj374B8Tcek+IfCsDzPadwHtCmSHEPZ+/m0YJ9AKjL2yJTK8mIfzEyUmvFCEK/uYA2qvRHZf7y34NHGfB2V7p0yJ37/8Kb7Zrgl6VeD+89Qqc86rVprnr9nYVjlwDg4ORAq26tmPm+99+Wp7pZjmPk+8NouuTIMz2d2BXZjxG5g/EYKQ3l29Un5uYTkjL3Jf89Z6jYv1WR4mzru/H0u19Bb8Cg1RF25gauvV5c9K2/fBhPv7lIenRCkXKzbteQpFuPSPMPASBi7wns+7UtdMzTeTt5ung3AEonOySVAl1CEpJaScj6b0j49TYA2pAoMqLiUbk4FDo3i9aNSfV5gDbQ2PbG7j+Gde8OhY4xe70G8YfPGc8N2gwSz1/DulsrVFUroE9IJvn3WwCkP3mGPikZTaM6hS+4V5DhFfj5p/nHdKvHjBmDwWDgrbfeQqvVcuvWLby8vLC0tOTu3buEhYUxfvx4BgwYwO+//87q1asBsLGxYe3atdjb25dqPlYuDsQHR5lex4dEY2ZtjspSk23qVtyzSOKeRZped5r7Pg/P/Ileq8PnwEXq9GjOhKubkMll+P/iw6OzJb+ab+nqQGKzqVHOAAAgAElEQVSW3BJDolFbm6O01GSb9pbwLJKELLm1nvc+/qeNuT29eOfF31rBgYYju/Hzx7tKnJvcqTy6sHDTa114BDIrCyQL82xTBmNWbgZA06JJtvUVVSoiu2tL+c3LkTs6kHbDh5gNn5U4r79YVHAgKUvZJYdEo8qj7ACuzd4LgEvbetmWW1VzQe3whI5fzUTjZEv4VT/+XPzfUsnP2tWBhJAX+SVk1m3O/S7+WSTxWeq2/dz3eZy538kUMoJ+vcvFFd8gV8rp98UM0hNT+HPXyVLJMSwhBWcrjem1k5UZiekZJKVnmKYMBkYnUc5CzYITt3gQnoCVWsGU9n/PCUjuVB5deJZ9LiICmaUlkrl5tik9cWs/AYydsqzS7/li3r0z6bfvIKmUaNq3xZBROlM/AWR2jhhiIkyvDTER/B979x3eZPX3cfyd2Sbdu5TVskFA9pRlKZQt4GAPmbKhlFX2hjJkC8oPEbegVpApCCoiQ9l7dED33iNN8vwR7KBN7QgWfM7Lq9dlkm+SD/c4ybnPue9I1BZgrs4/ZVCrRd6oDebDpkO2hsyAvYbnu1REYm2LeuoKJLYOaO/fIGP/RybJJnNx+sdlp42IRBsRmVNjPXkCGb/9DtnZ6GJjifdbZJIsxji7ORMdlpsxOjwaS2sL1JbqfFPLKlWrRFx0HL7rfKhRtxopSal8sGIXAJd++TOnzqWiM2+O6sf62RtLlcfczYHMPG1IZlgscms1MktVvimD/1Sn1+qot20yTj1bEnPkImkPDF/yKgx+HYlcRtinJ6k6tW+pMhaHn88EAH6/8Ndze4+iOLk5ERWWu18YW6+Vc9brDKrXrU5KUgo7Vxg+E2IjY1k0ZslzzSlzccr/mVacfWRK7j5iCio3e9JDc7eljLA4FNZq5JaqfFMGi6qL/+sBld98jbgL95Aq5VTo0QK9RgtAlUEdkSrkBH/2M7WmvVGibEo3R7LCcj+LssJjkFtbILVU5UwZ/McarQ6PzdOw696G+KN/kPEwDHQ6Yr7MPZjkOLgLUksVKX8VfwqmvIITmvDc99VExCCzskBqocqZMlhUTfrVu1j3eZ20v24hUSqw6tIWfXY2WYFPkKjNUbdtTNrZy5g3qIlZjSrInEz7PVR48b00I1kffPABAN9//z0ODrlHKiIiIvj888/ZsWMHa9euBWD79u0sXryYb7/9ljZt2nDr1i2T55FIJaAv2K/Waws/NVChMuON7ZOxq+rC4dmGL0CvTetHWlwSm5tOYFurKahsLWkxpuzTyiRSCfpC+vzGsslVZnjvmIyNuwunZuX/cubUwJ1+BxZw7eMTBJ28UuZsSCWFH44wku1ZErkMVcumRM9eRvjgCUitrbCdNPKfn1hcksLXq66Y+QCkchkV2tfn13FbONJtAWa2ljSa85bJ8ulLkE+uMqPnjsnYurtw/Om6vf7FaU4t+oTs9Ewyk9L488Mj1OjarNDnl4ZOD4WNi8kkufdm63T89iiK/g2r8Pmw1xjQxJ1J+y+Sla01WY4cUklhq9Rw9LEYEjfvAL0e5727sF+zjIyLl0zaycJIW1JYvuwrv5My4y0yD+5DPW2VYXuVyZHXbULazhWkLp+ExMIKs74jTJNNIi12Nom5ObbLFiGrVJHENf6mef9ikEgKX7/P7hNyuZyWr7fg0Gc/Mq7HRL7d8z1rPlmJQpl7rmCtBjXZ/O37fPdxAOdOni9dIKm00H1U/+wyK0bdrYlb+K3uKOS2Fnj4vIllAw8qDvPi7izTHVh6UUklhS+fZ9erLGe9HmZ8j4l8t+d7Vn+yIt96fa5KuI/YLV+EvGJFElaZcB+RFv5VrrBtzljdjcWfgR46/rSSlh/7EH3mOjpNNjYN3PEY3pmrs0p5kNXY8sm7HotREzjlfa40HIbc1gq36W/nK3Od2A+3GQN4MGIF+hKcR2n0e1ye5VZUTdRqw2eqx/dbqLR9Aam/XwZNNrrUdEInLMNx/Du4/7AVmzc8SfvjGmhM+LlRDnQvwN/L5qUZyTKmbdu2SCQSatWqRUKCYWqUp6cnkyZNonPnznh6etK2bcFh89JoN6M/NTsbpjQprVRE33mc85iVqx3pCSlo0jMLPM/azYE3d88g9kEYnw9YkTMlsLZ3M44v+gSdRkumJp3r+3+lTvcWXPjwSImztfDpj4fX02yWKmLv5mazdLUjIyGF7EKyWbo50HPPDOIehPHdOyvyXdiiZu9WdFgxgl8W7OXe9+dKnKkw2ogozOrnjljInB3RJiahz8go3vOjY0k79VvOqFfq4ZPYjBlSpkwNfftTqYth2SksVSTkWa9qVzsy41PQFrLsjEmPjOfxkYs5I1+BB87SYHrJjv7l1WZGf6p75W53MXfyr9t0I+vWys2BN/5nWLffvJO73dXt15boWyG5ryMBnQk7NxWszLkRnpBzOyo5A2tzBao8c/mdLM3xcLCkgZsdAJ1qurL02HWeJKZRzcHKZFnAsM0p6+XZ5pyc0CUVf5uTWliQuG0X+iTDNBnL4YNypgaZgj42GolHnZzbEtunUwGzcvNJnNyQ2tihfXATAM1vxzAfMgWJ2hJ9Qiyay2dzRr00f5zErOcQir/FGqeLjMy/7BwLX3ZSF2fs16wkOyiY2MnTIat0F4worpEzh9PWqzUAaksLHuU5odzR1ZGkhCQy0vNnjImMJfh+CLcvG84PPHv8d3z9Z1ChSgVCHoTweu+OTFs5hU3zt3Ly+1MlyuMx620cnx6okFupSLkdkvOYWQV7NPEp6NLyr5GMJzFYN6lRaJ19x1dJuR1CVmQ82rRMIr87i3PPVsit1citVDQ9ZJgOZ+ZqT73tU3i4dB8xx/7kZTdy5nDa5KxXNYF51quTkfUaGxlLSL71eo6Zedbr86aNjETxyj+3LzIXZ+zXriQ7OJiYSWXfR+rMehPXp59bcis1SXm2OfMK9mTFp6B9ZptLD43Brkn1QutUFR24uexzNAmpANSc0ofUwAgqv9UOuaWKdgcXG57jYkfTbRO5ufRzIo7/8yhnVlg0Fo1zzydUujqQnZCMLs9nVlE11h0akX4nGE1kPLq0DOICfsWuu2EbkSjluG+YgqpWZe70mUPWk9wRxeLQhEVj3jD3HH+5iyPahGT0ebIVVSOrYE3U2t3oElMAcBj/NlnBYSCRoEtLJ2Ro7rmB1Y59SFZIWInyCS+/l2YkyxgzMzPAcDTzbyNGjGDfvn1UqVIFf39/duzYYZL3+nXDAf7X3Y//dffjkzcWU7FxDezcDfP2Gw/25H4hDY7SwpxBX/lx7+glAiZvy3fOVcSNIOr2aAkYRj9qejUh9PKDUmW7sP4AX3n78ZW3H/v7LMa1cQ1snmarP8STwEKyKSzM6fu1Hw+PXOL4xG35OljunRvTbslQfhi8xmQdLID0c39i1qAu8soVAbDq34v0M8W/6ELaT7+i7tIBiZkSAFXHtmTeKts5etf8D3DYy4/DXn4c7bkYxyY1sPIwLLuawzx5UowPkrxCfrxA1V6tkJkbjqRW8m5KbBmu/vX7hgM5F6j4vM9iKjSuge3TdfvqEE8eGlm3b3/tx4Ojl/hxUv7tzrF2Jdr69EcilSA3U9B4eBfuHvyj1Pme1drdiWth8QTHGz6s918NoWON/Oe3vObhRGhiOrciEgH483EsSKCijdpkOf6WeeESyvp1kVUybHMWfXuR/kvxtzmLvr2wHmMYLZXa2WHRqztpx0+aLF/2rT+RVauL1NkNAGWHnmiu5N/npLb2qMbOQ2JpDYCi1evoQoPQpyaj+etXFM3ag8KwT8gbtUEbZJrzVjMvXELxSu6yU7/Ri4xfz+arkahUOGzZSMaZX0hYvOy5d7AA9qzby+iu4xnddTwTek+mXpO6VPQwZOw9tBdnjxVcvxd+vkCFKq7UamD4MtewZQP0ej0Rj8Np3bkVk5dOxHfQnBJ3sAAC137NRc9ZXPScxaXuftg0rYnKwxUAt+FexBy9WOA5cWeuGq1z7tMaj5mGq/lJlHKce7cm/rcb3F+wlz/aTMt5r8yIOG5N2Pyf6GCBYb2O6TqeMV3HM7H3FOrmWa+9hvbk7LGCn0Xnf76AayHrNfxx+L+SOfPCJZT/tI+oVThs3Uj6mV+IX2iafeTO2v2c7jyP053n8UuPhdg1rYnF023JfZgnEYVsE1Fnrhutcx/WmTqzDDMuzBytqTq4E0+++50bC/dxsq1PzntlRMbz58RtxepgASSduYJlk9o5F6RwGtqVhGMXil1j1+s13KYbLs4hUcqx79WW5LOG87A8Nk9HZqUuVQcLIPW3v1A1qoOiqqHttRvYneSTfxS7xnZgd5ymDgVA5mCLzVtdSTp0GvR6Kn24BPP6hm3Sqnt7dJlZ4uqC/w+99CNZhXnrrbdYsmQJI0aMwNbWlpMnTfeF6G9psUn86LuLvjumIFPKSQiO4uB0w5RG1wYedF8zmv9196PpcC9sKjpSq2szauWZkvXFoFWcXPoZXZYOZ+zJteh0OoLP3uSPDw6VOVt6bBInfXbRbecUpAo5ScFRnHiazbmhB53WjuYrbz8ajvDCqpIj1bybUc07N1vAgFW0nT8IiURCp7W5V+kKv3SPX+bvLVM2XXwCMYv9cfJfiEQhR/MknNgFa1DWrYXDwhmEDxxf5POTv/kBqY0Vrp/tQCKVknXnPrErPihTprwyY5M4N30X7XdNQaqUkxwUxe9TDa9v39CDVutHc9jLr8jXuPfxTyhtLel2dDlSmZS460GcX/K5SfKlxyZxbOYuen0wBZlCTkJIFEenGfK5NPSgy5rR7OvmR+MRXlhXdKRG12b5pgJ+M3AV5zZ+h+ey4Qw/sRqpXMa9Hy9w/YvTJskHYG9hxpJur+Ib8CcarY5KthYs7/4qNyMSWHL0Ol+PaIejpTkb32jKyp9ukK7JRimTsqFPU8zkMpPl+JsuPoH45f44rFwMCjna0DDilq5GUacWtnNnEj18bJHPT/7kc+wWzsX5090gkZD04cdobpvu4jv65AQy9qxDNX6B4RLu0WGk7/ZHWrUmquEzSF36Htr7N8j88QvUM9eBTosuIZa07YZzTTQ/H0RiYYXF/G0glaILeUD6vl0myaZLSCBx5Vrsli9BIpeTHRpGwvJVKGrXwmaOLzEjx6Du3xeZiwvm7dth3j73IgmxU33QJz2/CzP8LSE2gTU+/izZuRCFQk5YcDgrp60BoHbDWvj6z2B01/HERcczf9Qipq2cgkplTlaWhoVjlpCVqeG9BeOQSCT4+s/Ied3rF2+yaf6WEufRxCRxe+oO6u+egVQhJz04kluTDOeYWr1ajTobxnPRc1aRdQ8WfUJt/zG0OLMOgOjDF3m867DR9/wvSohNYK3POpbsXIBcoSAsOIxV0wynBNR6ul7HdB1PfHQ8C0YtZtrKyZirzNE8Xa8aE1xEqjh08QkkrFiL/YolOe1L/NJVhvZlji/RI8Zg0b8vMlcXVO3bocqzj8RMMc0+khWTxOVpO2n+0VSkCjmpwZH8NdlwcNn2VQ8arR/D6c7ziqy7vzmAJlsn0On0GpBIuLP2GxKulP2nAbJjEwny2UL1nbOQKORkBkcQOG0T6obVcfefxK2u043WADxZuoeqq8bzyk+G2/FHzxO5+xAWTWpj37MtGQ9DqfP96pz3e7JyL0lnindqgzYukfC5G6m4ZZ7h+0hIBGGz1mFevyauK6YQ1Gey0RqAuJ1fU8F/Jh6HtoNEQsymT8l4+tMBYTPW4rp8ChKFnOzoOEInLivzsixvOtNdH+v/DYm+sEnPL6jatWtz8uRJhg0bxqlTp5gzZw4tWrSgX79+OY/fvXuXc+fOsWrVKuRyOWq1muXLl+Pu7l7s91lVtWzTz54Xqxd8Qmovp4jyjmDUrxGu5R2hSJEv8OGOCQudyzuCUXG7TXCe4HNkVf/FXbGpt/+dL6GlNTDI9B1uU1moeXFPYG93c/U/F5WjLo3GlXcEoz6r8mKfM3PxUfEvT/5vqygv/HcHXwSW6uc/ul4Wde69HAdQFroPLu8ILA36rLwjlMiL+w2gEH9fuv3UKcN0jtWrVxf6eOvWrfnhhx/+3XCCIAiCIAiCIAi8ZJ0sQRAEQRAEQRD+XbqX8peqytdLf+ELQRAEQRAEQRCEF4kYyRIEQRAEQRAEwSgxjlVyYiRLEARBEARBEATBhEQnSxAEQRAEQRAEwYTEdEFBEARBEARBEIx6wX9F6IUkRrIEQRAEQRAEQRBMSIxkCYIgCIIgCIJglLiEe8mJkSxBEARBEARBEAQTEp0sQRAEQRAEQRAEExLTBQVBEARBEARBMEpMFiw5MZIlCIIgCIIgCIJgQmIkSxAEQRAEQRAEo8Ql3EtOdLIKMalHbHlHKNRnBx3KO0KRDka7lncEo96s8aS8IxQpLNCmvCMYtWi5trwjGNUm48Xd5gCiH7+4kwUuyDPLO0KRfuiWWN4RjLr9Y3Z5RzCqS6Nx5R2hSMev7CzvCEbNb+ZX3hGKNESVXN4RXkoK5Yv7GSb8t7243wAEQRAEQRAEQRBeQmIkSxAEQRAEQRAEo8TvZJWcGMkSBEEQBEEQBEEwITGSJQiCIAiCIAiCUWIcq+TESJYgCIIgCIIgCIIJiU6WIAiCIAiCIAiCCYnpgoIgCIIgCIIgGCV+J6vkxEiWIAiCIAiCIAiCCYmRLEEQBEEQBEEQjNKLS1+UmBjJEgRBEARBEARBMCHRyRIEQRAEQRAEQTAhMV1QEARBEARBEASjxIUvSk6MZAmCIAiCIAiCIJiQ6GQJgiAIgiAIgiCYkJguWEqy+s0x6zMSiVyBNjSQjE/fh4y0fDWKDr1QtOsB6NFFh5P52Sb0KYmgtsR84CRklaqjz8xA88cJNKd/MGm+Kq83ouWct5EpFcTeDuG070doUtIL1NXs25ZXx3cHPWSnZ3J20T6irwXmPG5RwZ5+Pyzmmy7zyIhPMVm+qq83onWefCeN5KvVty1NxndH/zTfr4v2EXUtEJm5gg7LR+DSqBogIfLKQ87M/xhthqZMucxatcJy3BgkCgXZDx+RuGYt+rT869XcywuLge+AHvSZGSRt2kL23bs5j0udnXDYsZ2Yd0ejT0wsUx7r15tScc4wJEoF6beDCPbdgu6Z5VScmmq75pAVGceTBbvy3a+s7Eydwxt4MHgxadcelCkrQJ1Ojek2awBypZzwOyF8M3sXmYWs1zbDutBqiBfo9cSGRLJ/zoekxiYB0HqIFy0GdEJuriT0eiDfzN6JNiu7zNme5dK5EfXmDUCqlJN0+zGXp+8iu5Csf2uyeTxJtx/zYMePJs8CUPn1RjSfa9gn4m6H8MvMwveJv3XYOI64O4+5vvMwAGa2FrRdORKHV6qSnZbJva/PcHPPCZNka9CpCf1mDUKuVPDkTjB7Z+8go4hsjbo0Z9SGyUyuPwwAlZWa4Wvew7W6GxKplHMHTnP0gwCTZJM3aIFZv3dBrkD3JJD0vRsKtsWdeqPs2BP0oIsOI+OT99EnJ6AavwCps1tOndTBlex710jftqjUeWw9m1J57mAkZgrSbgUT6LMN7TPLyliNxFyJ+8oxWDaqCRJIuXyfoHkfos/IwrpNfSovGIZELkefkUXQgo9IvVK2fbbV6y0YPXcUCqWCR7cD8Z+5nrSUtAJ1HnXcmbJsEhZWFui0OjbMeZ971+/nPO5UwYltBzcz2mscSfFJZcpUEnq9Hr/l66lZ3Z2Rg978194XDG2dd562br+Rtq71sC60HuKF/mlbdyBPW7fwr10kRsTm1J7ZeYgrAWdLnMWqUzNcZg1DqlSQcSeIJ7M3F/gMMFZTZfsclFUr5NQpK7mQeuEGwWOW59ynqORCjYMbCRq2kPTrJd/mypIPwH5Id+zf6YLEXEn6jQeEzt6MPisbi1YNqOA3CuRStPHJhC/7kIzbQSXO9zd1+xbYTxuJRKEg614gUQs3ok8tuD8AOK+YSeb9IBI/3g+A1FKN09IZKD0qg1RCcsBPJPzv61JneRHpxNUFS+yFH8k6f/48Q4cOLe8Y+UgsbTAfOoP0XctJXTIGXUwEZm+MzFcjrVwDZef+pK2bQdry99BHh6HsZfjCYf7mOPSZGaQuHUea/3Tk9Zohq9/CZPnM7a3otH4Mx8du4suOviSFRNFq7jsF6myqVaCV30AOD/Vnv7cff20OoMuuqTmP1+r/Gn32z8fC1d5k2f7O57l+DEfGbuKzjr4khkTRppB8ttUq0NZvID8M9ecrbz8ubQ6g29N8zSb3QSqT8oXXPL7sMhe5uZKmE3uXKZfExgbrubNJWLCQmCHDyA4Pw2rc2Hw1ssqVsZownnjfWcSOGk3KJ/uwW74099/WtQv2WzYjc3IqUxYAub01VddP4dHY1dzqOIHMkAgqzh1W4hqX8X2xaFGv4L/XTIH7phlIFKY51mJhb8Xb/uPY995G/D19iH0cRbfZAwvUVazvQfuxPdnefyEbus4iJjCCrj5vAVC/a3PajOjKrsEr2ODli8JcQbtR3U2SLy+lgxVN3h/HhVHvc/K1maQGR1Jv/oBCay1rutF2vx9uPU23jz7L3N6KDhvG8NPYTXzTwZfkkChaFLJPANjWcKPHV3Px6NE83/2tFg0hOy2D/Z1mEdB7EZU6vUoVz0ZlzmZpb80I/wnseG8dCzynEvM4kn6zBxutd3Z35a15w0Aiybmvz4x3iI+IZXFXH1b0nkOHIV2o1qRWmbNJLG0wHzGT9B1LSV0wCl1MOOb9RuWrkVapiVmXN0ldPY3UxWPRRYZi1mc4AOkfLCN16XukLn2P9E82ok9PIePzraXOI7e3ptrGSdwb48+1dpPJDImk8ryhxa6pOKU/EpmM657Tue45A6m5ErfJ/ZAo5NT4wIdA3x3c8JpB6KZvqL5lamERis3G3oZZG2ayaOxShnd4l/CQcMbOHVWgzszcDP/PVvPljq8Z6/0e+zZ9it+WOTmPd+nfmU0H1uPk6limPCX1MCiEUVPmcuL0b//q+4KhrXvraVu3ztOHuGK0dRu7ziI2T1vnWK0CaQkpbOo+N+evNB0smb01ldZOJeS9VdzzfI+skAhcZ40odk3IhNU86DGVBz2mEjp3K9rkVMIWfpDzXIlSQeWNpf+cKGs+666tcRjek8Ah87nfZSJSMzMc330DqZWaqh/MI3zV/3jQbQph83dQZetsJMrS5ZTa2eC8zIfIact43Gs0micROEx/t0Cdolpl3HavwcKrXb777SYPJzsyhsd9x/FkwGSs3+mB2at1S5VF+O944TtZLyJZ3Sbogu+hjw4DQPPLIRTNO+Wr0T1+QOqiUYYjqnIFEhsH9KmGo1fSKjXIPn8S9DrQZpN94wKKxq+ZLF/l9g2IuhpIYlAkALf2naTGG20K1OmyNJyZ9RFpUQkARF0LRO1ki1QhQ+1ii3vXpvw4ZK3Jcv2tyjP5buw7Sa1C8mmzNJwyki/s/B0ubQ4AvR69Tk/0jSCsK5btQ96sRXM0d+6gfRIKQPr3P2Du1Tl/kUZD0hp/dLFxAGTfuYvU3h7kcqQODpi3e414H98y5fibVfvGpF19QGZQOAAx+45i/0aHEtVYtqqPdccmxHx6tMDrV14+jthvTpIdZ5ojz7XaNeTxtUfEBEUA8MenJ2jcp22ButAbgaztOJ2M5HTkZgpsXO1JezpK2qR/O3798EfSE1PR6/V867ebv7791ST58nLu0JD4K49IDTRkDdr7E5X7FcwKUG1kF4I/+5mwg+dNnuNvFTs0IPpqIEmBT/fZT05So2/BfQKg3ojO3PniNIGHLuS737GBO/cPnEWv06PTaHl88goePcreMXylXUOCrj0k6ul6Pf3pcVr2aVdordJcyaj3p/D18r357v9yyR6+WfEJADbOdsiVCtKTCj9CXBKyV5qiDbqLLsrQFmedPoSi5ev5anQh90mZPxLSDW2x1M4xpy3OfSE5qpG+ZHz1Afr46FLnsenQiJQrD8gMNOyPkXuP4tCvXbFrks/fImzTN6DXg05H2o1AzCo6oddkc7nJaNJuGGYZmFV1ITs+udQ5AZp3aMrdq/cIDTS0dwGfHMSzr2eBumYdmhIWHM75U4bt7ezxcyx5zzDK4eDiQFvvtswaPLdMWUrjywOH6N+rK106Fb4tPk81n7Z1scVo6/zztHXWrvakPm3r3JvWQq/TMf7rRUw7sgbPKf2QSCUFXuOfWLVrTNq1+2Q9/QyI/fQItn06lLhGopBTad00wpd+iCY8Jud+t6XjiT9wEm0pRyjLms+23+vEfPQ92sQU0OsJnb+N+O9OYebuhjY5ldTfrwGQ+egJ2uR01I3rlCqnuk0TMm7eRRNiaEuSvjqEZY/XC9TZDOhN0oGjpBz/Jd/9sat2ELvOMFNE5uiARKlAl5xaqiwvKv0L8PeyeWmmCwYHB7N48WISEhIwNzdnwYIF1KtXj4iICGbOnEliYiK1atXi4sWL/PLLL5w7dw5/f38AbGxsWL9+Pfb2phmRkdo5osvzQaxPiEGisgBzdf5pKjot8ldbYzZ4KmRryDy0DwBt0F3kLT3RPrwFCgXyxm1BqzVJNgALNwdSwnKnIKSEx2FmrUZhqco3/Sj5SQzJT3Ib0zYLBxN04i90Gi1pkQkcH7vJZJnysixlvtcWDibwab7Hv9zIud+qogONRnvz8+zdZcolc3ZGF5W7XrXR0UgtLZGo1TlTBrUREWgjInLfe9JEMs/+DtnZ6GJjSZi/sEwZ8lK6OZIVlvvvzwqPQWZtgdRSlTONoqgamYWKSktG82DoEpwGd8332g4DvJDI5cR+cQLXyW+ZJK+NmwOJ4bnrNTE8DpW1GjNLVYFpNLpsLa90acabq8eSnaXh+IZvAHDyqMBjh4eM2jsHa2c7Ai/e4cdVn5skX14qN3vSQ3OzpofFobBWI7dUFZgyeG3exwA4d2xg8hx/s3RzIDXPPpEaHoeykH0C4Pf5hs5KpWO37dQAACAASURBVPb580RfeUjN/m2JuHgPmVKOR/fm6DRlb1fs3ByJz/OlKz48FrW1GnNLVYEpg0NWjuOXz07w5E5wgdfRaXWM2jiZpt1bcfnYBSIehZU5m9TOKV+nSB8fjURdSFus1SJv1AbzYdMNbXFA/k6g4jVv9AmxZF8u+UhCXsqKDs/sj7HIrS2QWapypgwWVZN45mqe13LCdXRPAmftMPzbsrXIHW1ocGwdcntrHry3vkxZndyciArLXXbR4dFYWlugtlTnmzJYuVol4qLj8F03g+p1q5OSlMLOFR8CEBsZy6IxS8qUo7T8fCYA8PuFv/7197YtpK0zL6Ktq1dIWyeVybj/2w2OrPkCmULGyP/NIjMlnd/+d6REWRQVnPJ1ijQRBT8nilNj97YX2ZFxJB3/I6fO7p0uSBRy4r88jvPEt0uUy1T5zDzcSHewwf3jxchd7Em7eIvwVXvQpaYjVZlj2a4xKb9eRtWwJua1qiB3Lt33PLmrE9kRuRmyI6ORWVkgsVDnmzIYs3IbAKo2TQq+iFaH8+pZWHi1I/XkWTRBT0qVRfjveGlGsmbPno2vry/fffcdy5YtY/r06QCsWLGCbt26cfDgQby9vYmMNBwJ3r59O4sXL+bbb7+lTZs23Lp1y3RhJNLCu9S6gl9osq+eI3XWALJ+/Az15OUgkZB54EPQ61HP24pq3EK0dy6D1nTnnBiOhhUMqNcWfgFOucoMrx2TsXF34cysj0yWwxiJVFLoL4cXlc/7ab5Tz+RzauBOvwMLuPbxCYJOXiljMInhCPKzdAVzSczNsV2yGFnFiiSu9S/b+xpjZD2SdzkZq5FIcN/qw5Mlu8mOis/3kKp+NRyHehMyd7tJ40okEvSFLD+dkfV68/glljQZy4n3DzDqkzlIJBJkchm12jXg04mb2Nx7HmpbS7x9C582V6as0sKbPn0h6/rfYGzZGdsnCvPH0s/R66Hf0eV02T2dJ7/cQKspe7silUgK3y2eydZxSBd0Wi1nv/nZ6Gvtnr6F6Y1HYWFrSa+pJjiHRlr8fTb7yu+kzHiLzIP7UE9blW86o9KrH5k/lr0zL5FIC82Tdz0Wp0bdoBr1vl9O5J4jJPz0Z+6/ISaRy03HcLP3XKptmIR5tQoFXqe4pBJpsfZXmVxOy9dbcOizw4zvMZHv9nzP6k9WoFAqSv3eL7uStnW3jl9iaZOx/JSnrbvw5Sl+WPwxmvRMMpLS+PWjw7zStXmhzy+SkX1A/+znxD/UOI7qQ9TWr3Jum79SHftB3oT6lfFzooz5JHI5lq81ImTSGh72noHMxhLXmUPRpaQTPG4FThPeosbhzdj260TK79fQl7bNkxa+Xxb2va4oUXPWEvTaW8hsrLB7z/i0auH/h5diJCs1NZV79+4xd27ulIS0tDTi4+M5e/Ysq1atAsDLywtra2sAPD09mTRpEp07d8bT05O2bQufClQauvgo5O61c25LbB3RpyZDVmbufU4VkFrbo314EwDN78cxGzgJ1JZIlOZkfrcb0gzTBpRd38mZ7lJazXz64+5lOLKitFQRe/dxzmMWrnZkJKSQnZ5Z4HmWbg5475lBwoMwfnhnRZkvHGFMC5/+eBjJZ/kP+XrumUHcgzC+eyZfzd6t6LBiBL8s2Mu978+VOaM2MgpFvdw51FJHR3RJSegzMvLVSZ2dsVu9kuzgEOKmToOsrDK/d2E0odFYNM49b0Xp6kB2QjK6PMvJWI2qZmXMqrhSaaFhTrnCyQ5kUqRmSnSp6cgsVdT+fo3hMRd73DfPIHTFxySeyD8F7Z90mf4m9byaAmBmqSIiz3q1drUnLSEFzTPr1aGqC1ZOtgRdMlws5OLXP9NvxShUNhYkRSVw/ejFnKPBf333G52n9itRJmPqzHqTCl0M26DcSk3S7ZCcx8wr2JMVn4I2reA2+Lw0ndmfqk/3CYWlirg7xdtnjVFYqriw4gsyEwxTVBpN6k3S0ym5JdV7+js08moGgLmlitC7ucvK1tWe1IQUsp7J1ubNTihVShYe9kemkKM0N/z/phErqVSnCk/uhJAYFU9mWgYXfjhLE++WpcqWlz42GolH7vQgQ1ucBFm5+6zEyQ2pjR3aB0/b4t+OYT5kChK1JfrUZKSVqyORytDeu1bmPJmh0Vg2qZlzW+nqQHZ8/n32n2rs+7TFY+VYguZ/ROx3hqmyMis11m0bEH/UMGU17foj0m4FoapTlYxH4cXON3LmcNp4tQZAbakm8E7uRY6cXB1JSkgiIz1/excbGUvI/RBuX74DGKYLzvSfQYUqFQh5EML/F14mauv6Pm3randqRPjtECLuGJahREKpDopowqJRN8r9DFA8/QzQ5/2c+Ica83rVkMhkpJ7PnSFi168TMis11Q8YThmQO9tT+X0fwlftIfmn4n9OlDWfJiqOpGPncka9Er4/jfOUASCRoEtLJ3DgvJzn1Tr1AVnBpfsulR0ehXmD3LZE7uyINjF/zqKo2jQl634g2ug49OkZpBw+jYWX6U4DeRGIC1+U3EsxkqXT6VAqlQQEBOT8ffPNN9ja2iKTyQo9ojRixAj27dtHlSpV8Pf3Z8eOHSbLo731FzKPOkicDFelUrTrTva1/F/ypdb2mL87B4mFodMnb9EJXVgwpCajaNcds56GE50lVrYo2nZFc+l0mTJdWn+A/d5+7Pf249s+i3FpXAMbdxcA6g3xJOh4wSkVCgtzen/tR+CRS/w0cdtz62ABXFh/gK+8/fjK24/9fRbjmidf/SGeBBrJ1/drPx4eucTxZ/K5d25MuyVD+WHwGpN0sACyLl5EUa8eskoVAVD36U3Gb/mnD0lUKuw3v0/GL7+SuGTpc+tgAST9cgWLxrUxczccrXYc4k3i8QvFqkn96y43Wo7ijvd07nhPJ+bTo8Qf/I2QWVt5smQ3tzpMyHlMExlH0JQNJe5gARzfuJ/3u8/l/e5z2dp3IVUa1cTR3RWAVoM7c/PEpQLPsXK2ZdCWyajtrABo/MZrRNx7TFpCCtcOn+fVHq2QmxmOkr/SpRmPrz4sca7C3Fm7n587z+PnzvM402Mhdk1rYuFhyOoxzJPwY3/+wyuY1p/rDvBtVz++7epHQO/FODepgbWHYZ+oO9ST4GMlmwZVd6gnTWf2B0DlaE3tgR15UMp944eNX7G0uy9Lu/uyqu88qjWqifPT9dphcBeunLhY4Dkr35jL4q4+LO3uy+aRK8nKyGJpd18So+Jp1qMNvaYZpqXKlXKa9WjNnXM3CrxGSWXf+hNZtbo5VwhUduiJ5sozbbGtPaqx85BYGtpiRavX0YUGGQ6MAfJaDcm+U8ZR8KcSz1zFskktzDwM+6PLsC7EH79Y7Bpbr2a4LxvNnYFLczpYYDiiX23DRCybG74EqmpVxrxGRVIv36ck9qzby5iu4xnTdTwTe0+hbpO6VPQwtHe9hvbk7LGC28v5ny/gWsWVWg0MHcOGLRug1+sJf1z8zt1/wYmN+3MuULHtaVvnkKetu1XCts61dmW6zHgTiVSC3ExB6+FduXbojwKv8U+Sf72MqnFtlE8/A+wHdSPpxPkS1Vi0rE/KufwHGcKXfcS918fnXBQjOyqOx9PWl6iDZYp8SUfOYtPjNSRmSgCsu7Qi/dp90Otx/99iVA1qAGDT4zV0mVmlvrpg+u9/YvZqHRRVDG2J9Ts9SD1V/PbT0rs9du8NMdxQKLDo2p7086ZpV4SX10sxkmVlZYW7uzsBAQH06dOHs2fPsnDhQn766Sdat27NwYMHGTRoEGfOnCEpyXBy5ltvvcWSJUsYMWIEtra2nDx50mR59CmJZOzbiGqMH8jl6KPDSd+7DmmVmpgPnkraqkloH94k6+iXqKavAa0WfWIc6TsNV6HLOvY15iNmop6/A5CQeWgfuuB7JsuXEZvEaZ9deO2cgkwhJyk4ilPTDVcLcmroQYe1o9nv7Uf9EV5YVnLEw7sZHt7Ncp5/cMAqMhNMd7n2Z6XHJnHSZxfddk5B+jTfiaf5nBt60GntaL7y9qPhCC+sKjlSzbsZ1fLkCxiwirbzByGRSOi0dnTO/eGX7vHL/L0F3q+4dAkJJK5eg+3SJYZLuIeGkbhiJfLatbGZ5UvsqNGo+/VF5uKCebt2mLfLPeE6bvoM9EmmvXRxdmwiwT6b8dg5G6lCTmZwBEHT30fdsAZV1k7kjvd0ozXlITU2iW98P2DIjmnIFHLigiP5coZhqkmlBtV4c80Y3u8+l6CLdzm17XvGf7kAnVZLUmQ8e8cYzi85t+84altLph5aiVQqJfRmEIdWfGryrFkxSVyetpMWH01FqpCTGhzJn5MNB2JsX/Wg8fox/Nx53j+8iulkxCbxi88uOj/dJ5KDozg9zbBPODb0oL3/aL7t6lfka1zd+gMdN42n/0+rkEgk/Ln+ADFXH5U5W3JsEnt8tzN+hw9yhZzo4Eh2zzBcga9qg2oMX/MeS7sXfbGXr1fsZciKsSw+ZljPl49d4OT/Dpc5mz45gYw961CNX2C4hHt0GOm7/ZFWrYlq+AxSl76H9v4NMn/8AvXMdaDTokuIJW177nlEUpeK6GJLN+L3rOzYRB5O30rNXb5IlXIygiJ4OHUzFg2r47F+Aje8fIzWAFRZOBwk4LF+Qs5rply8Q9C8D7n37mqqLnkXiUKGPlPDw4kbycpzXlBJJcQmsNZnHUt2LkCuUBAWHMaqaYZRi1oNa+HrP4MxXccTHx3PglGLmbZyMuYqczRZGhaOWYIm8/kdlHvR5W3r5Ao5scGRfPW0rav4tK3blKetG5enrfvkaVv30/sH6LN0JNOPrUUml3Ht8HkufHmqxFm0sYmE+m6iyva5SBRysoIjeOKzAVWDGlRcPZkHPaYarfmbmYcbWU9Msw+YOl/svsPIbCypcXAjEpmU9BsPCV1hOP/68bR1VFw1yfB5HRVH8NgVpc8Zl0j0/PW4bFyARCFH8zicqLn+mL1SE6cl03ny5oQinx/rvwvHhVOo/N1OAFJOniXx0+9LnedFVD6T6V9uEn1hw0AvkPPnz7N161YWL16cc+ELhULB4sWLadiwIZGRkcyePZuEhATq1KnDyZMnuXjxIufOnWPVqlXI5XLUajXLly/H3d29WO+ZPKHb8/1HldJnBx3KO0KRTP9LRqbzpseLfQJqWKBNeUcw6kuZurwjGNUmo+RX4/o3Rctf3MkCF+T/3tTI0ljvVbbfmHuebv9oWd4RjJojLdtVB5+341d2lncEo+Y3K/pARnkbInl+Bz//y9QWz2/GiSlUv3GsvCMUyxh301wkqyw+DPqmvCOUyAs/ktWyZUtatjTM3d+3b1+Bx48dO8b8+fOpUaMGN2/e5N49w4hQ69at+eEH0/7AryAIgiAIgiAIwj954TtZ/6Rq1arMmDEDqVSKmZkZy5YtK+9IgiAIgiAIgvCfUdhVoYWivfSdrA4dOtChQ4d/LhQEQRAEQRAEQfgXvPSdLEEQBEEQBEEQnh9x4YuSe3HPyhYEQRAEQRAEQXgJiU6WIAiCIAiCIAiCCYnpgoIgCIIgCIIgGCUufFFyYiRLEARBEARBEATBhMRIliAIgiAIgiAIRokLX5ScGMkSBEEQBEEQBEEwIdHJEgRBEARBEARBMCExXVAQBEEQBEEQBKN0enHhi5ISI1mCIAiCIAiCIAgmJEayBEEQBEEQBEEwSoxjlZzoZBXiwSFleUcoVEtJMlWbJpR3DKM+v1S5vCMYpddJyjtCkbK0svKOYJR3lra8IxhlIcsu7whF6tA6rrwjGDXk3X7lHaFIgZOOlXcEo+5K1OUdwajPqsSXd4QizW/mV94RjFp+aUV5RyjSlVd9yjuCUe71Xty2rt+tF/ur7q/lHUB4bsR0wZfIi9zBEgRBEARBEATB4MXu3guCIAiCIAiCUK50YsJgiYlOliAIgiAIgiAI/2lhYWH4+voSGxuLh4cH69atw8LCIl9NaGgoPXv2pEqVKgA4Ojqye/du9Ho9a9eu5eeff0YqlbJs2TKaNm1a5PuJ6YKCIAiCIAiCIPynLVmyhEGDBnH06FHq16/P9u3bC9TcuHGDXr16ERAQQEBAALt37wbg2LFjPHz4kMOHD7Nt2zbmzp1LdnbR54WLTpYgCIIgCIIgCEbpX4D/ykKj0XDx4kW6du0KQL9+/Th69GiBuuvXr3Pv3j369OnDsGHDuHv3LgBnzpyhe/fuSKVSPDw8qFChApcvXy7yPcV0QUEQBEEQBEEQXmhJSUkkJSUVuN/a2hpra+sinxsfH4+lpSVyuaHr4+TkRGRkZIE6MzMzevfuzYABA/j111+ZOHEihw8fJioqCmdn55w6JycnIiIiinxP0ckSBEEQBEEQBMEoXXkHAPbu3cvWrVsL3D9p0iQmT56cc/vIkSOsWrUqX03VqlWRSPL/nM+zt4F8r9OhQwfWr1/Po0eP0Ol0+er1ej1SadETAkUnSxAEQRAEQRCEF9rw4cPp27dvgfufHcXq1q0b3bp1y3efRqOhZcuWaLVaZDIZ0dHR+Uam/rZv3z569uyJnZ0dYOhMyeVyXF1diYqKyqmLiYkp9Pl5iXOyBEEQBEEQBEF4oVlbW1OpUqUCf/80VRBAoVDQrFkzDh8+DMD3339P+/btC9RdvHiR/fv3A3DhwgV0Oh3VqlWjffv2HDx4EK1WS3BwMEFBQTRo0KDI9xQjWYIgCIIgCIIgGPVf+J2sRYsWMWfOHHbs2EGFChXYsGEDAF988QVRUVFMnToVPz8/5syZQ0BAAGZmZqxfvx6pVIq3tzfXrl2jd+/eAKxYsQJzc/Mi3090sgRBEARBEARB+E+rWLEi+/btK3D/wIEDc/7fxcWFPXv2FKiRSCTMnj2b2bNnF/v9RCdLEARBEARBEASjynoJ9f+PxDlZgiAIgiAIgiAIJiQ6WYIgCIIgCIIgCCYkpguWgPXrTXGbPQyJUkH6nSBCfLegS0kvcY3HzjloIuN4snAXAJatG1Bx/kgkchnZ8cmELvmI9NtBZcqqaNoK1ZCxSBQKtMGPSNm6BtLT8tUoO3hh3mcAoEefmUnaR5vRPryLxNIK9bgZyD1qoM/IIPPUETIPf1umPM+q+nojWs95G5lSQeztEE76foTmmeUEUKtvW5qM745eD9npmfy6aB9R1wKRmSvosHwELo2qARIirzzkzPyP0WZoypTLrHUrrMaNRqJUoHn4iMRV/ujT8i83VZfOWAwaAHo9+owMkt7fgubuvZzHpc5OOO7cRvSI0egTC/5o3j+x9WxK5bmDkZopSLsVzCOfbWifWTZGa6RSqi4agW2nRkhkMsI+CCBq33EArNvUp+qiESCTkh2fTPCiPaTdCgKg5oe+WNRzR5uWAUDS2RsELy44J7kwDp0bU91vEBKlgtRbwdye/kGBvEXVyaxU1N34HuqabkgkUsK/PkPI1gDDc7o0pd7miWSExuS8zl+9F6JNzSj2cpQ8XUaBRSxHYzVKNwdeObia614zyI5LzlmOVRaNQFLIciwteZNWqAaNydlfU3esLbC/mnn3xaxLb9CDNjKUtA/WoU9KyHlc4uCE9crtJM0cjT45sUx58vrlZhBbDv1BVraWmm4OLB74OpbmypzHD164w77TV3Jup2RkEZWQyrElw1HKZSz58mcCI+PR6/X0al6HkZ2blCmPZcfmOPsOR6JUkHkniLC57xdoY43WSKW4Lh6PRQvDFaFSzlwictVuANStGuIydxQSuQxtQjIRy3aReSewTFkBKno2osmct5GaKYi/HcI5n8Lbur+1fX8c8bcfc2vn4Zz7ag/vTI2BHZGZK4i7FsTvMz9El5Vd5mx5mbVphfX40UgUhrYvYWUhbV/Xzlj+3fZlZpC4cQuaO/eMvGLZ1enUGO9ZA5Ar5YTfCWH/7F1kFrLsWg/rQushXuj1emJDIjkw50NSYw1t78K/dpEYEZtTe2bnIa4EnH1umf+m1+vxW76emtXdGTnozef6XjaeTak0ZwgSMwXpt4MJ9NlaYJ8wViMxV1J1xVgsGtVEIoGUy/cJ9tuFPiMLqzb1qTx/OBKFDF1GFiELdpN65X6ZsipbtMJi1FhQKNAGPiJ5/ZoC25mZpxfqt55+N8nIJGX7ZrLv3c1XY71oGbrYGFK2bipTnme19mzJuDmjUZgpeHj7Eat91pGWklagrlodD6Ytm4SFtQU6rQ7/2Ru5d/0+FlYWzFk/kyrVKyOVSjnyzXE+3/6lSTOWlxfhd7JeNi/lSFZycjITJ04ssqZPnz4AbNmyhS1btpT5PeX21lRZN4XAcau53WkCWSERuM0ZVuIa5/F9sWhRL+e21EqNx645hK78mDtdp/LYbwfu22chUZa+/yuxtsFi8hxS1i4gcdJQtBFhqIeOy1cjdauMeth7JC/zJWnGaDK++QTL2csAUL87CTLSSZwynKQ576Fo0hJFs9alzvMsc3srPNeP4cjYTXzW0ZfEkCjazH2nQJ1ttQq09RvID0P9+crbj0ubA+i2ayoAzSb3QSqT8oXXPL7sMhe5uZKmE3uXKZfU1gabebOIn7+I6EHD0YaFY/Xe2Hw1ssqVsZownjifWcSMHEPK3k+xW7k053GVdxcctm5C5uRUqgxye2uqb5zE/TH+XG03mcyQSCrPG1rsGpehXTCvVoGrnaZxvfssKozpiUWjGsis1NT6aBbBy/ZyvfMMAufuouZOn5ztzKppbW72m891Lx+ue/kUu4OlcLCi7qYJXH93PefbTiM9OIrq8weVqK7anAFkhsdyocNMLnrPpeJwL6yb1QTApnktQnYc5KLnrJy/4nSw5PbWVNs4iXtj/LlWxHIsqsbxzY7U/XY5ygoOOffJrNTU/GgWIXmWY408y7E0JNY2WEyYTeq6hSRNHYYuMgzV4Ge2u2q1MOv1DknzJ5HkMxJdeCiqAe/mPK5s3wWrpZuR2pduuzMmLiWdRV+cYt273gT4DaaSgzWbDp7LV9OrRR2+njWAr2cN4DOft3C0UjOnfzscrNRsP3weZxsLDswZyGcz3uLrsze4GhhR6jwye2vc1k7jycSVPPQaR9bjCJx9Rxa7xqbv65hVq8TD7hN52HMS6hb1ser2GlJLNZW3+xG15n886jGJ8AXbqLRlTpnWK4CZvRVtNozh9NhNBLT3JSU4iibzCrZ1ADY13PD6ei5VejTPd3+Vbs2oPdKLEwNW8UOnOcjMFdQb063Q1ygtqa0Ntn6ziJu3iKiBw8kOC8d6wjPbYJXKWE8cT+yMWUSPGEPyx/nbPlOzsLfiLf9x7HtvI+s8fYh7HEW32QML1FWs70H7sT3Z3n8hG7vOIjYwgq4+bwHgWK0CaQkpbOo+N+fv3+hgPQwKYdSUuZw4/dtzfy+5vTUeGybzYOxabrSfRGZwRKFtnbEatylvIpFLudl5Gjc6T0dqrqTCpP5IFHKq75hJkO92bnrNIGzTfjw2Ty1TVomNDVYz55C0dAHx7w5FGx6Gxaj8301klSpjMeY9Euf5Ej9+NGmff4L1omX5alRvD0RRv2GZshTG1t6GuRt8mT92MYPbjyAsOJzx80YXqDMzN2PD52v4fMdXjOo6nr3vf8rCrfMAGO07gqjwaIZ7jmZM9wm8MawXrzStV+A1hP8fXspOVmJiIrdv3y6yJiAgwKTvadW+MWlXH5AZFA5AzL6j2L/RoUQ1lq3qY92hCbGfHs25z8zDDW1SKilnrwGQ+TAUbUoaFk3qlDqrolFzsu/fQRceanjNowEo23fOX6TRkLp9Lfr4OACyH95FamsPcjmy6rXIPH0cdDrIzkbz5zmUrTs8+zalVqV9A6KuBpIYFAnAjX0nqfVGmwJ12iwNp2Z9RFqU4Wh91LVA1E62SBUyws7f4dLmAMMRVZ2e6BtBWFd0LFMuZfPmaG7fRfvEsNzSvgtA5eWZv0iTReKadehiDctNc+cuUnvDcpM6OGDeri1xPrNKncGmQyNSrjwgI9CwDUXuPYpjv3bFrrHr1pLor06BVoc2MZXYgLM49u+AuUcFtMlpJP12HYCMB6Fok9Oxalobs8rOyCxVVPOfQMOTG6m2cRIyW8ti5bXv+CpJlx+S/vSLc+je47j2b1eiuvt+e3iw2HC1HzNnW6RmCrKTDEcObZrVxu61V2h+ai1NApZg26puiZZjZp5l5GBkORZWo3Cxw867BXcH5f8SaWw5WjatXaxchVE0bI724R10EU/31+M/YNYu//6qfXSPpCmDIS0VFEqk9o7okg1H6iV2DihavEbKct9SZzDm3J0QXqniTFUnWwDealufI3/eQ68v/AToj09ext5KxZtt6wMwq187ZvRpC0B0UioarRZLlbLQ5xaHxWtNSL92n6ygMADiP/sRmz4di10jkUqRqsyRKBWGP4UcfWYWSg83tMmppP5+FYCsR0/QpaShaly87c0Ytw4NiL0aSHKgoa27+8lJPPoWbOsAao/ozIPPTxN86EK++6u9+Rq3dh4hKyEV9Hr+mLOHhwdM++XdrMUzbd+3Aai6PNP2ZWWRsDp/2ydzMLR9z0PNdg15fO0RsUGGNuOPT0/Q+Om2lFfojUD8O04nIzkduZkCa1d7UuNTAHBvWgu9Tsf4rxcx7cgaPKf0QyKVPJe8eX154BD9e3WlS6eCbaGpWXdoROrV+zntWNQnR7Hv277YNcl/3CRs037Q60GnI+3GI8wqOaHXZHO16SjSbhpGc82quKCNTy5TVmXT5mju3UEbatjO0g8GYOaZv63TazSkbFiLLu7pdnbvLlK73O1M0bARymYtSD9k2u94AM07NOPO1bs8CTTk+/6TH/Dq61mgrkWHZoQGh/HHKcO++tvx31k03tAR3LRwG9uXfgCAg4s9SqWC1KRUk2ctD3q9vtz/XjYvZSdr+fLlREVFMXHiRDZu3Mjbb79N165dGTp0KDExhmlFtWuX/ktPYZRujmjCc6csZYXHILO2QGqpKlaN3MWeSotHk3+cmgAAIABJREFUEzR1A3pd7qBr5qNQpGpzrNo1AkDdsAaqWlVQONuVOqvU0RldbO6vUutio5FaWIJKnXtfdASaP//Iua0eORHNxbOQnY323m3MOnYBmQzMVShbd0Bq54CpWLo5kBKWO30jJTwOM2s1ijzLEiD5SQzBp3KnIb22cDCBJ/5Cp9Hy+JcbJDz9wm5V0YFGo7158OP5MuWSuTihzfNr3troaKSWlkjUuctNGxFJ5rnc5WY9eQIZv/0O2dnoYmOJ91uE9vGTUmcwq+hAVljuNpQZHovc2gJZnmVTVI2ZmwNZeZZtZngsZhUcyHgUhlRthk2HVwGweLUGqtqVUbjYoXC0IfHXawTO+YBrXj7oUjOovqHokeK/mbs5kJn3/cJikVur8+UtTp1eq6Petsm0OLOehN9vkfbA8AVZE59M6N4TXHx9Fg9XfE6DPTMxq2D/j7mUzyyjrEKWY1E1msh47o9eS8aj8Hyva2w5Kl1Kv79KHJ3RxUTn3NbFRiNR599fAdBqUTR/DZsPvkFeryFZPx8BQB8fS+q6hejCS7/dGROZkIJrng63i60lKRlZpGYWnJYbn5LOJz9fYeYbr+XcJ5FIkMukzNt3gjfXfEmz6hVxd7YtdR5FBSc04bnLShMRg8wqfztcVE3CgZ/QJqVQ6/dPqHVuH1nB4aScukBWYCjS/2PvvqOjqtaHj3+np/dGAiGhgxKqlB9NWugioIIgvQqEHrr0Ir0jYkW9iiIKglJEFMQGXAQMhJpKeu9lMjPvHwOTNhNSBgP33Z+1WIs585ycJ3ufts/eZ8fSAuuOLQCwaFofVX1v5G6P39fKYu3pTFaR/T47JhmlkXMdwMWlnxB65I9Sy+3q1MDCxY7un81nwI/raDZ3MOq00sOXqkLm7oomrhznvt+LnPtmFJ77ngQHT2fSYgrLLi0mGQs7K1RGyk5boKGJf2sW/7EH3zaNuHzoHABSmYy7F4L4YPTb7Bu6kgad/egwpvcTybeoJXOn0s+/6xPfDujvO4qe8x+dx0rem5iKST9/jbwQ/flW6eWK+4QBJB//HQBdgQa5iz3NLr9PraWjidn7bZVylbq6oU0ocm+SoL83KbqfaeNiyb9YuJ/ZTJ5G/h/6exOpszM2UwPIeHu1/iGwmbl5uhIXXXjuSIhJwMbOBiub4ufiWnVqkpyQwoLN83jvh71sO7gRmUxm+F6j0fLWzkUc+OkD/v7jGhH3I82eq/BseCYbWUuXLsXNzY358+cTEhLCwYMHOXXqFDVq1OC77757MhuVSIy3ojXax8dIJPjsmsuDVR9QEJ9S7CttZg6hE9fhPv0VGp3cjtOQrmT8fh2tugoXLokUozNtGjspqSywCVyJzMOLrD2bAMj+aC86nQ67re9ju3AN6quX0ZnxQiqRSoxOBarTGD9pyi1V9H4nAHsfd87Of7/Yd65NfRh8+C2uf/wjYT9dNbp+BRLTP80ryUi5SSwscFi9HFlNL9I2bKradsuRQ7GyKSumxHeSh8s1mTncHrcBr4AhNP1xK66vvkj6hX/Q5ReQ+fdd7ozfoL8Ia7U82HIQh+6tkCjK8YRaKjW6z+tKllk54m5O28WFxuORO1jjO1f/DkPQuC0kHNc3ntMu3ibt8h2cujx+mIikHOVYnpiSNJk53Bm3Ac+AITz/41ZcHpZjVd6PkUgkGD1gjex36ksXSBs/kJyvPsZm6SaQPNmn8lqdDmNbkBnZ7uE/bvDi877UdLEv9d26kT35Ze040rJzeffUpUrnI5FKHl+vZcS4zhhOQVIat9uO4G6H0cgcbHEaPwhtZg6Rb67G5c3XqHN8Fw6Du5P1x3V0+VV7x5Ny5PvYH6GQ4dn5ec5P2cX3fd9C5WBD84WvVi2vkip47nNcsxy5lxep68147iu5HRPXU62Jsrt5+jKrWk7izPbDjP9kIRKJhIsHz/Ldio9R5+SRm57Nr+//wHO9XjC6/rPK1P5OOY6JojFWTevQ6Nu1xH/8A2lnLhuWFySmca31BIJfWojv1gBUdTyrkKvxe5NS1wsACwvs3lqJzMuLjK2bQCbDdvEyMvftNvRymZtUavw4KLnPyRQy2nVrw7H/HGdi36kc/vAIGz9dh0KpMMSsnrGeAU0HYedgy5jZI0v+SOH/E8/0xBe1a9dmwYIFHDp0iNDQUK5evYq3t/cT2VZ+dAJWLRoYPis8nClIzUCbk/fYGIv6tVB5e+D1lv4dCoWrI8ikSFRKIhfuQZuVy72hSw3rNf5lL/lhxZ+gV4Q2MQ55g8JhLlLnh0OL8oq/yyJ1ccNm8Xo0D8JJXzYL8vMBkFhZkfPJPnSZ+qEBFkPeqPJT8jZzh+DbU//Cu9LGkqTbhU92bDwcyU3NpKBIWRq+83Sm/0dzSL4XzbdD1xab2KL+S+3osnYM5986wB0jT4ArShsXh7JJYbnJXFzRpqejyy1Rbu5uOG1YR0FYOEkBsw3lZg75UQnYtKxv+Kz0cKYgpcR+VkZMfnQCCvfCp+8KDyfyY5JAIkGblcvNV5YZvmv2625yw2KxbdMYuYMNKacf3vxKJKDVmbwR9J3/Gi69WgMgt7UkMzjC8J2qhhPqlEy02cXrMvdBInYt6xmNc3qxGZnBEeTHpaDJziPu299w698OuZ0VXmN7Eb6jyNNTCWjVmseWY145yrE8MaU8LMfgIuXo9+tu8sIq/56RNjEeWf0ix6uTC9rM4ser1MMLiYMTmlv6YYr5P5/AatIcJNa26DIrPrlKedVwtCUoPM7wOT4tEzsrFZYqRanY03/fY36JIZm/B0dQz9MZN3trrFRKeresz0/XQyqdjzo6ActmhaMUFO7OaFIz0BWps7JibHu1J3blu6AuQKsuIPWbn7Dr3YHkD4+gzcolfMQiw3p1z+wnP7zi5+Fm84ZQy19/rlPYWJJ6q/BcZ+XhSF6K8XOdKdmxKUT8cMkwWUbIN7/hN+vlCudVFk1cHIrnipz7XI2f+2TubjhtXEdBeDiJ08177gPoOfsVmvRsBYDKxpLYItcJOw8nslMzUZcoO+fa7ti6OhB2WT8xwqWvfmbQ2vFY2lvTsGtzYoIjiL2lP0dJJKCpygPMp1B+VCLWRe47jF8zyo5xeqkjtddNInzpeyQf+RXQv39q26EpqSf1D7myg0LIvhmGVSNvQ89XRWni45A3KnKuc3FBm54OJa+xrm7Yr15PQUQ4qfP09ybyxs8h8/DEZop+lIXU0QmkMlAqydxa+cb++Hlj6OCvf+fc2saK+0Umu3HxcCE9JZ3cnOL5JcUmEX43gpt/3wL0wwUXbJ6Lp3cN3L3cuH8rlKS4JHKyczlz9Ge69H3yw0b/DVrxd7Iq7JnsyXokKCiI8ePHo9Vq6dWrFz169HhiYzYzzl/FukVDVD41AHB5ozdppy+WKyb7ym1utBvP7T6zud1nNon/OUnqsQtELtgNOh11DizD0k9/A+owoCO6PHWVZhdUX72EvEETpDW8AFD1egn1xRIv+1pYYrt6B/l/nidr66piF0tVr4FYvq5vEErsHVH16Eferz9VOh+Ai1sO82XvJXzZewlfD1yBR4t62Pu4A/D8G90JPX2l1DoKawsGfbWE+ycuc3ranmINLJ8eLei0ciTfjdhglgYWQN7Fyyiea4yspr7crF4eQO6vxctNYmmJ865t5J47T+qK1Wa/yUg9dw2blg2w8NXvQ+6j/Ek+fancMcmnLuH2ejeQSZHZWeEysCPJJ/8CnY5Gny7B2q8uAM4vdUCbl0/2zTBk1hb4rJlgeA/L882XSf7+D5PDMUI3fmWYhOJy3yXYt6qPpa+Hft3RPUk8WbqnIvncNZNxbgPb4ztP33MlUcpxe6k9KReCKMjMoebYXrj2awuAzfM+2LWoR/LPj++xTHtYRqoiZZRSohzLE1OKTkfDIuXo9FIHdA/LsbLU1y4hr98EqYd+v1P6v6QfuluE1MEJm1nLkNjqe4mUHXugiQh9og0sgPYNa3E9LI7wBP17kV//pu+tKik9O5eIxDSaPazfR05fvce7Jy+i0+nIL9Bw+uo9XqjvVel8Mi9cwbJFQ5Q++qfpjsP7knHmz3LH5N64j13fh8MZ5TJsu7cl5+ot0Onw/mAFFk3152G7fp3Q5eVXanbBa5sPc9x/Ccf9l3BiwApcWtbD1ld/rmswsjuRRs51ZYn4/iK1B7RDZqFv2Hr3akXStco3VI3Ju3gZ5ePOfVaWOO/eRs6586QsM/+5D+DHbV8bJqjYM2gZ3s3r4+yj36fajejBzR8vl1rH1s2B4bsCsHK0BaDFyx2JvRNJdmomHg1r4T/nFSRSCXKVgvaje3H9+J+lfsazLO3c1WLnMbeRvUgpcW9SVox9z9Z4r57A7eErDQ0s0Pe2+m6Zjk1r/fvhFg1qYVnPi8y/Kz+7YP5/L6Fo3ASZl34/s+z/kn4oYBESS0sctuwg78J5MtYV3psUBN8gecSrpEyZQMqUCeQc/468c2er1MAC+GDzx4zzn8w4/8lMHhDAcy2bUNNXn9/LIwdw4fTvpdb58+eL1KjlQYOm+od0zdo2RafTERMZQ9cBLzJ2jn7CM4VSQdf+Xbjy299VylF4dj2TPVlyuZyCggIuXbpEmzZteP3110lJSeGXX37B39//iWyzICmNiHk78d23AIlCTl5ELOGztmPpVw/vDdO43We2yZjHCQ/Ygvfb05Ao5RTEpxAycV2VctWlpZK1621sAlfpp4SOjSJrxzpkdRtiPU0/m6BF38FIXd1RtuuEsl3hU5aM5XPIOfwZNrOWYLfjI0BCzsEP0dy7VaWcispJSuenufvp8+4MpAo56eHx/Dhb/6Kom58vXTdO4MveS/Ab0xPbmi7U6d2aOr1bG9Y/Omw9HZYORyKR0HVj4cw/MZfvcH7pgUrnpU1NJW3dRhzXrEQil1MQFU3qmvUoGjbAfmEgiWMnYjVkEDJ3dyw6d8Kic2G5Jc2ciy696je8BUlphMzeTf39gUiVcnLDYrk3cyfWfnWps2Uq//ScazIG9JM3WNT2wO/MViQKOfGf/UjGnzcBuDttG3U2v4lEIUcdn8KdcRsASP35b2I/+J7nj64DqYTs4AhCAveWK191YjrBM9/h+Q/mIFXIyQmP4+b03QDYNqtDo61TuNR9fplx95Z/QsNNE2lzbjMACT9cInL/D6DTcX30RhqsG4fv/FfRFWgJmrQddfLjX74uSErjfokyuv+wHH23TCXoYTkai3mce9O24WukHCtLl55K1t4NWM9diUSuQBMXTfbudcjqNMTqzUAyAidQcOsfcr75FNsV29FpNeiSE8natPTxP7yKnGytWDm8G4EfnURdoKWmix1rRvTgRkQ8Kw+e5av5wwCISEzD1c4KRZH3EgDmDOzA2kO/8MoG/RTG3fzqMKJzs0rno0lKI3rBdmruXoREoSA/IoaoeVuwaFoPz3UzCRkQYDIGIG7Ne3iseJO6p/eh02jJ+uMaifsPAxA1exM11s5AopBTkJBC5JQ1lc7zkdykdH6fs58u+/XnuszweC7MfPhSvJ8v7TdP4Lj/kjJ/xu0DZ1A62NDvxBokMinJ/4RxedXnVc6tKG1KKqlrN+K0diUo5GiioklZtR5FowY4LAwkYcxErIcMQubhjmXnTlgWOfclzjDPua+krKR0DgXu4413ZiFXyEkKj+PLOfrzklfTOryyYSI7+i4i7NJtzu45wuSDb6HVaEiPS+GTifr6PrP9MANXjWX2qY3I5DKu//AXFw+eNXuu1akgKY3QObuotz8QiUJBXngsITN3YOVXF9/N07jhP8dkDECtt8aABHw3F76Hm3HpFhFL9nNv/Nt4rxyHRCFHm6fm/vRtqIu8J1dRutRUMja/jd1bq/RTuEdHkbFxHfIGDbGdo59N0GLgYKRu7qg6dkLVsXA/Sw2cgy7jyT5USk1KZf2cjazevxy5Qk50eAxrZr4NQEO/BizYPJdx/pNJTkhh8fhlzF03EwsrC9T5apZMWEF+npo9q95h3tuzOfCT/tWG8ycvcOh98/4JnOoipnCvOInuGZyuQ61WM3LkSBQKBbm5ueQ+7Gpu3LgxWq2WzZs307BhQ27fvm2Yvj0gIKDcP/9v74FPJO+qqt0q9fFB1ejzy7WqOwWThtSOqu4UyhQeUvmJE560bM3T+yzGWvZ0D/1p0OHJvDtgDhbjBld3CmUKnX6qulMw6XLu03u89njKz3U7oj0eH1RN1lxeW90plOlqs7nVnYJJPk2e3nPd4JtP7zUM4Neoqo0U+rcM8O5f3SlwLOJ4dadQIU/3nmeCQqHg4MGy/7jb7dv68dkVaVwJgiAIgiAIgiBU1TPZyBIEQRAEQRAE4d9hbFZooWzP9MQXgiAIgiAIgiAITxvRyBIEQRAEQRAEQTAjMVxQEARBEARBEASTxN/JqjjRkyUIgiAIgiAIgmBGoidLEARBEARBEASTnsG/+FTtRE+WIAiCIAiCIAiCGYlGliAIgiAIgiAIghmJ4YKCIAiCIAiCIJikre4EnkGiJ0sQBEEQBEEQBMGMRE+WIAiCIAiCIAgm6cQU7hUmerIEQRAEQRAEQRDMSDSyBEEQBEEQBEEQzEgMFxQEQRAEQRAEwSStGC5YYaKRZYSHd3p1p2BUyCXH6k6hTA5P8dQz+dmy6k6hTFZKdXWnYNJljVV1p2BSslRR3SmUyeqybXWnYJLi2snqTqFMSpWmulMwqW5WbnWnYNKlkBrVnUKZ3rDMqO4UTLrabG51p1Cm5te2VHcKJl3xm1fdKZg0TvL0XsOE/22ikSUIgiAIgiAIgkk6nejJqijxTpYgCIIgCIIgCIIZiUaWIAiCIAiCIAiCGYnhgoIgCIIgCIIgmCQmvqg40ZMlCIIgCIIgCIJgRqInSxAEQRAEQRAEk3SiJ6vCRE+WIAiCIAiCIAiCGYlGliAIgiAIgiAIghmJ4YKCIAiCIAiCIJikFX8nq8JET5YgCIIgCIIgCIIZiZ4sQRAEQRAEQRBMEv1YFSd6sgRBEARBEARBEMxINLIEQRAEQRAEQRDMSAwXFARBEARBEATBJK0YMFhhopFVSar27bCdPAGJUoH6fghp6zehy84uFmPp3wPr4cNAp0OXm0v69l2ob98xfC91c8Xl3T0kjJmALi29SvnYd2uF16KRSJUKsoPDCJu3G21mTrliZLZW1N48Hcu6XiCVkvT1WWL3fguAVbN6eK8Yj9TKAmRSYvd+Q/I356qUK4BX9+Y0X/QaMpWClJsR/Dn3fdQl8i2q/fbJpN6KJHjfD4ZlDUb3oN7wF5FZKEi+HsYfc99Dm19QpbwsO7bFIWA8EoWC/LshJK3agi4r22is88r5qO+Fkv7pIcMym1dfwublPkgtlOQF3yVp5RZQqyudj23X1njMH4VUqSDnVhgPFuwsVa9lxTi/0RenYf5ILJTk/HOPBwt2ossvwLp9U2osGotEIUebm0f0iv3kXLtb6Twfqd2tOe0XvoZMqSApOIKfAo3Xa4NBHWg5pS86HRTk5PHr8k+Jvx6KzEJBlzVjcG9eB5AQd/U+55Z+jCa38mX4SP1uzek2fygypZz4W5F8N/898o3k9sLonrR6owfodKSEx3Ns4ftkJxUen3Y1nBh3ZCXv9l5ETkpmpfOx7doa94f1lltG3ZqKcXqjL05DH9Zt0D2iHtVtu6bUWDIe5FI0KRnErH6P3OCwSudZkvWLL+A6ZwwSpYK826HELt6ONsv4sVtjwxzyboeR/OE3Ztt+SVad2+A8eywSpYL8O6HELd1m8ph1WzeP/LthpH70NQASlRLXt6ajatoQJBLyrt8iYfVudHn5FcrBsUdLai8egVQpJys4gnuz96Ixsm+ZjJNK8V0xCoeuLZDIpUS/c4zYT04DYN/hOXyWjUIil6HNzSdk6Ydk/n0PAO/5w3Du3xaAzKv3ub9gP5g+jQLg3qM5jRcPQ6aUkxYcydXZ+ykwkqupOIWDNc02jMP+udoUZOcR8eU5Qj84XWxdK29Xupxayx/D1pN6LbRcZViV48F770KUtWsY4pQ13cm6GET4xDWGZYqa7tQ7to2wUcvI+edeuXIqyr57K2oufAOJSkFOcDihc41cY03ESCyU1F47Cevm9ZFIIPPvu4Qv2Y8uNx/b/3ueWktHI1Ho6zfirQ/Iulr1c/Hj6HQ6lqzZQv26Powd/soT394jDt1bUWvRCCQqBdk3wwmdu6fUsWIqRmKhxGfdRGya14eH5Ri2+D10uRU7XstSs3tzWi3U35skB0fw22PuTTptn0xKcCRB7+rvTSRSCe3WjsajXWMAHpy9yqXVX5gtP+HZYtbhggsXLuSbb57cxbSkjIwMpk2bBkBcXBwTJ078V7YrdbDHfvF8UpYuJ2H4aDTRMdi+OalYjKxWLWynTiF57nwSx04k88BnOK5bZfjesrc/zrt3IHN1rXI+cic7fLYGcH/SBoK6TCMvIo6ai0aVO8YzcDjqmCRu9JhJcL95uI7sg3XLhgDU3b+AqC1fcLPXbO6OXEWtZWNR+dYolUNFqJxsab9tIucn7uC7ToFkRsTTfPFQo7F29Tzp8dUiavd/odjyWn1a03BcT84MXc+xFxcis1DQeFKfKuUldbDHecU8EuatJHrwWAqiYnAMmFAqTu7rjfu7m7Dq0anYcstuHbEbNpD4N+cT/coEJCoVdiOGVDofmZMdtTbNJPzN9dzu/ib5kbF4LBhT7hi7Xu1xHtOfkBFLudNzGlILFS7jX0aikFN713weLNrN3T4ziN/1Fd5b51Q6z0csnGzpvmUiJybt4D8vBpIWEc//LSpdrw51atBhyet8N3ITX/ZewuWdR+mzfyYArQMGIpVJ+aLnYg76L0JuoaTVtJeqnJuVky0vbZrEoSnb2dstkJSIeLovLJ1bjed9aD+xHx8NXsE+/4Ukh8XSdW7hDYjf4I6MPvQWdh5OVcpH5mRHzY0ziXhzPXe6v0l+RCwe88eUO8auV3ucR/cn9I2l3PWfhlSlwmXcy0htrai9bzEx6z/kXp8ZRC99B+/dC5AozfM8TeZoR431s4kKWEto70moI2NxnTe2VJyybi1qHViPba+OZtmuKVJHe9zWziV21moi+k1AHRmLy5xxpeIUdWrh+eEGbPyLH7OOk18HmYzIl6cQ+fIUJColjhOHVSgHubMd9bZP49b4TVzpOJPc8DhqLx1RoTiPUT2xqOvJ3y/O5lrvhdSY2A+bFvWQKOQ0eHcO9+bu42r3eURuP0yDXQEAOPVti0PXZlztHsjfnWcjtVRRY0K/MnNVOtvSYvtkLo3fzk8d55EdHkeTpaV/37Linl81koKsXH7qHMj5fstw79Yc954tDOtKVQpa7p6KtAL7XFWPh4ipb3Ov30zu9ZtJ1KLdaDKyiF62z7CuRKmg1rY5SBSVOw7kTnb4bg3g3qSNBHWeTl54LLUWjyx3jOeMV5DIpdzoMYugHrORWiipMX0IEoWcuu/MIyxwLzd6ziF6x9f47pxZqRwr4n5YBONnLOLHXy488W0VJXeyo8626dyZuInrnQLIi4gzWo6mYrxmDEEik/FP99n8030OUgslngGDzZafysmWjlsn8vOkHXzTOZDM8Hhambg3sa/nSe+vFlG7X/F7k7qvdMS+bg2OdF/IkZ6LcW/XGJ/+bcyWo/BseabfyUpLSyM4OBgAd3d33nvvvX9lu8oXXkAdfBvNgygAsr89imXP7sWD1PmkbdiMNilZ//HWbaROTiCXI3V2xqJTB5LnzjdLPnZdmpN17R55oTEAJHxyEqdBncsdE7nsfSJXfwSAwt0RiVKOJiMLiUpBzLYvybhwXf87xCRRkJSOsoZzlfKt0aUpSVdDyQiNA+DOgZ/wHfx/RmMbju3BvS9+IfzYxWLL67zakeB3T5CfmgU6HX8t+IiQr6t2wbBs34q8G3coiNTXa8ahY1j36V4qzva1l8j49gTZP54vttymX0/SP/0abXoG6HQkr91O1vc/Vjof204tyL5+l/wwfZ0lfXYCx4Fdyh3jOKQbie8dQZOWCTodD5bsIeWbs+jUBdxsN4bcGyEAKL09KEjNqHSej3h3bkr8tVDSwvT1GvTpTzR4uXS9avLVnJ3/PtnxqQDEXw/FytUBqUJG9F+3uLzzqL73V6sjISgMOy+XKudWp3NToq+HkPwwt8ufnaHpwA6l4mKCwtj94lzyMnKQqRTYujsaeqts3Bxo2Ks1/xm5ocr5GKs3h3LU7aMYh8HdSHy/sG6jlu4h5duzqHw80WRkkfW7/pjNC3mAJiMHqxaNqpwzgHXHluT+cwd1eDQAqV98j91LXUvFOY7oT9qhU2Sc/NUs2zXFqkNL8oJuG/JJO3gcm/7dSsXZv/4S6YdPknmq+DGbc/kfUvZ9DjodaLXkBd9H7ulWoRwcuzQj8+o9ckNjAYg9cArXwZ0qFOfcpw3xB38GjRZNWhaJR3/DdUhndOoCLjefRFaQvjfIwtsd9cP9MfmHv/hnwFJ06gJkNpYoXOwoSCn7OHbr4kfK1RCyHuYQeuAMNQeXPg7KinPw8yXy6wug1aFTa4g78zeeRW4i/daPIfLL8+Qnl/+cUtXj4RGJQk7NzbOIWfUe6phEw3LPVVNIOfwTmpTKjRjRXz/vGq6f8SavscZjMv68QfSOrw37WXZQCKqarujUBVxrNZ7sG/r6VXm7o3lMHZrDwcPHGTKgF/5dS++nT5J9l+ZkXi28D4k7cBLnEsdKWTEZf90kesehIuUYisqr6g+qH/Hq0pTEa6GkP7w3ufXJT9QdZPzepPGYHtz5/BfCjhe/N5FIpcgtVUiVCmRKOTKlDE1e1UdiPA206Kr937OmSo0snU7H+vXr6dWrFyNHjiQiIgKAw4cP079/fwYMGMDChQvJysoCoEOHDixbtoyXX36ZCRMmcOLECYYPH063bt24eFG/o4aHhzN27FgGDRrE66+/zs2bNwE4duwYAwcOZPDgwcwzz2jFAAAgAElEQVSYMYO8vDzWrFlDfHw806ZN48GDB3Trpr+4RkVFMWrUKPr3788rr7zCrVu3qvJrliJzd0UTH2/4rElIQGpjg8TKqnBZbBx5f/xp+GwXMJXcC79DQQHapCRSlixHE/nALPkoPV3Ijy68oOTHJCK3s0ZqY1n+GI0W352zeO7MTjL+CCL3fjS6PDWJB88Y1nEZ4Y/UxpLMK4VDHivD2suZrOgkw+fsmGSUdlYoiuT7yKUlnxD27R+lltvWqYHK2Y5u/5lPvzPr8Js3mPw040OEykvm7oYmrki9xicgtbVGYm1VLC5lw26yT54ttb68dk2kTg647V5PjS/34zBlFNqMrErno/B0LXajoI5JRFaiXsuKUfl6InO2x/fACuqf2In7rOFo0h/mU6BB7uJA4z8/psaisSS8W/UeaBtPZzKL1GtmTDIqI/Wa8SCR8LNXDZ87LhtB6I9X0Ko1RJ4PIvXhjZ2tlzPNJ/Tm3vd/VTk3+xrOpEUnGz6nxyRjYWeF0sg+py3Q0NC/FbP/3IV320ZcPaQfHpsZn8qhydtJfphfVShqlKi3WCN1W0aMytcTubM9Ph+voF6Rus0LjUJqaYFNJ33PgqVffSwaeCN3q1rP2yNyYznZWiO1Ll6OcaveIf34L2bZZpn5eLhSEFuYT0FcAjIjx2zi2j1kfv9zqfVzfr+COlz/UEXu6YbDqEFknqpYw1Dp6Ux+VOF+nxedhNzOGlmJfausOKWnC3lRRc7P0UmoHj7M0hVoULjY0/rvd/FZNpKoPUcMcboCDR7jetP6v/tQONmRdKL4DV9Jlp5O5BTJITc6GYWdFfISuZYVl3LlHrVe6YhELkNmpaJGvzZYuDkC4D38RaQKOeH/KV3WZanq8fCI42s9KYhLJv104bXXcag/EoWclIPFhzRWhP76WVge+TFJJq6xxmPSz18jL0T/IEDp5Yr7hAEkH/8d0Neh3MWeZpffp9bS0cQ8HKr/JC2ZO5V+/qUfjjxpSi/nEvchpY+VsmLSzl0jNyTmYZwrHhP6G8rRHKw9i9+bZJVxb/Ln0k8IOVL63uTeV+fJS8tm6H93Mezv3aSHxhH5499my1F4tlSpkXXq1Clu3rzJ8ePH2bFjBxEREWRlZbFv3z4+/fRTjh07hqWlJbt37wYgMTGRzp07c+TIEfLy8jhz5gyff/45AQEBHDhwAIAFCxYQGBjIt99+y+rVq5k9ezYA27dv58MPP+Sbb77By8uLkJAQli5dipubG3v27CmW18qVK+nVqxfHjx8nICCAd955pyq/ZmkSqf5JSklabelQCwscVi9HVtOLtA2bzJvH4/LRaCsUEzpjO1f9RiF3sMVz9mvFwjymDcZzzjDujVlb9fHPEonRXLSa0uVnilQuo0bn5/l18i5O9HkLlYMNzRe+WrW8pBLjfwiinHlJ5DIs27YiYcFqYkZMRWpni8P00kOpys1EOemK1avpGIlcjm2n5oRP28C9l+Ygd7DBI7BwaEZBYirB7cZwf3AgNTfNROnrWflc0Y9F1xkpQJ2J8pNbquj9TgD2Pu6cnf9+se9cm/ow+PBbXP/4R8J+ump0/Yrm9tiyLOL26f+yucUUzm37hhGfLtSXszmVJ58yYiRyOTYdmxMxfQP3X5qDzN4Gj3kj0WbmED55La5TX6XeDztxGNyVzN+vo1NX7V3FR0yWo5Fz379BIjV1LtZU6OeomtTD69MtpH3+HdnnKtaol0ilxvf7EmVSVpyk5LlHIim2vjoxjcstJnO9/2Lqb5+GRZ3CIduxH57kr4ajSfrhLxq9P7fsZKXGL/ml6q+MuKAV/wEdvHhmHW0/nkvCuX/Qqguwb+qD7+geXJv/Qdk5GM2rasfDIy7jBxK/+0vDZ4vn6uI0vDdRS/ZWPKciTO33Ra8N5YmxalqHRt+uJf7jH0g7c9mwvCAxjWutJxD80kJ8twagqlO1c/HTSmLiPqRoHZYnxqppHZocWUPcRydIPfNf8+VXweuEMc3nDCY3OZ2DzafyZesZqBxteG5y1V5leFrodLpq//esqdJA/YsXL+Lv749CocDJyYnOnTsjkUjo2rUrjo76J1tDhw5l0aJFhnU6d9Z3n3t5edGqVSsAPD09SU9PJysri6CgoGLx2dnZpKSk0LVrV15//XV69OhBr169aNy4MQ8eGO8JunTpElu3bgWgS5cudOnSxWhcZWnj4lA2aWz4LHNxRZueji43t1ic1N0Npw3rKAgLJylgNuSb7+XMovKjE7BuUd/wWenhTEFqBtqcvHLF2HVpTs6tcNRxKWizc0k++iuOfdsDIFHK8dk6A8sGtbg1cCH5Dwp7eirCL3AINf1bAqCwsST1VqThOysPR/JSMtEUyfdxcuJSiDxxyfBCaujh32g6++VK5faIJjYe1fNF6tXNBU1a6Xo1uX5CEtlnLxheus/64SfsJ75R6XzU0QlYtWhg+Kx4WGe6IuVUVow6Ppm0k38YXs5O+fYX3GcOQ2prhc3/+ZF+Sv+0N+fGfXKDQ7Fo6EN+aHSFcmwzdwi+PfX1qrSxJOl2Yb3aeDiSm5pJgZF6tfF0pv9Hc0i+F823Q9cWm9ii/kvt6LJ2DOffOsAdI08Ky+vFOUNo0EN/jlHZWhJfZJ+z83AiJzUTdYncHGu7Y+NqT+RlfW/t1a9+od+6cVjaW5OTWvlJLkpSRydg1bwcdWsiRh2fTPqpwrpNPfILbjOGgUSCNjuH0NcXG9ZrcHYf+eEVq9ey8rbwa2j4LHd3QVMi73+TOiYelV/hUEi5uwuatIrlY9OnC67LAkhYY7y3yxjv+UNx9G+t36atFVnBEYbvVDWcUKdkoM0unkNeVAI2LesbjcuLSkTp4Wj4TunhSH50EjJbK+w7Pk/ywx6qrH9CyboZjnVjb6QWSiRSqWEoYdznP+E5sfQ7WY3mv4LHw3Ov3NaK9CK5WtRwIj8lE02JXHOiEnFsWddonKWXMzdWf446Vd8rXn/GQLJCY6n1aifkNpZ0OrZCv467I632TOPGqs+JPX2lzPKs6vEAYNGkDhKZjKy/ggwxjoO7IrO1ou7hjfrf382JWtvnErP+IzLOlN3rV1R+VCLWRc6zSg9nClJKXGMfE+P0Ukdqr5tE+NL3SD6i7y2V2Vph26EpqSf1DfvsoBCyb4Zh1cjb0PP1v6TkMWCsHB8X4zSwA77rJhG29H2Svq36cOQW84ZQy7/wGpZi5N7E2DXMlNp9WvPnW5+gVWvQqnO4d+hXfPq14ca7J6qcq/DsqVJPlkQiKdaylMvlaEs8EdPpdBQUFD5FVSqVhv/LZLJisVqtFqVSydGjRw3/Dh06hIODA0uXLmXnzp3Y29sTGBjI0aNHTeYllxe2HXU6HffuVXwmobLkXbyM4rnGyGp6AWD18gByf/2tWIzE0hLnXdvIPXee1BWrn1gDCyD93FVsWjY0TEjhOrIXqaculjvGcUBHPGfrX2qWKOU4DehAxm/6dzp8d85GZmtVpQYWwPVNh/mh5xJ+6LmEk/1X4NKyHra+7gDUH9WdB4+5CJcU8f1Fag9oh8xCAUDN3q1IuhZS6fwAcv74L6qmjZHX0ter7ZAB5Jwr/1CE7DO/YuXfBYlKv49bvtiBvJu3K51Pxq9/Y9W8IUoffZ05j+hD+o9/lTsm7YffcOjX0ZCPnX87sq/dBY2WmhtnYtVK36BU1fdGVbcmOVcrnuvFLYf5svcSvuy9hK8HrsCjRT3sffT1+vwb3Qk1Uq8KawsGfbWE+ycuc3ranmINLJ8eLei0ciTfjdhQpQYWwC9bD7O/72L2913MBy8vx6tFPZwe5tZqRHduny79BNTWzYEhuwOwdLQBoOnLHYi/HWnWBhbo682yRWG9OQ03XremYtJP/IZ9ibrNuX4XdDp8PlyBZdN6ANj364g2L99sswtmXbiCZfNGKGrrn7Q7vt6XjJ/+fMxaT07Ob//Fwq8wH/uh/cg6W/79xurFtrgsnkr0hEXlbmABRGz8kms9ArnWI5Dr/RZh26o+Fr4eAHiM8if51KVS66Seu2YyLvnUJdxf7wYyKTI7K1wGdiDp5EV0Gi31t03F9gV9w9ayYU0s63mSceUu1k1qU2/7VKSW+n3A7dUupF4IKrXdWxu/5pcei/mlx2LO91uGY6v6WD/MwWdUd2JPlT4O4s/9YzLOZ1QPGs3XjxpQudhRe0RXHnz7O0HLPuWnDnMN28qNS+G/0/Y8toEFVT8eAKzbPk/mH9eLrROz+n3udJtimBSjID6ZyFlbKtTAAkg7dxWblg0M10+3kb1IOX2x3DH2PVvjvXoCt4evNDSwQN9D4rtlOjat9Q8KLBrUwrKeF5l/P/nZBatD2rlrxcrIfZQ/KacvlTvGoWdrfFZP4Nbrq8zSwAL4e/NhvvNfwnf+Szg+YAWuLeth9/DepNHI7kRU8N4kKSgM3wH6GT8lchnePVuScMW896DCs6NKPVnt27fngw8+YNiwYeTk5PDrr79Sr149zp49y9SpU3FwcOCrr76ibdu25fp5tra2+Pj4cPToUQYOHMhvv/3GsmXLOHnyJP369ePTTz9l8uTJqNVqgoODadu2bbEG3COtW7fm+++/Z+jQofz+++/s3r2bL74w3xSa2tRU0tZtxHHNSiRyOQVR0aSuWY+iYQPsFwaSOHYiVkMGIXN3x6JzJyw6F77YmTRzLrr0qk3XXlJBUhphc3dR9935SBRy8sJjCZ21Ayu/uvhsms7NXrNNxgA8WPURtddP4bkz+s8pJ/8i7oPjWLdsiFP/DuTej6LRkbcN23uw7gDp5yo/hCsvKZ0/Zu+n8/4ZSJVyMsLi+X2mfiYoJz9f2m2ZwA89l5T5M+58fAalgw19Tq5BKpOS/E8Yf638vNI5AWhTUklcsQnXTcuQKOSoH8SQ9NYGlI0b4LxsDjGvTylz/YxD3yG1t8XjP+8gkUrJv3WXpLX7ylynLJqkNB4E7qD2O4uQKOTkh8cSOWcrlk3rUXNDAHf7zjQZA5D06Q/IHGyof3wbEqmUnBv3ebD2A7TZuYRPWovnsolIFDJ0+WoiZmxGHZv0mIzKlpOUzk9z99Pn3RlIFXLSw+P5cbb+93fz86Xrxgl82XsJfmN6YlvThTq9W1Ond2vD+keHrafD0uH63vCNhbM6xly+w/mlB6qUW3ZSOt8Fvssr78xEppSTEh7Pkdn6YcQ1mvoyYMNE9vddTMSl2/y6+wijv1yKtkBLRnwKX03aVqVtG6NJSiMqcAfeewvr7cFcfd16vR3AvX4zTcbAw7q1t6HesW1IZFJygu4TtVY/TCty1ma81k9HolBQEJ9M+KS15ss7OY2YRdvw2rVYf4xExBI9fzMWz9fHY+0MwgYGmG1b5c0nfukWPLa9pc8nMoa4RZtQPVcft9WziRw8tcz1XQInIpGA2+rZhmU5V26QuGZPGWsVp05M596sPTR6fx4ShZzc8DjuBuwCwKZZXepumcK1HoFlxsV8fAqL2u60OLsFiUJO7Kc/kv6H/n3k4LEb8V09Folchi6/gDtv7iA/JpmEr89j4etBs1Mb0BVoyb4dyb05ZQ+Ly09M5+9Z7/LC+zORKuRkhcdxJUB/HDg086X5lon80mNxmXF3dx6l5e6pdP1lA0gk3Np4iNSrVXvAVdXjAUDl60n+g7gq5WFKQVIaoXN2UW9/IBKFgrzwWEJm6q+xvpunccN/jskYgFpvjQEJ+G6eZviZGZduEbFkP/fGv433ynH6P6eRp+b+9G2oY6p2Ln5aFSSlcX/2burvD0SqlJMbFsv9mTux9quL75apBPWcazIGwHvZaH05bik8rjMv3SJssXkmPctNSufCnP103a+/hmWEx3P+4b2Js58vHTZP4Dv/su9NLq74D+3WjGbQuY3oNFpiLtzgn73HzZJfdXsWJ56obhJdFQc5btu2jRMnTuDi4oKVlRV9+/ZFo9HwySefoFaree6551i5ciU2NjY0bNiQ27f1T8sXLlxImzZtGDx4MH/99Re7d+/m008/5f79+6xYsYLU1FQUCgUrVqzAz8+P48eP884776BSqXB2dubtt9/Gzs6OkSNHolAoWL9+PaNGjeLs2bPExMSwdOlSEhMTsbS0ZM2aNdSrV6/cv1NMx3//hdDyiAqzr+4UynRLa1PdKZjUyaPqkxU8SWnJpV+sfVqc1zy9+12y9Ok+6Q+SmveBijkpFBV7b+nfJpc/vfnFJdtWdwomJaJ8fFA1qmP55GfPq6zc/Kf7T4c2v7alulMw6YrfvOpOwaSbEqvHB1WjsVGfVXcK5dLG07yv3lTGxeiq/53Wf1OVG1n/i0Qjq3JEI6vyRCOrckQjq/JEI6vyRCOr8kQjq/JEI6tyRCPLPF7w7Pz4oCfsUvT5xwc9RZ7pv5MlCIIgCIIgCILwtBGNLEEQBEEQBEEQBDN6uvvGBUEQBEEQBEGoVuLtoooTPVmCIAiCIAiCIAhmJHqyBEEQBEEQBEEwSUzhXnGiJ0sQBEEQBEEQBMGMRCNLEARBEARBEATBjMRwQUEQBEEQBEEQTBITX1Sc6MkSBEEQBEEQBEEwI9GTJQiCIAiCIAiCSWLii4oTPVmCIAiCIAiCIAhmJBpZgiAIgiAIgiAIZiSGCwqCIAiCIAiCYJJODBesMNHIMsKui0t1p2DU+fvK6k6hTEeVGdWdgkmDxzeq7hTKtHdTUnWnYFJbtba6UzCpn3tCdadQJqfmT2/ZSeRP90CGzOCC6k7BpFvpFtWdgknNyKzuFJ5ZPk2SqzuFMl3xm1fdKZjU8vrm6k7BpE2tZlV3CmUaW90JCE+MaGQJgiAIgiAIgmCSVkzhXmFP96NMQRAEQRAEQRCEZ4xoZAmCIAiCIAiCIJiRGC4oCIIgCIIgCIJJYuKLihM9WYIgCIIgCIIgCGYkGlmCIAiCIAiCIAhmJIYLCoIgCIIgCIJgkphdsOJET5YgCIIgCIIgCIIZiZ4sQRAEQRAEQRBMEhNfVJxoZAmCIAiCIAiC8D8tOjqawMBAkpKS8PX1ZfPmzVhbWxeLmTJlCjExMQBotVru3LnD119/TaNGjWjbti21atUyxH7zzTfIZDKT2xONLEEQBEEQBEEQ/qetXLmS4cOH069fP/bs2cPevXsJDAwsFrNv3z7D/3fs2EHz5s1p2rQpQUFBtGjRgg8++KDc2xPvZAmCIAiCIAiCYJJWp6v2f1WhVqu5dOkSvXr1AmDw4MGcPHnSZHxISAhHjhxhwYIFAPzzzz8kJyczePBgXnvtNS5evPjYbYqeLEEQBEEQBEEQnmrp6emkp6eXWm5nZ4ednV2Z66akpGBjY4Ncrm/6uLq6EhcXZzJ+7969jB8/HhsbGwAkEgndu3dn8uTJ3L17l4kTJ3Ls2DGcnJxM/gzRyBIEQRAEQRAEwaSnYeKLAwcOsHv37lLLp0+fTkBAgOHziRMnWL9+fbGY2rVrI5FIii0r+fmRtLQ0fvvtN9auXWtYNmzYMMP/mzRpgp+fH1euXKFHjx4m8xWNrEqSNWyJ0n84yBRoY8PJ+/YdyMsxHtv4BVSvBpC9apRhmbytP/LW3ZHIlWijQ8j75h3QFJgtvxrdm+O3eChSpZy04EguznmPgkzj+QG02TGZtOBIbu/7odR3HT6YRU5sCleWHDBbfi27tWL4/FEolArCb4Xxzvxd5BjJb9TSsbTv24HM1AwAokOi2TZ9k+F75xourDuykXm9Z5KRklHlvH4NTWDX7/fI12ip72LD8u7PYaMqfphs+fU2Z+7GY2ehX+7jaM2GPn7M+/4akWnZhrjo9FxaejmwY0CLKudVVKOuLeg9fxhypZyYWxF8vWA/eUbKrv0of9q/0ROdTkdSRByHF75HVpL+CdCyK/tJi00yxJ579zhXj/5W5dw8ejTnucXDDPvdldn7y9zvWu2cQnpwJHff+d6wTGFnRecjy/jv7HdJvRZa5ZwALDu1wWnGeFAqUN8JJWHFFnRZ2UZjXVYHkn83lPRPvi71ndvW5WgSkkhaX/okXxXyZm2xeHUCyBVoI0PI/mAz5BbPT9ljIMpuL4FOhzY+mpwPt6LLSC0WYxWwAm1qErmf7jJfbn5tUA0eDwoF2geh5Hy0pVRuim4DUb7YH9ChjY8h98A2Q26KrgNQduoDChWa8DvkfrwVCtRmy68o1f+1w27KBCQKBer7IaSu24Quu3iulr16YDN8GOh06PJySdu2C/WtO08kH4Ba3ZrTetFrSJUKUoIj+HXe+6jLOCY6b5tM8q1Igt7Vn4slUgnt14zGo11jAB6cvcrFNV9UKhf7bq3wWjQSqVJBdnAYYfN2oy2Ri6kYma0VtTdPx7KuF0ilJH19lti93wJg1awe3ivGI7WyAJmU2L3fkPzNuQrlZtu1Ne7zRyFVKsi9FcaDBTtL5VZWjNMbfXEa6o/EQklO0D2iFuxEl1+Adbum1FgyHuRSNCkZxKx+j9zgsEqV3yPKNu2wHj8JFAo0oSFkbNlQaj9Tde+J1avDAB263Dwy9+6k4M7tYjF2y1ejTUokc/eOKuVTkkP3VtRaNAKJSkH2zXBC5+5BU6IsTcVILJT4rJuITfP6IIHMv+8Stvg9dLn5Zs2xLDqdjiVrtlC/rg9jh7/yr20XoGW31oyYPwq5Uk7ErXD2zt9p4t5kXIl7kyi2Td+EUqVkwpop1GtWH4lEwt2rd3h/6T7y8/698vtfNnr0aAYNGlRqeclerD59+tCnT59iy9RqNW3btkWj0SCTyUhISMDNzc3ods6dO0fnzp1RqVSGZUeOHKFly5Z4e3sD+v1UoVCUme9T907Wzz//zEcffWTy+7i4OCZOnPgvZmSElR2qwVPJ/XwzOdtnok2JQ9lrhNFQibMHyj6jgMLWsqxJGxTt+pD74Wpyds4BuRJFh/5mS0/lbEub7ZP4bcJ2TnQKJDM8nmZLhhqNta3vyYuHFlOrfxuj3zea2h+Xtg3NlhuAnZMdUzfNYPOUt5nZbSpxEbGMWDjKaGzDVo3YFrCZwL6zCew7u1gDq/Pgrqw6tA4nD2ez5JWcnc/yMzfY1M+PI6M6UNPeip2/3y0Vdy0mjfV9mvLl8PZ8Obw9G/r4AbC5XzPDsmXdm2CjkrPoxcZmye0RaydbXt00mU/f3Mbm7nNJjoynz4LXS8V5Pe9L50n92TtkGdt6zScpNJZec18FwKVODbJTM9nRd5HhnzkaWEpnW1pun8yf47fzY8d5ZIXH8fzSYUZjbet70vHrJXiV2O/cuzfnxR9WYVO3RpXzeUTqaI/rqnnEzV1F1MBxqKNicJo5vlScwtcbj/c2Yt2zk9GfYz/mNSxaPG+2vB6R2NpjOSGQ7F0ryFw4Bm1CDBavTSj+O/jUR9X7NTJXzyBzyQS0cVGohowtFqPsOxRZg6bmzc3GHoux88jZu4qsJeP0ub1SvOykteuj6vUKWetnkrVsEtr4KFQvjwZA3rIjym4vk7VlAVnLJiBRqlD2HGzWHA15ONjjsGQ+yYuXE//6aAqiY7CbOqlYjMy7FnbTppA0Zz4JYyaS8fFnOK5b9UTyAbBwsqXT1on8NGkHh7sEkhERzwuLjJ+L7et50ufLRfj0e6HY8npDOmJftwbf9ljIt/6L8WjXGJ9+xs/XZZE72eGzNYD7kzYQ1GUaeRFx1Fw0qtwxnoHDUcckcaPHTIL7zcN1ZB+sW+qvDXX3LyBqyxfc7DWbuyNXUWvZWFS+5T+GZU521Nw4k4g313On+5vkR8TiMX9MuWPserXHeXR/Qt9Yyl3/aUhVKlzGvYzU1ora+xYTs/5D7vWZQfTSd/DevQCJsvLPlyX29tjOW0j6qrdIGTcSTUw01uMnF8+1Zi2sJ75J2uJAUqZMIPvzT7BbvrpYjOVrr6N43q/SeZgid7Kjzrbp3Jm4ieudAsiLiKPW4pHljvGaMQSJTMY/3WfzT/c5SC2UeAY8mWPWmPthEYyfsYgff7nwr23zETsnO6ZtmsGmKeuL3JuMNhrbsFUjtgdsIrDvLAL7zjLcmwwOeBWZTMrcXjOY22sGSpWSQdP+3Ybi/zI7Oztq1qxZ6t/jhgoCKBQKWrduzQ8/6B9gHTlyhM6dOxuNvXr1Kq1bty627Pbt23z44YeA/n2t4OBgWrVqVeY2n7pGVlBQEJmZmSa/d3d357333vsXMypNVt8PTdR9dEmxABT8dRp5MyM3ZgolqldnkP9D8R4geYsuqH87BjmZoNORd/Q9Cq6eN1t+Hl2aknw1hMxQ/VjTewfO4D24g9HY+mN6EvL5L0QeK/0Cn2v7xnh09eP+Jz+ZLTcAv84tuH/9HrFh+ikyT392kk4Du5SKkyvl+DSpw8DJg9hyagdz9y3AxdMFAEc3J9r0asuakSvMltefEUk8525PbQf9dJ6vNq3Jidux6Iq8bJlfoOV2QgYH/hvGq//5g7nfXyMmo/hTLrVGy1unbxDYuSEethZmyw+gfic/Iq+HkBSm3/f+/OxHWgwsXbdRQaFsenE2uRk5yFUK7DycyErRH1c+rRqg02qZ8tVyZp3YQPcZg5FIjXeZV4R7Fz9Sr4aQFarPLfTAGWqZ2O/qjPUn7D8/E3Xsr2LL643vxeXpe8mNTzW6XmVYtm9FXtAdCiKiAMj46hg2fbuXirMb9hIZ35wg6/Svpb6zaO2HZYfWpH993Gx5PSJ/vjWakNto4/T55Z39DmX74vlpw+6SsWAU5GSBQoHE0QVdZuG4dFmjZiiavkD+z8fMmpvsuVZowu6gjdfnlv/zMRRtS+QWfpfMxWMgJxvkCqQOLuiy9E93Ff/Xg/zTX0NWBuh05H6yA/UfZ8ya4yOqNi+gDr6N5oE+1+xvjmLpX6Ke8/NJfXsz2qRkANS3biNzdgL5kxnU4dWlKYnXQkl/eC4O/uQn6g76P6OxTcb04PYXvxB6vPi5WCKTIrdSIVUqkCnlSJUyNHkV7wm069KcrGv3yAvVn3cTPjmJ06DO5Y6JXPY+kfD9UvQAACAASURBVKv1D0AV7o5IlHI0GVlIVApitn1JxoXrAKhjkihISkdZo/wPv2w7tSD7+l3yH14Tkj47gUOJa0JZMQ6Du5H4/hE0afpratTSPaR8exaVjyeajCyyftfnlhfyAE1GDlYtGpW/4EpQtnoB9Z1baKL0+1nOsaOouhcfLqRTq8ncuhFt8sP97M5tpI6F+5nCrznK1m3IOX600nmYYt+lOZlXC+sw7sBJnAd3KndMxl83id5xCHQ60GrJDgpF5eVq9jxNOXj4OEMG9MK/q/GHXU9Ss84tuHf9ruHe5NRnJ0zem/g2qcPAyYPZcmon8/YtNNybBP91g693fYVOp0Or1RJ6IwRXL+O9Jc+a6p70oqoTXwAsX76cr776ir59+3L58mVmzZoFwBdffMGOHYU9ypGRkbi7uxdbd9q0aSQnJ9O/f39mzpzJhg0bDO9rmfKvDBfU6XRs3ryZM2fOIJPJGDp0KI0bN2bbtm3k5uaSnp7OokWL8PHx4eDBgwB4enri6enJpk36pwP29vZs2bKF7OxsRo0axdmzZxkzZgwpKSmAvoerWbNmvPvuuxw5coQDBw6g1Wp57rnnWL58ebEuv6qS2rugS0ss/P3Sk5BYWIHKstiQQdXAyRRc+hFtbHjx9V080T64h2r0EqR2jmjCgsk/+ZnZ8rP0dCY7OtnwOScmGaWdFXIby1JDtx4NAfToUvwJuIW7Ay1Xj+Tc8I3UHdnNbLkBuNRwITG6sPySYhKxsrPG0sayWLe8k7sTQX9c5+Dm/xB5J4KXJg9i/vtLmN93NinxyWye/LZZ84rNzMXdpnA/cbNRkZlfQFa+xjBkMCErjxdqOjKtfT3qOlnzyZVwZh+7xhevtzWM7f32RhSuNiq61TX/idXB05m0mMJhfmkxyVjYWaGysSw1ZFBboKGJf2teeXsSBflqTm89BIBUJuPuhSBObPgCmULG2A/nk5eZw4UPT1QpN0tPJ7KjCnPLiU5GYWK/u7b4YwDcXyy+3/02fEOVcjBG7uFKQVyC4XNBXAJSW2sk1lbFhgw+GgJo2b740yuZqzNO86cSN3Uxtq/0M3t+UidXtMmF+emSE/h/7N11eBTH48fx92lcSIhAsGBFirsXggZ3Wtw1eHAJEDw4hVJHSqEUKy1QtIUWSrGiSZESI0SIe3J3+/vj4EJIAjF66fc3rz55HnZv7u7Tu53dnZ3ZOZm5JZiaZx6Wp9WirNsMsxEzQJNO4qGvAZDZ2mM2cCKJPnNQty68HvGX2aRXs0VHIDO3yD5bnaaYDp0OmnRSj+j3K3KnUsis/sZ86gpktvZoH94l5cC7uUimcHJAGxaeESkiArmlJTJzc8NQLm1oGNrQjBudrSdPIOW3S6ApvKHar7IoaU9CSEadSHyxL1ZZmmUZMnh5wS4AXFpmrhMPv7uAa5dGfHhtCzKlnKcX7hB05maes6hLFiftlf1u2rPnKK0tkFuaGYbcvbWMVofr5qkUc29K9Mk/SHkcAjodz/dlNJyLD2yP3NKMhBu5H4KpKuFA+rOM900PfY7itWxvKmPiWpJkexvKfe2F0smOpKv3ebbyK3SJycjNTLFsUYeEizcxq1kJ08plUDrmfKP628gdHNFFZGxnuogI5BaZtzNdWChpYaGGMpZjJ5J2+XfQaJDb22M5wYPYeZ6Ydu6W7xw5UbvYv/YdRqK0tkBhaWYYMvimMrG/3nrltRxwHtWFJ7O2F3rOnMyfMQGAS3/e+Nfe8yX7EsWJfO3cxCLbcxN77l6+zbc+ewznJrM/X4Cn+1RuXfzLUK64iwOdR3Zlx5yP/9X/DyFnLi4u7N69O8v6Dz/MPCIou84cS0tLNm/enKf3+1d6sk6ePMmNGzc4duwYBw4c4NChQ2zbtg1vb28OHz6Mt7c3mzZtomLFigwYMIABAwbQu3dvtm3bhpeXF4cOHaJp06bcv38/0+t+/fXXHD16lC1btmBpacncuXN5+PAh3333Hfv27ePo0aPY29vnaU77XJHJyPb+P53O8E9lo/ZIOi2a6+ezlpMrUFSsSeq+9SRvm4PMzBJ1u6xDvvIdTy7TX4V6jaTVZVM6m+crFTTZPombi/cUao+C4fVzyKd7LV94UDgrhy0j6EEgAD/sOIxTGWccS7+bq0KSlP1NkIpXenlcbMzY2r0uFe0tkclkDKlbluDYJELiUgxlvvkrkNENXN9JRplMlqln7aXXP7uX7p+6xtK6Yziz8SAjd81BJpPx575z/OD1NenJqaTEJXHx8+NU79Ag2+fnKZs8+92JpMvddvfOyOTZbm/kJpdSgcOqeUT5fIL2edTby+eHTE62O5Rs8mlu/E78pF6kHN6JxcxVoFRhPn4+yXu3IcW+g3x5+Ow0Ny+RMLUPqT/swnz6Sv1+UqFEWb0uSZ94k7hsIjILK0x6Dc/6ev9yVpmpKcW8F6N0cSFm5dqszymsSLKC7YsB6kzvRUpkHHvrTGBfg8mY2Fry/phOb39iljA5fD6vZslFmSeTN/JXzSEoba0oOa1fpmLOE3tRcvoAHg1bnrd7eHJzzHpDGZlSiWXz2gROWs3jbtNR2FjiPHMwuoRkAsYux2FCXyoe34xtr9YkXLqNlJ7/RrVMLs+2uma7nzM1xXrhEhQuLsSvXwsKBVbzFpHwyVZDL1dhk+XwHb76WeamjHmN8lQ74k3YVyeIOXP9nWQtauRyefa7kCznJmGsGLY0m3OTjJ6P8u9XYNmBVZzceZzr566909z/FqkI/Pdf86/0ZF29epVOnTqhVqtRq9UcPXqU1NRUzp8/z8mTJ7l16xaJiYlZnufm5sakSZNo27Ytbm5uNGvWjODg4ExlEhISmDhxIgsXLqRcuXLs2bOHgIAA+vXT7/zT09OpVq1aof7/6GKeoyxdybAss7ZDSkqA9FTDOmXd1shUakwnrUWmUMKLf6fuXIEUH43m3hVDr5fm1kVUrQs2Zvd9z96UbK8fG6qyMiPWN8jwmFkJO1KjE9Amp+b09EzsarliWcaR2l6DADB1tEGmkKMwUXF15uf5ytd/+kfUb6s/kTezMifQL6N3z87ZnoSYeFJfy1emSlnKVXXlwuFfDOtkMhmadG2+MryNs5Upd0JjDcvhCalYmygxU2X8mveD5/E8iIinS9WShnUSoHzREPMLj0Ork6jnUqzQcrWb1odq7fTfrYmlGaF/Z3y31s52JMUkkP7aZ2df1gkrB1v8r+lvtL763Xl6Lh+JmY0F77WuzTPfQEL99AcImQy0+TzpqDqrDyXa1wVAZWVOrG+g4THTEnakRSegTcrddveuaELDMamRMTxI6VgcbWwcUnLKG56lZ1KtMqpSztjNGAeAongxZHI5MrWa50vWF0o+XVQ4qgoZ+WTFiqNLiIO0jHxyx5LIbOzQPrwLQPqFk5gNm4rCtTJyhxKYfThe/1wbO5DLkanUJH+5rsDZpKhwZOUzZ5MSM2eTOZbU98g/uqfPdvFnTAdPQWZuiRQTSfr13wy9Xul/nMGk6yDexRahDQtDVT3jHkiFgwO6uDiklMzfs8LJEbs1K9AEBPB80jRIK9wb0uvO7E2Zdi/qhKUZ0X4Z9dXCuRipMQlocrkvBijXsT6XF+1Cl65Fl57MowMXKde5IXc/zVvPc1pIBBZ1Mo5bamd7NDHx6F7J8qYy1q1qk+wXQHpYNLqkFKKOXqSYexMAZGol5dZPxqxyafy6zyEtOKOnJzfSQyIwr13ZsKx68b7SK9neVCY9PIq4ny8ber1ijvyC4+QBIJOhS0rmyYfzDM+rfO4T0gJC8pTvVdrwMJRVMrYzefHi6OLi4LXtTO7giM2ylWgCA4iZORXS0lBWrY7CuSSW4ybqyxSzA7kC1GoS1hdOYz/1aQSWdV/7DqMzf89vK2PXvRmuK8bgv+BzIg9nHT79v0R/bqK/x9E8m3OT+GzOTcpWKUfZquVeOzcBzYvjaLOuLRjlPY4vFu3gt6OFdyuI8N/zrzSylEplph6C4OBgpkyZQqNGjWjUqBFNmjRh5syZWZ43bNgwWrduzfnz51m7di23b9+ma9euhsclSWLmzJm4u7vTqpV+3KxWq6VTp04sWLAAgMTERLTawj0p1z66hYn7EGT2zkiRoSgbtkfjezVTmZTtcw3/ltk6YDZ5PSlb9b8qrbl7GWWNpmiunQNNGoqqDdA9fVygTHfXHuTu2oMAmNhb0/H8KixdnUh4EkaFIW6E/Jz7K1GR1x9xrP5kw3L1Gb0wsbMq0OyC+9fvZf/6vQBY29uw7ufNOJcrQaj/M9oP7MjVU1nvCZN0EsOXjMbv2n3Cg8JpP7gTAX7+RL0yK15halLGnvUXHxAQk0hZWwu+vxPMB+Uz95rJZTLWXPibOiWL4WJjxoE7wVQqbonTi3uvrj+NpkGpYjlOC5ofpzd8z+kN+pnuLOytmXZyDfblnIn0D6XxwLbcP531KpmVoy0fbfZgo/tckqLjqdOjOaEPgkiKScD5vdLU6NSQ3eM2oFApaTK0A38dyd/EF75rvsd3jT6bSXFr3M6vxsLVmcQnoZQf4sazPGx370ry5evYzxiLsowLmsCnWPXtQtIvl3P13NTbvgS9MqmN7bjBKIrZFOrsgpo71zAdMA65kwu6sKeo23RFc/NSpjIyW3vMx88nYeEYpIQ4VE3d0AX7o314j/jpGb3gJj2GILOyKbTZBTX3rmPSbyxyRxd04U9Rt+pC+s3Mn53cxg6zMfNIXDJOn61xG3RP/ZES40m/dgFVg1akXzwB6Wko6zRD++TdzOSX+uc1rD3Goyjlgjb4KeY9upJyMfN2LTM3w37rBpJO/EzCl7veSY4bPge54aPfF5vaW9PrzEqsXZ2IexJGlcFuBPyct2FQz+/649qlEc8u+SJTKijTvi4RNx7lOVfcr39ReqF+QorUJ89wGNyBmJ//zHWZYl2bU6xTEwLmbEemVmLXtRlxF/RDo1w3T0NuZoJf9zmZTuZzK/7iTZznj0BdrgRp/s+w+6gTcaev5LpM3InfsencnKh9p5BS07Bu35jk2w9Bkij3pRcBY7xJvvMIm87N0aWmFWh2wbTrV7EcOwGFiwvap08x69JNPxTwFTIzM2zXbSLl1EmS9mQcNzW+94ga2NewbD54GHIbm0KdXTD211uUXTzM8B06DWlP9KmruS5j264+5ZaNwu/DpSTeLth5yX/B6+cm63/e8sq5SSeunrqS5Tk6nY4RS8bgd82X8KAwOgzuRIBfAFGhkdRza8AIr9F4D1rM4zt5r6fC/5Z/pZHVoEEDdu3axYABA9BoNIwcOZJnz56xd+9e1Go1Pj4+hoaQQqEgNVW/k+7bty9Llixh2LBh2Nracvbs2UyNrA0bNqBWqxk3bpxhXaNGjfjyyy8ZP348dnZ2eHl5UaZMmUzz5xdYYhypB7dh8uEMZAoluqgwUr/fitylPOqe4w2NqZxorpxCZm6J2cTVIJPrp3A/+mmhxUuNjOPPqTto9tkU5GolCf7hXJmsH1NdrJYrDXxGc6rdvLe8yrsTFxnLNs/NzNg+G6VaSVhAKFunbQSgfI2KjF89EU/3aQQ9COTLxZ8y+4sFyBVyop5FssnD553lsjNX49WuGp7Hb6PRSpSyMWNZ+/e5FxbL0rP32f9REyraWzK7VRWmHLuJTtLft7WyY8Y9FIExSZS0NntnGRMj4zjg+QmDtk9FqVISGRDG/unbAHCpUZ4+q0ezyX0u/lf/5tzHRxi7byE6rZa4sGh2jdb3bJzZeJDuS4cz7ec1KJQKbh+/wp/7zhU4W+rzOK5P3UGjz6cgVylJDAjjmod+u7Ot5UrddaM51/bf3+50UTFELPLB0WchMpUKTXAIEfPXoK5WmeKLpxPSf9zbX+QdkuJjSP58DeaTFoNSiS78GcmfrkJRrjJmI2aQsGgs2gd3SD32DRZz14NWiy4mksRNi/6VbClf+WA2YaH+5yoiQkj+Yg3yspUxGzadxCXj0D68S+pPezGf5QNaHbqYSJK2egGQfv4YMksrLBZtA7kcXcAjkvfveCdZddExxCxfg93yJaBSon0aQvTSlaiqVMZ2jicRw0Zj0bsnCmcnzFq2wKxlxo31zyfPQMrmBy4LKiUyjgszPqXNjskoVEriAsL5deonABSv6UrztaM40mH+G1/jitc3NPEeSu9f1iBpdYT8fo/b2/M+AYsmMhb/GVuosGMWMpWS1IBQnkzdhHnNCpRbO4n7HablWAYgeOlXlF05jupn9MvRJ68Q9sWPWNR9D7suzUh5/JQqRzLukw1esZO4X//KNsvrtJGxPPXcRJltc5GplKQFhBI8Yz1mNSrissqDR52n5FgGIHL3cRQ2llQ8tgGZQk7y3cc8Xa6/TSBoqg8uKyfp6354FAFjlr8pyltJMTHE+6zCeuFS/RTuIU+JX7MCZeX3sJqun03QtHsv5I5OmDRvgUnzjO0sxnM6Unzhb2ev0kTG8njaVip96olcrSTFP5THUzZjUbMCrusmcLfdjBzLAJRZNBRk4LpuguE1E6764T/PuBOO/RviImP52HMTM7fPMZybbJm2AYAKNSoybvUkPN2nEvQgkC8Wf8qcF+cmkc8i2eih74kcMn84yGSMWz3J8Lp/X/fl84XvZr/3b5IkIw/9/w+SSdnd4PEObNiwgXPnzqHT6Rg4cCABAQGcPXsWpVJJ48aNOXHiBOfPn+fevXvMnj2b4cOHU7FiRVauXIlSqcTc3Bxvb2+USiVDhgzh22+/pWXLlrz33nsvxtFKWFtbs3v3bg4cOGCY+KJq1aqsWLEiTxNfJM7v+/ZCRvDjl2pjR3ij79U5zwppbDtnlTZ2hDdasvbd9M4VhkYphdcrV9jqOEW8vZAR2dUuugclmbLITS6bSYLvu5mMojCcCHQxdoQc1aLo7ocBTFTvZrh3YXCu+G4bQAX1z73C+bmSd6Hu7Xd3AbSgPqw31dgR3uj7gB+MHSFXXO1rGTsCTyJvvb1QEfKvNbL+S0QjK39EIyv/RCMrf0QjK/9EIyv/RCMr/0QjK/9EIyt/RCOrcJS1L/zfdcurgMjbxo6QJ0X7KCsIgiAIgiAIgvAfIxpZgiAIgiAIgiAIhehfmfhCEARBEARBEIT/JnF3Ud6JnixBEARBEARBEIRCJBpZgiAIgiAIgiAIhUgMFxQEQRAEQRAEIUc6xHDBvBI9WYIgCIIgCIIgCIVI9GQJgiAIgiAIgpAjMfFF3omeLEEQBEEQBEEQhEIkGlmCIAiCIAiCIAiFSAwXFARBEARBEAQhRzoxXDDPRE+WIAiCIAiCIAhCIRI9WYIgCIIgCIIg5EgSU7jnmejJEgRBEARBEARBKEQySczJmIV7GXdjR8hWd52dsSO80ZB1lYwdIUf1Jx83doQ3+lLhYuwIOXqvdYyxI+Qo8HcLY0d4o7WSytgRcnQq5r6xI7xRC9vKxo6Qo8+bxhs7Qo5Cr5sZO8IbqdRaY0fI0bBojbEjvNEIShg7Qo5+UsYZO0KOvr2+0dgR3khVvLyxI+SKs21VY0cgNMbX2BHyRAwXFARBEARBEAQhR6JPJu/EcEFBEARBEARBEIRCJHqyBEEQBEEQBEHIkU5MfJFnoidLEARBEARBEAShEIlGliAIgiAIgiAIQiESwwUFQRAEQRAEQciRmPgi70RPliAIgiAIgiAIQiESPVmCIAiCIAiCIORIJ3qy8kz0ZAmCIAiCIAiCIBQi0cgSBEEQBEEQBEEoRGK4oCAIgiAIgiAIORITX+Sd6MkSBEEQBEEQBEEoRKInSxAEQRAEQRCEHOkQPVl5JRpZBdCgTQOGzR6GSq3iid8TNnpuJDkhOUu5UQtG0bxzc+Jj4gF4+s9TVk1cBUDnwZ3pMKADalM1j+48YuOsjWjSNIWetUyb2jSc2w+FWkWkbyC/zvyc9GyyVurVjFrj3JEk0CSn8vui3Ty//aRQs1z4+ylbztwiTaOlkrMtXt0bY2mqylTmYVgMq366RkJKOgq5jAXdGlKtpB0A+/98wOHrj0lN11K1pB1ePRqhVioKLV/Lts2YOn88arWaB/cfsXDachITEjOV6da3E0PHfWRYtrS2xKmEI251upIQn8iCVZ7UqFMNGTJu37yH95y1pKak5jmLrVs9Ss8diMxERdL9AJ7M+Bjta99bTmVkpmrKrRiNZe1KIIOEmw/xn/cZUkoa1k3fp/TCIciUSqSUNPwXfk7iX4/y94G9oKzdCLP+o0CpRhv0D0mfrYXkpExl1O16YNK2G0gSuvAQkj5fhxQXA2YWmI+ZiaJEGZDLSLtwitQf9xUoj1Xr+jjPGoJcrSLZz5/g2ZvRvfbZvamM/SB37Aa0R2aqJvnOI4Jnb0Z6pW4W69sWmw5N8B+1rEA5X6rVph79Zg1EpVYR5BfAZ7M+JiWbOvpSvfYNGbthCmOqDwTAY7snTmWdDY87lHbE78p9NoxaWeBsbdu3Yv7i6ahN1Ny/9zfTJs0nIT4xS7lOXdoya64HOp2OmJhYpk9eSMCTIKysLdmwdTmVKrkik8v57tsjbN34eYFzvVS3TX0GzhqCUq0k0C+AbbM2Z7svHrJgBE3cm5HwYl8c8s9TNkxai9pEzSjvcVSsVQmZTMbDvx7w+YJPSEtNK1AuZZ3GmA0YBUoV2sB/SPo0mzrRvgcm7brr60RYCEmf+ejrhEqN2YipKCtUAZkMzSNfkr/cCOn5z2TxQQMcpg9DplaR+vcTQudtRJeYnKsychtLnJdMwqRKeaTkFGIPnSZ69zEAzBvVxHHOKFAo0MbEEb7iU1L9CnbcMG/ZELupw5GpVKQ9eEL4og1IiUnZlnVcPpPUh/7Efv09AHJLcxyWTkftWhrkMuKPniHmy+8KlOd1TdwaMXbOKFQmKh77/sOqGT4kJWTNV76KK1OXTcLC2gKdVsfa2Rt4cOchFlYWzFk3kzIVSiOXyzlx4BR7txVsn/dSKbfa1JvTD4WJiijfQH6fkf3x/qUWG8cS7RvE3R3HAZDJZTRePhTnxlUBCD73F1eXfVso2aDo1tfckCSJ+d7rqFShHMM/6vPO30/4b8vXcMHBgwdz5cqVws6SSXx8PBMnTnyn71EQ1nbWTPOZxvKxyxnTegyhgaEMnzM827JV61Vl9aTVeHTywKOTh6GB1bRjU7oO68q8j+Yxvu14TExN6DmqZ6FnNbWz4oP1ozk1ZhP7W3kSHxhOo7n9s5SzKV+CRvM/5PigtRzsMJ8bm4/S/rMphZolKjGFxUf+wGdAc45O6UqpYpZsOv1XpjLJaRrG7zzHsOZV2T+hE6Nbvc+87y8BcPZ+EPv+eMCOoW04OKkzqRotey75FVq+Yva2eG9awNQRc+nSrB/BAU+ZvmBClnI/HDhBb7fB9HYbTP8Ow3geHsnyuT5ERkQxduowFAoFPT8YSM/WAzE1NWH05KF5zqK0s6b8hkk8GL2W2y08SA0Mo/S8wbku4zK5NzKFgjtu07jjNh25qZqSHr2QqZRU/GQGTzy3c7fddJ5uOkCFLQX7nmVWNpiPmUXiRi/iPYeiCw/BrP/oTGUU5Sph2rkf8V4exM8ZiTb0KaZ99HXGrO9wpMjnxM8ZSfzCCZi07YaiYrV851HYWVN67RQCxq/kb7fxpAWF4jx7WK7LWHdogv2wLvwzcAEP2k1EbmpC8ZE99M+zscRl+QRKLh4NMlm+M77Kys6aMWsnsXncWma18SA8MIz+cwbnWN6pXAk+nD8009tvGb+WBe4zWOA+gy/mbCcpLomdCz8tcDZ7+2Js2raCEYMn06x+JwL8g1jgNSNLOVNTE7Z9uobhgz1wa9GTUyfOs3z1fADmzJ/Cs6ehtGrSjY6t+zJ0xIfUb1C7wNlAvy+euHYya8etZEqbCYQFhjJwTvb17b16VdjosRZP96l4uk9lw6S1APTy6ItCIWdGh8nM6DAZtYmanhMLdgIls7LBfOwsEjcsJn7GUHThzzD7cEymMgrXyph26U/8oknEzxqBNjQY074jADDtOQiZXEH87JHEzxqJTK3GtPvAfOdRFLOmxMppPPVYzpOOY0gPCsVh5vBcl3GaNwZdYjJP3Mfh3286Fi3rY/FBQ+SW5rhsnU/4mi/w7zaRMK+PKblxLjJV/q/hyovZ4LhsBmFTlxHUdRTpwaHYTxuRpZyqfGlKfrEai3YtMq0v5jEUTdhzgnqOJXiAB9b9O2NSq2q+87zO1s6Gues9WTDGi4EthxES8Ixx80ZlKWdiasL6vavZu30/IzuMY+fGPSzaOg+AUZ7DCH8WwVC3UYx2n0CPIV2pXi//+zzDe9pZ0Xz9aM6P2cShlp4kBIRTb17W4z2ATcWSdPxuLmU7N8i0vkKf5thUKMERtzkcaTcPp8ZVKdelYYGzQdGtr7nx2D+QkZPncvqX3975ewn/G4rsPVmxsbH4+voaO0aO6rasy4NbDwjxDwHgp90/0bpH6yzllGolFapXoM+4Pmw7tY35n8zHoaQDAG693Tj82WESYhOQJIkt87Zw7uC5Qs9aqlUNwm89Ie5JGAD3dp2lYs+mWcpp09K54Pk5SeExAETceoK5gy1yVeH1El1+9IzqJe0pa28NQN8GlThx2z/TDZWXHz+jlJ0VLSq7APBBFRfW9GsGwLG/njC4WRVszE2Qy2XM79qAzrVdCy1f0w8acfemL4FPggDYt/MQnXt3fONzRnoMIep5NAd2Hwbg2uW/2LHhSyRJQqfT4Xvnb0qWcn7ja2THplVtEv56ROqTZwCE7TyJfa8WuS4Tf+U+IZsOgCSBTkfS3SeYuDggpWu4WXcUSXf1V5pNyjqhiY7Pc75XKWvUR/vP3+jCngKQduYH1M3cMpXR+j8kbsZgSE4ElQp5seJICXEAJO/aSvLe7QDIbe1AqUJKztpTkltWLeqQdPshaf76zyVyzwmKdW+V6zLFerfh+WdH0MYmgCQRPP9jog/p66ZNl+akh0XxbMVX+c73uhota/PP7UeEi5xrxQAAIABJREFUvchyds9JmnZvkW1Ztama8Run8M2yr7N9XKFSMna9B3uWfknUs8gCZ/ugTTNu3rjDk38CANj5xT569+2apZxcoQCZDGtrKwDMLcxJfXFlef7s5XgtWAOAo7MDJiYq4uIKts29VKtlHR7dfkjoi8/u5z0naPHadw36fbFrtfJ0H9uLdT9vZuYncyhesjgAvlfu8f2W7wx19sm9f3BwcSxQLmXNBvo6EfqiTpw+mrVOPHlA3LRBGXXCLqNOaHxvk3J4t77+Sjq0/o+QOzjlO49F87qk3HlAeoD+mBXz7U9Yd2ud6zKm1SsSd/Qc6HSQriHhl6tYd2yGupwLuvgkki7f0v9//hOMLjEJszr5b9SYN61Lyr2/SQ/U54jb/yOWndtkKWczoBtxB0+ScOpCpvWRK7cT6aO/wKAobo9MrUKXTc9rfjVoVR+/W38T/ET/3R7Z9QPterplKdewVX2eBoTwx7k/Afjt1CUWj9P3fG9a9DHbln4CgL2THWq1isS4gmd0aVWD568c7/12naVCNsd7gKrD2vJg7y/4//hnpvUyuRylmQlytQqFWolCrUCbml7gbFB062tu7Dv4I727dqB96+z3zf/rJEky+t9/zVsvNUmShI+PD2fOnEGhUNC/f8YVEY1Gg5eXFw8fPuT58+e89957rF+/Ho1Gw/Tp03n+/DkAEydOxM3Nja+++orDhw8jl8upWbMmS5cuzfF9vb29CQ8PZ+LEiVSqVAlJkpg2bRoAc+bMoWXLlly4cAETExPu3LlDYmIi48ePp0ePHiQmJrJ06VIePnyIVqtl9OjRdOnSpaCfVSYOJR14/uy5Yfn5s+dYWFtgZmmWqdvb3smeW5dusWvtLgIeBNB7bG8Wfb4ID3cPXMq7YPOXDUt3LcXeyZ57f97jixVfFGpOAMuS9iSGZJxsJT6LwsTaHJWlWaYhBAnBz0kIzvh/arp4IAGnb6BL1xZalrDYJJxtzA3LTtbmJKSmk5iqMQwZDHgeT3FLU7yO/MGD0BisTFVMbV8HgMDIOKIS7Jmw6zwR8cnUKevAtBePFYYSJZ0IDQnLyBsSjpW1JRaWFlmGDIL+iubQcR/Rr33GlbhLv2b08pYo5czgMQPwmpn3IVtqF3vSQjK+j7RnkSitLVBYmhmGDL6pTOyvt155LQecR3XhySx9Q0bSaFEWt6HGzz4o7ax5NH5dnvO9Sm7viC4q3LCsi4pAZm4JZuaZh0dptajqNcNs9ExITyfh+1caKjod5uPnomrYivRrv6ELCcp3HlVJB9JfqZ/pz56jsLZAbmlmGA74pjImriVJsrfBdacXSkc7Eq/e59lKfdaob04CUKxP1pOq/LIrYU/kK99j1LNIzK0tMLU0yzJkcPjKcZzbe4ogP/9sX+uD/m5Eh0Vx/efCGW1QslQJQp6GGpZDnoZibWOFpZVFpiGDSYlJzJrmxY+nviU6KgaFQk6XDhlDarVaLR9/uoYu3Ttw4sczPHpYOMOQ7UsUz/TZReawL7Zzsufu5dt867OHoAeBdBvbk9mfL8DTfSq3Lmb0phd3caDzyK7smPNxgXLJ7R3QReayTtRvhtkYT0hPI+GAfjvT3LlmKCIr7oRJp94kfZb/eqos8dr2HvochZUFcgszw5DBN5VJvvU31t3bkHTjPjK1Cqv2zZA0GtKeBCMzN8W8WR2Sfr+JaY1KmFQsg8LBLv9ZnR3QhGbk0IRFoLCyQGZhnmnI4PMV+u/IrGndrC+i1eG4ahYW7VqQePZ30v2D853ndY4lHQgLiTAsRzyLwNLaEnNL80xDBkuXL0VURDSzfWZSsVp5EuIS2O79WUZErY6Fm+fSqnNLLp78jcDH+d/nvWSRzfFenc3xHuCPBbsAKNmqRqb1j767QLkujeh/fQtypZynv94h6PTNAmeDoltfc2P+DP2olkt/3njn7yX8b3hrT9bJkye5ceMGx44d48CBAxw6dIiICP3O5ebNm6hUKvbv38/p06eJj4/n119/5fTp07i4uHDo0CGWL1/OtWvX0Gq17Nixg4MHD3Lo0CHS09MJCwvL8X0XLFiAo6MjH3/8Mb179+bYsWNIkkRycjJ//PEHbm76E5ygoCD279/Pzp07WbNmDREREWzfvp3q1atz6NAhvvnmGz755BOCggq+83qVTCbLtlWt0+oyLYcFhbF42GICHuivAh/ccZASZUvgVNoJhVJBnRZ1WDlhJVO6TMHS1pKhs/I+rCy/WaXXsr6kNDOh7SceWJdz4lfPwrtvAkAnZT/CSiHPWKnR6fjtYQi961Vk77iODGj0HpP2/EKaRku6Vscfj5+xpl9z9o7tQFxyGlvO3Mr6gvkkk+fwveqyb2j2HdyD8ycvEPziyu+rqtWswu6jO9j75QF+Pf173rPI5Pqr2K959XvLTRnzGuWpdsSbsK9OEHPmumG95nksN+uN5l63uZRfPwnT8iXynPGVIGR7T6wu6zaWfv134sb1JOXQTizmrM60QSRtX0nsuB7ILK0w7ZXzcLnc5XnLNv+GMjKlEqsWtQmYuJpH3aajtLXE2bMAed4WV/727xHAbXBHdBodF77Luce7w8iuHN3yfaFlk8vludrXVa1WmRmzJ9CiUWdqVWnJRp8dfLlrc6YyE8fMomr5JtgWs2HG7MIZDq7Pl3X96/nCg8JYMWwpQQ8CAfhhx2GcyjjjWDqjd6j8+xVYdmAVJ3ce5/q5axRIDnUz2zpx7XfixvQg5eBOLOasyVQnFK6VsVq8idSfj6C5+UcB4uSwvb+S501lwlfpjwWuR7ZQattCEi/dhHQNusRknk5YRvFx/Sn3w1ZseriR9MdtSC/AvcU51Ady2A/nJHzOGvyb90VhY0Wx8fkfavk6eQ75Xt/mFCoFjds05Ng3PzLafQIHvzzCmt0rUKkz7kFeNnklXWv0xNrWimHTCr6PyfE7zOF4n53a03uREhXHvtoT2F9/MibFLKk+tlOBs0ERrq+C8A68tSfr6tWrdOrUCbVajVqt5ujRowwerN8RNGjQAFtbW7755hv++ecf/P39SUpKok6dOqxfv56wsDA++OADJk6ciEKhoE6dOvTp0wc3NzeGDx+Ok1Puhj6ULl0aFxcXrl69SkhICK1atcLExASAXr16oVKpcHZ2pm7duly/fp1Lly6RkpLCwYMHAUhKSuLhw4eULl06v58TAIOmD6JRu0YAmFuZ4//KleTizsWJj4knNTnz5AblqpSjfLXynDv0ykmRDDTpGqLCorh08pLh6s35w+f5aMpHFIb6M3tTtp3+6p7a0owov4xGpoVzMVJiEtAkZ52IwbKkPR2/nk70wxCO9VuONqVwhgi8VMLWnLtPM65ihccnY22mxkydsSk6WJnhWtyaGqX1QwNaVy3F0qNXCI5OwNHKHLdqpQ29Xu41y/HpL3cLlGnSrDG07qDv/rewsuCh72PDY44lHIiNjiU5KSXb53bq3o4V87NeXe7Uox0LV3myfJ4PPx06la9cqU8jsKxbybCsdrZHEx2P7pXv7W1l7Lo3w3XFGPwXfE7k4YsAKKzMsW5Wg+iT+p6OpDv/kHTfH7MqZUn551m+suoiw1FWzBgeJLNzQJcQB6kZn5vcqSQyGzu0D/TfV9ovJzAbMRWZhRUK18pog54gxURCagrpl8+hatAyX1kA0kMiMK9T2bCscrZHExOP9Mpn96Yy6eFRxJ68bOj1ij78C05TBuQ7T3Z6TR9A3bb6eyHMrMwI8gs0PFbM2Z6EbPYnLfq0xsTMBO/j61CqlahN1XgfX4fPMG9iwqMpW90VhVKO3x/3CpRt1jwPOnTSD8+ysrbE994Dw2MlSjoRHR1DUlLmq+IfuDXnzz9uEvBiqO2Xn33D0pVzsLOzpWad9/G994Cw0HCSEpM4/P1PdOnWPt/5+k//iPpt9feImFuZE+gXYHjMztk+231x2SrlKFu1HBcO/2JYJ3uxLwZo1rUFo7zH8cWiHfx2NPPws/zQRYblrk7Y2qH9+0WdOH8Cs5HTkFlYISXEoWrSGrMRU0n+ajPpl84WKE96SASmNd8zLCudiqPNpk7kVEZRwprwNV+gi00AwH5cP9ICQkAmQ5eUTODgOYbnlf/5M9ICs154yi3Ns3BMa1TJyOFYHG1s5qxvYta0HmkPn6CNiEJKTiHh+C9YtGue7zwAI2cOo1n7JgBYWJrz+JWJPYo7FycuOo6U5MzHicjQSAIeBnL/pv6+4d9OXWK2zwxKlimBk4sjj/2eEBkWSXJSCmeOnqeVe/6GodWZ2ZvS7TOO99GvHO/NnYuRGp398T4nZTvV54+Fu9Cla9GlJ/PowEXKdW7IvR0n8pXvv1BfhbfT/QeH6xnbW3uylEolsleuqgUHB5OUpO8OP3v2LDNnzsTU1JRevXrRoEEDJEmiXLlynDhxgq5du3Lt2jX69OmDTqdj27ZteHl5IUkSo0aN4s8//8zpbbPo3bs3P/74Iz/++CO9evUyrFcoMu4X0ul0KJVKdDoda9eu5ejRoxw9epTvvvuOFi0KPoZ2z/o9hskrpnefTpU6VShZriQA7oPc+eNU1quMkk5i7JKxOL24+tJ5cGf8/fyJDI3kt+O/0aJLC9QmagCadGjCg1sPsrxGflzzOcjBDvM52GE+h7t54Vi3Itau+gzVBrsR8HPW7m6VhSldD8znyYlrnJ34caE3sACaVCjB7aBIAiL19x18f/UhH1QplalM80oleRqTyP2QKACu+4eDDFxsLWlbvTSn7gaSkq5BkiTO+wVT3SX/w1IAtq751DCJxUfuI6lZ733KuOob5P2H9uLcyYvZPs/axorSrqX46+rtTOs/aN+cucunM7r/5Hw3sABif72FZd3KmLjqe5ichrQn+tTVXJexbVefcstG4ffhUkMDC/RXNMuvn4hlA/1JjFnl0phWdCHx5sN8Z9XcuYaiYlXkTvr76EzcupJ+/VKmMjJbeyw8FiKz1N+Pp2rmhi7IX38y2fgDTHsN0RdUqlA1+gDNvfwPT4m/eBPz2u+hLqf/XOwHdiLu9JVcl4k9/ju2nZsje1E3rds3JulW/j+f7Bxav88wUcWSHnOpWKcyTi+yuA1sz43XvmsAr+6zmdt+KgvcZ+AzzJu0lDQWuM8gJjwagCqNqnP/UsEuOgCsWbEFtxY9cWvRE3e3/tRrUAvX8mUBGDpiACd/ytqTdufWPZo0a4CDgz2gn2kwMCCYqKgYuvfsyMw5+p4rtVpFt54d+e1C/ntl9q/fa7gZfm4PTyrVeQ/nF59d+4GduHoq61BJnU7HiCVjDFfCOwzuRIBfAFGhkdRza8AIr9F4D1pcaCdsmtvXUFSqitz5RZ1o25X0a5l7tPV1YhEyqxd1onlbQ51Q1m2C2VAPEld6FriBBZD42w3MaldBVVZ/zCr2oTvxZ//IdRnbD91xmKK/wKqwt8WmbwfifvwFJIlSny3B9H39xR4r95boUtMKNLtg8qXrmNSqgqqMPod1/84knruc6+dbdmxJsfGD9AsqFRYdWpJ85a83P+ktvvD5mhHtxzKi/VjGdvWget1qlHLVf7c9Bnflt1OXsjznj/N/UqK0M5Vr6D+bWo1qIEkSz4Ke0brrBwyfrt/nqdQqWndpxY3f87fPu+lzkB/az+eH9vP5sasXDq8c76sMdiPwVN6Gt0Xe9ce1q/6CskypoEy7ukTcyP/ss/+F+ioI74JMesudZKdPn2bXrl18+eWXaDQaevbsSUJCAuvWreP06dMUL16ccePGERQUxIABA5g6dSqpqakEBQUxd+5cEhMTad26NSdPnmTgwIF8//33WFhYMHfuXKpVq2boFXtdaGgo/fr148IFfQVKSUmha9euWFhYcOTIEUB/b1ZSUhKbNm0iJCSE/v37c+zYMXbs2EFCQoLhvq4ePXqwb98+ypQpk6sPxb2Me67K1W9dn2Gzh6FUKQkNDMVnqg8JsQlUqlmJyasn49HJA4DWPVvTd0Jf5HI5kaGRbPTcSERIBHK5nAGTB9Cya0vkcjmP7j5iy9wt2U5lCtBdl//GROk2tWg0px9ylZK4gHDOT/2E1JhEitd0pdXaURzsMJ/aE7vSYFbfTL1eAD/2X0lqTMJb32PIukpvLQNw8cFTtpy+RbpWRyk7S7x7NSE4OoElR6/w3QT9Z3/dP5wNP98kOV2DWiFnlns96pR1RKvT8dmv9zh1NwCtTqJqSTsWdG2YZQr419WffDxX2QBauDVl2vwJKFVKggKeMm/SEmJj4qheqwpL18+nt5t+m32/dlXWfrKMTo0zz2r04+/fYWNrTXhoxpj9m3/exnvu2hzf80uFS7brbdrUpfTcQcjVSlL8Q3k8ZTOmZZxwXTeBu+1m5FhGG5NAzYtbUNpakhYaZXi9hKt++M/7DKvG1SizaBgylQIpNZ2glXuI+z37k/P3Wsfk6nNT1no5hbtSPz379lXIHUtgPnom8fP0s6qp3brpp6vWadFFR5L89SZ0EaHIzC0wGzENRSn9JCbp134j5eDX2Q8ZekXg7xY5Pmb1QT2cZw9FplKSFhBK0PT1qMs4U2q1Bw/dp+RYRhubAHI5jh79sO3SAplcTvK9xwTP+zjTFPDF+rhh06kZ/iNzvrd0rfTm7fJVtVrXpd+sQSjUSsIDQtkxbTOJsQm41qjAyNUTWOCeeUa/4qUcWHlqI6OrZQyDGrpsNDHh0bkaLngq5n6us7m1a8n8xdNRqVUEPAli0rjZxETHUqvO+6zfvAy3FvpZUYeP+ogRYwaSnpZOTHQscz2X8bffI6xtrFi7wYsqVfX7iOM/nmHNii1vvJG5hW3lHB97XZ3W9QxTQocFhLJl2gYSYhOoUKMi41ZPwtN9qv41e35Az/G9kSvkRD6LZPuszTwPec6mc9uwtLUiKjTjXpa/r/vy+cId2b7f501zN2mHsnYjzAaM1teJsBCStq1E7lQC89GexM/Vz76pbtsNk/Y9QKtFF/2c5K/0dcJq3U5kltZIUa/cm/TgLslfbXrje4ZeN8vxMYtW9XGYMQyZSkl6YCghs3xQly6B8/LJ+Hf3yLGMLjYBuYUZJdbORF2mBMhkRO74jrgfzgNg1uB9nOaPRaZSoomIInThFtKDQrPNoFLnbsifeYsG2E0doc8R9IzwuWtRlXbGYck0gvtknvHVwXsGaY8CMqZwt7Kg+KLJmFQsB0DC2d+J/nj3W/cnw6JzP8SxcZuGjJ07CqVKSUjAM7ynrCI+Jp73alZmts8MRrQfC+gbVhMWjMXU3JT0tHQ2LfqYO1fvYmltwcxV03B9T5/xwsnf+NJn5xvrxAhyN6S7VJta1JurP97HB4RzYconpMUkYl/TlWY+o/ih/fxM5ZtvGEOMX7BhCneTYpY09h6K3ftlkbQ6nv12j6vL9r7x/uyflHG5ygb/fn399vrGXGfLjfne66hYvmyhTeGuKl6+UF7nXbMwL2fsCCQm+Rs7Qp68tZEFsGHDBs6dO4dOp2PgwIGcOHGCSZMmYWtry8yZMwFQqVS4uLhQvnx5Ro8ezfTp03n27BkKhYKBAwfSt29fvv76a/bv34+ZmRmurq4sW7YMc3PzbN8zPT2dwYMHo1Kp2L17NwCenp5UrlyZ0aP1B6c5c+YQFRXF8+fPSUtLY/r06bRp04aEhAS8vLzw8/NDq9UyZswYevbM/dTouW1k/dsK0sj6N+S2kWUMeWlkGUNOjayiILeNLGN4UyOrKMhLI+vflpdGljHkpZH1b8ttI8sY3tTIKgpy28gyhrw0sowht40sY8hLI+vfVtiNrMImGlm5919rZOXqhyymTZtmmNkP4KOPMu4bOnbsWLbP+fTTrL/PMmzYMIYNG5arYCqVin379D/MJ0kSiYmJ3L9/n1mzZmUq17Fjx0zDBwEsLS3x8fHJ1fsIgiAIgiAIgiAUpvz/WmAhuHbtGsuWLcv2sU8//dQwMcadO3cYNWoUEydOxMHB4d+MKAiCIAiCIAj/r4mJL/LOqI2s+vXrc/To0beWq1mzZraTZKxatepdxBIEQRAEQRAEQcg3ozayBEEQBEEQBEEo2nIxhYPwmrdO4S4IgiAIgiAIgiDknmhkCYIgCIIgCIIgFCIxXFAQBEEQBEEQhBxJiOGCeSV6sgRBEARBEARBEAqR6MkSBEEQBEEQBCFHYuKLvBM9WYIgCIIgCIIgCIVINLIEQRAEQRAEQRAKkRguKAiCIAiCIAhCjsRwwbwTPVmCIAiCIAiCIAiFSPRkCYIgCIIgCIKQI9GPlXeiJ0sQBEEQBEEQBKEQySQxyFIQBEEQBEEQBKHQiJ4sQRAEQRAEQRCEQiQaWYIgCIIgCIIgCIVINLIEQRAEQRAEQRAKkWhkCYIgCIIgCIIgFCLRyBIEQRAEQRAEQShEopElCIIgCIIgCIJQiEQjSxAEQRAEQRAEoRCJRpYgCIIgCIIgCEIhEo0sQRAEQRAEQRCEQiQaWYIgCIIgCIIgCIVINLIEQfh/zc/Pz9gRBEEQBEH4HyMaWe/Avn37jB3hjcLDwwG4du0a33zzDSkpKUZOlCEtLQ2AgIAAfvnlF3Q6nZETZQgKCsqybvfu3UZIkr2kpCT8/PyQJImkpCRjx8ni/v37AMTHx3P58mUjp8kwbdo0Y0fIIiQk5I1/Rcn169f59ttvSUtL4+rVq8aOk0laWpqhEX3s2DFWr15NVFSUkVPpFeV9XUxMDJcuXQJgx44dTJ48mcDAQCOnylDU8m3duvWNf0XF33//bdjfPX78mIEDB/LPP/8YOZVeWloa27dvZ9asWSQkJLB161ZDHSkqgoOD+eWXX9BqtdmeDwjC60Qj6x3Ys2ePsSPkaPHixWzcuJFHjx4xY8YM7t27x4IFC4wdC9AfqObMmUNISAgDBw7k66+/ZsWKFcaOZTBq1CgCAgIA/cGqb9++nD171sip9C5fvkz37t2ZMGECz58/p3Xr1vz222/GjmXg4+ODj48PAMnJyWzbto0tW7YYOZVexYoV2bp1KxcvXuTq1auGP2MaNGgQgwcPpl+/fri5uTFs2DBGjBhB27ZtGT58uFGzvWrnzp1s3LiRr7/+msTERBYtWsQXX3xh7FgGnp6eHDt2jFu3brFlyxYsLS2ZO3eusWMV+X3djBkz8PX15dKlS5w8eZI2bdowf/58Y8cyKOr5iqqFCxfSo0cPACpUqMCECROKzOe2dOlSkpOTuX//PgqFgsDAQObNm2fsWAbHjx9n/PjxeHt7ExMTw4ABAzh69KixYwlFnSQUupEjR0qDBw+WfHx8pC1bthj+ioKePXtKOp1O2rx5s7R582ZJkiSpV69eRk6l17NnTyk5OVnasWOHtHr1asO6ouL69etSp06dpGXLlkktWrSQDh8+bOxIBn369JHCw8Ol7t27S5IkSQ8fPpS6du1q5FQZOnfuLGk0GsNyenq61KVLFyMmyjBo0KAsf4MHDzZ2LEmSJGnq1KnS1atXDcu3bt2SPDw8jJgos+7du0upqamG7S4hIUHq1KmTkVNleLlvW7NmjbRjx45M64ypqO/revfuLUmSJC1dulTauXOnJEki3/+C7Pa5L+uusfXo0UOSpIw8Op1O6ty5szEjZdKjRw8pPj7ekC8sLExyd3c3ciqhqFMau5H3v6h27drGjpAjrVaLTqfj7NmzLFmyhOTkZJKTk40dCwCdToepqSnnz59n6tSp6HS6IpMNoG7duqxfv55Ro0axbt06GjVqZOxIBjqdDgcHB8NyxYoVjZgmK41GQ0pKChYWFgCkp6cbOVGGl0M+ExIS0Ol0WFtbGzlRhsePH1O/fn3Dcs2aNXny5IkRE2Uml8tRq9WGZRMTExQKhRETZabVaomKiuLMmTNs2bKFiIgIUlNTjR2ryO/rdDodd+/e5cyZM+zZswdfX1+0Wq2xYxkUtXw9e/bk8OHDVKlSBZlMZlgvSRIymQxfX1+jZXuVnZ0d3377Ld26dQP0vTP29vZGTqUnk8lIS0szfH7R0dGZPktjk8vlWFpaGpYdHR2Ry8VgMOHNRCPrHZg0aZKxI+SoZ8+eNG/enLp161KrVi3c3d3p37+/sWMB0KRJE7p06YKpqSkNGjRg0KBBtG7d2tixDAdOSZIM64YOHQpQZA6gzs7OnD9/HplMRlxcHN988w0lS5Y0diyDAQMG0KtXL9q0aQPAhQsXGDhwoJFT6QUFBTFt2jSCgoKQJImSJUuyceNGypUrZ+xoODs7s2nTJtzd3ZEkiaNHjxaJXC81bNiQ1atXk5yczJkzZ9i/fz+NGzc2diyDkSNH0q9fP9q0aUPlypXp0KEDU6ZMMXasIruve8nT05M1a9YwfPhwSpcuTb9+/ZgzZ46xYxkUtXyHDx8Giv4kOitXrmTJkiWsWbMGlUpFgwYNWL58ubFjATBkyBCGDx9OREQEy5cv58yZM0yYMMHYsQwqVarEnj170Gg0+Pr6snfvXqpUqWLsWEIRJ5NePXMUCuS/cDVr37599OvXz3AFJioqCjs7OyOnyhASEoKzszNyuRxfX1+qVq1q7Ej/CZGRkSxfvpxLly6h0+lo3LgxCxYswNHR0djRDO7cucPVq1dRKpXUr1+fatWqGTsSAMOHD6d///507NgR0F/d/fbbb4vEpCaxsbFs3ryZP//8E4CmTZvi4eGR6YqqMel0Or777rtM292AAQNQKovW9bvY2FhsbGzQaDRFJpvY1/3viYqK4ocffiAxMRFJktDpdAQHB7NmzRpjR/tPePToEVeuXEGr1dKwYcMi1YhJSkpi+/btXLp0CUmSaNSoERMnTiwy+2KhaBKNrP9nunTpwo8//mjsGNl6/YZ0mUyGqakpFSpUoG/fvpmGJf2b3jY7VFHuuTS28+fP07p1a44cOZLt4y9vwjamHj16ZMnXtWtXjh07ZqREmSUlJREYGEjlypVJSUnB3Nzc2JEySUhIID4+PlNPb1HpRfXz82Pq1KmkpKSwf/9+Bg2orQAiAAAgAElEQVQaxMaNG6levbpRc+U0+cbKlSv/5STZO3z4MKtWrSIuLi7T+qJwoRCgVatWhIeHY21tjSRJxMfHY21tTalSpfD29jZag3XIkCGUKFGCv/76i7Zt2/LLL79Qo0YNVq1aZZQ8L40dO5YdO3bQpk2bbIfgFYUJnMaNG8f8+fMpXbq0Yd3QoUPZuXOnEVNlFhkZybVr1wwXCm1sbIwdSSjiisYlvf8xRflqlrOzM0OGDKFWrVqYmJgY1heFhoJCoSA2NtZw4n38+HESExORy+UsXry4yJyAFEUXL15k48aNxMbGZjrZNfbB886dO7Ru3ZorV65k+3hRaGSp1Wru3btnOPG+e/cuZmZmRk6ld/nyZRYtWoRWq+W7776jc+fOrFu3jubNmxs7GgCffPIJn376Kba2toYhtTKZzOjb3UvLli3j448/ZsaMGTg5OeHl5cXixYv5/vvvjZqrYcOGhn9rNBrOnj1L+fLljZgos48//pjdu3dTuXJlY0fJVoMGDejYsSNt27YF4Ndff+XkyZMMHjyYJUuWGO1nVMLDw9m1axerV6+mffv2jBo1yjC03JiWLVsGFK2fHHndrVu3GDlyJAsXLqRFixaAvge6qDh69Chr1qyhXr16aLVavLy88Pb2plWrVsaOJhRhopH1DkydOjXbq1lFQVGelMPX15eDBw8altu0aUPfvn3ZtGmT4UZdYygKDdC38fb2Zs6cOVSqVKlI3Sw8efJkQN+D2qxZs0yPnTp1yhiRspg3bx4eHh7Y2toiSRKxsbFs2LDB2LEAWL9+PXv37mX06NEUL16cb775hunTpxeZRtb333/PmTNnitSQ41clJydToUIFw3KzZs1YvXq1ERPp9ezZM9Nynz59+PDDD42UJitHR8ci28ACePjwoeEnIUDfs7Vp0yaqVatm1IlNXvZsuLq64ufnR61atSgKg4VeDhtftWpVlp/OKCq9RU5OTmzZsoWJEyfi6+vLmDFjitSxbPv27Rw6dAgnJycAnj59yrhx40QjS3gj0ch6B4rq1SzQNxiK6vCjpKQkIiIiDLPkRUZGGg6YRXHmKNAPaXz5I7vGVKxYsSJ14/xLx48fJy0tjc2bNxsaXKC/er9jxw7at29vxHR6rq6u/Pzzz/j7+6PT6XB1dSUiIsLYsYCiP2tkiRIlivSQGVtbW/z8/Az19ocffiiSeR8/fmz4kfiioHr16kyePJlmzZplGvFQFHqeAaytrdm3bx/dunVDp9Nx7NgxbGxsePz4sVF/1Llx48ZMnjyZ2bNnM2LECO7du1ckjq+TJk3C19eX8PBw3NzcDOs1Gg0lSpQwYrIMMpmM0qVLs3fvXjw9PZkyZUqRaKC+ZGFhkWlf7OLigkqlMmIi4b9ANLLegaJ6NQsyDz/av38/Xbp0KTLDjzw8POjVqxd16tQxTNE7f/58tmzZQtOmTY2W6+XMUb///js//fRTlvsUioJ69eqxcuVKWrRokemkqEGDBkZMBYmJidy4cYPExMRMQwYVCgXTpk0zYjJ49uwZkiQxZswYPvvsM8P08mFhYYwePZqTJ08aNR8U/Vkjy5Urx0cffUSjRo0y3TNZVHp/vby8mD17Ng8f/l979x4Wc9rGAfw7mpdSLDldymkdVl67Tlcx1mtrqxfReVKsRuSqdYhOTuEqW5K2COWQtStkt7IUWcopi1dMtRRRWIdYbBGRYtTM+0fX/DSK3bXL81T3559tfv75Xm0z83t+z3Pf9xUYGxuje/fuiIiIYB2rTsdSfX19+Pn5MU71Unl5OXR1dXHu3DmN67wssiIjIxEaGoqIiAiIxWIMHz4c4eHhSE9Ph7+/P7Nc165dw/z582FoaIhVq1YhKytLGGDP0ooVK/Do0SOEhoZiyZIlwnWxWMxNC/c2bdoAAPT09LBhwwasWrUK6enpjFO99Mknn8DDwwNSqRRaWlo4cOAAOnbsKNTz8vLeIHyhxhfvQFRUFK5fvy48zRo2bBgKCwuRmJjIOhrGjx+P9evXw8PDAykpKbh69Sr8/Pywd+9e1tEA1NSz5eTkoFmzZhg8eDD09fXx6NEj4QOYJalUir59+9a5yeXhhlImk9W5JhKJsG3bNgZp6srMzMTw4cNZx9AQEBCAM2fOoLi4WKMLo1gshpmZGRYtWsQwXQ3eu0a+rikMD++J2ioqKqBUKqkTWCPDy3dD7Z2i2u/NqqoqGBgY4IcffmCY7iWFQoFr167ByMgIqampuHjxIjw8PLg97vvq75Ol1zWrUaOacVIfWmS9AwqFAgkJCWjdurUwUO/58+f48ssvWUeDVCrFrl27NDqq2dracrHIevWGrXZ3QTMzMzahalH/7niUkJCACRMmsI7xWufOnUNsbCwqKiqEZjB37tzB0aNHWUfDpk2b4OnpyTpGg1VaWorc3FxUV1dj0KBBaN++PetIgry8PHz33Xd4+PChxmkC1g8fKisrERMTg8zMTFRXV0MikcDb25v50bJ+/frh0qVLwgMuNd4amly6dAm+vr7cdI0sLy9/404RL2MDvL290aVLF4waNQrz5s2DnZ0d8vLyEBsbyyzT6zof8vY3d+DAAVhYWDDrckwaJj7e+Y2Mj48PSkpK0KtXL64KNwG+jx8VFRXh5s2bGDduHICaxgh6enrIycmBXC7H/PnzmeaztLTEzp07IZFIoKWlJVzn4fcXHx/P9SJr0aJFmDZtGpKTkyGTyXDw4EFu5mRJpVLExcVx2Q302LFjWLduXZ1FAi83HidOnMCiRYswaNAgKJVKBAYGIjQ0lJv6wAULFsDV1RW9e/fm6rM4ODgYOjo6WL58OQAgKSkJQUFBzI8yGhoaCrPEtm/fLtzoqv/Li2XLlnHVNVJPT0845saz27dvY82aNYiIiICTkxM8PT0hlUqZZmoInQ8B4Pjx44iIiICpqSkcHBwwYMAA1pFIA0CLrHfg2rVrXNRz1Cc4OBihoaG4e/cuLC0tIZFIEBwczDoWAOD69evYsWOH8KRowoQJkMlkSExMhK2tLfNFVkVFBZYvX462bdsK13h50sZza36gpk26VCrFb7/9htatW+Prr7+GjY0N61gAAF9fX267gYaGhmLx4sXcLRLUoqKi8P333wuzbW7dugUvLy9uFlna2tqYNGkS6xh15Ofna5weCAwMxNixYxkmqmFiYiL87ddukKBeZPEyJ4vXrpG8q66uRmlpKQ4fPozo6GiUlJQw7cYIvOx8qKuri4sXL+LTTz9FbGws8vPzMXfuXKbZagsLC0NlZSUOHjyI6OhoPHjwAOPGjYO9vT03dW2EP7TIege6deuGO3fucLHD8ap27dph1apVrGPU6/Hjx6iqqhIWWQqFAhUVFQDAReOQjIwMZGZmQltbm3WUOnhuzQ8ALVq0wKNHj/Dhhx8iNzcXw4cPZ9oxsjaeu4G2atWKi6Oyr1NVVaUxPLRr165Mu7up3blzB0DN8be4uDhYWFhwtfusUqnw+PFjtG7dGkDNZ1/tfKyEhYUhLCwMM2bM4HpXpqF0jeTNtGnT4OzsDHNzc3z00UcYPXo0vL29WccCAPj7+wsNrtLS0uDm5obFixdztcOlo6MDQ0NDdO7cGTdv3kRhYSGmTJkCFxcXuLq6so5HOESLrH+QTCaDSCRCaWkpbGxsYGRkpPHFyboOAOD7+NGkSZMglUphZmYGlUqFn3/+Ga6uroiLi+NiZouhoSHKysq4XGR5eXlxXRszZcoU+Pr6Ijo6GuPHj0dqaio+/vhj1rEA1N8NlLWsrCwANS3bly1bBgsLC426DtZdI9UMDAwQFxcHJycnADVzswwNDRmnAlxdXYVjbqdPn9b47OVh93nKlClwcnKCubk5VCoVMjIyuKoL5HmBBbzsGnn16lWha2TtuVmkfjY2NrCxsRGG/P7000/c1IuVlZVh2rRpCAkJgYODA+zt7bm4Z1KLiorCvn370KVLF0ilUixevBgtWrRAeXk5LCwsaJFF6kWNL/5Bcrn8jf8+dOjQ95Tk9f773//We/yIhxsjAFi3bh2++eYb+Pn5QUtLC5MmTcKNGzdgYGDAvODU3d0deXl56NOnj8Z8DB6+CF6tjTl79ixXtTHAyyNHFRUVuHHjBvr168fFEbj6uoEWFBQgKSmJWab6ukWq8dQ18sGDBwgJCcHp06ehUqkgkUiwePFibjqC1dd97vbt2+jSpQujRC9dvnwZWVlZUCqVGDp0KPr27cs6EvfUDzKBms+T2l0jeXpf8KqgoAA+Pj7cNAypzdHREcHBwZg1axbi4+NRXl6OhQsXYs+ePayjAQDWrFkDR0dHjZ17tby8PKrRIvWiRVYT4+joiN27d7OOUa/IyEjcu3cP+fn5SEpKwsyZM9G/f38sXLiQdTQAr19E87B4dnR0xJo1a+rUxvDyBfW69re8tL0tKipCt27dkJ+fj6ysLFhZWaFTp06sY+HKlSvo06ePxrVz585xdzz0yZMnEIvF0NHRYR0FQN0ZaOqvuerqai5moCkUCpw8ebLOzD2atfNmDeFBJs8mTZqE4OBg+Pv7IyUlBf/73/8QFRXFrGFIbZmZmdiwYQMsLCzg5uYGZ2dn+Pn5QSKRsI4GoGaOZ3R0tMY1Nzc3bN26lVEi0hDwsU9M3rmGcPzo5MmTSE5OhoODA1q1aoUtW7bA1taWm0UWz1/gvNbGqNX+3VVVVeHIkSPo2bMnw0QQRhio/fLLLwBq6j0yMzOZ3vDm5ORAqVRiyZIlCA0NFRYJVVVVWLp0KTdDOgsLC7Fw4UKhBqpnz54IDw9Ht27dmOZau3atMAOtduML9Qw01jw8PKBSqeqcIKBF1pvx/BncEPDcMOTevXsaO5FJSUnYsWMH80VW7RlotZvBVFdXo3PnzgyTkYaAFllNxNq1a4Wf7969i8LCQuE1L8csmjVrBgDCcRCFQiFcI2/Ga22MmoODg8ZrJycnTJw4kVGaGmfOnAHwcnSAqakptLS0cPLkSfTu3ZvpDe+pU6cgl8tRXFyMNWvWCNfFYjFcXFyY5XpVUFAQfHx8YGpqCgA4dOgQFi1ahPj4eKa51DukvM5Ae/jwIRezCUnTwmPDkLi4OJSXlyMhIQG//fabcL26uhqpqanMu4OuWLHijTPQAKCkpAQdOnRgFZFwjI4LNjE8Hz/atGkT8vPzcf78eUyePBl79+7FqFGjMH36dNbRuMd7bcyrrl69Ck9PTy6GEctkMqxZs0YYvlpWVibUBbCWkpLC9e6Gg4MDkpOTNa7VHnTO2oMHD5CamsrdDLTly5fDzMwMEomEHiSR96aoqAgLFizA+fPnoa2tje7duyMiIoLpqYJjx47hwoULSEhI0Jj1qKWlBRMTExgbGzPL9mfV9zlICEA7WU1GQzh+5OnpiRMnTsDAwAB3797F7NmzuWrcwLN27dph9erV3NXGqBkZGQnd3gBAX18ffn5+jFPVKC4u1miOoKOjg5KSEoaJXho5ciR8fHyQmZmJ6upqSCQSLF26lHnnSPXxQCMjI2zatAlOTk7Q0tJCamoqVzdFvM5AMzAwgLu7u0YTB57mUJHGqVu3bvjhhx80GoawZmZmBjMzM1hZWWkcZQSAZ8+eMUr119BeBXkd2slqIqKjoyGXy3HhwgWN1tlisRgjR46Eu7s7w3Tk7+K1NqYhCAsLQ0FBAUaNGgWVSoUDBw7AxMQEPj4+rKPBy8sLgwcPhouLC5RKJRITE5GdnY3Y2FimuczNzTUWzbXx0CJdbcyYMUhLS0N4eDjGjBmDbt26wc3NjflRvbFjx2Lz5s3M53WRpiU7Oxtbt24VWrir8VAucPToUURFRaGyslLYda6srMTp06dZR/tDtJNFXod2spqI2bNnA+D/+BF5O7zWxqjFxMS88d+9vLzeU5K6AgICkJ6eDrlcDpFIBHd3d40CZ5Zu3bql8bvz8PBgvkAAIBzzVCqVdY67/f777ywi1YvHGWgA0KFDhzqt5Ql51xYuXAgvLy8uF/dhYWEICQnBli1bMH36dBw+fBiVlZWsYxHyt9Aiq4kZNGgQli1bhoqKCo0ahR07drCORv6G58+fCwssoGYe2rp16xgm0nT37l3k5eXB2toaYrEYBw8ehJ6eHgYPHsw6GgCgffv26N27N6RSKXJzc1nHEYhEIty9e1foYnXnzh1uhocCwLx58xAZGSkce4uPj8f69etx6tQpxslqSCQSzJkzR5iBlp+fz8Uw8TZt2sDa2hpDhgzRmLnHy0gD0jh16tSJ24esrVq1gkQiwS+//IInT55g3rx5GDt2LOtYhPwt/Hxbk/fCz88PZmZmyMnJgYODAw4dOlSnEQZpOBpKbcyvv/6KxMREtGzZEkBNswmZTMZ0B0tt69atOHz4MIqLi2FlZYXAwEA4OTlh2rRprKPB29sbLi4uGDhwIFQqFXJzcxESEsI6lkBfXx++vr7w9PTEV199hZYtW+L7779nHUvg6+uLoqIiGBoaYtWqVcjKysKsWbNYxxLqUAh5n2QyGebOnQuJRKLxsIaHhZe2tjauX7+OXr16QS6XQyKR4MWLF6xj/SlUdUNeh2qymhgbGxukpqZi1apV+Oyzz/Dxxx9DKpXip59+Yh2NvIWGUhszevRopKSkCA05ysvLMXHiRKSmpjJOVnODkZSUBGdnZ6SkpODp06cYP3489u/fzzoaAKC0tBR5eXlQqVQYMGCA0DaYFzExMVi/fj1CQkIglUpZx6kjNTUVV69exfTp05Gens7FDSUAXL58GXK5HFVVVRg2bBj69evHOhJp5Dw8PPD8+fM64z142EHNysrChg0bsHHjRnzxxRe4evUqJk6ciAULFrCOJiguLkbHjh2RnZ2NwsJCSKVSaGtrIzs7m6uHmoQftJPVxOjo6EChUKBHjx7Iz8+nD4YGTl0bk5GRwXUnRicnJzg6OsLMzAwqlQrHjh3jpjV/s2bN0Lx5c+F1ixYtoKWlxTDRS5WVlfj22281ugt6e3sLO4KsBAQEaLxu27YtkpKSkJ2dDYCPmzYAiIyMxL1795Cfnw8PDw/s2rULBQUFzAecp6SkICYmBpaWllAqlfDy8sKMGTOEOXeEvAv379/ntkHDpUuXUFpaiubNm2P16tWYNm0aunfvzjqWICgoCC9evIC7uzv8/f0xYsQInD17FpGRkXQfRV6LdrKamPj4eBw9ehSRkZFwcXFB9+7doVQq8d1337GORv6GcePGcb0b+fz5c2zbtg0KhUIo+L9//z68vb0ZJ6sZNikSiXD06FHMmzcPiYmJ6NGjBxYvXsw6GgICAqCjowNnZ2cAQFJSEp48eYKIiAimuf7oRu3V4dOs2NvbIzk5GQ4ODkhJSUFVVRVsbW2Z71La2dkhLi4Obdu2BVCzWzl58mTs27ePaS7SuAUFBcHMzAyfffYZNw+S1KytrbFz507htENlZSWcnZ25OO0AAI6Ojti1a5fQiGj27NmQSqXYtWsX42SEZ7ST1cS4urrC3t4eenp62L59O86fP48RI0awjkX+pq5duyIgIAADBw7UKOzn5WiUv78/ysrKUFRUBGNjY5w5cwZDhgxhHQsAMH/+fCQlJaFv375ISUmBqampxlBMlvLz8zW6CQYGBnJRDK5eRJWXl2PPnj2YNGkSfv/9dyQkJMDT05NxupfUnQ/VjTkUCgUXw3+VSqWwwAJqatvUGQl5V44cOYLExESNa7zMZ3vx4oVGE5jaP/OguroaSqUSR44cwVdffYXKykrqfkj+EC2ymhiFQoH4+Hhcu3YNgYGBKCws1OhKRxom9Q3bq53xeFlkFRYW4uDBgwgNDYVUKoWPjw8Xc6iAmjqFb7/9lpuFVW0qlQqPHz9G69atAQCPHz/m6gn03Llz0bdvXwCArq4ulEol5s+fj+joaMbJaowZMwY+Pj4oKytDXFwc9u7dC2tra9ax0LdvX4SGhgrHA3/88UcYGRkxTkUau5MnT7KO8FqWlpZwc3ODlZUVRCIR0tPTuRmlAdR8l/7nP//BkCFDMHDgQIwdOxYuLi6sYxHO0XHBJmbJkiXQ19fH0aNHsXPnTgQFBUGpVCIyMpJ1NNKITZgwAQkJCdixYwd0dXVhb28PW1tbLmY+ffHFF1i5cqXQJp0nu3fvxsaNG2Fubg6VSoWMjAx4enpyU7tT3/9DOzs77Nmzh1EiTdXV1Th16hROnToFpVIJiUTCRe3is2fPsHbtWpw5cwYqlQrDhg3DrFmzoKenxzoaacQqKysRExPDXY2nWlpaGrKysiAWi2FiYgJLS0vWkTTUngv48OFDjd1oQupDO1lNTH5+PpKTk3H8+HHo6OggPDwcNjY2rGORt/Tll18iNjZW6DJYm0gkwuHDhxkl09SnTx+EhIRg4sSJmDt3LoqLi7lpe1taWgpzc3O0a9cOLVq0EK7z0JkxIyMD69atg1wuh0qlQnR0NJYvX87NIkskEqGwsFDYzfr111+5muPl5OSE5ORkjBw5knUUDdra2pg/fz7rGKSJCQ4Oho6ODpYvXw6gpsYzKCiIeY2n2pgxYzBmzBjWMeqVkZGB7OxszJw5E05OTigtLcWCBQvg6OjIOhrhGD/fhuS9EIlEUCgUwg35w4cPqRagAVPPTPrmm29w/PhxPH36FIaGhqiursaZM2cYp3tp6dKlOHv2LHr37o3Zs2cjMzMTK1euZB0LALBhwwb8/PPPOH36NLS0tGBqaorhw4czzeTl5YVLly6huLgYFy9eFBakmzdv5mrHTT3kt1OnTgBqPk++/vprxqleat++PbKzszFgwACNDpKs7d69G+Hh4Xj8+DGAmmOhvNTGkMaL1xrPhiAmJgahoaHYv38/BgwYgMDAQMhkMlpkkTeiRVYTsX//fowdOxaTJ0/G1KlTUVJSgtDQUBw6dIiL4Zzk7XTs2BEAEBUVxW1jCQDQ0tIS2txaWFhwddZ+48aNeP78OZydnaFUKrFnzx5cuXKFaXfBFStW4NGjRwgNDcWSJUuE62KxmKs5WZ9++ikyMjJw+fJliMVi9OzZk6vFzPnz5yGTyepcZ72YWb9+PbZv346PPvqIaQ7StPBe48k7IyMjREdHw9bWFrq6ug1mWDJhhxZZTURUVBRGjRqFrVu3IjIyEqdPn4ZSqURsbKxw1Ic0XDw3luBdbm4u0tLShNfm5ubMmyPo6elBT08PGzZsYJrjj9y4cQPx8fGoqKiASqWCUqnE7du3sWPHDtbRAADHjx9HQkIC5HI5xGIxRowYwcXA5I4dO9ICi7x3U6dOxfjx4/H5559r1HiSP9a+fXuEhITgwoULiIiIwIoVK2BgYMA6FuEcLbKaCGNjY3zyySdQqVSwtrbWqIehYyoNX7t27SASifDhhx+isLAQ9vb29JTtT+rSpQtu3rwpDL68f/++cPyNvJmfnx/MzMyQk5MDBwcHHDp0CH369GEdSxASEoKnT5/C0dFR2KW8fPky8xlo/fv3x5w5czBixAiNOkBeuoGSxiUlJQVAzUgDmUwGkUgEpVIJmUzGVQ0lz1auXInDhw9j8uTJaNmyJbp27YrZs2ezjkU4R++uJiIsLAxhYWGYMWMG90/HyV/Hc2MJ3lVVVcHOzg7GxsYQi8XIyclBhw4dMHnyZADAtm3bGCfk14sXLzBnzhxUVVXh3//+N5ydnbnYKVI7d+6cxjBTc3Nz2NnZMUxUo7y8HLq6ujh37pzGdVpkkXdBXZ9bVFSEoqIimJqaolmzZjh58iR69+5Nf3d/QvPmzaGrq4uzZ8/i7Nmz0NbWxubNm+Ht7c06GuEYLbKaGFpgNU48N5bg3cyZMzVeu7u7M0rS8Ojo6EChUKBHjx7Iz88X6u540alTJ9y6dQtdu3YFABQXF6NDhw6MU9U89AKAsrIyfPDBB4zTkMZO/fcmk8mwZ88e6OvrA6j5+6Oa7D/Hz8+P67pnwidaZBHSCPDcWIJ3Q4cOZR2hwbK1tcX06dMRGRkJFxcXnDhxgoujluojUQ8fPoStrS1MTEygpaWFnJwcLo4zFhQUwMfHB8+ePUNiYiJcXV2xevVq9O/fn3U00ogVFxejTZs2wmsdHR2UlJQwTNRwUN0zeRu0yCKEEPJW1B0Zg4KC0LlzZwwfPhwuLi6sY722VmLq1KnvOUn9QkJCsG7dOvj7+6NTp05YunQpgoKC8OOPP7KORhoxMzMzTJ06FaNGjYJKpcKBAwdgZWXFOlaDQHXP5G3QIosQQshbUTeWcHBwEBpL3Lt3j3ljCd53JysrK9GrVy/h9YgRIxAeHs4wEWkKAgICkJ6eDrlcDpFIBHd3dzr18CdR3TN5G7TIIoQQ8lZ4bSzBuzZt2qCgoEAYBL93716qzSLvxejRozF69GjWMRqc2nXPc+bMwalTp6jumfwhWmQRQgh5K7w2luCdr68vgoODceXKFRgbG6N79+6IiIhgHYsQ8oqsrKw6r1u1aoXRo0ejrKyMUSrSUIhUtN9JCCHkL6jdWOL27dt1GkvwMoyYV46OjlAoFBg3bhzs7e3RuXNn1pEIIfWQyWTCzw8ePEC7du1QWVmJ4uJi9OjRg0Z8kDeiRRYhhJC/RC6Xv/Hfea+J4sHNmzexb98+pKWloU2bNrCzs4OTkxPrWISQemzbtg27d+9GSkoKbt++DQ8PD7i5uWHChAmsoxGO0SKLEEIIYaCiogJHjhzBli1bUF5ejoMHD7KORAiph7W1NXbu3AkdHR0ANc1rnJ2dNWpSCXkV1WQRQggh79GhQ4eQmpqK3NxcfP7551iyZAkNNiWEYy9evMC//vUv4XXtnwl5HVpkEUIIIe/R3r17YWdnh5UrV9LNGiENgKWlJdzc3GBlZQWRSIT09HRqf0/+EB0XJIQQQggh5A3S0tKQlZUFsVgMExMTWFpaso5EOEeLLEIIIYQQQgj5BzVjHYAQQgghhBBCGhNaZBFCCCGEEELIP4gWWYQQQgghhBDyD6JFFiGEEEIIIYT8g2iRRQghhANjixsAAAAMSURBVBBCCCH/oP8DwdIY8PMDeyUAAAAASUVORK5CYII=\n",
      "text/plain": [
       "<Figure size 1080x864 with 2 Axes>"
=======
      "image/png": "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\n",
      "text/plain": [
       "<Figure size 1440x1080 with 2 Axes>"
>>>>>>> 35938a6a6b446af0f21d96ce596375ac18ed081a
      ]
     },
     "metadata": {},
     "output_type": "display_data"
    }
   ],
   "source": [
<<<<<<< HEAD
    "plt.subplots(figsize=(15,12))\n",
=======
    "plt.subplots(figsize=(20,15))\n",
>>>>>>> 35938a6a6b446af0f21d96ce596375ac18ed081a
    "ax = plt.axes()\n",
    "ax.set_title(\"Correlation Heatmap\")\n",
    "corr = datazoo.corr()\n",
    "sns.heatmap(corr, annot=True,\n",
    "            xticklabels=corr.columns.values,\n",
    "            yticklabels=corr.columns.values)\n",
    "\n",
    "# mostriamo le correlazioni con una Correlation Heatmap"
   ]
  },
  {
   "cell_type": "code",
<<<<<<< HEAD
   "execution_count": 30,
=======
   "execution_count": 27,
>>>>>>> 35938a6a6b446af0f21d96ce596375ac18ed081a
   "metadata": {},
   "outputs": [
    {
     "data": {
      "text/html": [
       "<div>\n",
       "<style scoped>\n",
       "    .dataframe tbody tr th:only-of-type {\n",
       "        vertical-align: middle;\n",
       "    }\n",
       "\n",
       "    .dataframe tbody tr th {\n",
       "        vertical-align: top;\n",
       "    }\n",
       "\n",
       "    .dataframe thead th {\n",
       "        text-align: right;\n",
       "    }\n",
       "</style>\n",
       "<table border=\"1\" class=\"dataframe\">\n",
       "  <thead>\n",
       "    <tr style=\"text-align: right;\">\n",
       "      <th></th>\n",
       "      <th>hair</th>\n",
       "      <th>eggs</th>\n",
       "      <th>milk</th>\n",
       "      <th>backbone</th>\n",
       "      <th>class_type</th>\n",
       "    </tr>\n",
       "  </thead>\n",
       "  <tbody>\n",
       "    <tr>\n",
       "      <th>hair</th>\n",
       "      <td>NaN</td>\n",
       "      <td>-0.817382</td>\n",
       "      <td>0.878503</td>\n",
       "      <td>NaN</td>\n",
       "      <td>NaN</td>\n",
       "    </tr>\n",
       "    <tr>\n",
       "      <th>eggs</th>\n",
       "      <td>-0.817382</td>\n",
       "      <td>NaN</td>\n",
       "      <td>-0.938848</td>\n",
       "      <td>NaN</td>\n",
       "      <td>NaN</td>\n",
       "    </tr>\n",
       "    <tr>\n",
       "      <th>milk</th>\n",
       "      <td>0.878503</td>\n",
       "      <td>-0.938848</td>\n",
       "      <td>NaN</td>\n",
       "      <td>NaN</td>\n",
       "      <td>NaN</td>\n",
       "    </tr>\n",
       "    <tr>\n",
       "      <th>backbone</th>\n",
       "      <td>NaN</td>\n",
       "      <td>NaN</td>\n",
       "      <td>NaN</td>\n",
       "      <td>NaN</td>\n",
       "      <td>-0.828845</td>\n",
       "    </tr>\n",
       "    <tr>\n",
       "      <th>class_type</th>\n",
       "      <td>NaN</td>\n",
       "      <td>NaN</td>\n",
       "      <td>NaN</td>\n",
       "      <td>-0.828845</td>\n",
       "      <td>NaN</td>\n",
       "    </tr>\n",
       "  </tbody>\n",
       "</table>\n",
       "</div>"
      ],
      "text/plain": [
       "                hair      eggs      milk  backbone  class_type\n",
       "hair             NaN -0.817382  0.878503       NaN         NaN\n",
       "eggs       -0.817382       NaN -0.938848       NaN         NaN\n",
       "milk        0.878503 -0.938848       NaN       NaN         NaN\n",
       "backbone         NaN       NaN       NaN       NaN   -0.828845\n",
       "class_type       NaN       NaN       NaN -0.828845         NaN"
      ]
     },
<<<<<<< HEAD
     "execution_count": 30,
=======
     "execution_count": 27,
>>>>>>> 35938a6a6b446af0f21d96ce596375ac18ed081a
     "metadata": {},
     "output_type": "execute_result"
    }
   ],
   "source": [
    "corr[corr != 1][abs(corr)> 0.75].dropna(how='all', axis=1).dropna(how='all', axis=0)\n",
    "# evidenziamo le correlazioni significative con valore superiore al 75%, sia positive che negative"
   ]
  },
  {
   "cell_type": "code",
<<<<<<< HEAD
   "execution_count": 31,
=======
   "execution_count": 28,
>>>>>>> 35938a6a6b446af0f21d96ce596375ac18ed081a
   "metadata": {},
   "outputs": [
    {
     "data": {
      "text/html": [
       "<div>\n",
       "<style scoped>\n",
       "    .dataframe tbody tr th:only-of-type {\n",
       "        vertical-align: middle;\n",
       "    }\n",
       "\n",
       "    .dataframe tbody tr th {\n",
       "        vertical-align: top;\n",
       "    }\n",
       "\n",
       "    .dataframe thead th {\n",
       "        text-align: right;\n",
       "    }\n",
       "</style>\n",
       "<table border=\"1\" class=\"dataframe\">\n",
       "  <thead>\n",
       "    <tr style=\"text-align: right;\">\n",
       "      <th></th>\n",
       "      <th>hair</th>\n",
       "      <th>feathers</th>\n",
       "      <th>eggs</th>\n",
       "      <th>milk</th>\n",
       "      <th>airborne</th>\n",
       "      <th>aquatic</th>\n",
       "      <th>predator</th>\n",
       "      <th>toothed</th>\n",
       "      <th>backbone</th>\n",
       "      <th>breathes</th>\n",
       "      <th>venomous</th>\n",
       "      <th>fins</th>\n",
       "      <th>legs</th>\n",
       "      <th>tail</th>\n",
       "      <th>domestic</th>\n",
       "      <th>catsize</th>\n",
       "      <th>class_type</th>\n",
       "      <th>Class_Number</th>\n",
       "      <th>Number_Of_Animal_Species_In_Class</th>\n",
       "    </tr>\n",
       "    <tr>\n",
       "      <th>Class_Type</th>\n",
       "      <th></th>\n",
       "      <th></th>\n",
       "      <th></th>\n",
       "      <th></th>\n",
       "      <th></th>\n",
       "      <th></th>\n",
       "      <th></th>\n",
       "      <th></th>\n",
       "      <th></th>\n",
       "      <th></th>\n",
       "      <th></th>\n",
       "      <th></th>\n",
       "      <th></th>\n",
       "      <th></th>\n",
       "      <th></th>\n",
       "      <th></th>\n",
       "      <th></th>\n",
       "      <th></th>\n",
       "      <th></th>\n",
       "    </tr>\n",
       "  </thead>\n",
       "  <tbody>\n",
       "    <tr>\n",
       "      <th>Amphibian</th>\n",
       "      <td>0.00000</td>\n",
       "      <td>0.0</td>\n",
       "      <td>1.00000</td>\n",
       "      <td>0.0</td>\n",
       "      <td>0.00000</td>\n",
       "      <td>1.000000</td>\n",
       "      <td>0.750000</td>\n",
       "      <td>1.00000</td>\n",
       "      <td>1.0</td>\n",
       "      <td>1.0</td>\n",
       "      <td>0.250000</td>\n",
       "      <td>0.000000</td>\n",
       "      <td>4.000000</td>\n",
       "      <td>0.250000</td>\n",
       "      <td>0.000000</td>\n",
       "      <td>0.000000</td>\n",
       "      <td>5.0</td>\n",
       "      <td>5.0</td>\n",
       "      <td>4.0</td>\n",
       "    </tr>\n",
       "    <tr>\n",
       "      <th>Bird</th>\n",
       "      <td>0.00000</td>\n",
       "      <td>1.0</td>\n",
       "      <td>1.00000</td>\n",
       "      <td>0.0</td>\n",
       "      <td>0.80000</td>\n",
       "      <td>0.300000</td>\n",
       "      <td>0.450000</td>\n",
       "      <td>0.00000</td>\n",
       "      <td>1.0</td>\n",
       "      <td>1.0</td>\n",
       "      <td>0.000000</td>\n",
       "      <td>0.000000</td>\n",
       "      <td>2.000000</td>\n",
       "      <td>1.000000</td>\n",
       "      <td>0.150000</td>\n",
       "      <td>0.300000</td>\n",
       "      <td>2.0</td>\n",
       "      <td>2.0</td>\n",
       "      <td>20.0</td>\n",
       "    </tr>\n",
       "    <tr>\n",
       "      <th>Bug</th>\n",
       "      <td>0.50000</td>\n",
       "      <td>0.0</td>\n",
       "      <td>1.00000</td>\n",
       "      <td>0.0</td>\n",
       "      <td>0.75000</td>\n",
       "      <td>0.000000</td>\n",
       "      <td>0.125000</td>\n",
       "      <td>0.00000</td>\n",
       "      <td>0.0</td>\n",
       "      <td>1.0</td>\n",
       "      <td>0.250000</td>\n",
       "      <td>0.000000</td>\n",
       "      <td>6.000000</td>\n",
       "      <td>0.000000</td>\n",
       "      <td>0.125000</td>\n",
       "      <td>0.000000</td>\n",
       "      <td>6.0</td>\n",
       "      <td>6.0</td>\n",
       "      <td>8.0</td>\n",
       "    </tr>\n",
       "    <tr>\n",
       "      <th>Fish</th>\n",
       "      <td>0.00000</td>\n",
       "      <td>0.0</td>\n",
       "      <td>1.00000</td>\n",
       "      <td>0.0</td>\n",
       "      <td>0.00000</td>\n",
       "      <td>1.000000</td>\n",
       "      <td>0.692308</td>\n",
       "      <td>1.00000</td>\n",
       "      <td>1.0</td>\n",
       "      <td>0.0</td>\n",
       "      <td>0.076923</td>\n",
       "      <td>1.000000</td>\n",
       "      <td>0.000000</td>\n",
       "      <td>1.000000</td>\n",
       "      <td>0.076923</td>\n",
       "      <td>0.307692</td>\n",
       "      <td>4.0</td>\n",
       "      <td>4.0</td>\n",
       "      <td>13.0</td>\n",
       "    </tr>\n",
       "    <tr>\n",
       "      <th>Invertebrate</th>\n",
       "      <td>0.00000</td>\n",
       "      <td>0.0</td>\n",
       "      <td>0.90000</td>\n",
       "      <td>0.0</td>\n",
       "      <td>0.00000</td>\n",
       "      <td>0.600000</td>\n",
       "      <td>0.800000</td>\n",
       "      <td>0.00000</td>\n",
       "      <td>0.0</td>\n",
       "      <td>0.3</td>\n",
       "      <td>0.200000</td>\n",
       "      <td>0.000000</td>\n",
       "      <td>3.700000</td>\n",
       "      <td>0.100000</td>\n",
       "      <td>0.000000</td>\n",
       "      <td>0.100000</td>\n",
       "      <td>7.0</td>\n",
       "      <td>7.0</td>\n",
       "      <td>10.0</td>\n",
       "    </tr>\n",
       "    <tr>\n",
       "      <th>Mammal</th>\n",
       "      <td>0.95122</td>\n",
       "      <td>0.0</td>\n",
       "      <td>0.02439</td>\n",
       "      <td>1.0</td>\n",
       "      <td>0.04878</td>\n",
       "      <td>0.146341</td>\n",
       "      <td>0.536585</td>\n",
       "      <td>0.97561</td>\n",
       "      <td>1.0</td>\n",
       "      <td>1.0</td>\n",
       "      <td>0.000000</td>\n",
       "      <td>0.097561</td>\n",
       "      <td>3.365854</td>\n",
       "      <td>0.853659</td>\n",
       "      <td>0.195122</td>\n",
       "      <td>0.780488</td>\n",
       "      <td>1.0</td>\n",
       "      <td>1.0</td>\n",
       "      <td>41.0</td>\n",
       "    </tr>\n",
       "    <tr>\n",
       "      <th>Reptile</th>\n",
       "      <td>0.00000</td>\n",
       "      <td>0.0</td>\n",
       "      <td>0.80000</td>\n",
       "      <td>0.0</td>\n",
       "      <td>0.00000</td>\n",
       "      <td>0.200000</td>\n",
       "      <td>0.800000</td>\n",
       "      <td>0.80000</td>\n",
       "      <td>1.0</td>\n",
       "      <td>0.8</td>\n",
       "      <td>0.400000</td>\n",
       "      <td>0.000000</td>\n",
       "      <td>1.600000</td>\n",
       "      <td>1.000000</td>\n",
       "      <td>0.000000</td>\n",
       "      <td>0.200000</td>\n",
       "      <td>3.0</td>\n",
       "      <td>3.0</td>\n",
       "      <td>5.0</td>\n",
       "    </tr>\n",
       "  </tbody>\n",
       "</table>\n",
       "</div>"
      ],
      "text/plain": [
       "                 hair  feathers     eggs  milk  airborne   aquatic  predator  \\\n",
       "Class_Type                                                                     \n",
       "Amphibian     0.00000       0.0  1.00000   0.0   0.00000  1.000000  0.750000   \n",
       "Bird          0.00000       1.0  1.00000   0.0   0.80000  0.300000  0.450000   \n",
       "Bug           0.50000       0.0  1.00000   0.0   0.75000  0.000000  0.125000   \n",
       "Fish          0.00000       0.0  1.00000   0.0   0.00000  1.000000  0.692308   \n",
       "Invertebrate  0.00000       0.0  0.90000   0.0   0.00000  0.600000  0.800000   \n",
       "Mammal        0.95122       0.0  0.02439   1.0   0.04878  0.146341  0.536585   \n",
       "Reptile       0.00000       0.0  0.80000   0.0   0.00000  0.200000  0.800000   \n",
       "\n",
       "              toothed  backbone  breathes  venomous      fins      legs  \\\n",
       "Class_Type                                                                \n",
       "Amphibian     1.00000       1.0       1.0  0.250000  0.000000  4.000000   \n",
       "Bird          0.00000       1.0       1.0  0.000000  0.000000  2.000000   \n",
       "Bug           0.00000       0.0       1.0  0.250000  0.000000  6.000000   \n",
       "Fish          1.00000       1.0       0.0  0.076923  1.000000  0.000000   \n",
       "Invertebrate  0.00000       0.0       0.3  0.200000  0.000000  3.700000   \n",
       "Mammal        0.97561       1.0       1.0  0.000000  0.097561  3.365854   \n",
       "Reptile       0.80000       1.0       0.8  0.400000  0.000000  1.600000   \n",
       "\n",
       "                  tail  domestic   catsize  class_type  Class_Number  \\\n",
       "Class_Type                                                             \n",
       "Amphibian     0.250000  0.000000  0.000000         5.0           5.0   \n",
       "Bird          1.000000  0.150000  0.300000         2.0           2.0   \n",
       "Bug           0.000000  0.125000  0.000000         6.0           6.0   \n",
       "Fish          1.000000  0.076923  0.307692         4.0           4.0   \n",
       "Invertebrate  0.100000  0.000000  0.100000         7.0           7.0   \n",
       "Mammal        0.853659  0.195122  0.780488         1.0           1.0   \n",
       "Reptile       1.000000  0.000000  0.200000         3.0           3.0   \n",
       "\n",
       "              Number_Of_Animal_Species_In_Class  \n",
       "Class_Type                                       \n",
       "Amphibian                                   4.0  \n",
       "Bird                                       20.0  \n",
       "Bug                                         8.0  \n",
       "Fish                                       13.0  \n",
       "Invertebrate                               10.0  \n",
       "Mammal                                     41.0  \n",
       "Reptile                                     5.0  "
      ]
     },
<<<<<<< HEAD
     "execution_count": 31,
=======
     "execution_count": 28,
>>>>>>> 35938a6a6b446af0f21d96ce596375ac18ed081a
     "metadata": {},
     "output_type": "execute_result"
    }
   ],
   "source": [
    "df.groupby('Class_Type').mean()\n",
    "# usiamo grupby. Qui vediamo che ovviamente in corrispondenza di \"milk\" (allattamento) abbiamo i mammiferi \n",
    "# e di \"feathers\" gli uccelli\n",
    "# Da questo schema, tuttavia, vediamo che ci sono dei mammiferi, seppure in misura irrisoria (0,02439), che depongono le uova \n",
    "# (e così si dà risposta al quesito posto nel titolo)"
   ]
  },
  {
   "cell_type": "markdown",
   "metadata": {},
   "source": []
  },
  {
   "cell_type": "markdown",
   "metadata": {},
   "source": [
    "# Preprocessing "
   ]
  },
  {
   "cell_type": "code",
<<<<<<< HEAD
   "execution_count": 32,
=======
   "execution_count": 29,
>>>>>>> 35938a6a6b446af0f21d96ce596375ac18ed081a
   "metadata": {},
   "outputs": [],
   "source": [
    "from sklearn.preprocessing import MinMaxScaler\n",
    "from sklearn.preprocessing import LabelEncoder\n",
    "from sklearn.model_selection import train_test_split\n",
    "# dalla libreria sklearn importiamo strumenti per scalare i dati e codificare le etichette\n",
    "# importo la funzione train_test_split che permette la divisione del set di dati per due scopi: training e testing\n",
    "# al fine di valutare le prestazioni del modello."
   ]
  },
  {
   "cell_type": "code",
<<<<<<< HEAD
   "execution_count": null,
=======
   "execution_count": 30,
>>>>>>> 35938a6a6b446af0f21d96ce596375ac18ed081a
   "metadata": {},
   "outputs": [],
   "source": [
    "X = datazoo.drop('class_type', axis=1)\n",
    "X = datazoo.drop ('animal_name', axis = 1)\n",
    "y = datazoo ['class_type']\n",
    "# con il comando drop eliminiamo class_type.\n",
    "# si elimina anche animal_name dal dataset e identifichiamo il dataset con X \n",
    "# (che è il set datazoo meno colonna class_type). "
   ]
  },
  {
   "cell_type": "code",
<<<<<<< HEAD
   "execution_count": null,
   "metadata": {},
   "outputs": [],
   "source": [
    "X\n",
    "# sotto verifichiamo:"
   ]
  },
  {
   "cell_type": "code",
   "execution_count": null,
   "metadata": {},
   "outputs": [],
   "source": [
    "scaler = MinMaxScaler()\n",
    "X = pd.DataFrame(scaler.fit_transform(X), columns=X.columns)\n",
    "# Applichiamo lo scaler con lo scopo precipuo di scalare i values anomali di legs"
   ]
  },
  {
   "cell_type": "code",
   "execution_count": null,
   "metadata": {},
   "outputs": [],
   "source": [
    "X \n",
    "# Verifichiamo quanto sopra e riscontriamo che anche legs ha values compresi tra 0 e 1"
   ]
  },
  {
   "cell_type": "code",
   "execution_count": null,
   "metadata": {},
   "outputs": [],
   "source": [
    "X.shape\n",
    "# eseguiamo la shape della matrice ove sono collocati i dati"
   ]
  },
  {
   "cell_type": "code",
   "execution_count": null,
   "metadata": {},
   "outputs": [],
   "source": [
    "y.shape\n",
    "# eseguiamo la shape del vettore ove sono collocate le classi"
   ]
  },
  {
   "cell_type": "code",
   "execution_count": null,
   "metadata": {},
   "outputs": [],
   "source": [
    "y [90:]\n",
    "# visualizziamo i punti dell'array (con uno splitting solo gli ultimi dieci punti)"
   ]
  },
  {
   "cell_type": "code",
   "execution_count": null,
   "metadata": {},
   "outputs": [],
   "source": [
    "from sklearn.datasets import make_blobs\n",
    "# visualizzazione degli oggetti del data set come punti in uno spazio bidimensionale \n",
    "# usando make_blobs e con standard deviation 2"
   ]
  },
  {
   "cell_type": "code",
   "execution_count": null,
   "metadata": {},
   "outputs": [],
   "source": [
    "X, y = make_blobs (n_samples = 101, centers = 7, n_features = 2, cluster_std = 1.1)"
   ]
  },
  {
   "cell_type": "code",
   "execution_count": null,
   "metadata": {},
   "outputs": [],
   "source": [
    "fig, ax = plt.subplots(figsize=(6,6), ncols=1)\n",
    "ax.scatter(X[:,0], X[:,1], s=101, alpha = .5, c=y)\n",
    "plt.tight_layout ()\n",
    "plt.show ()"
   ]
  },
  {
   "cell_type": "markdown",
   "metadata": {},
   "source": [
    "# Training & Accuracy Results"
   ]
  },
  {
   "cell_type": "code",
   "execution_count": null,
   "metadata": {},
   "outputs": [],
   "source": [
    "X_train, X_test, y_train, y_test = train_test_split(X, y, train_size=0.7)\n",
    "# applichiamo la funzione train_test_split già importata e passiamo alla fase di training"
   ]
  },
  {
   "cell_type": "code",
   "execution_count": null,
   "metadata": {},
   "outputs": [],
   "source": [
    "from sklearn.linear_model import LogisticRegression\n",
    "log_model = LogisticRegression()\n",
    "log_model.fit(X_train, y_train)\n",
    "# usiamo da sklearn la funzione di Logistic Regression per testare il modello"
   ]
  },
  {
   "cell_type": "code",
   "execution_count": null,
   "metadata": {},
   "outputs": [],
   "source": [
    "from sklearn.neural_network import MLPClassifier\n",
    "nn_model = MLPClassifier(hidden_layer_sizes=(64, 64))\n",
    "nn_model.fit(X_train, y_train)\n",
    "# da sklearn importiamo anche la funzione di neural network per testare il modello"
   ]
  },
  {
   "cell_type": "code",
   "execution_count": null,
   "metadata": {},
   "outputs": [],
   "source": [
    "print (y_train)"
   ]
  },
  {
   "cell_type": "code",
   "execution_count": null,
   "metadata": {},
   "outputs": [],
   "source": [
    "print (y_test)"
   ]
  },
  {
   "cell_type": "code",
   "execution_count": null,
   "metadata": {},
   "outputs": [],
   "source": [
    "print (X_train)"
   ]
  },
  {
   "cell_type": "code",
   "execution_count": null,
   "metadata": {},
   "outputs": [],
   "source": [
    "print (X_test)"
   ]
  },
  {
   "cell_type": "code",
   "execution_count": null,
   "metadata": {},
   "outputs": [],
   "source": [
    "log_acc = log_model.score(X_test, y_test)\n",
    "nn_acc = nn_model.score(X_test, y_test)\n",
    "print(\"Accuracy Results\\nProximity of measurement results to the true value\\n\" + \"-\"*50)\n",
    "print(\"Logistic Model:\", log_acc)\n",
    "print(\"Neural Network Model:\", nn_acc)\n",
    "# Verifichiamo l'accuratezza del risultato misurando l'approssimazione ai valori reali"
=======
   "execution_count": 31,
   "metadata": {},
   "outputs": [
    {
     "data": {
      "text/html": [
       "<div>\n",
       "<style scoped>\n",
       "    .dataframe tbody tr th:only-of-type {\n",
       "        vertical-align: middle;\n",
       "    }\n",
       "\n",
       "    .dataframe tbody tr th {\n",
       "        vertical-align: top;\n",
       "    }\n",
       "\n",
       "    .dataframe thead th {\n",
       "        text-align: right;\n",
       "    }\n",
       "</style>\n",
       "<table border=\"1\" class=\"dataframe\">\n",
       "  <thead>\n",
       "    <tr style=\"text-align: right;\">\n",
       "      <th></th>\n",
       "      <th>hair</th>\n",
       "      <th>feathers</th>\n",
       "      <th>eggs</th>\n",
       "      <th>milk</th>\n",
       "      <th>airborne</th>\n",
       "      <th>aquatic</th>\n",
       "      <th>predator</th>\n",
       "      <th>toothed</th>\n",
       "      <th>backbone</th>\n",
       "      <th>breathes</th>\n",
       "      <th>venomous</th>\n",
       "      <th>fins</th>\n",
       "      <th>legs</th>\n",
       "      <th>tail</th>\n",
       "      <th>domestic</th>\n",
       "      <th>catsize</th>\n",
       "      <th>class_type</th>\n",
       "    </tr>\n",
       "  </thead>\n",
       "  <tbody>\n",
       "    <tr>\n",
       "      <th>0</th>\n",
       "      <td>1</td>\n",
       "      <td>0</td>\n",
       "      <td>0</td>\n",
       "      <td>1</td>\n",
       "      <td>0</td>\n",
       "      <td>0</td>\n",
       "      <td>1</td>\n",
       "      <td>1</td>\n",
       "      <td>1</td>\n",
       "      <td>1</td>\n",
       "      <td>0</td>\n",
       "      <td>0</td>\n",
       "      <td>4</td>\n",
       "      <td>0</td>\n",
       "      <td>0</td>\n",
       "      <td>1</td>\n",
       "      <td>1</td>\n",
       "    </tr>\n",
       "    <tr>\n",
       "      <th>1</th>\n",
       "      <td>1</td>\n",
       "      <td>0</td>\n",
       "      <td>0</td>\n",
       "      <td>1</td>\n",
       "      <td>0</td>\n",
       "      <td>0</td>\n",
       "      <td>0</td>\n",
       "      <td>1</td>\n",
       "      <td>1</td>\n",
       "      <td>1</td>\n",
       "      <td>0</td>\n",
       "      <td>0</td>\n",
       "      <td>4</td>\n",
       "      <td>1</td>\n",
       "      <td>0</td>\n",
       "      <td>1</td>\n",
       "      <td>1</td>\n",
       "    </tr>\n",
       "    <tr>\n",
       "      <th>2</th>\n",
       "      <td>0</td>\n",
       "      <td>0</td>\n",
       "      <td>1</td>\n",
       "      <td>0</td>\n",
       "      <td>0</td>\n",
       "      <td>1</td>\n",
       "      <td>1</td>\n",
       "      <td>1</td>\n",
       "      <td>1</td>\n",
       "      <td>0</td>\n",
       "      <td>0</td>\n",
       "      <td>1</td>\n",
       "      <td>0</td>\n",
       "      <td>1</td>\n",
       "      <td>0</td>\n",
       "      <td>0</td>\n",
       "      <td>4</td>\n",
       "    </tr>\n",
       "    <tr>\n",
       "      <th>3</th>\n",
       "      <td>1</td>\n",
       "      <td>0</td>\n",
       "      <td>0</td>\n",
       "      <td>1</td>\n",
       "      <td>0</td>\n",
       "      <td>0</td>\n",
       "      <td>1</td>\n",
       "      <td>1</td>\n",
       "      <td>1</td>\n",
       "      <td>1</td>\n",
       "      <td>0</td>\n",
       "      <td>0</td>\n",
       "      <td>4</td>\n",
       "      <td>0</td>\n",
       "      <td>0</td>\n",
       "      <td>1</td>\n",
       "      <td>1</td>\n",
       "    </tr>\n",
       "    <tr>\n",
       "      <th>4</th>\n",
       "      <td>1</td>\n",
       "      <td>0</td>\n",
       "      <td>0</td>\n",
       "      <td>1</td>\n",
       "      <td>0</td>\n",
       "      <td>0</td>\n",
       "      <td>1</td>\n",
       "      <td>1</td>\n",
       "      <td>1</td>\n",
       "      <td>1</td>\n",
       "      <td>0</td>\n",
       "      <td>0</td>\n",
       "      <td>4</td>\n",
       "      <td>1</td>\n",
       "      <td>0</td>\n",
       "      <td>1</td>\n",
       "      <td>1</td>\n",
       "    </tr>\n",
       "    <tr>\n",
       "      <th>...</th>\n",
       "      <td>...</td>\n",
       "      <td>...</td>\n",
       "      <td>...</td>\n",
       "      <td>...</td>\n",
       "      <td>...</td>\n",
       "      <td>...</td>\n",
       "      <td>...</td>\n",
       "      <td>...</td>\n",
       "      <td>...</td>\n",
       "      <td>...</td>\n",
       "      <td>...</td>\n",
       "      <td>...</td>\n",
       "      <td>...</td>\n",
       "      <td>...</td>\n",
       "      <td>...</td>\n",
       "      <td>...</td>\n",
       "      <td>...</td>\n",
       "    </tr>\n",
       "    <tr>\n",
       "      <th>96</th>\n",
       "      <td>1</td>\n",
       "      <td>0</td>\n",
       "      <td>0</td>\n",
       "      <td>1</td>\n",
       "      <td>0</td>\n",
       "      <td>0</td>\n",
       "      <td>0</td>\n",
       "      <td>1</td>\n",
       "      <td>1</td>\n",
       "      <td>1</td>\n",
       "      <td>0</td>\n",
       "      <td>0</td>\n",
       "      <td>2</td>\n",
       "      <td>1</td>\n",
       "      <td>0</td>\n",
       "      <td>1</td>\n",
       "      <td>1</td>\n",
       "    </tr>\n",
       "    <tr>\n",
       "      <th>97</th>\n",
       "      <td>1</td>\n",
       "      <td>0</td>\n",
       "      <td>1</td>\n",
       "      <td>0</td>\n",
       "      <td>1</td>\n",
       "      <td>0</td>\n",
       "      <td>0</td>\n",
       "      <td>0</td>\n",
       "      <td>0</td>\n",
       "      <td>1</td>\n",
       "      <td>1</td>\n",
       "      <td>0</td>\n",
       "      <td>6</td>\n",
       "      <td>0</td>\n",
       "      <td>0</td>\n",
       "      <td>0</td>\n",
       "      <td>6</td>\n",
       "    </tr>\n",
       "    <tr>\n",
       "      <th>98</th>\n",
       "      <td>1</td>\n",
       "      <td>0</td>\n",
       "      <td>0</td>\n",
       "      <td>1</td>\n",
       "      <td>0</td>\n",
       "      <td>0</td>\n",
       "      <td>1</td>\n",
       "      <td>1</td>\n",
       "      <td>1</td>\n",
       "      <td>1</td>\n",
       "      <td>0</td>\n",
       "      <td>0</td>\n",
       "      <td>4</td>\n",
       "      <td>1</td>\n",
       "      <td>0</td>\n",
       "      <td>1</td>\n",
       "      <td>1</td>\n",
       "    </tr>\n",
       "    <tr>\n",
       "      <th>99</th>\n",
       "      <td>0</td>\n",
       "      <td>0</td>\n",
       "      <td>1</td>\n",
       "      <td>0</td>\n",
       "      <td>0</td>\n",
       "      <td>0</td>\n",
       "      <td>0</td>\n",
       "      <td>0</td>\n",
       "      <td>0</td>\n",
       "      <td>1</td>\n",
       "      <td>0</td>\n",
       "      <td>0</td>\n",
       "      <td>0</td>\n",
       "      <td>0</td>\n",
       "      <td>0</td>\n",
       "      <td>0</td>\n",
       "      <td>7</td>\n",
       "    </tr>\n",
       "    <tr>\n",
       "      <th>100</th>\n",
       "      <td>0</td>\n",
       "      <td>1</td>\n",
       "      <td>1</td>\n",
       "      <td>0</td>\n",
       "      <td>1</td>\n",
       "      <td>0</td>\n",
       "      <td>0</td>\n",
       "      <td>0</td>\n",
       "      <td>1</td>\n",
       "      <td>1</td>\n",
       "      <td>0</td>\n",
       "      <td>0</td>\n",
       "      <td>2</td>\n",
       "      <td>1</td>\n",
       "      <td>0</td>\n",
       "      <td>0</td>\n",
       "      <td>2</td>\n",
       "    </tr>\n",
       "  </tbody>\n",
       "</table>\n",
       "<p>101 rows × 17 columns</p>\n",
       "</div>"
      ],
      "text/plain": [
       "     hair  feathers  eggs  milk  airborne  aquatic  predator  toothed  \\\n",
       "0       1         0     0     1         0        0         1        1   \n",
       "1       1         0     0     1         0        0         0        1   \n",
       "2       0         0     1     0         0        1         1        1   \n",
       "3       1         0     0     1         0        0         1        1   \n",
       "4       1         0     0     1         0        0         1        1   \n",
       "..    ...       ...   ...   ...       ...      ...       ...      ...   \n",
       "96      1         0     0     1         0        0         0        1   \n",
       "97      1         0     1     0         1        0         0        0   \n",
       "98      1         0     0     1         0        0         1        1   \n",
       "99      0         0     1     0         0        0         0        0   \n",
       "100     0         1     1     0         1        0         0        0   \n",
       "\n",
       "     backbone  breathes  venomous  fins  legs  tail  domestic  catsize  \\\n",
       "0           1         1         0     0     4     0         0        1   \n",
       "1           1         1         0     0     4     1         0        1   \n",
       "2           1         0         0     1     0     1         0        0   \n",
       "3           1         1         0     0     4     0         0        1   \n",
       "4           1         1         0     0     4     1         0        1   \n",
       "..        ...       ...       ...   ...   ...   ...       ...      ...   \n",
       "96          1         1         0     0     2     1         0        1   \n",
       "97          0         1         1     0     6     0         0        0   \n",
       "98          1         1         0     0     4     1         0        1   \n",
       "99          0         1         0     0     0     0         0        0   \n",
       "100         1         1         0     0     2     1         0        0   \n",
       "\n",
       "     class_type  \n",
       "0             1  \n",
       "1             1  \n",
       "2             4  \n",
       "3             1  \n",
       "4             1  \n",
       "..          ...  \n",
       "96            1  \n",
       "97            6  \n",
       "98            1  \n",
       "99            7  \n",
       "100           2  \n",
       "\n",
       "[101 rows x 17 columns]"
      ]
     },
     "execution_count": 31,
     "metadata": {},
     "output_type": "execute_result"
    }
   ],
   "source": [
    "X\n",
    "# sotto verifichiamo:"
   ]
  },
  {
   "cell_type": "code",
   "execution_count": 32,
   "metadata": {},
   "outputs": [],
   "source": [
    "scaler = MinMaxScaler()\n",
    "X = pd.DataFrame(scaler.fit_transform(X), columns=X.columns)\n",
    "# Applichiamo lo scaler con lo scopo precipuo di scalare i values anomali di legs"
   ]
  },
  {
   "cell_type": "code",
   "execution_count": 33,
   "metadata": {},
   "outputs": [
    {
     "data": {
      "text/html": [
       "<div>\n",
       "<style scoped>\n",
       "    .dataframe tbody tr th:only-of-type {\n",
       "        vertical-align: middle;\n",
       "    }\n",
       "\n",
       "    .dataframe tbody tr th {\n",
       "        vertical-align: top;\n",
       "    }\n",
       "\n",
       "    .dataframe thead th {\n",
       "        text-align: right;\n",
       "    }\n",
       "</style>\n",
       "<table border=\"1\" class=\"dataframe\">\n",
       "  <thead>\n",
       "    <tr style=\"text-align: right;\">\n",
       "      <th></th>\n",
       "      <th>hair</th>\n",
       "      <th>feathers</th>\n",
       "      <th>eggs</th>\n",
       "      <th>milk</th>\n",
       "      <th>airborne</th>\n",
       "      <th>aquatic</th>\n",
       "      <th>predator</th>\n",
       "      <th>toothed</th>\n",
       "      <th>backbone</th>\n",
       "      <th>breathes</th>\n",
       "      <th>venomous</th>\n",
       "      <th>fins</th>\n",
       "      <th>legs</th>\n",
       "      <th>tail</th>\n",
       "      <th>domestic</th>\n",
       "      <th>catsize</th>\n",
       "      <th>class_type</th>\n",
       "    </tr>\n",
       "  </thead>\n",
       "  <tbody>\n",
       "    <tr>\n",
       "      <th>0</th>\n",
       "      <td>1.0</td>\n",
       "      <td>0.0</td>\n",
       "      <td>0.0</td>\n",
       "      <td>1.0</td>\n",
       "      <td>0.0</td>\n",
       "      <td>0.0</td>\n",
       "      <td>1.0</td>\n",
       "      <td>1.0</td>\n",
       "      <td>1.0</td>\n",
       "      <td>1.0</td>\n",
       "      <td>0.0</td>\n",
       "      <td>0.0</td>\n",
       "      <td>0.50</td>\n",
       "      <td>0.0</td>\n",
       "      <td>0.0</td>\n",
       "      <td>1.0</td>\n",
       "      <td>0.000000</td>\n",
       "    </tr>\n",
       "    <tr>\n",
       "      <th>1</th>\n",
       "      <td>1.0</td>\n",
       "      <td>0.0</td>\n",
       "      <td>0.0</td>\n",
       "      <td>1.0</td>\n",
       "      <td>0.0</td>\n",
       "      <td>0.0</td>\n",
       "      <td>0.0</td>\n",
       "      <td>1.0</td>\n",
       "      <td>1.0</td>\n",
       "      <td>1.0</td>\n",
       "      <td>0.0</td>\n",
       "      <td>0.0</td>\n",
       "      <td>0.50</td>\n",
       "      <td>1.0</td>\n",
       "      <td>0.0</td>\n",
       "      <td>1.0</td>\n",
       "      <td>0.000000</td>\n",
       "    </tr>\n",
       "    <tr>\n",
       "      <th>2</th>\n",
       "      <td>0.0</td>\n",
       "      <td>0.0</td>\n",
       "      <td>1.0</td>\n",
       "      <td>0.0</td>\n",
       "      <td>0.0</td>\n",
       "      <td>1.0</td>\n",
       "      <td>1.0</td>\n",
       "      <td>1.0</td>\n",
       "      <td>1.0</td>\n",
       "      <td>0.0</td>\n",
       "      <td>0.0</td>\n",
       "      <td>1.0</td>\n",
       "      <td>0.00</td>\n",
       "      <td>1.0</td>\n",
       "      <td>0.0</td>\n",
       "      <td>0.0</td>\n",
       "      <td>0.500000</td>\n",
       "    </tr>\n",
       "    <tr>\n",
       "      <th>3</th>\n",
       "      <td>1.0</td>\n",
       "      <td>0.0</td>\n",
       "      <td>0.0</td>\n",
       "      <td>1.0</td>\n",
       "      <td>0.0</td>\n",
       "      <td>0.0</td>\n",
       "      <td>1.0</td>\n",
       "      <td>1.0</td>\n",
       "      <td>1.0</td>\n",
       "      <td>1.0</td>\n",
       "      <td>0.0</td>\n",
       "      <td>0.0</td>\n",
       "      <td>0.50</td>\n",
       "      <td>0.0</td>\n",
       "      <td>0.0</td>\n",
       "      <td>1.0</td>\n",
       "      <td>0.000000</td>\n",
       "    </tr>\n",
       "    <tr>\n",
       "      <th>4</th>\n",
       "      <td>1.0</td>\n",
       "      <td>0.0</td>\n",
       "      <td>0.0</td>\n",
       "      <td>1.0</td>\n",
       "      <td>0.0</td>\n",
       "      <td>0.0</td>\n",
       "      <td>1.0</td>\n",
       "      <td>1.0</td>\n",
       "      <td>1.0</td>\n",
       "      <td>1.0</td>\n",
       "      <td>0.0</td>\n",
       "      <td>0.0</td>\n",
       "      <td>0.50</td>\n",
       "      <td>1.0</td>\n",
       "      <td>0.0</td>\n",
       "      <td>1.0</td>\n",
       "      <td>0.000000</td>\n",
       "    </tr>\n",
       "    <tr>\n",
       "      <th>...</th>\n",
       "      <td>...</td>\n",
       "      <td>...</td>\n",
       "      <td>...</td>\n",
       "      <td>...</td>\n",
       "      <td>...</td>\n",
       "      <td>...</td>\n",
       "      <td>...</td>\n",
       "      <td>...</td>\n",
       "      <td>...</td>\n",
       "      <td>...</td>\n",
       "      <td>...</td>\n",
       "      <td>...</td>\n",
       "      <td>...</td>\n",
       "      <td>...</td>\n",
       "      <td>...</td>\n",
       "      <td>...</td>\n",
       "      <td>...</td>\n",
       "    </tr>\n",
       "    <tr>\n",
       "      <th>96</th>\n",
       "      <td>1.0</td>\n",
       "      <td>0.0</td>\n",
       "      <td>0.0</td>\n",
       "      <td>1.0</td>\n",
       "      <td>0.0</td>\n",
       "      <td>0.0</td>\n",
       "      <td>0.0</td>\n",
       "      <td>1.0</td>\n",
       "      <td>1.0</td>\n",
       "      <td>1.0</td>\n",
       "      <td>0.0</td>\n",
       "      <td>0.0</td>\n",
       "      <td>0.25</td>\n",
       "      <td>1.0</td>\n",
       "      <td>0.0</td>\n",
       "      <td>1.0</td>\n",
       "      <td>0.000000</td>\n",
       "    </tr>\n",
       "    <tr>\n",
       "      <th>97</th>\n",
       "      <td>1.0</td>\n",
       "      <td>0.0</td>\n",
       "      <td>1.0</td>\n",
       "      <td>0.0</td>\n",
       "      <td>1.0</td>\n",
       "      <td>0.0</td>\n",
       "      <td>0.0</td>\n",
       "      <td>0.0</td>\n",
       "      <td>0.0</td>\n",
       "      <td>1.0</td>\n",
       "      <td>1.0</td>\n",
       "      <td>0.0</td>\n",
       "      <td>0.75</td>\n",
       "      <td>0.0</td>\n",
       "      <td>0.0</td>\n",
       "      <td>0.0</td>\n",
       "      <td>0.833333</td>\n",
       "    </tr>\n",
       "    <tr>\n",
       "      <th>98</th>\n",
       "      <td>1.0</td>\n",
       "      <td>0.0</td>\n",
       "      <td>0.0</td>\n",
       "      <td>1.0</td>\n",
       "      <td>0.0</td>\n",
       "      <td>0.0</td>\n",
       "      <td>1.0</td>\n",
       "      <td>1.0</td>\n",
       "      <td>1.0</td>\n",
       "      <td>1.0</td>\n",
       "      <td>0.0</td>\n",
       "      <td>0.0</td>\n",
       "      <td>0.50</td>\n",
       "      <td>1.0</td>\n",
       "      <td>0.0</td>\n",
       "      <td>1.0</td>\n",
       "      <td>0.000000</td>\n",
       "    </tr>\n",
       "    <tr>\n",
       "      <th>99</th>\n",
       "      <td>0.0</td>\n",
       "      <td>0.0</td>\n",
       "      <td>1.0</td>\n",
       "      <td>0.0</td>\n",
       "      <td>0.0</td>\n",
       "      <td>0.0</td>\n",
       "      <td>0.0</td>\n",
       "      <td>0.0</td>\n",
       "      <td>0.0</td>\n",
       "      <td>1.0</td>\n",
       "      <td>0.0</td>\n",
       "      <td>0.0</td>\n",
       "      <td>0.00</td>\n",
       "      <td>0.0</td>\n",
       "      <td>0.0</td>\n",
       "      <td>0.0</td>\n",
       "      <td>1.000000</td>\n",
       "    </tr>\n",
       "    <tr>\n",
       "      <th>100</th>\n",
       "      <td>0.0</td>\n",
       "      <td>1.0</td>\n",
       "      <td>1.0</td>\n",
       "      <td>0.0</td>\n",
       "      <td>1.0</td>\n",
       "      <td>0.0</td>\n",
       "      <td>0.0</td>\n",
       "      <td>0.0</td>\n",
       "      <td>1.0</td>\n",
       "      <td>1.0</td>\n",
       "      <td>0.0</td>\n",
       "      <td>0.0</td>\n",
       "      <td>0.25</td>\n",
       "      <td>1.0</td>\n",
       "      <td>0.0</td>\n",
       "      <td>0.0</td>\n",
       "      <td>0.166667</td>\n",
       "    </tr>\n",
       "  </tbody>\n",
       "</table>\n",
       "<p>101 rows × 17 columns</p>\n",
       "</div>"
      ],
      "text/plain": [
       "     hair  feathers  eggs  milk  airborne  aquatic  predator  toothed  \\\n",
       "0     1.0       0.0   0.0   1.0       0.0      0.0       1.0      1.0   \n",
       "1     1.0       0.0   0.0   1.0       0.0      0.0       0.0      1.0   \n",
       "2     0.0       0.0   1.0   0.0       0.0      1.0       1.0      1.0   \n",
       "3     1.0       0.0   0.0   1.0       0.0      0.0       1.0      1.0   \n",
       "4     1.0       0.0   0.0   1.0       0.0      0.0       1.0      1.0   \n",
       "..    ...       ...   ...   ...       ...      ...       ...      ...   \n",
       "96    1.0       0.0   0.0   1.0       0.0      0.0       0.0      1.0   \n",
       "97    1.0       0.0   1.0   0.0       1.0      0.0       0.0      0.0   \n",
       "98    1.0       0.0   0.0   1.0       0.0      0.0       1.0      1.0   \n",
       "99    0.0       0.0   1.0   0.0       0.0      0.0       0.0      0.0   \n",
       "100   0.0       1.0   1.0   0.0       1.0      0.0       0.0      0.0   \n",
       "\n",
       "     backbone  breathes  venomous  fins  legs  tail  domestic  catsize  \\\n",
       "0         1.0       1.0       0.0   0.0  0.50   0.0       0.0      1.0   \n",
       "1         1.0       1.0       0.0   0.0  0.50   1.0       0.0      1.0   \n",
       "2         1.0       0.0       0.0   1.0  0.00   1.0       0.0      0.0   \n",
       "3         1.0       1.0       0.0   0.0  0.50   0.0       0.0      1.0   \n",
       "4         1.0       1.0       0.0   0.0  0.50   1.0       0.0      1.0   \n",
       "..        ...       ...       ...   ...   ...   ...       ...      ...   \n",
       "96        1.0       1.0       0.0   0.0  0.25   1.0       0.0      1.0   \n",
       "97        0.0       1.0       1.0   0.0  0.75   0.0       0.0      0.0   \n",
       "98        1.0       1.0       0.0   0.0  0.50   1.0       0.0      1.0   \n",
       "99        0.0       1.0       0.0   0.0  0.00   0.0       0.0      0.0   \n",
       "100       1.0       1.0       0.0   0.0  0.25   1.0       0.0      0.0   \n",
       "\n",
       "     class_type  \n",
       "0      0.000000  \n",
       "1      0.000000  \n",
       "2      0.500000  \n",
       "3      0.000000  \n",
       "4      0.000000  \n",
       "..          ...  \n",
       "96     0.000000  \n",
       "97     0.833333  \n",
       "98     0.000000  \n",
       "99     1.000000  \n",
       "100    0.166667  \n",
       "\n",
       "[101 rows x 17 columns]"
      ]
     },
     "execution_count": 33,
     "metadata": {},
     "output_type": "execute_result"
    }
   ],
   "source": [
    "X \n",
    "# Verifichiamo quanto sopra e riscontriamo che anche legs ha values compresi tra 0 e 1"
   ]
  },
  {
   "cell_type": "code",
   "execution_count": 34,
   "metadata": {},
   "outputs": [
    {
     "data": {
      "text/plain": [
       "(101, 17)"
      ]
     },
     "execution_count": 34,
     "metadata": {},
     "output_type": "execute_result"
    }
   ],
   "source": [
    "X.shape\n",
    "# eseguiamo la shape della matrice ove sono collocati i dati"
   ]
  },
  {
   "cell_type": "code",
   "execution_count": 35,
   "metadata": {},
   "outputs": [
    {
     "data": {
      "text/plain": [
       "(101,)"
      ]
     },
     "execution_count": 35,
     "metadata": {},
     "output_type": "execute_result"
    }
   ],
   "source": [
    "y.shape\n",
    "# eseguiamo la shape del vettore ove sono collocate le classi"
   ]
  },
  {
   "cell_type": "code",
   "execution_count": 36,
   "metadata": {},
   "outputs": [
    {
     "data": {
      "text/plain": [
       "90     3\n",
       "91     3\n",
       "92     4\n",
       "93     1\n",
       "94     1\n",
       "95     2\n",
       "96     1\n",
       "97     6\n",
       "98     1\n",
       "99     7\n",
       "100    2\n",
       "Name: class_type, dtype: int64"
      ]
     },
     "execution_count": 36,
     "metadata": {},
     "output_type": "execute_result"
    }
   ],
   "source": [
    "y [90:]\n",
    "# visualizziamo i punti dell'array (con uno splitting solo gli ultimi dieci punti)"
   ]
  },
  {
   "cell_type": "code",
   "execution_count": 37,
   "metadata": {},
   "outputs": [],
   "source": [
    "from sklearn.datasets import make_blobs\n",
    "# visualizzazione degli oggetti del data set come punti in uno spazio bidimensionale \n",
    "# usando make_blobs e con standard deviation 2"
   ]
  },
  {
   "cell_type": "code",
   "execution_count": 38,
   "metadata": {},
   "outputs": [],
   "source": [
    "X, y = make_blobs (n_samples = 101, centers = 7, n_features = 2, cluster_std = 1.1)"
   ]
  },
  {
   "cell_type": "code",
   "execution_count": 39,
   "metadata": {},
   "outputs": [
    {
     "data": {
      "image/png": "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\n",
      "text/plain": [
       "<Figure size 432x432 with 1 Axes>"
      ]
     },
     "metadata": {},
     "output_type": "display_data"
    }
   ],
   "source": [
    "fig, ax = plt.subplots(figsize=(6,6), ncols=1)\n",
    "ax.scatter(X[:,0], X[:,1], s=101, alpha = .5, c=y)\n",
    "plt.tight_layout ()\n",
    "plt.show ()"
   ]
  },
  {
   "cell_type": "markdown",
   "metadata": {},
   "source": [
    "# Training & Accuracy Results"
   ]
  },
  {
   "cell_type": "code",
   "execution_count": 40,
   "metadata": {},
   "outputs": [],
   "source": [
    "X_train, X_test, y_train, y_test = train_test_split(X, y, train_size=0.7)\n",
    "# applichiamo la funzione train_test_split già importata e passiamo alla fase di training"
   ]
  },
  {
   "cell_type": "code",
   "execution_count": 41,
   "metadata": {},
   "outputs": [
    {
     "name": "stderr",
     "output_type": "stream",
     "text": [
      "C:\\Users\\guido\\anaconda3\\lib\\site-packages\\sklearn\\linear_model\\_logistic.py:762: ConvergenceWarning: lbfgs failed to converge (status=1):\n",
      "STOP: TOTAL NO. of ITERATIONS REACHED LIMIT.\n",
      "\n",
      "Increase the number of iterations (max_iter) or scale the data as shown in:\n",
      "    https://scikit-learn.org/stable/modules/preprocessing.html\n",
      "Please also refer to the documentation for alternative solver options:\n",
      "    https://scikit-learn.org/stable/modules/linear_model.html#logistic-regression\n",
      "  n_iter_i = _check_optimize_result(\n"
     ]
    },
    {
     "data": {
      "text/plain": [
       "LogisticRegression()"
      ]
     },
     "execution_count": 41,
     "metadata": {},
     "output_type": "execute_result"
    }
   ],
   "source": [
    "from sklearn.linear_model import LogisticRegression\n",
    "log_model = LogisticRegression()\n",
    "log_model.fit(X_train, y_train)\n",
    "# usiamo da sklearn la funzione di Logistic Regression per testare il modello"
   ]
  },
  {
   "cell_type": "code",
   "execution_count": 42,
   "metadata": {},
   "outputs": [
    {
     "name": "stderr",
     "output_type": "stream",
     "text": [
      "C:\\Users\\guido\\anaconda3\\lib\\site-packages\\sklearn\\neural_network\\_multilayer_perceptron.py:582: ConvergenceWarning: Stochastic Optimizer: Maximum iterations (200) reached and the optimization hasn't converged yet.\n",
      "  warnings.warn(\n"
     ]
    },
    {
     "data": {
      "text/plain": [
       "MLPClassifier(hidden_layer_sizes=(64, 64))"
      ]
     },
     "execution_count": 42,
     "metadata": {},
     "output_type": "execute_result"
    }
   ],
   "source": [
    "from sklearn.neural_network import MLPClassifier\n",
    "nn_model = MLPClassifier(hidden_layer_sizes=(64, 64))\n",
    "nn_model.fit(X_train, y_train)\n",
    "# da sklearn importiamo anche la funzione di neural network per testare il modello"
   ]
  },
  {
   "cell_type": "code",
   "execution_count": 43,
   "metadata": {},
   "outputs": [
    {
     "name": "stdout",
     "output_type": "stream",
     "text": [
      "[4 1 0 0 6 3 5 4 4 3 4 5 2 6 5 1 1 6 4 3 2 0 5 5 0 3 6 3 4 5 6 0 6 6 2 1 3\n",
      " 1 0 6 1 4 2 6 4 3 2 3 0 2 1 5 5 5 0 0 1 2 4 2 0 1 0 2 3 4 6 4 5 3]\n"
     ]
    }
   ],
   "source": [
    "print (y_train)"
   ]
  },
  {
   "cell_type": "code",
   "execution_count": 44,
   "metadata": {},
   "outputs": [
    {
     "name": "stdout",
     "output_type": "stream",
     "text": [
      "[1 0 1 3 6 4 3 4 3 5 5 6 6 0 1 2 3 2 2 4 2 1 2 6 0 5 0 1 2 1 5]\n"
     ]
    }
   ],
   "source": [
    "print (y_test)"
   ]
  },
  {
   "cell_type": "code",
   "execution_count": 45,
   "metadata": {},
   "outputs": [
    {
     "name": "stdout",
     "output_type": "stream",
     "text": [
      "[[  2.11715116  -8.94782984]\n",
      " [  2.10807082   4.23480091]\n",
      " [  9.53775772   6.76897876]\n",
      " [  9.81407311   4.82643598]\n",
      " [  8.78652128   0.34332444]\n",
      " [  0.72624296   5.41957969]\n",
      " [  4.76482744   5.37958739]\n",
      " [  2.27418598  -9.10839248]\n",
      " [  4.87685343  -7.19877938]\n",
      " [  0.53150286   2.45561314]\n",
      " [  2.67559929 -10.16011683]\n",
      " [  2.34872388   4.96273644]\n",
      " [ -1.05518523  -6.55392455]\n",
      " [ 10.53268831   0.85166005]\n",
      " [  5.02775096   2.55522316]\n",
      " [  2.22219567   2.40838318]\n",
      " [  0.85263509   2.59627725]\n",
      " [  7.93590592  -0.05181488]\n",
      " [  0.81328055 -10.35518966]\n",
      " [  0.35612797   3.63349228]\n",
      " [ -2.41366811  -6.14010457]\n",
      " [  8.97169468   4.60587488]\n",
      " [  4.9836702    4.32798171]\n",
      " [  5.2094782    2.82261579]\n",
      " [  8.38120662   5.23083027]\n",
      " [  0.85483974   5.3584055 ]\n",
      " [  5.82938831  -0.19491884]\n",
      " [  0.31332543   3.83159647]\n",
      " [  1.84119211  -9.7572658 ]\n",
      " [  2.41824669   4.43293603]\n",
      " [  7.80699789   1.83243246]\n",
      " [ 10.7319459    5.41382791]\n",
      " [  8.54776563   0.85455093]\n",
      " [  9.31936118   0.46531721]\n",
      " [ -0.47471092  -8.11231939]\n",
      " [  1.40555875   2.7409935 ]\n",
      " [  1.82355355   4.3767319 ]\n",
      " [ -0.02546072   2.91155561]\n",
      " [  9.75461732   4.5147394 ]\n",
      " [  7.78544215   0.90389924]\n",
      " [  0.38716336   4.06654809]\n",
      " [  1.49075318  -8.19512548]\n",
      " [ -0.60523875  -8.17544977]\n",
      " [  8.55938836   1.42472128]\n",
      " [  3.31640582  -7.16666983]\n",
      " [  2.25991189   5.99355376]\n",
      " [ -0.64926216  -8.74676535]\n",
      " [  0.06367981   3.58706192]\n",
      " [  8.92036316   4.8509186 ]\n",
      " [ -2.27006707  -7.35077428]\n",
      " [  0.67529677   2.90124447]\n",
      " [  4.77515182   3.39475012]\n",
      " [  4.37692228   3.57579126]\n",
      " [  3.48701657   5.42140045]\n",
      " [  8.69223315   5.58491515]\n",
      " [ 10.2372744    2.98775993]\n",
      " [  0.31359985   1.52911879]\n",
      " [  2.10935196  -7.17997303]\n",
      " [  1.51998955  -7.91164446]\n",
      " [ -0.15639274 -10.41281142]\n",
      " [  8.69745116   6.28237788]\n",
      " [  0.94788082   2.63868348]\n",
      " [ 10.69296702   3.65190897]\n",
      " [ -1.87654808  -6.57574201]\n",
      " [  0.79499799   4.95490772]\n",
      " [  0.43993029  -8.84681516]\n",
      " [  8.66514919   1.0898381 ]\n",
      " [  1.32891321  -8.26623122]\n",
      " [  6.30360484   5.85084236]\n",
      " [  2.67967689   2.43756232]]\n"
     ]
    }
   ],
   "source": [
    "print (X_train)"
   ]
  },
  {
   "cell_type": "code",
   "execution_count": 46,
   "metadata": {},
   "outputs": [
    {
     "name": "stdout",
     "output_type": "stream",
     "text": [
      "[[ 2.72450687  3.19252191]\n",
      " [ 8.91481707  5.00052414]\n",
      " [ 2.02113156  4.00995417]\n",
      " [ 0.31323146  4.47404401]\n",
      " [ 7.01035171  2.03332662]\n",
      " [ 2.24135653 -8.93851711]\n",
      " [ 1.73060247  3.83875765]\n",
      " [ 1.18467958 -8.16461031]\n",
      " [ 1.34053387  5.86572997]\n",
      " [ 5.5664384   3.32350223]\n",
      " [ 3.62384022  4.70803633]\n",
      " [ 8.14784094 -1.11463321]\n",
      " [ 8.41008113 -0.66651502]\n",
      " [ 9.37920366  4.83671475]\n",
      " [ 0.35429555  4.14579758]\n",
      " [-0.27313875 -7.70536869]\n",
      " [ 1.13892879  5.09304289]\n",
      " [-0.28896017 -6.82950825]\n",
      " [-1.78561036 -6.51807252]\n",
      " [ 0.29741316 -9.83411719]\n",
      " [-0.86421858 -9.54360063]\n",
      " [ 2.8297984   2.4733814 ]\n",
      " [-3.06275421 -6.19522164]\n",
      " [ 8.54556902  1.00207843]\n",
      " [ 8.55940201  3.74063967]\n",
      " [ 6.62718376  2.14958729]\n",
      " [ 8.38472325  3.69937991]\n",
      " [ 0.5135804   3.31686267]\n",
      " [-1.08120237 -6.67195445]\n",
      " [ 1.96509543  5.03708862]\n",
      " [ 5.35741392  2.01783532]]\n"
     ]
    }
   ],
   "source": [
    "print (X_test)"
   ]
  },
  {
   "cell_type": "code",
   "execution_count": 47,
   "metadata": {},
   "outputs": [
    {
     "name": "stdout",
     "output_type": "stream",
     "text": [
      "Accuracy Results\n",
      "Proximity of measurement results to the true value\n",
      "--------------------------------------------------\n",
      "Logistic Model: 0.8709677419354839\n",
      "Neural Network Model: 0.6774193548387096\n"
     ]
    }
   ],
   "source": [
    "log_acc = log_model.score(X_test, y_test)\n",
    "nn_acc = nn_model.score(X_test, y_test)\n",
    "print(\"Accuracy Results\\nProximity of measurement results to the true value\\n\" + \"-\"*50)\n",
    "print(\"Logistic Model:\", log_acc)\n",
    "print(\"Neural Network Model:\", nn_acc)\n",
    "# Verifichiamo l'accuratezza del risultato misurando l'approssimazione ai valori reali"
>>>>>>> 35938a6a6b446af0f21d96ce596375ac18ed081a
   ]
  },
  {
   "cell_type": "markdown",
   "metadata": {},
   "source": []
  },
  {
   "cell_type": "code",
<<<<<<< HEAD
   "execution_count": null,
=======
   "execution_count": 49,
>>>>>>> 35938a6a6b446af0f21d96ce596375ac18ed081a
   "metadata": {},
   "outputs": [],
   "source": [
    "from sklearn.cluster import KMeans, AgglomerativeClustering, SpectralClustering, DBSCAN, Birch\n",
    "from sklearn.decomposition import PCA\n",
    "from scipy.cluster.hierarchy import dendrogram, linkage\n",
    "from collections import defaultdict\n",
    "import matplotlib.pyplot as ply\n",
    "# Clustering. Operiamo il clustering con 5 algoritmi diversi.\n",
    "# Importiamo anche un algoritmo di riduzione della dimensionalità (PCA). \n",
    "# Utilizziamo poi il dendrogramma per fornire una rappresentazione grafica del processo di raggruppamento.\n"
   ]
  },
  {
   "cell_type": "code",
<<<<<<< HEAD
   "execution_count": null,
=======
   "execution_count": 48,
>>>>>>> 35938a6a6b446af0f21d96ce596375ac18ed081a
   "metadata": {},
   "outputs": [],
   "source": [
    " # In particolare qui un approfondimento su KMeans "
   ]
  },
  {
   "cell_type": "code",
<<<<<<< HEAD
   "execution_count": null,
=======
   "execution_count": 65,
>>>>>>> 35938a6a6b446af0f21d96ce596375ac18ed081a
   "metadata": {},
   "outputs": [],
   "source": [
    "kmeans = KMeans(n_clusters= 7,random_state=0)\n",
    "y_pred = kmeans.fit_predict(X)\n",
    "# KMeans raggruppa i dati cercando di separare campioni in n gruppi di varianza uguale, minimizzando l'inerzia (somma di quadrati all'interno del cluster). \n",
    "# Questo algoritmo richiede di specificare il numero di cluster.\n",
    "# KMeans mira a scegliere baricentri che minimizzano l'inerzia. L'inerzia soffre di alcuni inconvenienti e non è normalizzata.\n",
    "# L'esecuzione di un algoritmo di riduzione della dimensionalità (PCA) prima del clustering k-means può ridurre questo problema e accelerare la convergenza.\n",
    "# Random state è un parametro che ci serve per fare in modo che i centroidi di partenza siano determinati a partire \n",
    "# da un numero, e non generati casualmente in modo tale che ripetendo il clustering tutte le volte abbiamo lo stesso \n",
    "# risultato (quindi identifichiamo il suo valore a 0)"
   ]
  },
  {
   "cell_type": "code",
<<<<<<< HEAD
   "execution_count": null,
=======
   "execution_count": 66,
>>>>>>> 35938a6a6b446af0f21d96ce596375ac18ed081a
   "metadata": {},
   "outputs": [],
   "source": [
    "centroids = np.random.rand (7,2)"
   ]
  },
  {
   "cell_type": "code",
<<<<<<< HEAD
   "execution_count": null,
   "metadata": {},
   "outputs": [],
=======
   "execution_count": 67,
   "metadata": {},
   "outputs": [
    {
     "data": {
      "text/plain": [
       "array([[0.90604069, 0.03933357],\n",
       "       [0.39281557, 0.59734643],\n",
       "       [0.61541255, 0.68237328],\n",
       "       [0.71560417, 0.29890451],\n",
       "       [0.23131212, 0.66472283],\n",
       "       [0.82995794, 0.95857226],\n",
       "       [0.99101059, 0.51208887]])"
      ]
     },
     "execution_count": 67,
     "metadata": {},
     "output_type": "execute_result"
    }
   ],
>>>>>>> 35938a6a6b446af0f21d96ce596375ac18ed081a
   "source": [
    "centroids"
   ]
  },
  {
   "cell_type": "code",
<<<<<<< HEAD
   "execution_count": null,
=======
   "execution_count": 68,
>>>>>>> 35938a6a6b446af0f21d96ce596375ac18ed081a
   "metadata": {},
   "outputs": [],
   "source": [
    "from sklearn.metrics.pairwise import euclidean_distances"
   ]
  },
  {
   "cell_type": "code",
<<<<<<< HEAD
   "execution_count": null,
=======
   "execution_count": 80,
>>>>>>> 35938a6a6b446af0f21d96ce596375ac18ed081a
   "metadata": {},
   "outputs": [],
   "source": [
    "def update (X):\n",
    "    c = M.mean (axis = 0)\n",
    "    rss = np.power (euclidean_distances (c.reshape (1, -1), X) [0], 2) .sum ()\n",
    "    return c, rss\n",
    "# usiamo una funzione di aggiornamento del centroide\n",
    "# residual sum of square: eleviamo al quadrato l'array della distanze e poi facciamo la somma di questi quadrati"
   ]
  },
  {
   "cell_type": "code",
<<<<<<< HEAD
   "execution_count": null,
   "metadata": {},
   "outputs": [],
=======
   "execution_count": 70,
   "metadata": {},
   "outputs": [
    {
     "data": {
      "text/plain": [
       "array([2, 4, 1, 0, 4, 0, 6, 1, 2, 2, 5, 2, 1, 0, 0, 2, 5, 3, 3, 4, 4, 5,\n",
       "       2, 3, 0, 2, 5, 5, 6, 2, 1, 1, 4, 5, 5, 3, 3, 5, 0, 0, 2, 1, 5, 2,\n",
       "       1, 2, 4, 0, 4, 2, 3, 4, 4, 0, 6, 6, 1, 1, 3, 5, 1, 2, 5, 5, 6, 4,\n",
       "       0, 6, 6, 3, 0, 1, 6, 6, 5, 1, 6, 1, 3, 2, 4, 4, 1, 4, 2, 0, 0, 6,\n",
       "       1, 5, 3, 6, 6, 4, 3, 3, 3, 3, 6, 0, 0])"
      ]
     },
     "execution_count": 70,
     "metadata": {},
     "output_type": "execute_result"
    }
   ],
>>>>>>> 35938a6a6b446af0f21d96ce596375ac18ed081a
   "source": [
    "y"
   ]
  },
  {
   "cell_type": "code",
<<<<<<< HEAD
   "execution_count": null,
   "metadata": {},
   "outputs": [],
=======
   "execution_count": 72,
   "metadata": {},
   "outputs": [
    {
     "data": {
      "text/plain": [
       "array([4, 1, 6, 0, 1, 0, 3, 2, 4, 4, 5, 4, 6, 0, 0, 1, 5, 2, 6, 1, 1, 6,\n",
       "       4, 6, 0, 4, 6, 5, 3, 4, 2, 2, 1, 5, 5, 6, 6, 6, 0, 0, 4, 2, 5, 1,\n",
       "       2, 4, 1, 0, 1, 4, 6, 1, 1, 0, 3, 3, 6, 2, 6, 5, 2, 4, 5, 5, 3, 1,\n",
       "       0, 3, 3, 6, 0, 2, 3, 3, 5, 2, 3, 2, 2, 4, 1, 1, 2, 1, 4, 0, 0, 3,\n",
       "       2, 6, 2, 3, 3, 1, 6, 2, 2, 6, 3, 0, 0])"
      ]
     },
     "execution_count": 72,
     "metadata": {},
     "output_type": "execute_result"
    }
   ],
>>>>>>> 35938a6a6b446af0f21d96ce596375ac18ed081a
   "source": [
    "y_pred"
   ]
  },
  {
   "cell_type": "code",
<<<<<<< HEAD
   "execution_count": null,
=======
   "execution_count": 76,
>>>>>>> 35938a6a6b446af0f21d96ce596375ac18ed081a
   "metadata": {},
   "outputs": [],
   "source": [
    "tp, fp, fn, tn = 0, 0, 0, 0\n",
    "for i, c in enumerate (y_pred):\n",
    "    y_true_i = y [i]\n",
    "    for j, z, in enumerate (y_pred [i + 1:]):\n",
    "        s  =j + i + 1\n",
    "        y_true_j = y [s]\n",
    "        if c == z:\n",
    "            if y_true_i == y_true_j:\n",
    "                tp += 1\n",
    "            else:\n",
    "                fp += 1\n",
    "        else:\n",
    "            if y_true_i == y_true_j:\n",
    "                fn += 1\n",
    "            else:\n",
    "                tn += 1\n",
    "                \n",
    "# calcoliamo i true positive, false positive, false negative e true negative con enumerate e ciclo di for"
   ]
  },
  {
   "cell_type": "code",
<<<<<<< HEAD
   "execution_count": null,
   "metadata": {},
   "outputs": [],
=======
   "execution_count": 77,
   "metadata": {},
   "outputs": [
    {
     "name": "stdout",
     "output_type": "stream",
     "text": [
      "532 163 147 4208\n"
     ]
    }
   ],
>>>>>>> 35938a6a6b446af0f21d96ce596375ac18ed081a
   "source": [
    "print (tp, fp, fn, tn )\n",
    "# stampiamo i valori rispettivi e vediamo che i valori \"buoni\" (tp e tn) sono piuttosto alti "
   ]
  },
  {
   "cell_type": "code",
<<<<<<< HEAD
   "execution_count": null,
   "metadata": {},
   "outputs": [],
=======
   "execution_count": 78,
   "metadata": {},
   "outputs": [
    {
     "data": {
      "text/plain": [
       "0.7654676258992805"
      ]
     },
     "execution_count": 78,
     "metadata": {},
     "output_type": "execute_result"
    }
   ],
>>>>>>> 35938a6a6b446af0f21d96ce596375ac18ed081a
   "source": [
    "tp / (tp + fp)\n",
    "# calcoliamo la misura della prestazione o \"purity\" "
   ]
  },
  {
   "cell_type": "code",
<<<<<<< HEAD
   "execution_count": null,
   "metadata": {},
   "outputs": [],
=======
   "execution_count": 79,
   "metadata": {},
   "outputs": [
    {
     "data": {
      "text/plain": [
       "0.9386138613861386"
      ]
     },
     "execution_count": 79,
     "metadata": {},
     "output_type": "execute_result"
    }
   ],
>>>>>>> 35938a6a6b446af0f21d96ce596375ac18ed081a
   "source": [
    "(tp + tn) / (tp + fp + fn + tn) \n",
    "# calcoliamo il rand coefficient per misurare la similarità dei due data clustering"
   ]
  },
  {
   "cell_type": "code",
   "execution_count": null,
   "metadata": {},
   "outputs": [],
   "source": []
  }
 ],
 "metadata": {
  "kernelspec": {
   "display_name": "Python 3",
   "language": "python",
   "name": "python3"
  },
  "language_info": {
   "codemirror_mode": {
    "name": "ipython",
    "version": 3
   },
   "file_extension": ".py",
   "mimetype": "text/x-python",
   "name": "python",
   "nbconvert_exporter": "python",
   "pygments_lexer": "ipython3",
   "version": "3.8.3"
  }
 },
 "nbformat": 4,
 "nbformat_minor": 4
}
